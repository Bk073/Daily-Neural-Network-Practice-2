{
 "cells": [
  {
   "cell_type": "code",
   "execution_count": 74,
   "metadata": {
    "ExecuteTime": {
     "end_time": "2019-01-10T23:12:21.626381Z",
     "start_time": "2019-01-10T23:12:20.084816Z"
    },
    "code_folding": [
     8,
     12,
     92,
     93,
     111,
     114,
     138,
     162
    ]
   },
   "outputs": [
    {
     "name": "stdout",
     "output_type": "stream",
     "text": [
      "Randomly generated Bernoulli bandit has reward probabilities:\n",
      " [0.279 0.161 0.2   0.723 0.034 0.426 0.465 0.031 0.526 0.44 ]\n",
      "The best machine has index: 3 and proba: 0.7226716058957664\n",
      "<__main__.EpsilonGreedy object at 0x0000022B4A95A400>\n",
      "[0.33333333333333337, 0.0, 0.4, 0.7126436781609197, 0.0, 0.42510121457489874, 0.0, 0.0, 0.5, 0.39999999999999997]\n",
      "<__main__.UCB1 object at 0x0000022B4A95A198>\n",
      "[0.30952380952380953, 0.15384615384615383, 0.049999999999999996, 0.7212543554006976, 0.0, 0.2926829268292683, 0.38983050847457623, 0.0909090909090909, 0.5611510791366903, 0.4000000000000001]\n",
      "<__main__.BayesianUCB object at 0x0000022B4A95A2B0>\n"
     ]
    },
    {
     "ename": "AttributeError",
     "evalue": "'BayesianUCB' object has no attribute 'estimates'",
     "output_type": "error",
     "traceback": [
      "\u001b[1;31m---------------------------------------------------------------------------\u001b[0m",
      "\u001b[1;31mAttributeError\u001b[0m                            Traceback (most recent call last)",
      "\u001b[1;32m<ipython-input-74-31835c4b1e25>\u001b[0m in \u001b[0;36m<module>\u001b[1;34m\u001b[0m\n\u001b[0;32m    244\u001b[0m     \u001b[1;31m# plot_results(test_solvers, names, \"results_K{}_N{}.png\".format(K, N))\u001b[0m\u001b[1;33m\u001b[0m\u001b[1;33m\u001b[0m\u001b[0m\n\u001b[0;32m    245\u001b[0m \u001b[1;33m\u001b[0m\u001b[0m\n\u001b[1;32m--> 246\u001b[1;33m \u001b[0mexperiment\u001b[0m\u001b[1;33m(\u001b[0m\u001b[1;36m10\u001b[0m\u001b[1;33m,\u001b[0m \u001b[1;36m1000\u001b[0m\u001b[1;33m)\u001b[0m\u001b[1;33m\u001b[0m\u001b[0m\n\u001b[0m",
      "\u001b[1;32m<ipython-input-74-31835c4b1e25>\u001b[0m in \u001b[0;36mexperiment\u001b[1;34m(K, N)\u001b[0m\n\u001b[0;32m    240\u001b[0m         \u001b[0mprint\u001b[0m\u001b[1;33m(\u001b[0m\u001b[0ms\u001b[0m\u001b[1;33m)\u001b[0m\u001b[1;33m\u001b[0m\u001b[0m\n\u001b[0;32m    241\u001b[0m         \u001b[0ms\u001b[0m\u001b[1;33m.\u001b[0m\u001b[0mrun\u001b[0m\u001b[1;33m(\u001b[0m\u001b[0mN\u001b[0m\u001b[1;33m)\u001b[0m\u001b[1;33m\u001b[0m\u001b[0m\n\u001b[1;32m--> 242\u001b[1;33m         \u001b[0mprint\u001b[0m\u001b[1;33m(\u001b[0m\u001b[0ms\u001b[0m\u001b[1;33m.\u001b[0m\u001b[0mestimates\u001b[0m\u001b[1;33m)\u001b[0m\u001b[1;33m\u001b[0m\u001b[0m\n\u001b[0m\u001b[0;32m    243\u001b[0m \u001b[1;33m\u001b[0m\u001b[0m\n\u001b[0;32m    244\u001b[0m     \u001b[1;31m# plot_results(test_solvers, names, \"results_K{}_N{}.png\".format(K, N))\u001b[0m\u001b[1;33m\u001b[0m\u001b[1;33m\u001b[0m\u001b[0m\n",
      "\u001b[1;31mAttributeError\u001b[0m: 'BayesianUCB' object has no attribute 'estimates'"
     ]
    }
   ],
   "source": [
    "# whole program\n",
    "%matplotlib inline  \n",
    "import matplotlib  # noqa\n",
    "import numpy as np\n",
    "import matplotlib.pyplot as plt\n",
    "from scipy.stats import beta\n",
    "import time\n",
    "\n",
    "class Bandit(object):\n",
    "\n",
    "    def generate_reward(self, i):\n",
    "        raise NotImplementedError\n",
    "class BernoulliBandit(Bandit):\n",
    "\n",
    "    def __init__(self, n, probas=None):\n",
    "        assert probas is None or len(probas) == n\n",
    "        self.n = n\n",
    "        if probas is None:\n",
    "            np.random.seed(int(time.time()))\n",
    "            self.probas = [np.random.random() for _ in range(self.n)]\n",
    "        else:\n",
    "            self.probas = probas\n",
    "\n",
    "        self.best_proba = max(self.probas)\n",
    "\n",
    "    def generate_reward(self, i):\n",
    "        # The player selected the i-th machine.\n",
    "        if np.random.random() < self.probas[i]:\n",
    "            return 1\n",
    "        else:\n",
    "            return 0\n",
    "\n",
    "class Solver(object):\n",
    "    def __init__(self, bandit):\n",
    "        \"\"\"\n",
    "        bandit (Bandit): the target bandit to solve.\n",
    "        \"\"\"\n",
    "        assert isinstance(bandit, BernoulliBandit)\n",
    "        np.random.seed(int(time.time()))\n",
    "\n",
    "        self.bandit = bandit\n",
    "\n",
    "        self.counts = [0] * self.bandit.n\n",
    "        self.actions = []  # A list of machine ids, 0 to bandit.n-1.\n",
    "        self.regret = 0.  # Cumulative regret.\n",
    "        self.regrets = [0.]  # History of cumulative regret.\n",
    "\n",
    "    def update_regret(self, i):\n",
    "        # i (int): index of the selected machine.\n",
    "        self.regret += self.bandit.best_proba - self.bandit.probas[i]\n",
    "        self.regrets.append(self.regret)\n",
    "\n",
    "    @property\n",
    "    def estimated_probas(self): raise NotImplementedError\n",
    "    def run_one_step(self): raise NotImplementedError\n",
    "\n",
    "    def run(self, num_steps):\n",
    "        assert self.bandit is not None\n",
    "        for _ in range(num_steps):\n",
    "            i = self.run_one_step()\n",
    "\n",
    "            self.counts[i] += 1\n",
    "            self.actions.append(i)\n",
    "            self.update_regret(i)\n",
    "class EpsilonGreedy(Solver):\n",
    "    def __init__(self, bandit, eps, init_proba=1.0):\n",
    "        \"\"\"\n",
    "        eps (float): the probability to explore at each time step.\n",
    "        init_proba (float): default to be 1.0; optimistic initialization\n",
    "        \"\"\"\n",
    "        super(EpsilonGreedy, self).__init__(bandit)\n",
    "\n",
    "        assert 0. <= eps <= 1.0\n",
    "        self.eps = eps\n",
    "\n",
    "        self.estimates = [init_proba] * self.bandit.n  # Optimistic initialization\n",
    "\n",
    "    @property\n",
    "    def estimated_probas(self):return self.estimates\n",
    "\n",
    "    def run_one_step(self):\n",
    "        if np.random.random() < self.eps:\n",
    "            # Let's do random exploration!\n",
    "            i = np.random.randint(0, self.bandit.n)\n",
    "        else:\n",
    "            # Pick the best one.\n",
    "            i = max(range(self.bandit.n), key=lambda x: self.estimates[x])\n",
    "\n",
    "        r = self.bandit.generate_reward(i)\n",
    "        self.estimates[i] += 1. / (self.counts[i] + 1) * (r - self.estimates[i])\n",
    "\n",
    "        return i\n",
    "class UCB1(Solver):\n",
    "    def __init__(self, bandit, init_proba=1.0):\n",
    "        super(UCB1, self).__init__(bandit)\n",
    "        self.t = 0\n",
    "        self.estimates = [init_proba] * self.bandit.n\n",
    "\n",
    "    @property\n",
    "    def estimated_probas(self): return self.estimates\n",
    "\n",
    "    def run_one_step(self):\n",
    "        self.t += 1\n",
    "\n",
    "        # Pick the best one with consideration of upper confidence bounds.\n",
    "        i = max(range(self.bandit.n), key=lambda x: self.estimates[x] + np.sqrt(2 * np.log(self.t) / (1 + self.counts[x])))\n",
    "        r = self.bandit.generate_reward(i)\n",
    "\n",
    "        self.estimates[i] += 1. / (self.counts[i] + 1) * (r - self.estimates[i])\n",
    "\n",
    "        return i\n",
    "class BayesianUCB(Solver):\n",
    "    \"\"\"Assuming Beta prior.\"\"\"\n",
    "\n",
    "    def __init__(self, bandit, c=3, init_a=1, init_b=1):\n",
    "        \"\"\"\n",
    "        c (float): how many standard dev to consider as upper confidence bound.\n",
    "        init_a (int): initial value of a in Beta(a, b).\n",
    "        init_b (int): initial value of b in Beta(a, b).\n",
    "        \"\"\"\n",
    "        super(BayesianUCB, self).__init__(bandit)\n",
    "        self.c = c\n",
    "        self._as = [init_a] * self.bandit.n\n",
    "        self._bs = [init_b] * self.bandit.n\n",
    "\n",
    "    @property\n",
    "    def estimated_probas(self): return [self._as[i] / float(self._as[i] + self._bs[i]) for i in range(self.bandit.n)]\n",
    "\n",
    "    def run_one_step(self):\n",
    "        # Pick the best one with consideration of upper confidence bounds.\n",
    "        i = max(range(self.bandit.n),key=lambda x: self._as[x] / float(self._as[x] + self._bs[x]) + beta.std(self._as[x], self._bs[x]) * self.c)\n",
    "        r = self.bandit.generate_reward(i)\n",
    "\n",
    "        # Update Gaussian posterior\n",
    "        self._as[i] += r\n",
    "        self._bs[i] += (1 - r)\n",
    "\n",
    "        return i\n",
    "class ThompsonSampling(Solver):\n",
    "    def __init__(self, bandit, init_a=1, init_b=1):\n",
    "        \"\"\"\n",
    "        init_a (int): initial value of a in Beta(a, b).\n",
    "        init_b (int): initial value of b in Beta(a, b).\n",
    "        \"\"\"\n",
    "        super(ThompsonSampling, self).__init__(bandit)\n",
    "\n",
    "        self._as = [init_a] * self.bandit.n\n",
    "        self._bs = [init_b] * self.bandit.n\n",
    "\n",
    "    @property\n",
    "    def estimated_probas(self): return [self._as[i] / (self._as[i] + self._bs[i]) for i in range(self.bandit.n)]\n",
    "\n",
    "    def run_one_step(self):\n",
    "        samples = [np.random.beta(self._as[x], self._bs[x]) for x in range(self.bandit.n)]\n",
    "        i = max(range(self.bandit.n), key=lambda x: samples[x])\n",
    "        r = self.bandit.generate_reward(i)\n",
    "\n",
    "        self._as[i] += r\n",
    "        self._bs[i] += (1 - r)\n",
    "\n",
    "        return i \n",
    "        \n",
    "def plot_results(solvers, solver_names, figname):\n",
    "    \"\"\"\n",
    "    Plot the results by multi-armed bandit solvers.\n",
    "    Args:\n",
    "        solvers (list<Solver>): All of them should have been fitted.\n",
    "        solver_names (list<str)\n",
    "        figname (str)\n",
    "    \"\"\"\n",
    "    assert len(solvers) == len(solver_names)\n",
    "    assert all(map(lambda s: isinstance(s, Solver), solvers))\n",
    "    assert all(map(lambda s: len(s.regrets) > 0, solvers))\n",
    "\n",
    "    b = solvers[0].bandit\n",
    "\n",
    "    fig = plt.figure(figsize=(14, 4))\n",
    "    fig.subplots_adjust(bottom=0.3, wspace=0.3)\n",
    "\n",
    "    ax1 = fig.add_subplot(131)\n",
    "    ax2 = fig.add_subplot(132)\n",
    "    ax3 = fig.add_subplot(133)\n",
    "\n",
    "    # Sub.fig. 1: Regrets in time.\n",
    "    for i, s in enumerate(solvers):\n",
    "        ax1.plot(range(len(s.regrets)), s.regrets, label=solver_names[i])\n",
    "\n",
    "    ax1.set_xlabel('Time step')\n",
    "    ax1.set_ylabel('Cumulative regret')\n",
    "    ax1.legend(loc=9, bbox_to_anchor=(1.82, -0.25), ncol=5)\n",
    "    ax1.grid('k', ls='--', alpha=0.3)\n",
    "\n",
    "    # Sub.fig. 2: Probabilities estimated by solvers.\n",
    "    sorted_indices = sorted(range(b.n), key=lambda x: b.probas[x])\n",
    "    ax2.plot(range(b.n), [b.probas[x] for x in sorted_indices], 'k--', markersize=12)\n",
    "    for s in solvers:\n",
    "        ax2.plot(range(b.n), [s.estimated_probas[x] for x in sorted_indices], 'x', markeredgewidth=2)\n",
    "    ax2.set_xlabel('Actions sorted by ' + r'$\\theta$')\n",
    "    ax2.set_ylabel('Estimated')\n",
    "    ax2.grid('k', ls='--', alpha=0.3)\n",
    "\n",
    "    # Sub.fig. 3: Action counts\n",
    "    for s in solvers:\n",
    "        ax3.plot(range(b.n), np.array(s.counts) / float(len(solvers[0].regrets)), ls='steps', lw=2)\n",
    "    ax3.set_xlabel('Actions')\n",
    "    ax3.set_ylabel('Frac. # trials')\n",
    "    ax3.grid('k', ls='--', alpha=0.3)\n",
    "    plt.show()\n",
    "def experiment(K, N):\n",
    "    \"\"\"\n",
    "    Run a small experiment on solving a Bernoulli bandit with K slot machines,\n",
    "    each with a randomly initialized reward probability.\n",
    "    Args:\n",
    "        K (int): number of slot machiens.\n",
    "        N (int): number of time steps to try.\n",
    "    \"\"\"\n",
    "\n",
    "    b = BernoulliBandit(K)\n",
    "    print(\"Randomly generated Bernoulli bandit has reward probabilities:\\n\", np.around(b.probas,3))\n",
    "    print(\"The best machine has index: {} and proba: {}\".format(max(range(K), key=lambda i: b.probas[i]), max(b.probas)))\n",
    "\n",
    "    test_solvers = [\n",
    "        # EpsilonGreedy(b, 0),\n",
    "        # EpsilonGreedy(b, 1),\n",
    "        EpsilonGreedy(b, 0.01),\n",
    "        UCB1(b),\n",
    "        BayesianUCB(b, 3, 1, 1),\n",
    "        ThompsonSampling(b, 1, 1)\n",
    "    ]\n",
    "    names = [\n",
    "        # 'Full-exploitation',\n",
    "        # 'Full-exploration',\n",
    "        r'$\\epsilon$' + '-Greedy',\n",
    "        'UCB1',\n",
    "        'Bayesian UCB',\n",
    "        'Thompson Sampling'\n",
    "    ]\n",
    "\n",
    "    for s in test_solvers:\n",
    "        print(s)\n",
    "        s.run(N)\n",
    "        print(s.estimates)\n",
    "        \n",
    "    # plot_results(test_solvers, names, \"results_K{}_N{}.png\".format(K, N))\n",
    "\n",
    "experiment(10, 1000)"
   ]
  },
  {
   "cell_type": "code",
   "execution_count": null,
   "metadata": {
    "ExecuteTime": {
     "end_time": "2019-01-10T05:12:32.626680Z",
     "start_time": "2019-01-10T05:12:32.623733Z"
    }
   },
   "outputs": [],
   "source": []
  },
  {
   "cell_type": "code",
   "execution_count": null,
   "metadata": {},
   "outputs": [],
   "source": []
  },
  {
   "cell_type": "code",
   "execution_count": null,
   "metadata": {},
   "outputs": [],
   "source": []
  },
  {
   "cell_type": "code",
   "execution_count": null,
   "metadata": {},
   "outputs": [],
   "source": []
  },
  {
   "cell_type": "code",
   "execution_count": null,
   "metadata": {},
   "outputs": [],
   "source": []
  },
  {
   "cell_type": "code",
   "execution_count": null,
   "metadata": {},
   "outputs": [],
   "source": []
  },
  {
   "cell_type": "code",
   "execution_count": null,
   "metadata": {},
   "outputs": [],
   "source": []
  },
  {
   "cell_type": "code",
   "execution_count": null,
   "metadata": {},
   "outputs": [],
   "source": []
  },
  {
   "cell_type": "code",
   "execution_count": 29,
   "metadata": {
    "ExecuteTime": {
     "end_time": "2019-01-10T06:09:35.807427Z",
     "start_time": "2019-01-10T06:09:35.801006Z"
    }
   },
   "outputs": [
    {
     "name": "stdout",
     "output_type": "stream",
     "text": [
      "[[[ 0.94427853 -1.26592666 -2.42432101]\n",
      "  [ 0.97645216  1.1114906  -0.37262113]\n",
      "  [ 0.1536329  -0.23263173  1.0977334 ]]\n",
      "\n",
      " [[ 0.20590404  0.41134552  0.23543306]\n",
      "  [-0.76567263  0.92204993 -0.78356869]\n",
      "  [ 0.77220094 -0.83419201  2.32476789]]\n",
      "\n",
      " [[-0.19663276  0.52741314 -0.71244539]\n",
      "  [-1.12322379 -1.19229922  0.59939766]\n",
      "  [ 1.83781318 -0.19514624  1.39188466]]\n",
      "\n",
      " [[ 0.15960085 -1.32340294  0.95808363]\n",
      "  [-0.96527413  0.21107276 -1.10379716]\n",
      "  [ 0.30067368 -0.48403368  0.95482625]]]\n",
      "[3 2 1 0]\n",
      "-----------\n"
     ]
    }
   ],
   "source": [
    "temp = np.random.randn(4,3,3)\n",
    "idx = np.arange(4)\n",
    "np.random.shuffle(idx)\n",
    "print(temp)\n",
    "print(idx)\n",
    "print('-----------')"
   ]
  },
  {
   "cell_type": "code",
   "execution_count": 34,
   "metadata": {
    "ExecuteTime": {
     "end_time": "2019-01-10T06:11:14.927068Z",
     "start_time": "2019-01-10T06:11:14.921116Z"
    }
   },
   "outputs": [
    {
     "name": "stdout",
     "output_type": "stream",
     "text": [
      "[[[ 0.94427853 -1.26592666 -2.42432101]\n",
      "  [ 0.97645216  1.1114906  -0.37262113]\n",
      "  [ 0.1536329  -0.23263173  1.0977334 ]]\n",
      "\n",
      " [[ 0.20590404  0.41134552  0.23543306]\n",
      "  [-0.76567263  0.92204993 -0.78356869]\n",
      "  [ 0.77220094 -0.83419201  2.32476789]]\n",
      "\n",
      " [[-0.19663276  0.52741314 -0.71244539]\n",
      "  [-1.12322379 -1.19229922  0.59939766]\n",
      "  [ 1.83781318 -0.19514624  1.39188466]]\n",
      "\n",
      " [[ 0.15960085 -1.32340294  0.95808363]\n",
      "  [-0.96527413  0.21107276 -1.10379716]\n",
      "  [ 0.30067368 -0.48403368  0.95482625]]]\n",
      "-----------\n",
      "[[[ 0.15960085 -1.32340294  0.95808363]\n",
      "  [-0.96527413  0.21107276 -1.10379716]\n",
      "  [ 0.30067368 -0.48403368  0.95482625]]\n",
      "\n",
      " [[-0.19663276  0.52741314 -0.71244539]\n",
      "  [-1.12322379 -1.19229922  0.59939766]\n",
      "  [ 1.83781318 -0.19514624  1.39188466]]\n",
      "\n",
      " [[ 0.20590404  0.41134552  0.23543306]\n",
      "  [-0.76567263  0.92204993 -0.78356869]\n",
      "  [ 0.77220094 -0.83419201  2.32476789]]\n",
      "\n",
      " [[ 0.94427853 -1.26592666 -2.42432101]\n",
      "  [ 0.97645216  1.1114906  -0.37262113]\n",
      "  [ 0.1536329  -0.23263173  1.0977334 ]]]\n",
      "-----------\n",
      "[[[ 0.94427853 -1.26592666 -2.42432101]\n",
      "  [ 0.97645216  1.1114906  -0.37262113]\n",
      "  [ 0.1536329  -0.23263173  1.0977334 ]]\n",
      "\n",
      " [[ 0.20590404  0.41134552  0.23543306]\n",
      "  [-0.76567263  0.92204993 -0.78356869]\n",
      "  [ 0.77220094 -0.83419201  2.32476789]]\n",
      "\n",
      " [[-0.19663276  0.52741314 -0.71244539]\n",
      "  [-1.12322379 -1.19229922  0.59939766]\n",
      "  [ 1.83781318 -0.19514624  1.39188466]]\n",
      "\n",
      " [[ 0.15960085 -1.32340294  0.95808363]\n",
      "  [-0.96527413  0.21107276 -1.10379716]\n",
      "  [ 0.30067368 -0.48403368  0.95482625]]]\n",
      "-----------\n"
     ]
    }
   ],
   "source": [
    "reverse_idx = [0,1,2,3]\n",
    "\n",
    "print(temp)\n",
    "print('-----------')\n",
    "print(temp[idx])\n",
    "print('-----------')\n",
    "print(temp[idx][idx])\n",
    "print('-----------')\n"
   ]
  },
  {
   "cell_type": "code",
   "execution_count": null,
   "metadata": {},
   "outputs": [],
   "source": []
  },
  {
   "cell_type": "code",
   "execution_count": 35,
   "metadata": {
    "ExecuteTime": {
     "end_time": "2019-01-10T06:11:33.416144Z",
     "start_time": "2019-01-10T06:11:22.285036Z"
    }
   },
   "outputs": [],
   "source": [
    "import tensorflow as tf"
   ]
  },
  {
   "cell_type": "code",
   "execution_count": 57,
   "metadata": {
    "ExecuteTime": {
     "end_time": "2019-01-10T06:16:43.439949Z",
     "start_time": "2019-01-10T06:16:43.357514Z"
    }
   },
   "outputs": [
    {
     "name": "stderr",
     "output_type": "stream",
     "text": [
      "C:\\ProgramData\\Miniconda3\\lib\\site-packages\\tensorflow\\python\\client\\session.py:1702: UserWarning: An interactive session is already active. This can cause out-of-memory errors in some cases. You must explicitly call `InteractiveSession.close()` to release resources held by the other session(s).\n",
      "  warnings.warn('An interactive session is already active. This can '\n"
     ]
    }
   ],
   "source": [
    "sess = tf.InteractiveSession()"
   ]
  },
  {
   "cell_type": "code",
   "execution_count": 70,
   "metadata": {
    "ExecuteTime": {
     "end_time": "2019-01-10T06:20:47.409826Z",
     "start_time": "2019-01-10T06:20:47.335425Z"
    }
   },
   "outputs": [
    {
     "name": "stdout",
     "output_type": "stream",
     "text": [
      "[[[ 0.1181713   0.13662301]\n",
      "  [-0.16900212 -0.53488225]]\n",
      "\n",
      " [[ 0.0798636   0.4478078 ]\n",
      "  [ 1.8437486   0.521872  ]]\n",
      "\n",
      " [[-1.0198902   1.5149498 ]\n",
      "  [-1.0840353   0.6434106 ]]\n",
      "\n",
      " [[-0.7653912  -0.2027399 ]\n",
      "  [-0.48166198 -0.7388206 ]]]\n",
      "----------\n",
      "[[[-0.7653912  -0.2027399 ]\n",
      "  [-0.48166198 -0.7388206 ]]\n",
      "\n",
      " [[-1.0198902   1.5149498 ]\n",
      "  [-1.0840353   0.6434106 ]]\n",
      "\n",
      " [[ 0.0798636   0.4478078 ]\n",
      "  [ 1.8437486   0.521872  ]]\n",
      "\n",
      " [[ 0.1181713   0.13662301]\n",
      "  [-0.16900212 -0.53488225]]]\n",
      "----------\n",
      "[[[ 0.1181713   0.13662301]\n",
      "  [-0.16900212 -0.53488225]]\n",
      "\n",
      " [[ 0.0798636   0.4478078 ]\n",
      "  [ 1.8437486   0.521872  ]]\n",
      "\n",
      " [[-1.0198902   1.5149498 ]\n",
      "  [-1.0840353   0.6434106 ]]\n",
      "\n",
      " [[-0.7653912  -0.2027399 ]\n",
      "  [-0.48166198 -0.7388206 ]]]\n",
      "----------\n",
      "[[[ True  True]\n",
      "  [ True  True]]\n",
      "\n",
      " [[ True  True]\n",
      "  [ True  True]]\n",
      "\n",
      " [[ True  True]\n",
      "  [ True  True]]\n",
      "\n",
      " [[ True  True]\n",
      "  [ True  True]]]\n"
     ]
    }
   ],
   "source": [
    "temp = tf.Variable(tf.random_normal((4,2,2)))\n",
    "numbers = tf.Variable(np.array([3,2,1,0]))\n",
    "ttemp  = tf.gather(temp,numbers)\n",
    "tttemp = tf.gather(ttemp,numbers)\n",
    "\n",
    "sess.run(tf.global_variables_initializer())\n",
    "# tttemp = temp[numbers][numbers]\n",
    "\n",
    "print(temp.eval())\n",
    "print('----------')\n",
    "print(ttemp.eval())\n",
    "print('----------')\n",
    "print(tttemp.eval())\n",
    "print('----------')\n",
    "print(tttemp.eval()==temp.eval())\n"
   ]
  },
  {
   "cell_type": "code",
   "execution_count": null,
   "metadata": {},
   "outputs": [],
   "source": []
  },
  {
   "cell_type": "code",
   "execution_count": null,
   "metadata": {},
   "outputs": [],
   "source": []
  }
 ],
 "metadata": {
  "kernelspec": {
   "display_name": "Python 3",
   "language": "python",
   "name": "python3"
  },
  "language_info": {
   "codemirror_mode": {
    "name": "ipython",
    "version": 3
   },
   "file_extension": ".py",
   "mimetype": "text/x-python",
   "name": "python",
   "nbconvert_exporter": "python",
   "pygments_lexer": "ipython3",
   "version": "3.6.6"
  },
  "latex_envs": {
   "LaTeX_envs_menu_present": true,
   "autoclose": false,
   "autocomplete": true,
   "bibliofile": "biblio.bib",
   "cite_by": "apalike",
   "current_citInitial": 1,
   "eqLabelWithNumbers": true,
   "eqNumInitial": 1,
   "hotkeys": {
    "equation": "Ctrl-E",
    "itemize": "Ctrl-I"
   },
   "labels_anchors": false,
   "latex_user_defs": false,
   "report_style_numbering": false,
   "user_envs_cfg": false
  },
  "varInspector": {
   "cols": {
    "lenName": 16,
    "lenType": 16,
    "lenVar": 40
   },
   "kernels_config": {
    "python": {
     "delete_cmd_postfix": "",
     "delete_cmd_prefix": "del ",
     "library": "var_list.py",
     "varRefreshCmd": "print(var_dic_list())"
    },
    "r": {
     "delete_cmd_postfix": ") ",
     "delete_cmd_prefix": "rm(",
     "library": "var_list.r",
     "varRefreshCmd": "cat(var_dic_list()) "
    }
   },
   "types_to_exclude": [
    "module",
    "function",
    "builtin_function_or_method",
    "instance",
    "_Feature"
   ],
   "window_display": false
  }
 },
 "nbformat": 4,
 "nbformat_minor": 2
}
