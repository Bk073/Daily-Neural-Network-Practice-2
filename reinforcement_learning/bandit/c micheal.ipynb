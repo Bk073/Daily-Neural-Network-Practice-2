{
 "cells": [
  {
   "cell_type": "code",
   "execution_count": 8,
   "metadata": {
    "ExecuteTime": {
     "end_time": "2019-01-09T22:59:25.069187Z",
     "start_time": "2019-01-09T22:59:25.062265Z"
    }
   },
   "outputs": [
    {
     "name": "stdout",
     "output_type": "stream",
     "text": [
      "[0.12798052 0.05257987 0.04168536 0.1013075  0.13220688 0.07774843\n",
      " 0.18022149 0.1258417  0.08837421 0.07205402]\n"
     ]
    }
   ],
   "source": [
    "import numpy as np\n",
    "import matplotlib.pyplot as plt\n",
    "np.random.seed(123)\n",
    "\n",
    "expected_action_value  = np.random.uniform(0 ,1 , 10)\n",
    "expected_action_value = expected_action_value/expected_action_value.sum()\n",
    "num_epoch = 10000\n",
    "alpha = 0.006\n",
    "beta  = 0.002\n",
    "print(expected_action_value)"
   ]
  },
  {
   "cell_type": "code",
   "execution_count": 28,
   "metadata": {
    "ExecuteTime": {
     "end_time": "2019-01-09T23:01:51.903793Z",
     "start_time": "2019-01-09T23:01:51.690514Z"
    }
   },
   "outputs": [
    {
     "name": "stdout",
     "output_type": "stream",
     "text": [
      "[0.128 0.053 0.042 0.101 0.132 0.078 0.18  0.126 0.088 0.072]\n",
      "[0.282 0.074 0.077 0.079 0.083 0.077 0.088 0.08  0.079 0.082]\n",
      "[7725.  229.  235.  262.  262.  260.  275.  255.  246.  251.]\n"
     ]
    }
   ],
   "source": [
    "# Linear Reward Inaction \n",
    "estimated = np.zeros(10)+0.1\n",
    "pull_count= np.zeros(10)\n",
    "\n",
    "for iter in range(num_epoch):\n",
    "    \n",
    "    current_choice = np.argmax(estimated) if np.random.uniform(0,1) > 0.3 else np.random.choice(10, p=estimated)\n",
    "    pull_count[current_choice] = pull_count[current_choice] + 1\n",
    "    current_reward = 1 if expected_action_value[current_choice]>np.random.uniform(0,1) else 0\n",
    "    \n",
    "    mask = np.zeros(10) \n",
    "    mask[current_choice] = 1\n",
    "\n",
    "    if current_reward == 1:\n",
    "        estimated = (mask) * (estimated + alpha*(1-estimated)) + (1-mask) * ((1-alpha) *estimated)\n",
    "    else:\n",
    "        estimated = (mask) * ((1-beta)*estimated) + (1-mask) * (beta/9.0 + (1-beta)*estimated)\n",
    "\n",
    "print(np.around(expected_action_value,3))\n",
    "print(np.around(estimated,3))\n",
    "print(np.around(pull_count,3))"
   ]
  },
  {
   "cell_type": "code",
   "execution_count": 31,
   "metadata": {
    "ExecuteTime": {
     "end_time": "2019-01-09T23:01:58.639718Z",
     "start_time": "2019-01-09T23:01:58.387732Z"
    }
   },
   "outputs": [
    {
     "name": "stdout",
     "output_type": "stream",
     "text": [
      "[0.128 0.053 0.042 0.101 0.132 0.078 0.18  0.126 0.088 0.072]\n",
      "[0.973 0.001 0.    0.005 0.001 0.    0.02  0.    0.    0.   ]\n",
      "[8844.   83.   95.  190.  109.   87.  260.  108.  115.  109.]\n"
     ]
    }
   ],
   "source": [
    "# Linear Reward Inaction \n",
    "estimated = np.zeros(10)+0.1\n",
    "pull_count= np.zeros(10)\n",
    "\n",
    "for iter in range(num_epoch):\n",
    "    \n",
    "    current_choice = np.argmax(estimated) if np.random.uniform(0,1) > 0.5 else np.random.choice(10, p=estimated)\n",
    "    pull_count[current_choice] = pull_count[current_choice] + 1\n",
    "    current_reward = 1 if expected_action_value[current_choice]>np.random.uniform(0,1) else 0\n",
    "    \n",
    "    mask = np.zeros(10) \n",
    "    mask[current_choice] = 1\n",
    "    \n",
    "    if current_reward == 1:\n",
    "        estimated = (mask) * (estimated + alpha*(1-estimated)) + (1-mask) * ((1-alpha) *estimated)\n",
    "        \n",
    "    estimated = estimated/estimated.sum()\n",
    "        \n",
    "print(np.around(expected_action_value,3))\n",
    "print(np.around(estimated,3))\n",
    "print(np.around(pull_count,3))"
   ]
  },
  {
   "cell_type": "code",
   "execution_count": null,
   "metadata": {
    "ExecuteTime": {
     "end_time": "2019-01-09T23:01:38.519267Z",
     "start_time": "2019-01-09T23:01:38.513811Z"
    }
   },
   "outputs": [],
   "source": []
  },
  {
   "cell_type": "code",
   "execution_count": null,
   "metadata": {},
   "outputs": [],
   "source": []
  },
  {
   "cell_type": "code",
   "execution_count": null,
   "metadata": {},
   "outputs": [],
   "source": []
  },
  {
   "cell_type": "code",
   "execution_count": null,
   "metadata": {},
   "outputs": [],
   "source": []
  },
  {
   "cell_type": "code",
   "execution_count": null,
   "metadata": {},
   "outputs": [],
   "source": []
  },
  {
   "cell_type": "code",
   "execution_count": null,
   "metadata": {},
   "outputs": [],
   "source": []
  },
  {
   "cell_type": "code",
   "execution_count": null,
   "metadata": {},
   "outputs": [],
   "source": []
  },
  {
   "cell_type": "code",
   "execution_count": null,
   "metadata": {},
   "outputs": [],
   "source": []
  },
  {
   "cell_type": "code",
   "execution_count": null,
   "metadata": {},
   "outputs": [],
   "source": []
  }
 ],
 "metadata": {
  "kernelspec": {
   "display_name": "Python 3",
   "language": "python",
   "name": "python3"
  },
  "language_info": {
   "codemirror_mode": {
    "name": "ipython",
    "version": 3
   },
   "file_extension": ".py",
   "mimetype": "text/x-python",
   "name": "python",
   "nbconvert_exporter": "python",
   "pygments_lexer": "ipython3",
   "version": "3.6.6"
  },
  "latex_envs": {
   "LaTeX_envs_menu_present": true,
   "autoclose": false,
   "autocomplete": true,
   "bibliofile": "biblio.bib",
   "cite_by": "apalike",
   "current_citInitial": 1,
   "eqLabelWithNumbers": true,
   "eqNumInitial": 1,
   "hotkeys": {
    "equation": "Ctrl-E",
    "itemize": "Ctrl-I"
   },
   "labels_anchors": false,
   "latex_user_defs": false,
   "report_style_numbering": false,
   "user_envs_cfg": false
  },
  "varInspector": {
   "cols": {
    "lenName": 16,
    "lenType": 16,
    "lenVar": 40
   },
   "kernels_config": {
    "python": {
     "delete_cmd_postfix": "",
     "delete_cmd_prefix": "del ",
     "library": "var_list.py",
     "varRefreshCmd": "print(var_dic_list())"
    },
    "r": {
     "delete_cmd_postfix": ") ",
     "delete_cmd_prefix": "rm(",
     "library": "var_list.r",
     "varRefreshCmd": "cat(var_dic_list()) "
    }
   },
   "types_to_exclude": [
    "module",
    "function",
    "builtin_function_or_method",
    "instance",
    "_Feature"
   ],
   "window_display": false
  }
 },
 "nbformat": 4,
 "nbformat_minor": 2
}
