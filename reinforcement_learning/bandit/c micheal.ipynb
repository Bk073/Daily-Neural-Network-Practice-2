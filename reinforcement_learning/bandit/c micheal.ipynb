{
 "cells": [
  {
   "cell_type": "code",
   "execution_count": 1,
   "metadata": {
    "ExecuteTime": {
     "end_time": "2019-01-09T22:27:16.500621Z",
     "start_time": "2019-01-09T22:27:15.611243Z"
    }
   },
   "outputs": [],
   "source": [
    "import numpy as np\n",
    "import matplotlib.pyplot as plt"
   ]
  },
  {
   "cell_type": "code",
   "execution_count": 99,
   "metadata": {
    "ExecuteTime": {
     "end_time": "2019-01-09T22:44:51.169491Z",
     "start_time": "2019-01-09T22:44:51.164036Z"
    }
   },
   "outputs": [
    {
     "name": "stdout",
     "output_type": "stream",
     "text": [
      "[0.69646919 0.28613933 0.22685145 0.55131477 0.71946897 0.42310646\n",
      " 0.9807642  0.68482974 0.4809319  0.39211752]\n"
     ]
    }
   ],
   "source": [
    "import numpy as np\n",
    "np.random.seed(123)\n",
    "\n",
    "expected_action_value  = np.random.uniform(0 ,1 , 10)\n",
    "num_epoch = 1000\n",
    "alpha = 0.006\n",
    "beta  = 0.002\n",
    "print(expected_action_value)"
   ]
  },
  {
   "cell_type": "code",
   "execution_count": 106,
   "metadata": {
    "ExecuteTime": {
     "end_time": "2019-01-09T22:44:56.113086Z",
     "start_time": "2019-01-09T22:44:56.088782Z"
    }
   },
   "outputs": [
    {
     "name": "stdout",
     "output_type": "stream",
     "text": [
      "[0.696 0.286 0.227 0.551 0.719 0.423 0.981 0.685 0.481 0.392]\n",
      "[0.852 0.016 0.016 0.016 0.016 0.016 0.016 0.016 0.016 0.016]\n"
     ]
    }
   ],
   "source": [
    "# linear reward\n",
    "estimated = np.zeros(10)\n",
    "pull_count= np.zeros(10)\n",
    "\n",
    "for iter in range(num_epoch):\n",
    "    current_choice = np.argmax(estimated)\n",
    "    current_reward = 1 if expected_action_value[current_choice]>np.random.uniform(0,1) else 0\n",
    "    \n",
    "    if current_reward == 1:\n",
    "        mask = np.ones(10) \n",
    "        mask[current_choice] = 0\n",
    "        estimated[current_choice] = estimated[current_choice] + alpha * (1-estimated[current_choice])\n",
    "        estimated = ((1-alpha) * estimated) * mask + (1-mask) * estimated\n",
    "    else:\n",
    "        mask = np.ones(10) \n",
    "        mask[current_choice] = 0\n",
    "        estimated[current_choice] = (1-beta) * estimated[current_choice]  \n",
    "        estimated = (beta/9.0 + (1-beta) * estimated) * mask+ (1-mask) * estimated\n",
    "        \n",
    "print(np.around(expected_action_value,3))\n",
    "print(np.around(estimated,3))"
   ]
  },
  {
   "cell_type": "code",
   "execution_count": 140,
   "metadata": {
    "ExecuteTime": {
     "end_time": "2019-01-09T22:51:08.468777Z",
     "start_time": "2019-01-09T22:51:08.449930Z"
    }
   },
   "outputs": [
    {
     "ename": "ValueError",
     "evalue": "probabilities do not sum to 1",
     "output_type": "error",
     "traceback": [
      "\u001b[1;31m---------------------------------------------------------------------------\u001b[0m",
      "\u001b[1;31mValueError\u001b[0m                                Traceback (most recent call last)",
      "\u001b[1;32m<ipython-input-140-855b8124659f>\u001b[0m in \u001b[0;36m<module>\u001b[1;34m\u001b[0m\n\u001b[0;32m      5\u001b[0m \u001b[1;32mfor\u001b[0m \u001b[0miter\u001b[0m \u001b[1;32min\u001b[0m \u001b[0mrange\u001b[0m\u001b[1;33m(\u001b[0m\u001b[0mnum_epoch\u001b[0m\u001b[1;33m)\u001b[0m\u001b[1;33m:\u001b[0m\u001b[1;33m\u001b[0m\u001b[0m\n\u001b[0;32m      6\u001b[0m \u001b[1;33m\u001b[0m\u001b[0m\n\u001b[1;32m----> 7\u001b[1;33m     \u001b[0mcurrent_choice\u001b[0m \u001b[1;33m=\u001b[0m \u001b[0mnp\u001b[0m\u001b[1;33m.\u001b[0m\u001b[0mrandom\u001b[0m\u001b[1;33m.\u001b[0m\u001b[0mchoice\u001b[0m\u001b[1;33m(\u001b[0m\u001b[1;36m10\u001b[0m\u001b[1;33m,\u001b[0m\u001b[0mp\u001b[0m\u001b[1;33m=\u001b[0m\u001b[0mestimated\u001b[0m\u001b[1;33m)\u001b[0m\u001b[1;33m\u001b[0m\u001b[0m\n\u001b[0m\u001b[0;32m      8\u001b[0m \u001b[1;33m\u001b[0m\u001b[0m\n\u001b[0;32m      9\u001b[0m     \u001b[0mpull_count\u001b[0m\u001b[1;33m[\u001b[0m\u001b[0mcurrent_choice\u001b[0m\u001b[1;33m]\u001b[0m \u001b[1;33m=\u001b[0m \u001b[0mpull_count\u001b[0m\u001b[1;33m[\u001b[0m\u001b[0mcurrent_choice\u001b[0m\u001b[1;33m]\u001b[0m \u001b[1;33m+\u001b[0m \u001b[1;36m1\u001b[0m\u001b[1;33m\u001b[0m\u001b[0m\n",
      "\u001b[1;32mmtrand.pyx\u001b[0m in \u001b[0;36mmtrand.RandomState.choice\u001b[1;34m()\u001b[0m\n",
      "\u001b[1;31mValueError\u001b[0m: probabilities do not sum to 1"
     ]
    }
   ],
   "source": [
    "# Linear Reward Inaction \n",
    "estimated = np.zeros(10)\n",
    "pull_count= np.zeros(10)\n",
    "\n",
    "for iter in range(num_epoch):\n",
    "    \n",
    "    current_choice = np.argmax(estimated)\n",
    "    \n",
    "    pull_count[current_choice] = pull_count[current_choice] + 1\n",
    "    current_reward = 1 if expected_action_value[current_choice]>np.random.uniform(0,1) else 0\n",
    "    \n",
    "    if current_reward == 1:\n",
    "        mask = np.zeros(10) \n",
    "        mask[current_choice] = 1\n",
    "        estimated = (mask) * (estimated + alpha*(1-estimated)) + (1-mask) * ((1-alpha) *estimated)\n",
    "        \n",
    "print(np.around(expected_action_value,3))\n",
    "print(np.around(estimated,3))\n",
    "print(np.around(pull_count,3))"
   ]
  },
  {
   "cell_type": "code",
   "execution_count": null,
   "metadata": {},
   "outputs": [],
   "source": []
  },
  {
   "cell_type": "code",
   "execution_count": null,
   "metadata": {},
   "outputs": [],
   "source": []
  },
  {
   "cell_type": "code",
   "execution_count": null,
   "metadata": {},
   "outputs": [],
   "source": []
  },
  {
   "cell_type": "code",
   "execution_count": null,
   "metadata": {},
   "outputs": [],
   "source": []
  },
  {
   "cell_type": "code",
   "execution_count": null,
   "metadata": {},
   "outputs": [],
   "source": []
  },
  {
   "cell_type": "code",
   "execution_count": null,
   "metadata": {},
   "outputs": [],
   "source": []
  },
  {
   "cell_type": "code",
   "execution_count": null,
   "metadata": {},
   "outputs": [],
   "source": []
  },
  {
   "cell_type": "code",
   "execution_count": null,
   "metadata": {},
   "outputs": [],
   "source": []
  },
  {
   "cell_type": "code",
   "execution_count": null,
   "metadata": {},
   "outputs": [],
   "source": []
  }
 ],
 "metadata": {
  "kernelspec": {
   "display_name": "Python 3",
   "language": "python",
   "name": "python3"
  },
  "language_info": {
   "codemirror_mode": {
    "name": "ipython",
    "version": 3
   },
   "file_extension": ".py",
   "mimetype": "text/x-python",
   "name": "python",
   "nbconvert_exporter": "python",
   "pygments_lexer": "ipython3",
   "version": "3.6.6"
  },
  "latex_envs": {
   "LaTeX_envs_menu_present": true,
   "autoclose": false,
   "autocomplete": true,
   "bibliofile": "biblio.bib",
   "cite_by": "apalike",
   "current_citInitial": 1,
   "eqLabelWithNumbers": true,
   "eqNumInitial": 1,
   "hotkeys": {
    "equation": "Ctrl-E",
    "itemize": "Ctrl-I"
   },
   "labels_anchors": false,
   "latex_user_defs": false,
   "report_style_numbering": false,
   "user_envs_cfg": false
  },
  "varInspector": {
   "cols": {
    "lenName": 16,
    "lenType": 16,
    "lenVar": 40
   },
   "kernels_config": {
    "python": {
     "delete_cmd_postfix": "",
     "delete_cmd_prefix": "del ",
     "library": "var_list.py",
     "varRefreshCmd": "print(var_dic_list())"
    },
    "r": {
     "delete_cmd_postfix": ") ",
     "delete_cmd_prefix": "rm(",
     "library": "var_list.r",
     "varRefreshCmd": "cat(var_dic_list()) "
    }
   },
   "types_to_exclude": [
    "module",
    "function",
    "builtin_function_or_method",
    "instance",
    "_Feature"
   ],
   "window_display": false
  }
 },
 "nbformat": 4,
 "nbformat_minor": 2
}
