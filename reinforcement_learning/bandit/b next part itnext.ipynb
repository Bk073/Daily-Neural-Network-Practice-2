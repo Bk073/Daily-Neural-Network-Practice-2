{
 "cells": [
  {
   "cell_type": "code",
   "execution_count": 12,
   "metadata": {
    "ExecuteTime": {
     "end_time": "2019-01-10T00:03:50.724536Z",
     "start_time": "2019-01-10T00:03:50.556364Z"
    }
   },
   "outputs": [
    {
     "name": "stdout",
     "output_type": "stream",
     "text": [
      "6\n",
      "[0.69646919 0.28613933 0.22685145 0.55131477 0.71946897 0.42310646\n",
      " 0.9807642  0.68482974 0.4809319  0.39211752]\n"
     ]
    }
   ],
   "source": [
    "import numpy as np\n",
    "import matplotlib.pyplot as plt\n",
    "np.random.seed(123)\n",
    "\n",
    "expected_action_value  = np.random.uniform(0 ,1 , 10)\n",
    "optimal_bandit = np.argmax(expected_action_value)\n",
    "num_epoch = 2000\n",
    "print(optimal_bandit)\n",
    "print(expected_action_value)"
   ]
  },
  {
   "cell_type": "code",
   "execution_count": 13,
   "metadata": {
    "ExecuteTime": {
     "end_time": "2019-01-10T00:03:51.208056Z",
     "start_time": "2019-01-10T00:03:51.008680Z"
    }
   },
   "outputs": [
    {
     "name": "stdout",
     "output_type": "stream",
     "text": [
      "[0.696 0.286 0.227 0.551 0.719 0.423 0.981 0.685 0.481 0.392]\n",
      "[0.69 0.   0.   0.   0.   0.   0.   0.   0.   0.  ]\n",
      "[2000.    0.    0.    0.    0.    0.    0.    0.    0.    0.]\n"
     ]
    },
    {
     "data": {
      "image/png": "[encoded data removed]",
      "text/plain": [
       "<Figure size 432x288 with 1 Axes>"
      ]
     },
     "metadata": {
      "needs_background": "light"
     },
     "output_type": "display_data"
    }
   ],
   "source": [
    "# one e\n",
    "estimated = np.zeros(10)\n",
    "pull_count             = np.zeros(10)\n",
    "epsilon_value          = 0\n",
    "reward_ot = []\n",
    "optimal_ot= []\n",
    "\n",
    "for iter in range(num_epoch):\n",
    "    if np.random.uniform(0,1) > epsilon_value: current_choice = np.argmax(estimated)\n",
    "    else : current_choice = np.random.choice(range(10))\n",
    "    \n",
    "    pull_count[current_choice] = pull_count[current_choice] + 1\n",
    "    current_reward = 1 if expected_action_value[current_choice]>np.random.uniform(0,1) else 0\n",
    "    estimated[current_choice] = estimated[current_choice] + (1/(pull_count[current_choice]+1)) * (current_reward - estimated[current_choice])\n",
    "    \n",
    "    reward_ot.append(current_reward); optimal_ot.append(current_choice == optimal_bandit)\n",
    "\n",
    "    \n",
    "print(np.around(expected_action_value,3))\n",
    "print(np.around(estimated,3))\n",
    "print(np.around(pull_count,3))\n",
    "\n",
    "plt.plot(reward_ot)\n",
    "plt.show()"
   ]
  },
  {
   "cell_type": "code",
   "execution_count": 4,
   "metadata": {
    "ExecuteTime": {
     "end_time": "2019-01-10T00:02:00.298641Z",
     "start_time": "2019-01-10T00:02:00.281282Z"
    }
   },
   "outputs": [
    {
     "name": "stdout",
     "output_type": "stream",
     "text": [
      "[0.696 0.286 0.227 0.551 0.719 0.423 0.981 0.685 0.481 0.392]\n",
      "[0.545 0.    0.375 0.556 0.667 0.333 0.984 0.824 0.286 0.385]\n",
      "[ 10.   3.   7.   8.   8.  14. 916.  16.   6.  12.]\n"
     ]
    }
   ],
   "source": [
    "# one e\n",
    "estimated = np.zeros(10)\n",
    "pull_count             = np.zeros(10)\n",
    "epsilon_value          = 0.1\n",
    "\n",
    "for iter in range(num_epoch):\n",
    "    if np.random.uniform(0,1) > epsilon_value: current_choice = np.argmax(estimated)\n",
    "    else : current_choice = np.random.choice(range(10))\n",
    "    \n",
    "    pull_count[current_choice] = pull_count[current_choice] + 1\n",
    "    current_reward = 1 if expected_action_value[current_choice]>np.random.uniform(0,1) else 0\n",
    "    estimated[current_choice] = estimated[current_choice] + (1/(pull_count[current_choice]+1)) * (current_reward - estimated[current_choice])\n",
    "    \n",
    "print(np.around(expected_action_value,3))\n",
    "print(np.around(estimated,3))\n",
    "print(np.around(pull_count,3))"
   ]
  },
  {
   "cell_type": "code",
   "execution_count": 18,
   "metadata": {
    "ExecuteTime": {
     "end_time": "2019-01-09T22:23:36.628667Z",
     "start_time": "2019-01-09T22:23:36.606386Z"
    }
   },
   "outputs": [
    {
     "name": "stdout",
     "output_type": "stream",
     "text": [
      "[0.696 0.286 0.227 0.551 0.719 0.423 0.981 0.685 0.481 0.392]\n",
      "[0.687 0.29  0.265 0.547 0.75  0.451 0.982 0.627 0.509 0.412]\n",
      "[535.  61.  48.  52.  39.  50.  55.  58.  52.  50.]\n"
     ]
    }
   ],
   "source": [
    "# one e\n",
    "estimated = np.zeros(10)\n",
    "pull_count             = np.zeros(10)\n",
    "epsilon_value          = 0.5\n",
    "\n",
    "for iter in range(num_epoch):\n",
    "    if np.random.uniform(0,1) > epsilon_value: current_choice = np.argmax(estimated_action_value)\n",
    "    else : current_choice = np.random.choice(range(10))\n",
    "    \n",
    "    pull_count[current_choice] = pull_count[current_choice] + 1\n",
    "    current_reward = 1 if expected_action_value[current_choice]>np.random.uniform(0,1) else 0\n",
    "    estimated[current_choice] = estimated[current_choice] + (1/(pull_count[current_choice]+1)) * (current_reward - estimated[current_choice])\n",
    "    \n",
    "print(np.around(expected_action_value,3))\n",
    "print(np.around(estimated,3))\n",
    "print(np.around(pull_count,3))"
   ]
  },
  {
   "cell_type": "code",
   "execution_count": null,
   "metadata": {},
   "outputs": [],
   "source": []
  },
  {
   "cell_type": "code",
   "execution_count": null,
   "metadata": {},
   "outputs": [],
   "source": []
  },
  {
   "cell_type": "code",
   "execution_count": null,
   "metadata": {},
   "outputs": [],
   "source": []
  },
  {
   "cell_type": "code",
   "execution_count": null,
   "metadata": {},
   "outputs": [],
   "source": []
  },
  {
   "cell_type": "code",
   "execution_count": null,
   "metadata": {},
   "outputs": [],
   "source": []
  },
  {
   "cell_type": "code",
   "execution_count": 3,
   "metadata": {
    "ExecuteTime": {
     "end_time": "2019-01-09T22:16:43.277433Z",
     "start_time": "2019-01-09T22:16:43.265999Z"
    }
   },
   "outputs": [],
   "source": [
    "epsilon_values  = [0,0.01,0.1,1.0]\n",
    "e_step = 0\n",
    "estimated_action_value = np.zeros(10)\n",
    "\n",
    "def reward_function(action_taken, expected_action_value):\n",
    "    if (np.random.uniform(0, 1) <= expected_action_value[action_taken]):\n",
    "        return(1)\n",
    "    else:\n",
    "        return(-1)\n",
    "\n",
    "def multi_arm_bandit_problem(arms = 10, steps = 1000, e = 0.1, expected_action_value = []):\n",
    "    overall_reward, optimal_action = [], []\n",
    "    estimate_action_value = np.zeros(arms)\n",
    "    count = np.zeros(arms)\n",
    "    for s in range(0, steps):\n",
    "        e_estimator = np.random.uniform(0, 1)\n",
    "        action = np.argmax(estimate_action_value) if e_estimator > e else np.random.choice(np.arange(10))\n",
    "        reward = reward_function(action, expected_action_value)\n",
    "        estimate_action_value[action] = estimate_action_value[action] + (1/(count[action]+1)) * (reward - estimate_action_value[action])\n",
    "        overall_reward.append(reward)\n",
    "        optimal_action.append(action == np.argmax(expected_action_value))\n",
    "        count[action] += 1\n",
    "    return(overall_reward, optimal_action)\n",
    "\n",
    "def run_game(runs = 2000, steps = 1000, arms = 10):\n",
    "    rewards = np.zeros((runs, steps))\n",
    "    optimal_actions = np.zeros((runs, steps))\n",
    "    expected_action_value = np.random.uniform(0, 1 , arms)\n",
    "    for run in range(0, runs):\n",
    "        rewards[run][:], optimal_actions[run][:] = multi_arm_bandit_problem(arms = arms, steps = steps, e = epsilon_values[e_step], expected_action_value = expected_action_value)\n",
    "    rewards_avg = np.average(rewards, axis = 1)\n",
    "    optimal_action_perc = np.average(optimal_actions, axis = 1)\n",
    "    return(rewards_avg, optimal_action_perc)"
   ]
  },
  {
   "cell_type": "code",
   "execution_count": null,
   "metadata": {
    "ExecuteTime": {
     "end_time": "2019-01-09T22:16:57.468152Z",
     "start_time": "2019-01-09T22:16:43.730079Z"
    }
   },
   "outputs": [],
   "source": []
  },
  {
   "cell_type": "code",
   "execution_count": null,
   "metadata": {},
   "outputs": [],
   "source": []
  },
  {
   "cell_type": "code",
   "execution_count": null,
   "metadata": {},
   "outputs": [],
   "source": []
  },
  {
   "cell_type": "code",
   "execution_count": null,
   "metadata": {},
   "outputs": [],
   "source": []
  },
  {
   "cell_type": "code",
   "execution_count": null,
   "metadata": {},
   "outputs": [],
   "source": []
  },
  {
   "cell_type": "code",
   "execution_count": null,
   "metadata": {},
   "outputs": [],
   "source": []
  },
  {
   "cell_type": "code",
   "execution_count": null,
   "metadata": {},
   "outputs": [],
   "source": []
  }
 ],
 "metadata": {
  "kernelspec": {
   "display_name": "Python 3",
   "language": "python",
   "name": "python3"
  },
  "language_info": {
   "codemirror_mode": {
    "name": "ipython",
    "version": 3
   },
   "file_extension": ".py",
   "mimetype": "text/x-python",
   "name": "python",
   "nbconvert_exporter": "python",
   "pygments_lexer": "ipython3",
   "version": "3.6.6"
  },
  "latex_envs": {
   "LaTeX_envs_menu_present": true,
   "autoclose": false,
   "autocomplete": true,
   "bibliofile": "biblio.bib",
   "cite_by": "apalike",
   "current_citInitial": 1,
   "eqLabelWithNumbers": true,
   "eqNumInitial": 1,
   "hotkeys": {
    "equation": "Ctrl-E",
    "itemize": "Ctrl-I"
   },
   "labels_anchors": false,
   "latex_user_defs": false,
   "report_style_numbering": false,
   "user_envs_cfg": false
  },
  "varInspector": {
   "cols": {
    "lenName": 16,
    "lenType": 16,
    "lenVar": 40
   },
   "kernels_config": {
    "python": {
     "delete_cmd_postfix": "",
     "delete_cmd_prefix": "del ",
     "library": "var_list.py",
     "varRefreshCmd": "print(var_dic_list())"
    },
    "r": {
     "delete_cmd_postfix": ") ",
     "delete_cmd_prefix": "rm(",
     "library": "var_list.r",
     "varRefreshCmd": "cat(var_dic_list()) "
    }
   },
   "types_to_exclude": [
    "module",
    "function",
    "builtin_function_or_method",
    "instance",
    "_Feature"
   ],
   "window_display": false
  }
 },
 "nbformat": 4,
 "nbformat_minor": 2
}
