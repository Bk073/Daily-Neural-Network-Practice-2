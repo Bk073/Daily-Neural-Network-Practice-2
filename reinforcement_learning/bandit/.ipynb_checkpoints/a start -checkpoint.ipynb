{
 "cells": [
  {
   "cell_type": "code",
   "execution_count": 1,
   "metadata": {
    "ExecuteTime": {
     "end_time": "2019-01-09T19:39:49.070158Z",
     "start_time": "2019-01-09T19:39:48.316683Z"
    }
   },
   "outputs": [],
   "source": [
    "# import lib\n",
    "import sys\n",
    "import numpy as np\n",
    "import scipy\n",
    "import scipy.stats as stats\n",
    "import matplotlib\n",
    "import matplotlib.pyplot as plt\n",
    "import seaborn as sns\n",
    "\n",
    "sns.set_style('darkgrid')\n",
    "np.random.seed(42)"
   ]
  },
  {
   "cell_type": "code",
   "execution_count": 6,
   "metadata": {
    "ExecuteTime": {
     "end_time": "2019-01-09T19:41:20.388682Z",
     "start_time": "2019-01-09T19:41:20.382236Z"
    }
   },
   "outputs": [],
   "source": [
    "# Define the multi-armed bandits\n",
    "nb_bandits = 3  # Number of bandits\n",
    "# True probability of winning for each bandit\n",
    "p_bandits = [0.45, 0.55, 0.90]\n",
    "\n",
    "def pull(i):\n",
    "    \"\"\"Pull arm of bandit with index `i` and return 1 if win, \n",
    "    else return 0.\"\"\"\n",
    "    if np.random.rand() < p_bandits[i]:\n",
    "        return 1\n",
    "    else:\n",
    "        return 0\n",
    "    \n",
    "def plot(priors, step, ax):\n",
    "    \"\"\"Plot the priors for the current step.\"\"\"\n",
    "    plot_x = np.linspace(0.001, .999, 100)\n",
    "    for prior in priors:\n",
    "        y = prior.pdf(plot_x)\n",
    "        p = ax.plot(plot_x, y)\n",
    "        ax.fill_between(plot_x, y, 0, alpha=0.2)\n",
    "    ax.set_xlim([0, 1])\n",
    "    ax.set_ylim(bottom=0)\n",
    "    ax.set_title(f'Priors at step {step:d}')"
   ]
  },
  {
   "cell_type": "code",
   "execution_count": 5,
   "metadata": {
    "ExecuteTime": {
     "end_time": "2019-01-09T19:40:25.362476Z",
     "start_time": "2019-01-09T19:40:24.166128Z"
    }
   },
   "outputs": [
    {
     "name": "stdout",
     "output_type": "stream",
     "text": [
      "[<scipy.stats._distn_infrastructure.rv_frozen object at 0x000001A77A4D1A58>, <scipy.stats._distn_infrastructure.rv_frozen object at 0x000001A77A4D1D68>, <scipy.stats._distn_infrastructure.rv_frozen object at 0x000001A77A4DB080>]\n"
     ]
    },
    {
     "ename": "SystemExit",
     "evalue": "",
     "output_type": "error",
     "traceback": [
      "An exception has occurred, use %tb to see the full traceback.\n",
      "\u001b[1;31mSystemExit\u001b[0m\n"
     ]
    },
    {
     "name": "stderr",
     "output_type": "stream",
     "text": [
      "C:\\ProgramData\\Miniconda3\\lib\\site-packages\\IPython\\core\\interactiveshell.py:3275: UserWarning: To exit: use 'exit', 'quit', or Ctrl-D.\n",
      "  warn(\"To exit: use 'exit', 'quit', or Ctrl-D.\", stacklevel=1)\n"
     ]
    },
    {
     "data": {
      "image/png": "[encoded data removed]",
      "text/plain": [
       "<Figure size 576x720 with 10 Axes>"
      ]
     },
     "metadata": {
      "needs_background": "light"
     },
     "output_type": "display_data"
    }
   ],
   "source": [
    "# Simulate multi-armed bandit process and update posteriors\n",
    "\n",
    "# Iterations to plot\n",
    "plots = [1, 2, 5, 10, 25, 50, 100, 200, 500, 1000]\n",
    "\n",
    "# Setup plot\n",
    "fig, axs = plt.subplots(5, 2, figsize=(8, 10))\n",
    "axs = axs.flat\n",
    "\n",
    "# The number of trials and wins will represent the prior for each\n",
    "#  bandit with the help of the Beta distribution.\n",
    "trials = [0, 0, 0]  # Number of times we tried each bandit\n",
    "wins   = [0, 0, 0]  # Number of wins for each bandit\n",
    "\n",
    "n = 1000\n",
    "# Run the trail for `n` steps\n",
    "for step in range(1, n+1):\n",
    "    # Define the prior based on current observations\n",
    "    bandit_priors = [stats.beta(a=1+w, b=1+t-w) for t, w in zip(trials, wins)]\n",
    "    print(bandit_priors)\n",
    "    sys.exit()\n",
    "    \n",
    "    # plot prior \n",
    "    if step in plots: plot(bandit_priors, step, next(axs))\n",
    "        \n",
    "    # Sample a probability theta for each bandit\n",
    "    theta_samples = [d.rvs(1) for d in bandit_priors]\n",
    "    \n",
    "    # choose a bandit\n",
    "    chosen_bandit = np.argmax(theta_samples)\n",
    "    \n",
    "    # Pull the bandit\n",
    "    x = pull(chosen_bandit)\n",
    "    \n",
    "    # Update trials and wins (defines the posterior)\n",
    "    trials[chosen_bandit] += 1\n",
    "    wins[chosen_bandit] += x\n",
    "\n",
    "plt.tight_layout()\n",
    "plt.show()"
   ]
  },
  {
   "cell_type": "code",
   "execution_count": 4,
   "metadata": {
    "ExecuteTime": {
     "end_time": "2019-01-09T19:39:53.224208Z",
     "start_time": "2019-01-09T19:39:53.218257Z"
    }
   },
   "outputs": [
    {
     "name": "stdout",
     "output_type": "stream",
     "text": [
      "True prob=0.45;  Emperical prob=0.25;  Trials=3\n",
      "True prob=0.55;  Emperical prob=0.40;  Trials=4\n",
      "True prob=0.90;  Emperical prob=0.91;  Trials=993\n"
     ]
    }
   ],
   "source": [
    "# Print final outcome and number of test needed per bandit\n",
    "emperical_p_bandits = [(1+w) / (1+t) for t, w in zip(trials, wins)]\n",
    "for i in range(nb_bandits):\n",
    "    print((f'True prob={p_bandits[i]:.2f};  '\n",
    "           f'Emperical prob={emperical_p_bandits[i]:.2f};  '\n",
    "           f'Trials={trials[i]:d}'))"
   ]
  },
  {
   "cell_type": "code",
   "execution_count": null,
   "metadata": {},
   "outputs": [],
   "source": []
  },
  {
   "cell_type": "code",
   "execution_count": null,
   "metadata": {},
   "outputs": [],
   "source": []
  },
  {
   "cell_type": "code",
   "execution_count": null,
   "metadata": {},
   "outputs": [],
   "source": []
  },
  {
   "cell_type": "code",
   "execution_count": null,
   "metadata": {},
   "outputs": [],
   "source": []
  },
  {
   "cell_type": "code",
   "execution_count": null,
   "metadata": {},
   "outputs": [],
   "source": []
  },
  {
   "cell_type": "code",
   "execution_count": null,
   "metadata": {},
   "outputs": [],
   "source": []
  }
 ],
 "metadata": {
  "kernelspec": {
   "display_name": "Python 3",
   "language": "python",
   "name": "python3"
  },
  "language_info": {
   "codemirror_mode": {
    "name": "ipython",
    "version": 3
   },
   "file_extension": ".py",
   "mimetype": "text/x-python",
   "name": "python",
   "nbconvert_exporter": "python",
   "pygments_lexer": "ipython3",
   "version": "3.6.6"
  },
  "latex_envs": {
   "LaTeX_envs_menu_present": true,
   "autoclose": false,
   "autocomplete": true,
   "bibliofile": "biblio.bib",
   "cite_by": "apalike",
   "current_citInitial": 1,
   "eqLabelWithNumbers": true,
   "eqNumInitial": 1,
   "hotkeys": {
    "equation": "Ctrl-E",
    "itemize": "Ctrl-I"
   },
   "labels_anchors": false,
   "latex_user_defs": false,
   "report_style_numbering": false,
   "user_envs_cfg": false
  },
  "varInspector": {
   "cols": {
    "lenName": 16,
    "lenType": 16,
    "lenVar": 40
   },
   "kernels_config": {
    "python": {
     "delete_cmd_postfix": "",
     "delete_cmd_prefix": "del ",
     "library": "var_list.py",
     "varRefreshCmd": "print(var_dic_list())"
    },
    "r": {
     "delete_cmd_postfix": ") ",
     "delete_cmd_prefix": "rm(",
     "library": "var_list.r",
     "varRefreshCmd": "cat(var_dic_list()) "
    }
   },
   "types_to_exclude": [
    "module",
    "function",
    "builtin_function_or_method",
    "instance",
    "_Feature"
   ],
   "window_display": false
  }
 },
 "nbformat": 4,
 "nbformat_minor": 2
}
