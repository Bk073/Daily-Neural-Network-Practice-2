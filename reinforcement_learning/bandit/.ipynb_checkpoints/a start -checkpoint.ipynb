{
 "cells": [
  {
   "cell_type": "code",
   "execution_count": 72,
   "metadata": {
    "ExecuteTime": {
     "end_time": "2019-01-09T20:51:42.843587Z",
     "start_time": "2019-01-09T20:51:42.838599Z"
    }
   },
   "outputs": [],
   "source": [
    "# import lib\n",
    "import sys\n",
    "import numpy as np\n",
    "import scipy\n",
    "import scipy.stats as stats\n",
    "import matplotlib\n",
    "import matplotlib.pyplot as plt\n",
    "import seaborn as sns\n",
    "from kumaraswamy import kumaraswamy\n",
    "sns.set_style('darkgrid')\n",
    "np.random.seed(42)"
   ]
  },
  {
   "cell_type": "code",
   "execution_count": 86,
   "metadata": {
    "ExecuteTime": {
     "end_time": "2019-01-09T20:58:46.193429Z",
     "start_time": "2019-01-09T20:58:46.186486Z"
    },
    "code_folding": [
     5,
     13
    ],
    "scrolled": false
   },
   "outputs": [],
   "source": [
    "# Define the multi-armed bandits\n",
    "nb_bandits = 3  # Number of bandits\n",
    "# True probability of winning for each bandit\n",
    "p_bandits = [0.25, 0.55, 0.90]\n",
    "\n",
    "def pull(i):\n",
    "    \"\"\"Pull arm of bandit with index `i` and return 1 if win, \n",
    "    else return 0.\"\"\"\n",
    "    if np.random.rand() < p_bandits[i]:\n",
    "        return 1\n",
    "    else:\n",
    "        return 0\n",
    "    \n",
    "def plot(priors, step, ax):\n",
    "    \"\"\"Plot the priors for the current step.\"\"\"\n",
    "    plot_x = np.linspace(-0.5, 1.5, 100)\n",
    "    for prior in priors:\n",
    "        y = prior.pdf(plot_x)\n",
    "        p = ax.plot(plot_x, y)\n",
    "        ax.fill_between(plot_x, y, 0, alpha=0.2)\n",
    "    #ax.set_xlim([0, 1])\n",
    "    #ax.set_ylim(bottom=0)\n",
    "    ax.set_title(f'Priors at step {step:d}')\n",
    "    \n",
    "# Iterations to plot\n",
    "plots = [1, 2, 5, 10, 25, 50, 100, 200, 500, 1000]"
   ]
  },
  {
   "cell_type": "code",
   "execution_count": null,
   "metadata": {
    "ExecuteTime": {
     "start_time": "2019-01-09T21:03:48.502Z"
    },
    "code_folding": [
     0
    ]
   },
   "outputs": [],
   "source": [
    "# Setup plot\n",
    "fig, axs = plt.subplots(5, 2, figsize=(8, 10))\n",
    "axs = axs.flat\n",
    "\n",
    "# The number of trials and wins will represent the prior for each\n",
    "#  bandit with the help of the Beta distribution.\n",
    "trials = [0, 0, 0]  # Number of times we tried each bandit\n",
    "wins   = [0, 0, 0]  # Number of wins for each bandit\n",
    "\n",
    "n = 1000\n",
    "# Run the trail for `n` steps\n",
    "for step in range(1, n+1):\n",
    "    # Define the prior based on current observations\n",
    "    bandit_priors = [stats.beta (a=1+w,b=1+t-w) for t, w in zip(trials, wins)]\n",
    "\n",
    "    if step in plots: plot(bandit_priors, step, next(axs))\n",
    "        \n",
    "    # Sample a probability theta for each bandit\n",
    "    theta_samples = [d.rvs(size=1) for d in bandit_priors]\n",
    "    \n",
    "    # choose a bandit\n",
    "    chosen_bandit = np.argmax(theta_samples)\n",
    "    x = pull(chosen_bandit)\n",
    "    \n",
    "    # Update trials and wins (defines the posterior)\n",
    "    trials[chosen_bandit] += 1; wins  [chosen_bandit] += x\n",
    "\n",
    "plt.tight_layout()\n",
    "plt.show()\n",
    "\n",
    "# Print final outcome and number of test needed per bandit\n",
    "emperical_p_bandits = [(1+w) / (1+t) for t, w in zip(trials, wins)]\n",
    "for i in range(nb_bandits):\n",
    "    print((f'True prob={p_bandits[i]:.2f};  '\n",
    "           f'Emperical prob={emperical_p_bandits[i]:.2f};  '\n",
    "           f'Trials={trials[i]:d}; '\n",
    "           f'wins={wins[i]:d}; '\n",
    "          ))\n",
    "print('Total win: ',sum(wins))"
   ]
  },
  {
   "cell_type": "code",
   "execution_count": null,
   "metadata": {
    "ExecuteTime": {
     "start_time": "2019-01-09T21:03:48.860Z"
    },
    "code_folding": [
     0
    ]
   },
   "outputs": [],
   "source": [
    "# Setup plot\n",
    "fig, axs = plt.subplots(5, 2, figsize=(8, 10))\n",
    "axs = axs.flat\n",
    "\n",
    "# The number of trials and wins will represent the prior for each\n",
    "#  bandit with the help of the Beta distribution.\n",
    "trials = [0, 0, 0]  # Number of times we tried each bandit\n",
    "wins   = [0, 0, 0]  # Number of wins for each bandit\n",
    "\n",
    "n = 1000\n",
    "# Run the trail for `n` steps\n",
    "for step in range(1, n+1):\n",
    "    # Define the prior based on current observations\n",
    "    bandit_priors = [kumaraswamy(a=1+w,b=1+t-w) for t, w in zip(trials, wins)]\n",
    "\n",
    "    if step in plots: plot(bandit_priors, step, next(axs))\n",
    "        \n",
    "    # Sample a probability theta for each bandit\n",
    "    theta_samples = [d.rvs(size=1) for d in bandit_priors]\n",
    "    \n",
    "    # choose a bandit\n",
    "    chosen_bandit = np.argmax(theta_samples)\n",
    "    x = pull(chosen_bandit)\n",
    "    \n",
    "    # Update trials and wins (defines the posterior)\n",
    "    trials[chosen_bandit] += 1; wins  [chosen_bandit] += x\n",
    "\n",
    "plt.tight_layout()\n",
    "plt.show()\n",
    "\n",
    "# Print final outcome and number of test needed per bandit\n",
    "emperical_p_bandits = [(1+w) / (1+t) for t, w in zip(trials, wins)]\n",
    "for i in range(nb_bandits):\n",
    "    print((f'True prob={p_bandits[i]:.2f};  '\n",
    "           f'Emperical prob={emperical_p_bandits[i]:.2f};  '\n",
    "           f'Trials={trials[i]:d}; '\n",
    "           f'wins={wins[i]:d}; '\n",
    "          ))\n",
    "print('Total win: ',sum(wins))"
   ]
  },
  {
   "cell_type": "code",
   "execution_count": null,
   "metadata": {
    "ExecuteTime": {
     "start_time": "2019-01-09T21:03:49.245Z"
    },
    "code_folding": [
     0
    ]
   },
   "outputs": [],
   "source": [
    "# Setup plot\n",
    "fig, axs = plt.subplots(5, 2, figsize=(8, 10))\n",
    "axs = axs.flat\n",
    "\n",
    "# The number of trials and wins will represent the prior for each\n",
    "#  bandit with the help of the Beta distribution.\n",
    "trials = [0, 0, 0]  # Number of times we tried each bandit\n",
    "wins   = [0, 0, 0]  # Number of wins for each bandit\n",
    "\n",
    "n = 1000\n",
    "# Run the trail for `n` steps\n",
    "for step in range(1, n+1):\n",
    "    # Define the prior based on current observations\n",
    "    bandit_priors = [stats.uniform(w/(t+0.000000001),1-w/(t+0.000000001)) for t, w in zip(trials, wins)]\n",
    "\n",
    "    if step in plots: plot(bandit_priors, step, next(axs))\n",
    "        \n",
    "    # Sample a probability theta for each bandit\n",
    "    theta_samples = [d.rvs(size=1) for d in bandit_priors]\n",
    "    \n",
    "    # choose a bandit\n",
    "    chosen_bandit = np.argmax(theta_samples)\n",
    "    x = pull(chosen_bandit)\n",
    "    \n",
    "    # Update trials and wins (defines the posterior)\n",
    "    trials[chosen_bandit] += 1; wins  [chosen_bandit] += x\n",
    "\n",
    "plt.tight_layout()\n",
    "plt.show()\n",
    "\n",
    "# Print final outcome and number of test needed per bandit\n",
    "emperical_p_bandits = [(1+w) / (1+t) for t, w in zip(trials, wins)]\n",
    "for i in range(nb_bandits):\n",
    "    print((f'True prob={p_bandits[i]:.2f};  '\n",
    "           f'Emperical prob={emperical_p_bandits[i]:.2f};  '\n",
    "           f'Trials={trials[i]:d}; '\n",
    "           f'wins={wins[i]:d}; '\n",
    "          ))\n",
    "print('Total win: ',sum(wins))"
   ]
  },
  {
   "cell_type": "code",
   "execution_count": null,
   "metadata": {},
   "outputs": [],
   "source": []
  },
  {
   "cell_type": "code",
   "execution_count": null,
   "metadata": {},
   "outputs": [],
   "source": []
  },
  {
   "cell_type": "code",
   "execution_count": 22,
   "metadata": {
    "ExecuteTime": {
     "end_time": "2019-01-09T19:47:00.309333Z",
     "start_time": "2019-01-09T19:47:00.037526Z"
    }
   },
   "outputs": [
    {
     "name": "stdout",
     "output_type": "stream",
     "text": [
      "[ 0.20264065 -0.3246262  -1.66632893  2.26444456  1.16672842]\n"
     ]
    },
    {
     "data": {
      "image/png": "[encoded data removed]",
      "text/plain": [
       "<Figure size 432x288 with 1 Axes>"
      ]
     },
     "metadata": {
      "needs_background": "light"
     },
     "output_type": "display_data"
    }
   ],
   "source": [
    "from scipy.stats import norm\n",
    "gen = norm()\n",
    "print(gen.rvs(size=5))\n",
    "plt.hist(gen.rvs(size=500000),50)\n",
    "plt.show()"
   ]
  },
  {
   "cell_type": "markdown",
   "metadata": {},
   "source": [
    "# Reference \n",
    "1. Kite - AI-Powered Python Copilot. (2019). Kite.com. Retrieved 9 January 2019, from https://kite.com/python/docs/scipy.stats.distributions.rv_frozen.rvs\n",
    "2. Multi-armed bandit implementation. (2019). Peterroelants.github.io. Retrieved 9 January 2019, from https://peterroelants.github.io/posts/multi-armed-bandit-implementation/\n",
    "3. kumaraswamy. (2018). PyPI. Retrieved 9 January 2019, from https://pypi.org/project/kumaraswamy/\n"
   ]
  }
 ],
 "metadata": {
  "kernelspec": {
   "display_name": "Python 3",
   "language": "python",
   "name": "python3"
  },
  "language_info": {
   "codemirror_mode": {
    "name": "ipython",
    "version": 3
   },
   "file_extension": ".py",
   "mimetype": "text/x-python",
   "name": "python",
   "nbconvert_exporter": "python",
   "pygments_lexer": "ipython3",
   "version": "3.6.6"
  },
  "latex_envs": {
   "LaTeX_envs_menu_present": true,
   "autoclose": false,
   "autocomplete": true,
   "bibliofile": "biblio.bib",
   "cite_by": "apalike",
   "current_citInitial": 1,
   "eqLabelWithNumbers": true,
   "eqNumInitial": 1,
   "hotkeys": {
    "equation": "Ctrl-E",
    "itemize": "Ctrl-I"
   },
   "labels_anchors": false,
   "latex_user_defs": false,
   "report_style_numbering": false,
   "user_envs_cfg": false
  },
  "varInspector": {
   "cols": {
    "lenName": 16,
    "lenType": 16,
    "lenVar": 40
   },
   "kernels_config": {
    "python": {
     "delete_cmd_postfix": "",
     "delete_cmd_prefix": "del ",
     "library": "var_list.py",
     "varRefreshCmd": "print(var_dic_list())"
    },
    "r": {
     "delete_cmd_postfix": ") ",
     "delete_cmd_prefix": "rm(",
     "library": "var_list.r",
     "varRefreshCmd": "cat(var_dic_list()) "
    }
   },
   "types_to_exclude": [
    "module",
    "function",
    "builtin_function_or_method",
    "instance",
    "_Feature"
   ],
   "window_display": false
  }
 },
 "nbformat": 4,
 "nbformat_minor": 2
}
