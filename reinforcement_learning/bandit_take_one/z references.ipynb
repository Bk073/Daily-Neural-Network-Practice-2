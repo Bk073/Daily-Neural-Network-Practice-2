{
 "cells": [
  {
   "cell_type": "code",
   "execution_count": 75,
   "metadata": {
    "ExecuteTime": {
     "end_time": "2018-12-22T23:20:56.081730Z",
     "start_time": "2018-12-22T23:20:56.074749Z"
    }
   },
   "outputs": [],
   "source": [
    "import random, datetime, math\n",
    "\n",
    "random.seed(datetime.datetime.now())\n",
    "levers = [\"q1\", \"q2\", \"q3\", \"q4\", \"q5\", \"q6\", \"q7\", \"q8\", \"q9\", \"q10\"]\n",
    "reward_percent = [random.random() for i in range(10)]\n",
    "lever_count, reward_count, expected_return  = ([0, 0, 0, 0, 0, 0, 0, 0, 0, 0] for i in range(3))\n",
    "\n",
    "lever   = random.randint(0, 9)\n",
    "epsilon = 0.33\n",
    "optimal_decision = reward_percent.index(max(reward_percent))"
   ]
  },
  {
   "cell_type": "code",
   "execution_count": 76,
   "metadata": {
    "ExecuteTime": {
     "end_time": "2018-12-22T23:20:56.349015Z",
     "start_time": "2018-12-22T23:20:56.343032Z"
    }
   },
   "outputs": [
    {
     "name": "stdout",
     "output_type": "stream",
     "text": [
      "[0.5  0.71 0.71 0.73 0.81 0.76 0.2  0.35 0.9  0.14]\n",
      "2\n",
      "[0, 0, 0, 0, 0, 0, 0, 0, 0, 0]\n"
     ]
    }
   ],
   "source": [
    "# reward percent \n",
    "print(np.around(reward_percent,2))\n",
    "print(lever)\n",
    "print(expected_return)"
   ]
  },
  {
   "cell_type": "code",
   "execution_count": 108,
   "metadata": {
    "ExecuteTime": {
     "end_time": "2018-12-24T02:30:01.862937Z",
     "start_time": "2018-12-24T02:30:01.821052Z"
    }
   },
   "outputs": [
    {
     "name": "stdout",
     "output_type": "stream",
     "text": [
      "Optimal Decision: q9 with chance: 0.896005 chosen 34794 times. Average reward: 5.830352\n",
      "Optimal Decision: q9 with chance: 0.896005 chosen 34862 times. Average reward: 5.828783\n",
      "Optimal Decision: q9 with chance: 0.896005 chosen 34930 times. Average reward: 5.830499\n",
      "Optimal Decision: q9 with chance: 0.896005 chosen 34994 times. Average reward: 5.830890\n",
      "Optimal Decision: q9 with chance: 0.896005 chosen 35066 times. Average reward: 5.829686\n",
      "Optimal Decision: q9 with chance: 0.896005 chosen 35128 times. Average reward: 5.830572\n",
      "Optimal Decision: q9 with chance: 0.896005 chosen 35196 times. Average reward: 5.830788\n",
      "Optimal Decision: q9 with chance: 0.896005 chosen 35259 times. Average reward: 5.832190\n",
      "Optimal Decision: q9 with chance: 0.896005 chosen 35333 times. Average reward: 5.832331\n",
      "Optimal Decision: q9 with chance: 0.896005 chosen 35405 times. Average reward: 5.832612\n",
      "Optimal Decision: q9 with chance: 0.896005 chosen 35479 times. Average reward: 5.833003\n",
      "Optimal Decision: q9 with chance: 0.896005 chosen 35547 times. Average reward: 5.835172\n",
      "Optimal Decision: q9 with chance: 0.896005 chosen 35612 times. Average reward: 5.835550\n",
      "Optimal Decision: q9 with chance: 0.896005 chosen 35678 times. Average reward: 5.836281\n",
      "Optimal Decision: q9 with chance: 0.896005 chosen 35741 times. Average reward: 5.835466\n",
      "Optimal Decision: q9 with chance: 0.896005 chosen 35815 times. Average reward: 5.831914\n",
      "Optimal Decision: q9 with chance: 0.896005 chosen 35884 times. Average reward: 5.831517\n",
      "Optimal Decision: q9 with chance: 0.896005 chosen 35956 times. Average reward: 5.832395\n",
      "Optimal Decision: q9 with chance: 0.896005 chosen 36025 times. Average reward: 5.833066\n",
      "Optimal Decision: q9 with chance: 0.896005 chosen 36092 times. Average reward: 5.833151\n",
      "Optimal Decision: q9 with chance: 0.896005 chosen 36160 times. Average reward: 5.833453\n",
      "Optimal Decision: q9 with chance: 0.896005 chosen 36229 times. Average reward: 5.833260\n",
      "Optimal Decision: q9 with chance: 0.896005 chosen 36297 times. Average reward: 5.832955\n",
      "Optimal Decision: q9 with chance: 0.896005 chosen 36364 times. Average reward: 5.833141\n",
      "Optimal Decision: q9 with chance: 0.896005 chosen 36436 times. Average reward: 5.833575\n",
      "Optimal Decision: q9 with chance: 0.896005 chosen 36497 times. Average reward: 5.834246\n",
      "Optimal Decision: q9 with chance: 0.896005 chosen 36547 times. Average reward: 5.834055\n",
      "Optimal Decision: q9 with chance: 0.896005 chosen 36613 times. Average reward: 5.833293\n",
      "Optimal Decision: q9 with chance: 0.896005 chosen 36676 times. Average reward: 5.830452\n",
      "Optimal Decision: q9 with chance: 0.896005 chosen 36740 times. Average reward: 5.831110\n",
      "Optimal Decision: q9 with chance: 0.896005 chosen 36812 times. Average reward: 5.831397\n",
      "Optimal Decision: q9 with chance: 0.896005 chosen 36875 times. Average reward: 5.830487\n",
      "Optimal Decision: q9 with chance: 0.896005 chosen 36945 times. Average reward: 5.830517\n",
      "Optimal Decision: q9 with chance: 0.896005 chosen 37007 times. Average reward: 5.829555\n",
      "Optimal Decision: q9 with chance: 0.896005 chosen 37073 times. Average reward: 5.828188\n",
      "Optimal Decision: q9 with chance: 0.896005 chosen 37138 times. Average reward: 5.826993\n",
      "Optimal Decision: q9 with chance: 0.896005 chosen 37204 times. Average reward: 5.824936\n",
      "Optimal Decision: q9 with chance: 0.896005 chosen 37267 times. Average reward: 5.825033\n",
      "Optimal Decision: q9 with chance: 0.896005 chosen 37336 times. Average reward: 5.825549\n",
      "Optimal Decision: q9 with chance: 0.896005 chosen 37401 times. Average reward: 5.826251\n",
      "Optimal Decision: q9 with chance: 0.896005 chosen 37470 times. Average reward: 5.826902\n",
      "Optimal Decision: q9 with chance: 0.896005 chosen 37544 times. Average reward: 5.826309\n",
      "Optimal Decision: q9 with chance: 0.896005 chosen 37608 times. Average reward: 5.825389\n",
      "Optimal Decision: q9 with chance: 0.896005 chosen 37675 times. Average reward: 5.825656\n",
      "Optimal Decision: q9 with chance: 0.896005 chosen 37738 times. Average reward: 5.827064\n",
      "Optimal Decision: q9 with chance: 0.896005 chosen 37809 times. Average reward: 5.827202\n",
      "Optimal Decision: q9 with chance: 0.896005 chosen 37877 times. Average reward: 5.827033\n",
      "Optimal Decision: q9 with chance: 0.896005 chosen 37941 times. Average reward: 5.828243\n",
      "Optimal Decision: q9 with chance: 0.896005 chosen 38006 times. Average reward: 5.828379\n",
      "Optimal Decision: q9 with chance: 0.896005 chosen 38068 times. Average reward: 5.829002\n",
      "Optimal Decision: q9 with chance: 0.896005 chosen 38137 times. Average reward: 5.829094\n",
      "Optimal Decision: q9 with chance: 0.896005 chosen 38208 times. Average reward: 5.829879\n",
      "Optimal Decision: q9 with chance: 0.896005 chosen 38270 times. Average reward: 5.829985\n",
      "Optimal Decision: q9 with chance: 0.896005 chosen 38339 times. Average reward: 5.829035\n",
      "Optimal Decision: q9 with chance: 0.896005 chosen 38399 times. Average reward: 5.827815\n",
      "Optimal Decision: q9 with chance: 0.896005 chosen 38466 times. Average reward: 5.824804\n",
      "Optimal Decision: q9 with chance: 0.896005 chosen 38536 times. Average reward: 5.825039\n",
      "Optimal Decision: q9 with chance: 0.896005 chosen 38603 times. Average reward: 5.824742\n",
      "Optimal Decision: q9 with chance: 0.896005 chosen 38669 times. Average reward: 5.824185\n",
      "Optimal Decision: q9 with chance: 0.896005 chosen 38738 times. Average reward: 5.823382\n",
      "Optimal Decision: q9 with chance: 0.896005 chosen 38809 times. Average reward: 5.822060\n",
      "Optimal Decision: q9 with chance: 0.896005 chosen 38881 times. Average reward: 5.820120\n",
      "Optimal Decision: q9 with chance: 0.896005 chosen 38946 times. Average reward: 5.818893\n",
      "Optimal Decision: q9 with chance: 0.896005 chosen 39013 times. Average reward: 5.819549\n",
      "Optimal Decision: q9 with chance: 0.896005 chosen 39083 times. Average reward: 5.819629\n",
      "Optimal Decision: q9 with chance: 0.896005 chosen 39158 times. Average reward: 5.819385\n",
      "Optimal Decision: q9 with chance: 0.896005 chosen 39221 times. Average reward: 5.821006\n",
      "Optimal Decision: q9 with chance: 0.896005 chosen 39289 times. Average reward: 5.819012\n",
      "Optimal Decision: q9 with chance: 0.896005 chosen 39353 times. Average reward: 5.819824\n",
      "Optimal Decision: q9 with chance: 0.896005 chosen 39423 times. Average reward: 5.819776\n",
      "Optimal Decision: q9 with chance: 0.896005 chosen 39494 times. Average reward: 5.821820\n",
      "Optimal Decision: q9 with chance: 0.896005 chosen 39563 times. Average reward: 5.820995\n",
      "Optimal Decision: q9 with chance: 0.896005 chosen 39632 times. Average reward: 5.821168\n",
      "Optimal Decision: q9 with chance: 0.896005 chosen 39704 times. Average reward: 5.820977\n",
      "Optimal Decision: q9 with chance: 0.896005 chosen 39775 times. Average reward: 5.821960\n",
      "Optimal Decision: q9 with chance: 0.896005 chosen 39840 times. Average reward: 5.822597\n",
      "Optimal Decision: q9 with chance: 0.896005 chosen 39911 times. Average reward: 5.822603\n",
      "Optimal Decision: q9 with chance: 0.896005 chosen 39979 times. Average reward: 5.822651\n",
      "Optimal Decision: q9 with chance: 0.896005 chosen 40046 times. Average reward: 5.821174\n",
      "Optimal Decision: q9 with chance: 0.896005 chosen 40114 times. Average reward: 5.820730\n",
      "Optimal Decision: q9 with chance: 0.896005 chosen 40181 times. Average reward: 5.821193\n",
      "Optimal Decision: q9 with chance: 0.896005 chosen 40252 times. Average reward: 5.820006\n",
      "Optimal Decision: q9 with chance: 0.896005 chosen 40311 times. Average reward: 5.821723\n",
      "Optimal Decision: q9 with chance: 0.896005 chosen 40378 times. Average reward: 5.821384\n",
      "Optimal Decision: q9 with chance: 0.896005 chosen 40445 times. Average reward: 5.822053\n",
      "Optimal Decision: q9 with chance: 0.896005 chosen 40501 times. Average reward: 5.821673\n",
      "Optimal Decision: q9 with chance: 0.896005 chosen 40568 times. Average reward: 5.823092\n",
      "Optimal Decision: q9 with chance: 0.896005 chosen 40637 times. Average reward: 5.822591\n",
      "Optimal Decision: q9 with chance: 0.896005 chosen 40704 times. Average reward: 5.821357\n",
      "Optimal Decision: q9 with chance: 0.896005 chosen 40778 times. Average reward: 5.820742\n",
      "Optimal Decision: q9 with chance: 0.896005 chosen 40845 times. Average reward: 5.821709\n",
      "Optimal Decision: q9 with chance: 0.896005 chosen 40910 times. Average reward: 5.822584\n",
      "Optimal Decision: q9 with chance: 0.896005 chosen 40983 times. Average reward: 5.822395\n",
      "Optimal Decision: q9 with chance: 0.896005 chosen 41053 times. Average reward: 5.822215\n",
      "Optimal Decision: q9 with chance: 0.896005 chosen 41122 times. Average reward: 5.820477\n",
      "Optimal Decision: q9 with chance: 0.896005 chosen 41188 times. Average reward: 5.819616\n",
      "Optimal Decision: q9 with chance: 0.896005 chosen 41251 times. Average reward: 5.817340\n",
      "Optimal Decision: q9 with chance: 0.896005 chosen 41324 times. Average reward: 5.817592\n",
      "Optimal Decision: q9 with chance: 0.896005 chosen 41381 times. Average reward: 5.816958\n",
      "Optimal Decision: q9 with chance: 0.896005 chosen 41453 times. Average reward: 5.817616\n",
      "Epsilon:  0.33\n",
      "Times lever was pulled:    [2207, 2221, 2346, 2324, 2261, 2320, 2234, 2326, 41454, 2307]\n",
      "Expected return value :    [0.493 0.701 0.72  0.723 0.807 0.765 0.202 0.375 0.893 0.137]\n",
      "Ground Truth Reward Prob:  [0.501 0.706 0.706 0.732 0.811 0.756 0.201 0.35  0.896 0.137]\n"
     ]
    }
   ],
   "source": [
    "for i in range(1, 10001):\n",
    "    \n",
    "    #epislon case - explore if the random value is less than epsilon's value we choose a random lever\n",
    "    if random.random() < epsilon:\n",
    "        vals = list(range(0, 10))\n",
    "        vals.remove(expected_return.index(max(expected_return)))\n",
    "        lever = random.choice(vals)\n",
    "\n",
    "    #else, pick the value that has historically given the highest reward\n",
    "    else: lever = expected_return.index(max(expected_return))\n",
    "\n",
    "    #every 100 iterations, print out the optimal lever, its chance and times. also print out the average reward\n",
    "    if i % 100 == 0: print(\"Optimal Decision: %s with chance: %f chosen %d times. Average reward: %f\" % (levers[optimal_decision], reward_percent[optimal_decision], lever_count[optimal_decision], sum(expected_return)))\n",
    "\n",
    "    #pray to RNGesus that we get a reward from our current lever\n",
    "    if random.random() < reward_percent[lever]:\n",
    "        reward_count[lever]+=1\n",
    "        instant_reward = 1\n",
    "    else:\n",
    "        instant_reward = 0\n",
    "\n",
    "    #update how many times the current lever was pulled\n",
    "    lever_count[lever] = lever_count[lever] + 1\n",
    "\n",
    "    #newestimate function\n",
    "    expected_return[lever] = expected_return[lever] + (1/lever_count[lever]) * (instant_reward - expected_return[lever])\n",
    "\n",
    "print(\"Epsilon: \", epsilon)\n",
    "print(\"Times lever was pulled:   \", lever_count)\n",
    "print(\"Expected return value :   \", np.around(expected_return,3))\n",
    "print(\"Ground Truth Reward Prob: \", np.around(reward_percent, 3))"
   ]
  },
  {
   "cell_type": "code",
   "execution_count": null,
   "metadata": {},
   "outputs": [],
   "source": []
  },
  {
   "cell_type": "code",
   "execution_count": null,
   "metadata": {},
   "outputs": [],
   "source": []
  },
  {
   "cell_type": "code",
   "execution_count": null,
   "metadata": {},
   "outputs": [],
   "source": []
  },
  {
   "cell_type": "code",
   "execution_count": null,
   "metadata": {},
   "outputs": [],
   "source": []
  }
 ],
 "metadata": {
  "kernelspec": {
   "display_name": "Python 3",
   "language": "python",
   "name": "python3"
  },
  "language_info": {
   "codemirror_mode": {
    "name": "ipython",
    "version": 3
   },
   "file_extension": ".py",
   "mimetype": "text/x-python",
   "name": "python",
   "nbconvert_exporter": "python",
   "pygments_lexer": "ipython3",
   "version": "3.6.6"
  },
  "latex_envs": {
   "LaTeX_envs_menu_present": true,
   "autoclose": false,
   "autocomplete": true,
   "bibliofile": "biblio.bib",
   "cite_by": "apalike",
   "current_citInitial": 1,
   "eqLabelWithNumbers": true,
   "eqNumInitial": 1,
   "hotkeys": {
    "equation": "Ctrl-E",
    "itemize": "Ctrl-I"
   },
   "labels_anchors": false,
   "latex_user_defs": false,
   "report_style_numbering": false,
   "user_envs_cfg": false
  },
  "varInspector": {
   "cols": {
    "lenName": 16,
    "lenType": 16,
    "lenVar": 40
   },
   "kernels_config": {
    "python": {
     "delete_cmd_postfix": "",
     "delete_cmd_prefix": "del ",
     "library": "var_list.py",
     "varRefreshCmd": "print(var_dic_list())"
    },
    "r": {
     "delete_cmd_postfix": ") ",
     "delete_cmd_prefix": "rm(",
     "library": "var_list.r",
     "varRefreshCmd": "cat(var_dic_list()) "
    }
   },
   "types_to_exclude": [
    "module",
    "function",
    "builtin_function_or_method",
    "instance",
    "_Feature"
   ],
   "window_display": false
  }
 },
 "nbformat": 4,
 "nbformat_minor": 2
}
