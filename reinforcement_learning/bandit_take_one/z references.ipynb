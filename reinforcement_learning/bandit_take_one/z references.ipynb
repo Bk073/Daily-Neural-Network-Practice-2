{
 "cells": [
  {
   "cell_type": "code",
   "execution_count": 75,
   "metadata": {
    "ExecuteTime": {
     "end_time": "2018-12-22T23:20:56.081730Z",
     "start_time": "2018-12-22T23:20:56.074749Z"
    }
   },
   "outputs": [],
   "source": [
    "import random, datetime, math\n",
    "\n",
    "random.seed(datetime.datetime.now())\n",
    "levers = [\"q1\", \"q2\", \"q3\", \"q4\", \"q5\", \"q6\", \"q7\", \"q8\", \"q9\", \"q10\"]\n",
    "reward_percent = [random.random() for i in range(10)]\n",
    "lever_count, reward_count, expected_return  = ([0, 0, 0, 0, 0, 0, 0, 0, 0, 0] for i in range(3))\n",
    "\n",
    "lever   = random.randint(0, 9)\n",
    "epsilon = 0.33\n",
    "optimal_decision = reward_percent.index(max(reward_percent))"
   ]
  },
  {
   "cell_type": "code",
   "execution_count": 76,
   "metadata": {
    "ExecuteTime": {
     "end_time": "2018-12-22T23:20:56.349015Z",
     "start_time": "2018-12-22T23:20:56.343032Z"
    }
   },
   "outputs": [
    {
     "name": "stdout",
     "output_type": "stream",
     "text": [
      "[0.5  0.71 0.71 0.73 0.81 0.76 0.2  0.35 0.9  0.14]\n",
      "2\n",
      "[0, 0, 0, 0, 0, 0, 0, 0, 0, 0]\n"
     ]
    }
   ],
   "source": [
    "# reward percent \n",
    "print(np.around(reward_percent,2))\n",
    "print(lever)\n",
    "print(expected_return)"
   ]
  },
  {
   "cell_type": "code",
   "execution_count": 106,
   "metadata": {
    "ExecuteTime": {
     "end_time": "2018-12-23T13:31:49.710772Z",
     "start_time": "2018-12-23T13:31:49.666468Z"
    }
   },
   "outputs": [
    {
     "name": "stdout",
     "output_type": "stream",
     "text": [
      "Optimal Decision: q9 with chance: 0.896005 chosen 21420 times. Average reward: 5.813200\n",
      "Optimal Decision: q9 with chance: 0.896005 chosen 21488 times. Average reward: 5.817091\n",
      "Optimal Decision: q9 with chance: 0.896005 chosen 21564 times. Average reward: 5.820019\n",
      "Optimal Decision: q9 with chance: 0.896005 chosen 21630 times. Average reward: 5.817821\n",
      "Optimal Decision: q9 with chance: 0.896005 chosen 21697 times. Average reward: 5.820837\n",
      "Optimal Decision: q9 with chance: 0.896005 chosen 21768 times. Average reward: 5.819967\n",
      "Optimal Decision: q9 with chance: 0.896005 chosen 21838 times. Average reward: 5.820212\n",
      "Optimal Decision: q9 with chance: 0.896005 chosen 21908 times. Average reward: 5.817353\n",
      "Optimal Decision: q9 with chance: 0.896005 chosen 21975 times. Average reward: 5.813656\n",
      "Optimal Decision: q9 with chance: 0.896005 chosen 22039 times. Average reward: 5.814613\n",
      "Optimal Decision: q9 with chance: 0.896005 chosen 22102 times. Average reward: 5.815346\n",
      "Optimal Decision: q9 with chance: 0.896005 chosen 22164 times. Average reward: 5.818926\n",
      "Optimal Decision: q9 with chance: 0.896005 chosen 22230 times. Average reward: 5.816398\n",
      "Optimal Decision: q9 with chance: 0.896005 chosen 22295 times. Average reward: 5.817608\n",
      "Optimal Decision: q9 with chance: 0.896005 chosen 22357 times. Average reward: 5.818588\n",
      "Optimal Decision: q9 with chance: 0.896005 chosen 22422 times. Average reward: 5.814524\n",
      "Optimal Decision: q9 with chance: 0.896005 chosen 22493 times. Average reward: 5.815032\n",
      "Optimal Decision: q9 with chance: 0.896005 chosen 22561 times. Average reward: 5.812893\n",
      "Optimal Decision: q9 with chance: 0.896005 chosen 22620 times. Average reward: 5.814932\n",
      "Optimal Decision: q9 with chance: 0.896005 chosen 22683 times. Average reward: 5.812054\n",
      "Optimal Decision: q9 with chance: 0.896005 chosen 22754 times. Average reward: 5.812800\n",
      "Optimal Decision: q9 with chance: 0.896005 chosen 22817 times. Average reward: 5.808774\n",
      "Optimal Decision: q9 with chance: 0.896005 chosen 22892 times. Average reward: 5.808579\n",
      "Optimal Decision: q9 with chance: 0.896005 chosen 22959 times. Average reward: 5.808846\n",
      "Optimal Decision: q9 with chance: 0.896005 chosen 23022 times. Average reward: 5.811720\n",
      "Optimal Decision: q9 with chance: 0.896005 chosen 23088 times. Average reward: 5.810819\n",
      "Optimal Decision: q9 with chance: 0.896005 chosen 23159 times. Average reward: 5.809472\n",
      "Optimal Decision: q9 with chance: 0.896005 chosen 23228 times. Average reward: 5.812030\n",
      "Optimal Decision: q9 with chance: 0.896005 chosen 23295 times. Average reward: 5.812419\n",
      "Optimal Decision: q9 with chance: 0.896005 chosen 23358 times. Average reward: 5.814253\n",
      "Optimal Decision: q9 with chance: 0.896005 chosen 23433 times. Average reward: 5.813668\n",
      "Optimal Decision: q9 with chance: 0.896005 chosen 23511 times. Average reward: 5.814606\n",
      "Optimal Decision: q9 with chance: 0.896005 chosen 23578 times. Average reward: 5.814983\n",
      "Optimal Decision: q9 with chance: 0.896005 chosen 23650 times. Average reward: 5.813035\n",
      "Optimal Decision: q9 with chance: 0.896005 chosen 23714 times. Average reward: 5.812313\n",
      "Optimal Decision: q9 with chance: 0.896005 chosen 23787 times. Average reward: 5.811221\n",
      "Optimal Decision: q9 with chance: 0.896005 chosen 23853 times. Average reward: 5.812766\n",
      "Optimal Decision: q9 with chance: 0.896005 chosen 23918 times. Average reward: 5.812135\n",
      "Optimal Decision: q9 with chance: 0.896005 chosen 23990 times. Average reward: 5.810967\n",
      "Optimal Decision: q9 with chance: 0.896005 chosen 24066 times. Average reward: 5.810615\n",
      "Optimal Decision: q9 with chance: 0.896005 chosen 24133 times. Average reward: 5.811595\n",
      "Optimal Decision: q9 with chance: 0.896005 chosen 24196 times. Average reward: 5.813049\n",
      "Optimal Decision: q9 with chance: 0.896005 chosen 24264 times. Average reward: 5.811074\n",
      "Optimal Decision: q9 with chance: 0.896005 chosen 24331 times. Average reward: 5.813978\n",
      "Optimal Decision: q9 with chance: 0.896005 chosen 24393 times. Average reward: 5.813462\n",
      "Optimal Decision: q9 with chance: 0.896005 chosen 24465 times. Average reward: 5.811495\n",
      "Optimal Decision: q9 with chance: 0.896005 chosen 24526 times. Average reward: 5.812315\n",
      "Optimal Decision: q9 with chance: 0.896005 chosen 24586 times. Average reward: 5.816056\n",
      "Optimal Decision: q9 with chance: 0.896005 chosen 24652 times. Average reward: 5.815515\n",
      "Optimal Decision: q9 with chance: 0.896005 chosen 24723 times. Average reward: 5.814647\n",
      "Optimal Decision: q9 with chance: 0.896005 chosen 24792 times. Average reward: 5.813523\n",
      "Optimal Decision: q9 with chance: 0.896005 chosen 24858 times. Average reward: 5.815913\n",
      "Optimal Decision: q9 with chance: 0.896005 chosen 24927 times. Average reward: 5.817426\n",
      "Optimal Decision: q9 with chance: 0.896005 chosen 24994 times. Average reward: 5.817614\n",
      "Optimal Decision: q9 with chance: 0.896005 chosen 25059 times. Average reward: 5.815306\n",
      "Optimal Decision: q9 with chance: 0.896005 chosen 25131 times. Average reward: 5.816003\n",
      "Optimal Decision: q9 with chance: 0.896005 chosen 25201 times. Average reward: 5.813928\n",
      "Optimal Decision: q9 with chance: 0.896005 chosen 25270 times. Average reward: 5.816275\n",
      "Optimal Decision: q9 with chance: 0.896005 chosen 25329 times. Average reward: 5.815446\n",
      "Optimal Decision: q9 with chance: 0.896005 chosen 25402 times. Average reward: 5.817365\n",
      "Optimal Decision: q9 with chance: 0.896005 chosen 25470 times. Average reward: 5.818173\n",
      "Optimal Decision: q9 with chance: 0.896005 chosen 25540 times. Average reward: 5.817920\n",
      "Optimal Decision: q9 with chance: 0.896005 chosen 25616 times. Average reward: 5.816324\n",
      "Optimal Decision: q9 with chance: 0.896005 chosen 25673 times. Average reward: 5.814189\n",
      "Optimal Decision: q9 with chance: 0.896005 chosen 25737 times. Average reward: 5.812888\n",
      "Optimal Decision: q9 with chance: 0.896005 chosen 25803 times. Average reward: 5.812151\n",
      "Optimal Decision: q9 with chance: 0.896005 chosen 25874 times. Average reward: 5.811771\n",
      "Optimal Decision: q9 with chance: 0.896005 chosen 25944 times. Average reward: 5.813032\n",
      "Optimal Decision: q9 with chance: 0.896005 chosen 26014 times. Average reward: 5.813791\n",
      "Optimal Decision: q9 with chance: 0.896005 chosen 26077 times. Average reward: 5.812683\n",
      "Optimal Decision: q9 with chance: 0.896005 chosen 26142 times. Average reward: 5.812890\n",
      "Optimal Decision: q9 with chance: 0.896005 chosen 26205 times. Average reward: 5.815800\n",
      "Optimal Decision: q9 with chance: 0.896005 chosen 26278 times. Average reward: 5.816775\n",
      "Optimal Decision: q9 with chance: 0.896005 chosen 26341 times. Average reward: 5.815764\n",
      "Optimal Decision: q9 with chance: 0.896005 chosen 26405 times. Average reward: 5.815157\n",
      "Optimal Decision: q9 with chance: 0.896005 chosen 26475 times. Average reward: 5.815723\n",
      "Optimal Decision: q9 with chance: 0.896005 chosen 26540 times. Average reward: 5.815371\n",
      "Optimal Decision: q9 with chance: 0.896005 chosen 26603 times. Average reward: 5.813671\n",
      "Optimal Decision: q9 with chance: 0.896005 chosen 26671 times. Average reward: 5.814062\n",
      "Optimal Decision: q9 with chance: 0.896005 chosen 26733 times. Average reward: 5.818774\n",
      "Optimal Decision: q9 with chance: 0.896005 chosen 26801 times. Average reward: 5.817551\n",
      "Optimal Decision: q9 with chance: 0.896005 chosen 26866 times. Average reward: 5.814981\n",
      "Optimal Decision: q9 with chance: 0.896005 chosen 26932 times. Average reward: 5.813277\n",
      "Optimal Decision: q9 with chance: 0.896005 chosen 26997 times. Average reward: 5.811726\n",
      "Optimal Decision: q9 with chance: 0.896005 chosen 27072 times. Average reward: 5.810461\n",
      "Optimal Decision: q9 with chance: 0.896005 chosen 27146 times. Average reward: 5.811458\n",
      "Optimal Decision: q9 with chance: 0.896005 chosen 27217 times. Average reward: 5.811331\n",
      "Optimal Decision: q9 with chance: 0.896005 chosen 27288 times. Average reward: 5.811950\n",
      "Optimal Decision: q9 with chance: 0.896005 chosen 27359 times. Average reward: 5.810136\n",
      "Optimal Decision: q9 with chance: 0.896005 chosen 27420 times. Average reward: 5.809444\n",
      "Optimal Decision: q9 with chance: 0.896005 chosen 27490 times. Average reward: 5.810017\n",
      "Optimal Decision: q9 with chance: 0.896005 chosen 27558 times. Average reward: 5.810914\n",
      "Optimal Decision: q9 with chance: 0.896005 chosen 27628 times. Average reward: 5.809584\n",
      "Optimal Decision: q9 with chance: 0.896005 chosen 27701 times. Average reward: 5.809877\n",
      "Optimal Decision: q9 with chance: 0.896005 chosen 27764 times. Average reward: 5.812141\n",
      "Optimal Decision: q9 with chance: 0.896005 chosen 27828 times. Average reward: 5.813203\n",
      "Optimal Decision: q9 with chance: 0.896005 chosen 27891 times. Average reward: 5.812277\n",
      "Optimal Decision: q9 with chance: 0.896005 chosen 27956 times. Average reward: 5.811777\n",
      "Optimal Decision: q9 with chance: 0.896005 chosen 28023 times. Average reward: 5.811799\n",
      "Optimal Decision: q9 with chance: 0.896005 chosen 28084 times. Average reward: 5.814328\n",
      "Epsilon:  0.33\n",
      "Times lever was pulled:    [1511, 1507, 1633, 1573, 1489, 1560, 1510, 1557, 28084, 1576]\n",
      "Expected return value :    [0.503 0.703 0.717 0.723 0.811 0.753 0.197 0.375 0.892 0.138]\n",
      "Ground Truth Reward Prob:  [0.501 0.706 0.706 0.732 0.811 0.756 0.201 0.35  0.896 0.137]\n"
     ]
    }
   ],
   "source": [
    "for i in range(1, 10001):\n",
    "    \n",
    "    #epislon case - explore if the random value is less than epsilon's value we choose a random lever\n",
    "    if random.random() < epsilon:\n",
    "        vals = list(range(0, 10))\n",
    "        vals.remove(expected_return.index(max(expected_return)))\n",
    "        lever = random.choice(vals)\n",
    "\n",
    "    #else, pick the value that has historically given the highest reward\n",
    "    else: lever = expected_return.index(max(expected_return))\n",
    "\n",
    "    #every 100 iterations, print out the optimal lever, its chance and times. also print out the average reward\n",
    "    if i % 100 == 0: print(\"Optimal Decision: %s with chance: %f chosen %d times. Average reward: %f\" % (levers[optimal_decision], reward_percent[optimal_decision], lever_count[optimal_decision], sum(expected_return)))\n",
    "\n",
    "    #pray to RNGesus that we get a reward from our current lever\n",
    "    if random.random() < reward_percent[lever]:\n",
    "        reward_count[lever]+=1\n",
    "        instant_reward = 1\n",
    "    else:\n",
    "        instant_reward = 0\n",
    "\n",
    "    #update how many times the current lever was pulled\n",
    "    lever_count[lever] = lever_count[lever] + 1\n",
    "\n",
    "    #newestimate function\n",
    "    expected_return[lever] = expected_return[lever] + (1/lever_count[lever]) * (instant_reward - expected_return[lever])\n",
    "\n",
    "print(\"Epsilon: \", epsilon)\n",
    "print(\"Times lever was pulled:   \", lever_count)\n",
    "print(\"Expected return value :   \", np.around(expected_return,3))\n",
    "print(\"Ground Truth Reward Prob: \", np.around(reward_percent, 3))"
   ]
  },
  {
   "cell_type": "code",
   "execution_count": null,
   "metadata": {},
   "outputs": [],
   "source": []
  },
  {
   "cell_type": "code",
   "execution_count": null,
   "metadata": {},
   "outputs": [],
   "source": []
  },
  {
   "cell_type": "code",
   "execution_count": null,
   "metadata": {},
   "outputs": [],
   "source": []
  },
  {
   "cell_type": "code",
   "execution_count": null,
   "metadata": {},
   "outputs": [],
   "source": []
  }
 ],
 "metadata": {
  "kernelspec": {
   "display_name": "Python 3",
   "language": "python",
   "name": "python3"
  },
  "language_info": {
   "codemirror_mode": {
    "name": "ipython",
    "version": 3
   },
   "file_extension": ".py",
   "mimetype": "text/x-python",
   "name": "python",
   "nbconvert_exporter": "python",
   "pygments_lexer": "ipython3",
   "version": "3.6.6"
  },
  "latex_envs": {
   "LaTeX_envs_menu_present": true,
   "autoclose": false,
   "autocomplete": true,
   "bibliofile": "biblio.bib",
   "cite_by": "apalike",
   "current_citInitial": 1,
   "eqLabelWithNumbers": true,
   "eqNumInitial": 1,
   "hotkeys": {
    "equation": "Ctrl-E",
    "itemize": "Ctrl-I"
   },
   "labels_anchors": false,
   "latex_user_defs": false,
   "report_style_numbering": false,
   "user_envs_cfg": false
  },
  "varInspector": {
   "cols": {
    "lenName": 16,
    "lenType": 16,
    "lenVar": 40
   },
   "kernels_config": {
    "python": {
     "delete_cmd_postfix": "",
     "delete_cmd_prefix": "del ",
     "library": "var_list.py",
     "varRefreshCmd": "print(var_dic_list())"
    },
    "r": {
     "delete_cmd_postfix": ") ",
     "delete_cmd_prefix": "rm(",
     "library": "var_list.r",
     "varRefreshCmd": "cat(var_dic_list()) "
    }
   },
   "types_to_exclude": [
    "module",
    "function",
    "builtin_function_or_method",
    "instance",
    "_Feature"
   ],
   "window_display": false
  }
 },
 "nbformat": 4,
 "nbformat_minor": 2
}
