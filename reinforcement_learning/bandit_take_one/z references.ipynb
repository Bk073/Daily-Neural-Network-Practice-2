{
 "cells": [
  {
   "cell_type": "code",
   "execution_count": 13,
   "metadata": {
    "ExecuteTime": {
     "end_time": "2018-12-22T23:01:36.638722Z",
     "start_time": "2018-12-22T23:01:36.631740Z"
    }
   },
   "outputs": [],
   "source": [
    "import random, datetime, math\n",
    "\n",
    "random.seed(datetime.datetime.now())\n",
    "levers = [\"q1\", \"q2\", \"q3\", \"q4\", \"q5\", \"q6\", \"q7\", \"q8\", \"q9\", \"q10\"]\n",
    "reward_percent = [random.random() for i in range(10)]\n",
    "lever_count, reward_count, expected_return  = ([0, 0, 0, 0, 0, 0, 0, 0, 0, 0] for i in range(3))\n",
    "\n",
    "lever   = random.randint(0, 9)\n",
    "epsilon = 0.33\n",
    "optimal_decision = reward_percent.index(max(reward_percent))"
   ]
  },
  {
   "cell_type": "code",
   "execution_count": 14,
   "metadata": {
    "ExecuteTime": {
     "end_time": "2018-12-22T23:01:36.996921Z",
     "start_time": "2018-12-22T23:01:36.989938Z"
    }
   },
   "outputs": [
    {
     "name": "stdout",
     "output_type": "stream",
     "text": [
      "[0.45 0.78 0.63 0.3  0.98 0.46 0.93 0.38 0.09 0.28]\n",
      "3\n",
      "[0, 0, 0, 0, 0, 0, 0, 0, 0, 0]\n"
     ]
    }
   ],
   "source": [
    "# reward percent \n",
    "print(np.around(reward_percent,2))\n",
    "print(lever)\n",
    "print(expected_return)"
   ]
  },
  {
   "cell_type": "code",
   "execution_count": 65,
   "metadata": {
    "ExecuteTime": {
     "end_time": "2018-12-22T23:02:12.974051Z",
     "start_time": "2018-12-22T23:02:12.960090Z"
    }
   },
   "outputs": [
    {
     "name": "stdout",
     "output_type": "stream",
     "text": [
      "Optimal Decision: q5 with chance: 0.977489 chosen 32238 times. Average reward: 6.066833\n",
      "Optimal Decision: q5 with chance: 0.977489 chosen 32302 times. Average reward: 6.067024\n",
      "Optimal Decision: q5 with chance: 0.977489 chosen 32368 times. Average reward: 6.066097\n",
      "Optimal Decision: q5 with chance: 0.977489 chosen 32440 times. Average reward: 6.064795\n",
      "Optimal Decision: q5 with chance: 0.977489 chosen 32503 times. Average reward: 6.063517\n",
      "Optimal Decision: q5 with chance: 0.977489 chosen 32572 times. Average reward: 6.058463\n",
      "Optimal Decision: q5 with chance: 0.977489 chosen 32644 times. Average reward: 6.056386\n",
      "Optimal Decision: q5 with chance: 0.977489 chosen 32713 times. Average reward: 6.055338\n",
      "Optimal Decision: q5 with chance: 0.977489 chosen 32777 times. Average reward: 6.053620\n",
      "Optimal Decision: q5 with chance: 0.977489 chosen 32843 times. Average reward: 6.051723\n",
      "Epsilon:  0.33\n",
      "Times lever was pulled:    [1799, 1830, 1747, 1764, 32843, 1859, 1782, 1797, 1802, 1777]\n",
      "Expected return value :    [0.56 0.85 0.7  0.39 1.   0.55 1.   0.46 0.18 0.38]\n",
      "Ground Truth Reward Prob:  [0.455 0.781 0.629 0.296 0.977 0.458 0.93  0.385 0.093 0.283]\n"
     ]
    }
   ],
   "source": [
    "for i in range(1, 1001):\n",
    "    \n",
    "    #epislon case - explore if the random value is less than epsilon's value we choose a random lever\n",
    "    if random.random() < epsilon:\n",
    "        vals = list(range(0, 10))\n",
    "        vals.remove(expected_return.index(max(expected_return)))\n",
    "        lever = random.choice(vals)\n",
    "\n",
    "    # if we havent received a reward yet and our epsilon case did not occur, \n",
    "    # just stick with the same lever (if we just use the case below, max() \n",
    "    # will return 0 on our first iteration)\n",
    "    elif max(reward_count) == 0: lever = lever\n",
    "\n",
    "    #else, pick the value that has historically given the highest reward\n",
    "    else: lever = expected_return.index(max(expected_return))\n",
    "\n",
    "    #every 100 iterations, print out the optimal lever, its chance and times. also print out the average reward\n",
    "    if i % 100 == 0: print(\"Optimal Decision: %s with chance: %f chosen %d times. Average reward: %f\" % (levers[optimal_decision], reward_percent[optimal_decision], lever_count[optimal_decision], sum(expected_return)))\n",
    "\n",
    "    #pray to RNGesus that we get a reward from our current lever\n",
    "    if random.random() < reward_percent[lever]:\n",
    "        reward_count[lever]+=1\n",
    "        instant_reward = 1\n",
    "    else:\n",
    "        instant_reward = 0\n",
    "\n",
    "    #update how many times the current lever was pulled\n",
    "    lever_count[lever] = lever_count[lever] + 1\n",
    "\n",
    "    #newestimate function\n",
    "    expected_return[lever] = expected_return[lever] + (1/lever_count[lever]) * (instant_reward - expected_return[lever])\n",
    "\n",
    "#rounding at the end for prettier printing\n",
    "#reward_percent  = [int((math.ceil(num*100)/100)*100) for num in reward_percent]\n",
    "expected_return = [math.ceil(num*100)/100 for num in expected_return]\n",
    "\n",
    "print(\"Epsilon: \", epsilon)\n",
    "print(\"Times lever was pulled:   \", lever_count)\n",
    "print(\"Expected return value :   \", np.around(expected_return,3))\n",
    "print(\"Ground Truth Reward Prob: \", np.around(reward_percent, 3))"
   ]
  },
  {
   "cell_type": "code",
   "execution_count": null,
   "metadata": {},
   "outputs": [],
   "source": []
  },
  {
   "cell_type": "code",
   "execution_count": null,
   "metadata": {},
   "outputs": [],
   "source": []
  },
  {
   "cell_type": "code",
   "execution_count": null,
   "metadata": {},
   "outputs": [],
   "source": []
  },
  {
   "cell_type": "code",
   "execution_count": null,
   "metadata": {},
   "outputs": [],
   "source": []
  }
 ],
 "metadata": {
  "kernelspec": {
   "display_name": "Python 3",
   "language": "python",
   "name": "python3"
  },
  "language_info": {
   "codemirror_mode": {
    "name": "ipython",
    "version": 3
   },
   "file_extension": ".py",
   "mimetype": "text/x-python",
   "name": "python",
   "nbconvert_exporter": "python",
   "pygments_lexer": "ipython3",
   "version": "3.6.6"
  },
  "latex_envs": {
   "LaTeX_envs_menu_present": true,
   "autoclose": false,
   "autocomplete": true,
   "bibliofile": "biblio.bib",
   "cite_by": "apalike",
   "current_citInitial": 1,
   "eqLabelWithNumbers": true,
   "eqNumInitial": 1,
   "hotkeys": {
    "equation": "Ctrl-E",
    "itemize": "Ctrl-I"
   },
   "labels_anchors": false,
   "latex_user_defs": false,
   "report_style_numbering": false,
   "user_envs_cfg": false
  },
  "varInspector": {
   "cols": {
    "lenName": 16,
    "lenType": 16,
    "lenVar": 40
   },
   "kernels_config": {
    "python": {
     "delete_cmd_postfix": "",
     "delete_cmd_prefix": "del ",
     "library": "var_list.py",
     "varRefreshCmd": "print(var_dic_list())"
    },
    "r": {
     "delete_cmd_postfix": ") ",
     "delete_cmd_prefix": "rm(",
     "library": "var_list.r",
     "varRefreshCmd": "cat(var_dic_list()) "
    }
   },
   "types_to_exclude": [
    "module",
    "function",
    "builtin_function_or_method",
    "instance",
    "_Feature"
   ],
   "window_display": false
  }
 },
 "nbformat": 4,
 "nbformat_minor": 2
}
