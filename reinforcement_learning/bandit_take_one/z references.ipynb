{
 "cells": [
  {
   "cell_type": "code",
   "execution_count": 13,
   "metadata": {
    "ExecuteTime": {
     "end_time": "2018-12-22T23:01:36.638722Z",
     "start_time": "2018-12-22T23:01:36.631740Z"
    }
   },
   "outputs": [],
   "source": [
    "import random, datetime, math\n",
    "\n",
    "random.seed(datetime.datetime.now())\n",
    "levers = [\"q1\", \"q2\", \"q3\", \"q4\", \"q5\", \"q6\", \"q7\", \"q8\", \"q9\", \"q10\"]\n",
    "reward_percent = [random.random() for i in range(10)]\n",
    "lever_count, reward_count, expected_return  = ([0, 0, 0, 0, 0, 0, 0, 0, 0, 0] for i in range(3))\n",
    "\n",
    "lever   = random.randint(0, 9)\n",
    "epsilon = 0.33\n",
    "optimal_decision = reward_percent.index(max(reward_percent))"
   ]
  },
  {
   "cell_type": "code",
   "execution_count": 14,
   "metadata": {
    "ExecuteTime": {
     "end_time": "2018-12-22T23:01:36.996921Z",
     "start_time": "2018-12-22T23:01:36.989938Z"
    }
   },
   "outputs": [
    {
     "name": "stdout",
     "output_type": "stream",
     "text": [
      "[0.45 0.78 0.63 0.3  0.98 0.46 0.93 0.38 0.09 0.28]\n",
      "3\n",
      "[0, 0, 0, 0, 0, 0, 0, 0, 0, 0]\n"
     ]
    }
   ],
   "source": [
    "# reward percent \n",
    "print(np.around(reward_percent,2))\n",
    "print(lever)\n",
    "print(expected_return)"
   ]
  },
  {
   "cell_type": "code",
   "execution_count": 68,
   "metadata": {
    "ExecuteTime": {
     "end_time": "2018-12-22T23:02:51.431079Z",
     "start_time": "2018-12-22T23:02:51.402158Z"
    }
   },
   "outputs": [
    {
     "name": "stdout",
     "output_type": "stream",
     "text": [
      "Optimal Decision: q5 with chance: 0.977489 chosen 34218 times. Average reward: 6.095639\n",
      "Optimal Decision: q5 with chance: 0.977489 chosen 34283 times. Average reward: 6.095236\n",
      "Optimal Decision: q5 with chance: 0.977489 chosen 34345 times. Average reward: 6.090821\n",
      "Optimal Decision: q5 with chance: 0.977489 chosen 34408 times. Average reward: 6.088781\n",
      "Optimal Decision: q5 with chance: 0.977489 chosen 34476 times. Average reward: 6.085452\n",
      "Optimal Decision: q5 with chance: 0.977489 chosen 34538 times. Average reward: 6.080017\n",
      "Optimal Decision: q5 with chance: 0.977489 chosen 34607 times. Average reward: 6.079491\n",
      "Optimal Decision: q5 with chance: 0.977489 chosen 34670 times. Average reward: 6.074432\n",
      "Optimal Decision: q5 with chance: 0.977489 chosen 34730 times. Average reward: 6.074905\n",
      "Optimal Decision: q5 with chance: 0.977489 chosen 34799 times. Average reward: 6.073688\n",
      "Optimal Decision: q5 with chance: 0.977489 chosen 34866 times. Average reward: 6.071203\n",
      "Optimal Decision: q5 with chance: 0.977489 chosen 34936 times. Average reward: 6.069000\n",
      "Optimal Decision: q5 with chance: 0.977489 chosen 34998 times. Average reward: 6.066952\n",
      "Optimal Decision: q5 with chance: 0.977489 chosen 35063 times. Average reward: 6.065429\n",
      "Optimal Decision: q5 with chance: 0.977489 chosen 35135 times. Average reward: 6.064653\n",
      "Optimal Decision: q5 with chance: 0.977489 chosen 35198 times. Average reward: 6.063817\n",
      "Optimal Decision: q5 with chance: 0.977489 chosen 35269 times. Average reward: 6.063685\n",
      "Optimal Decision: q5 with chance: 0.977489 chosen 35342 times. Average reward: 6.064311\n",
      "Optimal Decision: q5 with chance: 0.977489 chosen 35410 times. Average reward: 6.063334\n",
      "Optimal Decision: q5 with chance: 0.977489 chosen 35477 times. Average reward: 6.063665\n",
      "Optimal Decision: q5 with chance: 0.977489 chosen 35539 times. Average reward: 6.061498\n",
      "Optimal Decision: q5 with chance: 0.977489 chosen 35603 times. Average reward: 6.058844\n",
      "Optimal Decision: q5 with chance: 0.977489 chosen 35665 times. Average reward: 6.057079\n",
      "Optimal Decision: q5 with chance: 0.977489 chosen 35722 times. Average reward: 6.054870\n",
      "Optimal Decision: q5 with chance: 0.977489 chosen 35781 times. Average reward: 6.050967\n",
      "Optimal Decision: q5 with chance: 0.977489 chosen 35843 times. Average reward: 6.050588\n",
      "Optimal Decision: q5 with chance: 0.977489 chosen 35905 times. Average reward: 6.051501\n",
      "Optimal Decision: q5 with chance: 0.977489 chosen 35964 times. Average reward: 6.051426\n",
      "Optimal Decision: q5 with chance: 0.977489 chosen 36030 times. Average reward: 6.050585\n",
      "Optimal Decision: q5 with chance: 0.977489 chosen 36092 times. Average reward: 6.048480\n",
      "Optimal Decision: q5 with chance: 0.977489 chosen 36157 times. Average reward: 6.043675\n",
      "Optimal Decision: q5 with chance: 0.977489 chosen 36223 times. Average reward: 6.040615\n",
      "Optimal Decision: q5 with chance: 0.977489 chosen 36295 times. Average reward: 6.040577\n",
      "Optimal Decision: q5 with chance: 0.977489 chosen 36365 times. Average reward: 6.039821\n",
      "Optimal Decision: q5 with chance: 0.977489 chosen 36436 times. Average reward: 6.039764\n",
      "Optimal Decision: q5 with chance: 0.977489 chosen 36500 times. Average reward: 6.038398\n",
      "Optimal Decision: q5 with chance: 0.977489 chosen 36565 times. Average reward: 6.038116\n",
      "Optimal Decision: q5 with chance: 0.977489 chosen 36640 times. Average reward: 6.038580\n",
      "Optimal Decision: q5 with chance: 0.977489 chosen 36700 times. Average reward: 6.036547\n",
      "Optimal Decision: q5 with chance: 0.977489 chosen 36758 times. Average reward: 6.033453\n",
      "Epsilon:  0.33\n",
      "Times lever was pulled:    [2011, 2061, 1983, 1995, 36758, 2111, 2014, 2059, 1999, 2009]\n",
      "Expected return value :    [0.55 0.86 0.7  0.39 1.   0.55 1.   0.47 0.18 0.39]\n",
      "Ground Truth Reward Prob:  [0.455 0.781 0.629 0.296 0.977 0.458 0.93  0.385 0.093 0.283]\n"
     ]
    }
   ],
   "source": [
    "for i in range(1, 4001):\n",
    "    \n",
    "    #epislon case - explore if the random value is less than epsilon's value we choose a random lever\n",
    "    if random.random() < epsilon:\n",
    "        vals = list(range(0, 10))\n",
    "        vals.remove(expected_return.index(max(expected_return)))\n",
    "        lever = random.choice(vals)\n",
    "\n",
    "    #else, pick the value that has historically given the highest reward\n",
    "    else: lever = expected_return.index(max(expected_return))\n",
    "\n",
    "    #every 100 iterations, print out the optimal lever, its chance and times. also print out the average reward\n",
    "    if i % 100 == 0: print(\"Optimal Decision: %s with chance: %f chosen %d times. Average reward: %f\" % (levers[optimal_decision], reward_percent[optimal_decision], lever_count[optimal_decision], sum(expected_return)))\n",
    "\n",
    "    #pray to RNGesus that we get a reward from our current lever\n",
    "    if random.random() < reward_percent[lever]:\n",
    "        reward_count[lever]+=1\n",
    "        instant_reward = 1\n",
    "    else:\n",
    "        instant_reward = 0\n",
    "\n",
    "    #update how many times the current lever was pulled\n",
    "    lever_count[lever] = lever_count[lever] + 1\n",
    "\n",
    "    #newestimate function\n",
    "    expected_return[lever] = expected_return[lever] + (1/lever_count[lever]) * (instant_reward - expected_return[lever])\n",
    "\n",
    "#rounding at the end for prettier printing\n",
    "reward_percent  = [int((math.ceil(num*100)/100)*100) for num in reward_percent]\n",
    "expected_return = [math.ceil(float(num)*100)/100 for num in expected_return]\n",
    "\n",
    "print(\"Epsilon: \", epsilon)\n",
    "print(\"Times lever was pulled:   \", lever_count)\n",
    "print(\"Expected return value :   \", np.around(expected_return,3))\n",
    "print(\"Ground Truth Reward Prob: \", np.around(reward_percent, 3))"
   ]
  },
  {
   "cell_type": "code",
   "execution_count": null,
   "metadata": {},
   "outputs": [],
   "source": []
  },
  {
   "cell_type": "code",
   "execution_count": null,
   "metadata": {},
   "outputs": [],
   "source": []
  },
  {
   "cell_type": "code",
   "execution_count": null,
   "metadata": {},
   "outputs": [],
   "source": []
  },
  {
   "cell_type": "code",
   "execution_count": null,
   "metadata": {},
   "outputs": [],
   "source": []
  }
 ],
 "metadata": {
  "kernelspec": {
   "display_name": "Python 3",
   "language": "python",
   "name": "python3"
  },
  "language_info": {
   "codemirror_mode": {
    "name": "ipython",
    "version": 3
   },
   "file_extension": ".py",
   "mimetype": "text/x-python",
   "name": "python",
   "nbconvert_exporter": "python",
   "pygments_lexer": "ipython3",
   "version": "3.6.6"
  },
  "latex_envs": {
   "LaTeX_envs_menu_present": true,
   "autoclose": false,
   "autocomplete": true,
   "bibliofile": "biblio.bib",
   "cite_by": "apalike",
   "current_citInitial": 1,
   "eqLabelWithNumbers": true,
   "eqNumInitial": 1,
   "hotkeys": {
    "equation": "Ctrl-E",
    "itemize": "Ctrl-I"
   },
   "labels_anchors": false,
   "latex_user_defs": false,
   "report_style_numbering": false,
   "user_envs_cfg": false
  },
  "varInspector": {
   "cols": {
    "lenName": 16,
    "lenType": 16,
    "lenVar": 40
   },
   "kernels_config": {
    "python": {
     "delete_cmd_postfix": "",
     "delete_cmd_prefix": "del ",
     "library": "var_list.py",
     "varRefreshCmd": "print(var_dic_list())"
    },
    "r": {
     "delete_cmd_postfix": ") ",
     "delete_cmd_prefix": "rm(",
     "library": "var_list.r",
     "varRefreshCmd": "cat(var_dic_list()) "
    }
   },
   "types_to_exclude": [
    "module",
    "function",
    "builtin_function_or_method",
    "instance",
    "_Feature"
   ],
   "window_display": false
  }
 },
 "nbformat": 4,
 "nbformat_minor": 2
}
