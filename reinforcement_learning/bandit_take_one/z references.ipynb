{
 "cells": [
  {
   "cell_type": "code",
   "execution_count": 69,
   "metadata": {
    "ExecuteTime": {
     "end_time": "2018-12-22T23:19:50.010879Z",
     "start_time": "2018-12-22T23:19:50.004860Z"
    }
   },
   "outputs": [],
   "source": [
    "import random, datetime, math\n",
    "\n",
    "random.seed(datetime.datetime.now())\n",
    "levers = [\"q1\", \"q2\", \"q3\", \"q4\", \"q5\", \"q6\", \"q7\", \"q8\", \"q9\", \"q10\"]\n",
    "reward_percent = [random.random() for i in range(10)]\n",
    "lever_count, reward_count, expected_return  = ([0, 0, 0, 0, 0, 0, 0, 0, 0, 0] for i in range(3))\n",
    "\n",
    "lever   = random.randint(0, 9)\n",
    "epsilon = 0.33\n",
    "optimal_decision = reward_percent.index(max(reward_percent))"
   ]
  },
  {
   "cell_type": "code",
   "execution_count": 70,
   "metadata": {
    "ExecuteTime": {
     "end_time": "2018-12-22T23:19:50.504876Z",
     "start_time": "2018-12-22T23:19:50.499864Z"
    }
   },
   "outputs": [
    {
     "name": "stdout",
     "output_type": "stream",
     "text": [
      "[0.22 0.15 0.85 0.22 0.35 0.45 0.15 0.87 0.38 0.08]\n",
      "2\n",
      "[0, 0, 0, 0, 0, 0, 0, 0, 0, 0]\n"
     ]
    }
   ],
   "source": [
    "# reward percent \n",
    "print(np.around(reward_percent,2))\n",
    "print(lever)\n",
    "print(expected_return)"
   ]
  },
  {
   "cell_type": "code",
   "execution_count": 71,
   "metadata": {
    "ExecuteTime": {
     "end_time": "2018-12-22T23:19:52.570659Z",
     "start_time": "2018-12-22T23:19:52.549716Z"
    }
   },
   "outputs": [
    {
     "name": "stdout",
     "output_type": "stream",
     "text": [
      "Optimal Decision: q8 with chance: 0.869227 chosen 42 times. Average reward: 3.342857\n",
      "Optimal Decision: q8 with chance: 0.869227 chosen 106 times. Average reward: 3.458957\n",
      "Optimal Decision: q8 with chance: 0.869227 chosen 177 times. Average reward: 3.364175\n",
      "Optimal Decision: q8 with chance: 0.869227 chosen 246 times. Average reward: 3.508468\n",
      "Optimal Decision: q8 with chance: 0.869227 chosen 316 times. Average reward: 3.671491\n",
      "Optimal Decision: q8 with chance: 0.869227 chosen 384 times. Average reward: 3.768751\n",
      "Optimal Decision: q8 with chance: 0.869227 chosen 453 times. Average reward: 3.742453\n",
      "Optimal Decision: q8 with chance: 0.869227 chosen 521 times. Average reward: 3.745916\n",
      "Optimal Decision: q8 with chance: 0.869227 chosen 586 times. Average reward: 3.793300\n",
      "Optimal Decision: q8 with chance: 0.869227 chosen 648 times. Average reward: 3.794441\n",
      "Optimal Decision: q8 with chance: 0.869227 chosen 711 times. Average reward: 3.651535\n",
      "Optimal Decision: q8 with chance: 0.869227 chosen 774 times. Average reward: 3.626895\n",
      "Optimal Decision: q8 with chance: 0.869227 chosen 845 times. Average reward: 3.665314\n",
      "Optimal Decision: q8 with chance: 0.869227 chosen 910 times. Average reward: 3.610679\n",
      "Optimal Decision: q8 with chance: 0.869227 chosen 974 times. Average reward: 3.707743\n",
      "Optimal Decision: q8 with chance: 0.869227 chosen 1040 times. Average reward: 3.724563\n",
      "Optimal Decision: q8 with chance: 0.869227 chosen 1113 times. Average reward: 3.701992\n",
      "Optimal Decision: q8 with chance: 0.869227 chosen 1169 times. Average reward: 3.761624\n",
      "Optimal Decision: q8 with chance: 0.869227 chosen 1232 times. Average reward: 3.789737\n",
      "Optimal Decision: q8 with chance: 0.869227 chosen 1301 times. Average reward: 3.785737\n",
      "Optimal Decision: q8 with chance: 0.869227 chosen 1375 times. Average reward: 3.770746\n",
      "Optimal Decision: q8 with chance: 0.869227 chosen 1443 times. Average reward: 3.765517\n",
      "Optimal Decision: q8 with chance: 0.869227 chosen 1512 times. Average reward: 3.735177\n",
      "Optimal Decision: q8 with chance: 0.869227 chosen 1582 times. Average reward: 3.705186\n",
      "Optimal Decision: q8 with chance: 0.869227 chosen 1644 times. Average reward: 3.724657\n",
      "Optimal Decision: q8 with chance: 0.869227 chosen 1714 times. Average reward: 3.696074\n",
      "Optimal Decision: q8 with chance: 0.869227 chosen 1776 times. Average reward: 3.683258\n",
      "Optimal Decision: q8 with chance: 0.869227 chosen 1838 times. Average reward: 3.697427\n",
      "Optimal Decision: q8 with chance: 0.869227 chosen 1898 times. Average reward: 3.668225\n",
      "Optimal Decision: q8 with chance: 0.869227 chosen 1971 times. Average reward: 3.658970\n",
      "Optimal Decision: q8 with chance: 0.869227 chosen 2038 times. Average reward: 3.657926\n",
      "Optimal Decision: q8 with chance: 0.869227 chosen 2111 times. Average reward: 3.659699\n",
      "Optimal Decision: q8 with chance: 0.869227 chosen 2175 times. Average reward: 3.682927\n",
      "Optimal Decision: q8 with chance: 0.869227 chosen 2241 times. Average reward: 3.689789\n",
      "Optimal Decision: q8 with chance: 0.869227 chosen 2304 times. Average reward: 3.699438\n",
      "Optimal Decision: q8 with chance: 0.869227 chosen 2370 times. Average reward: 3.698995\n",
      "Optimal Decision: q8 with chance: 0.869227 chosen 2438 times. Average reward: 3.701908\n",
      "Optimal Decision: q8 with chance: 0.869227 chosen 2510 times. Average reward: 3.701397\n",
      "Optimal Decision: q8 with chance: 0.869227 chosen 2569 times. Average reward: 3.708355\n",
      "Optimal Decision: q8 with chance: 0.869227 chosen 2629 times. Average reward: 3.704531\n",
      "Epsilon:  0.33\n",
      "Times lever was pulled:    [154, 149, 178, 132, 135, 142, 161, 2630, 163, 156]\n",
      "Expected return value :    [0.22 0.15 0.86 0.22 0.35 0.46 0.14 0.87 0.42 0.06]\n",
      "Ground Truth Reward Prob:  [23 16 85 22 35 45 15 87 39  8]\n"
     ]
    }
   ],
   "source": [
    "for i in range(1, 4001):\n",
    "    \n",
    "    #epislon case - explore if the random value is less than epsilon's value we choose a random lever\n",
    "    if random.random() < epsilon:\n",
    "        vals = list(range(0, 10))\n",
    "        vals.remove(expected_return.index(max(expected_return)))\n",
    "        lever = random.choice(vals)\n",
    "\n",
    "    #else, pick the value that has historically given the highest reward\n",
    "    else: lever = expected_return.index(max(expected_return))\n",
    "\n",
    "    #every 100 iterations, print out the optimal lever, its chance and times. also print out the average reward\n",
    "    if i % 100 == 0: print(\"Optimal Decision: %s with chance: %f chosen %d times. Average reward: %f\" % (levers[optimal_decision], reward_percent[optimal_decision], lever_count[optimal_decision], sum(expected_return)))\n",
    "\n",
    "    #pray to RNGesus that we get a reward from our current lever\n",
    "    if random.random() < reward_percent[lever]:\n",
    "        reward_count[lever]+=1\n",
    "        instant_reward = 1\n",
    "    else:\n",
    "        instant_reward = 0\n",
    "\n",
    "    #update how many times the current lever was pulled\n",
    "    lever_count[lever] = lever_count[lever] + 1\n",
    "\n",
    "    #newestimate function\n",
    "    expected_return[lever] = expected_return[lever] + (1/lever_count[lever]) * (instant_reward - expected_return[lever])\n",
    "\n",
    "#rounding at the end for prettier printing\n",
    "reward_percent  = [(math.ceil(num*100)/100 for num in reward_percent]\n",
    "expected_return = [math.ceil(fnum)*100)/100 for num in expected_return]\n",
    "\n",
    "print(\"Epsilon: \", epsilon)\n",
    "print(\"Times lever was pulled:   \", lever_count)\n",
    "print(\"Expected return value :   \", np.around(expected_return,3))\n",
    "print(\"Ground Truth Reward Prob: \", np.around(reward_percent, 3))"
   ]
  },
  {
   "cell_type": "code",
   "execution_count": null,
   "metadata": {},
   "outputs": [],
   "source": []
  },
  {
   "cell_type": "code",
   "execution_count": null,
   "metadata": {},
   "outputs": [],
   "source": []
  },
  {
   "cell_type": "code",
   "execution_count": null,
   "metadata": {},
   "outputs": [],
   "source": []
  },
  {
   "cell_type": "code",
   "execution_count": null,
   "metadata": {},
   "outputs": [],
   "source": []
  }
 ],
 "metadata": {
  "kernelspec": {
   "display_name": "Python 3",
   "language": "python",
   "name": "python3"
  },
  "language_info": {
   "codemirror_mode": {
    "name": "ipython",
    "version": 3
   },
   "file_extension": ".py",
   "mimetype": "text/x-python",
   "name": "python",
   "nbconvert_exporter": "python",
   "pygments_lexer": "ipython3",
   "version": "3.6.6"
  },
  "latex_envs": {
   "LaTeX_envs_menu_present": true,
   "autoclose": false,
   "autocomplete": true,
   "bibliofile": "biblio.bib",
   "cite_by": "apalike",
   "current_citInitial": 1,
   "eqLabelWithNumbers": true,
   "eqNumInitial": 1,
   "hotkeys": {
    "equation": "Ctrl-E",
    "itemize": "Ctrl-I"
   },
   "labels_anchors": false,
   "latex_user_defs": false,
   "report_style_numbering": false,
   "user_envs_cfg": false
  },
  "varInspector": {
   "cols": {
    "lenName": 16,
    "lenType": 16,
    "lenVar": 40
   },
   "kernels_config": {
    "python": {
     "delete_cmd_postfix": "",
     "delete_cmd_prefix": "del ",
     "library": "var_list.py",
     "varRefreshCmd": "print(var_dic_list())"
    },
    "r": {
     "delete_cmd_postfix": ") ",
     "delete_cmd_prefix": "rm(",
     "library": "var_list.r",
     "varRefreshCmd": "cat(var_dic_list()) "
    }
   },
   "types_to_exclude": [
    "module",
    "function",
    "builtin_function_or_method",
    "instance",
    "_Feature"
   ],
   "window_display": false
  }
 },
 "nbformat": 4,
 "nbformat_minor": 2
}
