{
 "cells": [
  {
   "cell_type": "code",
   "execution_count": 72,
   "metadata": {
    "ExecuteTime": {
     "end_time": "2018-12-22T23:20:42.800891Z",
     "start_time": "2018-12-22T23:20:42.795901Z"
    }
   },
   "outputs": [],
   "source": [
    "import random, datetime, math\n",
    "\n",
    "random.seed(datetime.datetime.now())\n",
    "levers = [\"q1\", \"q2\", \"q3\", \"q4\", \"q5\", \"q6\", \"q7\", \"q8\", \"q9\", \"q10\"]\n",
    "reward_percent = [random.random() for i in range(10)]\n",
    "lever_count, reward_count, expected_return  = ([0, 0, 0, 0, 0, 0, 0, 0, 0, 0] for i in range(3))\n",
    "\n",
    "lever   = random.randint(0, 9)\n",
    "epsilon = 0.33\n",
    "optimal_decision = reward_percent.index(max(reward_percent))"
   ]
  },
  {
   "cell_type": "code",
   "execution_count": 73,
   "metadata": {
    "ExecuteTime": {
     "end_time": "2018-12-22T23:20:43.072961Z",
     "start_time": "2018-12-22T23:20:43.067949Z"
    }
   },
   "outputs": [
    {
     "name": "stdout",
     "output_type": "stream",
     "text": [
      "[0.99 0.78 0.77 0.51 0.45 0.66 0.66 0.05 0.86 0.93]\n",
      "4\n",
      "[0, 0, 0, 0, 0, 0, 0, 0, 0, 0]\n"
     ]
    }
   ],
   "source": [
    "# reward percent \n",
    "print(np.around(reward_percent,2))\n",
    "print(lever)\n",
    "print(expected_return)"
   ]
  },
  {
   "cell_type": "code",
   "execution_count": 74,
   "metadata": {
    "ExecuteTime": {
     "end_time": "2018-12-22T23:20:43.562301Z",
     "start_time": "2018-12-22T23:20:43.542355Z"
    }
   },
   "outputs": [
    {
     "name": "stdout",
     "output_type": "stream",
     "text": [
      "Optimal Decision: q1 with chance: 0.992168 chosen 15 times. Average reward: 6.302381\n",
      "Optimal Decision: q1 with chance: 0.992168 chosen 69 times. Average reward: 6.905304\n",
      "Optimal Decision: q1 with chance: 0.992168 chosen 141 times. Average reward: 6.908993\n",
      "Optimal Decision: q1 with chance: 0.992168 chosen 210 times. Average reward: 6.816981\n",
      "Optimal Decision: q1 with chance: 0.992168 chosen 274 times. Average reward: 6.756655\n",
      "Optimal Decision: q1 with chance: 0.992168 chosen 340 times. Average reward: 6.690487\n",
      "Optimal Decision: q1 with chance: 0.992168 chosen 407 times. Average reward: 6.579995\n",
      "Optimal Decision: q1 with chance: 0.992168 chosen 466 times. Average reward: 6.616202\n",
      "Optimal Decision: q1 with chance: 0.992168 chosen 530 times. Average reward: 6.575031\n",
      "Optimal Decision: q1 with chance: 0.992168 chosen 598 times. Average reward: 6.689402\n",
      "Optimal Decision: q1 with chance: 0.992168 chosen 666 times. Average reward: 6.664265\n",
      "Optimal Decision: q1 with chance: 0.992168 chosen 733 times. Average reward: 6.665310\n",
      "Optimal Decision: q1 with chance: 0.992168 chosen 791 times. Average reward: 6.660163\n",
      "Optimal Decision: q1 with chance: 0.992168 chosen 852 times. Average reward: 6.654237\n",
      "Optimal Decision: q1 with chance: 0.992168 chosen 914 times. Average reward: 6.539761\n",
      "Optimal Decision: q1 with chance: 0.992168 chosen 981 times. Average reward: 6.563143\n",
      "Optimal Decision: q1 with chance: 0.992168 chosen 1039 times. Average reward: 6.533323\n",
      "Optimal Decision: q1 with chance: 0.992168 chosen 1107 times. Average reward: 6.544349\n",
      "Optimal Decision: q1 with chance: 0.992168 chosen 1175 times. Average reward: 6.551447\n",
      "Optimal Decision: q1 with chance: 0.992168 chosen 1247 times. Average reward: 6.561387\n",
      "Optimal Decision: q1 with chance: 0.992168 chosen 1320 times. Average reward: 6.568680\n",
      "Optimal Decision: q1 with chance: 0.992168 chosen 1386 times. Average reward: 6.565101\n",
      "Optimal Decision: q1 with chance: 0.992168 chosen 1451 times. Average reward: 6.561686\n",
      "Optimal Decision: q1 with chance: 0.992168 chosen 1509 times. Average reward: 6.532363\n",
      "Optimal Decision: q1 with chance: 0.992168 chosen 1580 times. Average reward: 6.546387\n",
      "Optimal Decision: q1 with chance: 0.992168 chosen 1651 times. Average reward: 6.525040\n",
      "Optimal Decision: q1 with chance: 0.992168 chosen 1716 times. Average reward: 6.509117\n",
      "Optimal Decision: q1 with chance: 0.992168 chosen 1778 times. Average reward: 6.511604\n",
      "Optimal Decision: q1 with chance: 0.992168 chosen 1841 times. Average reward: 6.526937\n",
      "Optimal Decision: q1 with chance: 0.992168 chosen 1904 times. Average reward: 6.547667\n",
      "Optimal Decision: q1 with chance: 0.992168 chosen 1975 times. Average reward: 6.545021\n",
      "Optimal Decision: q1 with chance: 0.992168 chosen 2046 times. Average reward: 6.520400\n",
      "Optimal Decision: q1 with chance: 0.992168 chosen 2110 times. Average reward: 6.523394\n",
      "Optimal Decision: q1 with chance: 0.992168 chosen 2185 times. Average reward: 6.529728\n",
      "Optimal Decision: q1 with chance: 0.992168 chosen 2254 times. Average reward: 6.524700\n",
      "Optimal Decision: q1 with chance: 0.992168 chosen 2318 times. Average reward: 6.539219\n",
      "Optimal Decision: q1 with chance: 0.992168 chosen 2387 times. Average reward: 6.533603\n",
      "Optimal Decision: q1 with chance: 0.992168 chosen 2451 times. Average reward: 6.539789\n",
      "Optimal Decision: q1 with chance: 0.992168 chosen 2522 times. Average reward: 6.529887\n",
      "Optimal Decision: q1 with chance: 0.992168 chosen 2590 times. Average reward: 6.537107\n",
      "Epsilon:  0.33\n",
      "Times lever was pulled:    [2591, 145, 139, 165, 158, 161, 133, 149, 156, 203]\n",
      "Expected return value :    [1.   0.79 0.7  0.48 0.42 0.64 0.67 0.07 0.88 0.94]\n",
      "Ground Truth Reward Prob:  [1.   0.78 0.77 0.52 0.45 0.66 0.67 0.06 0.87 0.94]\n"
     ]
    }
   ],
   "source": [
    "for i in range(1, 4001):\n",
    "    \n",
    "    #epislon case - explore if the random value is less than epsilon's value we choose a random lever\n",
    "    if random.random() < epsilon:\n",
    "        vals = list(range(0, 10))\n",
    "        vals.remove(expected_return.index(max(expected_return)))\n",
    "        lever = random.choice(vals)\n",
    "\n",
    "    #else, pick the value that has historically given the highest reward\n",
    "    else: lever = expected_return.index(max(expected_return))\n",
    "\n",
    "    #every 100 iterations, print out the optimal lever, its chance and times. also print out the average reward\n",
    "    if i % 100 == 0: print(\"Optimal Decision: %s with chance: %f chosen %d times. Average reward: %f\" % (levers[optimal_decision], reward_percent[optimal_decision], lever_count[optimal_decision], sum(expected_return)))\n",
    "\n",
    "    #pray to RNGesus that we get a reward from our current lever\n",
    "    if random.random() < reward_percent[lever]:\n",
    "        reward_count[lever]+=1\n",
    "        instant_reward = 1\n",
    "    else:\n",
    "        instant_reward = 0\n",
    "\n",
    "    #update how many times the current lever was pulled\n",
    "    lever_count[lever] = lever_count[lever] + 1\n",
    "\n",
    "    #newestimate function\n",
    "    expected_return[lever] = expected_return[lever] + (1/lever_count[lever]) * (instant_reward - expected_return[lever])\n",
    "\n",
    "#rounding at the end for prettier printing\n",
    "# reward_percent  = [math.ceil(num*100)/100 for num in reward_percent]\n",
    "# expected_return = [math.ceil(num*100)/100 for num in expected_return]\n",
    "\n",
    "print(\"Epsilon: \", epsilon)\n",
    "print(\"Times lever was pulled:   \", lever_count)\n",
    "print(\"Expected return value :   \", np.around(expected_return,3))\n",
    "print(\"Ground Truth Reward Prob: \", np.around(reward_percent, 3))"
   ]
  },
  {
   "cell_type": "code",
   "execution_count": null,
   "metadata": {},
   "outputs": [],
   "source": []
  },
  {
   "cell_type": "code",
   "execution_count": null,
   "metadata": {},
   "outputs": [],
   "source": []
  },
  {
   "cell_type": "code",
   "execution_count": null,
   "metadata": {},
   "outputs": [],
   "source": []
  },
  {
   "cell_type": "code",
   "execution_count": null,
   "metadata": {},
   "outputs": [],
   "source": []
  }
 ],
 "metadata": {
  "kernelspec": {
   "display_name": "Python 3",
   "language": "python",
   "name": "python3"
  },
  "language_info": {
   "codemirror_mode": {
    "name": "ipython",
    "version": 3
   },
   "file_extension": ".py",
   "mimetype": "text/x-python",
   "name": "python",
   "nbconvert_exporter": "python",
   "pygments_lexer": "ipython3",
   "version": "3.6.6"
  },
  "latex_envs": {
   "LaTeX_envs_menu_present": true,
   "autoclose": false,
   "autocomplete": true,
   "bibliofile": "biblio.bib",
   "cite_by": "apalike",
   "current_citInitial": 1,
   "eqLabelWithNumbers": true,
   "eqNumInitial": 1,
   "hotkeys": {
    "equation": "Ctrl-E",
    "itemize": "Ctrl-I"
   },
   "labels_anchors": false,
   "latex_user_defs": false,
   "report_style_numbering": false,
   "user_envs_cfg": false
  },
  "varInspector": {
   "cols": {
    "lenName": 16,
    "lenType": 16,
    "lenVar": 40
   },
   "kernels_config": {
    "python": {
     "delete_cmd_postfix": "",
     "delete_cmd_prefix": "del ",
     "library": "var_list.py",
     "varRefreshCmd": "print(var_dic_list())"
    },
    "r": {
     "delete_cmd_postfix": ") ",
     "delete_cmd_prefix": "rm(",
     "library": "var_list.r",
     "varRefreshCmd": "cat(var_dic_list()) "
    }
   },
   "types_to_exclude": [
    "module",
    "function",
    "builtin_function_or_method",
    "instance",
    "_Feature"
   ],
   "window_display": false
  }
 },
 "nbformat": 4,
 "nbformat_minor": 2
}
