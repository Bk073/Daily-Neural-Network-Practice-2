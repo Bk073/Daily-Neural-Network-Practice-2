{
 "cells": [
  {
   "cell_type": "code",
   "execution_count": 2,
   "metadata": {
    "ExecuteTime": {
     "end_time": "2018-12-24T07:53:46.507033Z",
     "start_time": "2018-12-24T07:53:46.503038Z"
    },
    "code_folding": [
     0
    ]
   },
   "outputs": [],
   "source": [
    "# import lib\n",
    "import numpy as np\n",
    "import matplotlib.pyplot as plt\n",
    "np.random.seed(5678)"
   ]
  },
  {
   "cell_type": "code",
   "execution_count": 9,
   "metadata": {
    "ExecuteTime": {
     "end_time": "2018-12-24T07:55:56.724548Z",
     "start_time": "2018-12-24T07:55:56.619829Z"
    }
   },
   "outputs": [
    {
     "name": "stdout",
     "output_type": "stream",
     "text": [
      "[0.26456039 0.89367243 0.55275402 0.4121718  0.28307214 0.742975\n",
      " 0.92637458 0.84958204 0.50339065 0.10423391]\n"
     ]
    },
    {
     "data": {
      "image/png": "[encoded data removed]",
      "text/plain": [
       "<Figure size 432x288 with 1 Axes>"
      ]
     },
     "metadata": {
      "needs_background": "light"
     },
     "output_type": "display_data"
    }
   ],
   "source": [
    "# declare some \n",
    "expected_action_value =  np.random.uniform(0 ,1 , 10)\n",
    "print(expected_action_value)\n",
    "plt.bar(range(10),expected_action_value)\n",
    "plt.show()"
   ]
  },
  {
   "cell_type": "code",
   "execution_count": 24,
   "metadata": {
    "ExecuteTime": {
     "end_time": "2018-12-24T08:04:34.904035Z",
     "start_time": "2018-12-24T08:04:34.890067Z"
    }
   },
   "outputs": [],
   "source": [
    "# basic\n",
    "estimated_action_value = np.zeros(10)\n",
    "epsilon_values  = [0,0.25,0.5,0.75,1.0]\n",
    "\n",
    "def reward_function1(action_taken, expected_action_value):\n",
    "    if np.random.uniform(0, 1) <= expected_action_value[action_taken]: return 1\n",
    "    return 0\n",
    "\n",
    "def reward_function(action_taken, expected_action_value):\n",
    "    if np.random.uniform(0, 1) <= expected_action_value[action_taken]: return 1\n",
    "    return -1\n",
    "\n",
    "def multi_arm_bandit_problem(arms = 10, steps = 1000, e = 0.1, expected_action_value = []):\n",
    "    overall_reward, optimal_action = [], []\n",
    "    estimate_action_value = np.zeros(arms)\n",
    "    count = np.zeros(arms)\n",
    "    for s in range(0, steps):\n",
    "        e_estimator = np.random.uniform(0, 1)\n",
    "        action = np.argmax(estimate_action_value) if e_estimator > e else np.random.choice(np.arange(10))\n",
    "        reward = reward_function(action, expected_action_value)\n",
    "        estimate_action_value[action] = estimate_action_value[action] + (1/(count[action]+1)) * (reward - estimate_action_value[action])\n",
    "        overall_reward.append(reward)\n",
    "        optimal_action.append(action == np.argmax(expected_action_value))\n",
    "        count[action] += 1\n",
    "    return(overall_reward, optimal_action)\n",
    "\n",
    "def run_game(runs = 20, steps = 1000, arms = 10):\n",
    "    rewards = np.zeros((runs, steps))\n",
    "    optimal_actions = np.zeros((runs, steps))\n",
    "    expected_action_value = np.random.uniform(0, 1 , arms)\n",
    "    for run in range(0, runs):\n",
    "        rewards[run][:], optimal_actions[run][:] = multi_arm_bandit_problem(arms = arms, steps = steps, e = epsilon_values[e_step], expected_action_value = expected_action_value)\n",
    "    rewards_avg = np.average(rewards, axis = 1)\n",
    "    optimal_action_perc = np.average(optimal_actions, axis = 1)\n",
    "    return (rewards_avg, optimal_action_perc)"
   ]
  },
  {
   "cell_type": "code",
   "execution_count": 25,
   "metadata": {
    "ExecuteTime": {
     "end_time": "2018-12-24T08:04:36.227014Z",
     "start_time": "2018-12-24T08:04:35.121944Z"
    }
   },
   "outputs": [
    {
     "name": "stdout",
     "output_type": "stream",
     "text": [
      "[0.482 0.482 0.442 0.468 0.504 0.506 0.472 0.476 0.928 0.5   0.5   0.506\n",
      " 0.954 0.966 0.936 0.476 0.234 0.476 0.486 0.494]\n",
      "[0.    0.    0.    0.    0.    0.    0.    0.    0.965 0.    0.    0.\n",
      " 0.994 0.992 0.969 0.    0.    0.    0.    0.   ]\n",
      "[0.29  0.28  0.314 0.218 0.244 0.224 0.13  0.258 0.246 0.268 0.284 0.248\n",
      " 0.14  0.14  0.22  0.318 0.298 0.218 0.208 0.164]\n",
      "[0.769 0.67  0.739 0.03  0.485 0.504 0.024 0.52  0.695 0.689 0.708 0.693\n",
      " 0.098 0.429 0.517 0.75  0.558 0.733 0.551 0.324]\n",
      "[0.544 0.556 0.604 0.534 0.524 0.508 0.482 0.526 0.53  0.544 0.524 0.524\n",
      " 0.56  0.512 0.522 0.516 0.482 0.556 0.488 0.51 ]\n",
      "[0.501 0.54  0.361 0.065 0.128 0.541 0.126 0.532 0.426 0.064 0.528 0.042\n",
      " 0.069 0.047 0.052 0.047 0.479 0.056 0.534 0.144]\n",
      "[0.302 0.252 0.278 0.27  0.252 0.258 0.254 0.278 0.282 0.28  0.298 0.236\n",
      " 0.326 0.304 0.22  0.222 0.296 0.306 0.234 0.174]\n",
      "[0.329 0.302 0.337 0.28  0.31  0.268 0.294 0.277 0.31  0.322 0.326 0.34\n",
      " 0.317 0.315 0.322 0.319 0.319 0.314 0.3   0.296]\n",
      "[0.142 0.176 0.148 0.142 0.164 0.194 0.166 0.136 0.122 0.142 0.11  0.098\n",
      " 0.2   0.146 0.144 0.132 0.13  0.126 0.112 0.092]\n",
      "[0.106 0.099 0.121 0.11  0.103 0.091 0.109 0.11  0.107 0.087 0.099 0.097\n",
      " 0.099 0.094 0.121 0.108 0.084 0.114 0.089 0.102]\n"
     ]
    }
   ],
   "source": [
    "for e_step in range(5):\n",
    "    rewards_avg, optimal_action_perc = run_game()\n",
    "    print(rewards_avg)\n",
    "    print(optimal_action_perc)"
   ]
  },
  {
   "cell_type": "code",
   "execution_count": null,
   "metadata": {},
   "outputs": [],
   "source": []
  },
  {
   "cell_type": "code",
   "execution_count": null,
   "metadata": {},
   "outputs": [],
   "source": []
  },
  {
   "cell_type": "markdown",
   "metadata": {},
   "source": [
    "# Reference\n",
    "1. Reinforcement Learning with Multi Arm Bandit – ITNEXT. (2018). ITNEXT. Retrieved 24 December 2018, from https://itnext.io/reinforcement-learning-with-multi-arm-bandit-decf442e02d2\n",
    "2. matplotlib.pyplot.bar — Matplotlib 3.0.2 documentation. (2018). Matplotlib.org. Retrieved 24 December 2018, from https://matplotlib.org/api/_as_gen/matplotlib.pyplot.bar.html\n",
    "3. "
   ]
  }
 ],
 "metadata": {
  "kernelspec": {
   "display_name": "Python 3",
   "language": "python",
   "name": "python3"
  },
  "language_info": {
   "codemirror_mode": {
    "name": "ipython",
    "version": 3
   },
   "file_extension": ".py",
   "mimetype": "text/x-python",
   "name": "python",
   "nbconvert_exporter": "python",
   "pygments_lexer": "ipython3",
   "version": "3.6.6"
  },
  "latex_envs": {
   "LaTeX_envs_menu_present": true,
   "autoclose": false,
   "autocomplete": true,
   "bibliofile": "biblio.bib",
   "cite_by": "apalike",
   "current_citInitial": 1,
   "eqLabelWithNumbers": true,
   "eqNumInitial": 1,
   "hotkeys": {
    "equation": "Ctrl-E",
    "itemize": "Ctrl-I"
   },
   "labels_anchors": false,
   "latex_user_defs": false,
   "report_style_numbering": false,
   "user_envs_cfg": false
  },
  "varInspector": {
   "cols": {
    "lenName": 16,
    "lenType": 16,
    "lenVar": 40
   },
   "kernels_config": {
    "python": {
     "delete_cmd_postfix": "",
     "delete_cmd_prefix": "del ",
     "library": "var_list.py",
     "varRefreshCmd": "print(var_dic_list())"
    },
    "r": {
     "delete_cmd_postfix": ") ",
     "delete_cmd_prefix": "rm(",
     "library": "var_list.r",
     "varRefreshCmd": "cat(var_dic_list()) "
    }
   },
   "types_to_exclude": [
    "module",
    "function",
    "builtin_function_or_method",
    "instance",
    "_Feature"
   ],
   "window_display": false
  }
 },
 "nbformat": 4,
 "nbformat_minor": 2
}
