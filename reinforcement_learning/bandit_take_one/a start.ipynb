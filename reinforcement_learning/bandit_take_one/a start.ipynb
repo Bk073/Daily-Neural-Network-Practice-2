{
 "cells": [
  {
   "cell_type": "code",
   "execution_count": 2,
   "metadata": {
    "ExecuteTime": {
     "end_time": "2018-12-24T07:53:46.507033Z",
     "start_time": "2018-12-24T07:53:46.503038Z"
    },
    "code_folding": [
     0
    ]
   },
   "outputs": [],
   "source": [
    "# import lib\n",
    "import numpy as np\n",
    "import matplotlib.pyplot as plt\n",
    "np.random.seed(5678)"
   ]
  },
  {
   "cell_type": "code",
   "execution_count": 9,
   "metadata": {
    "ExecuteTime": {
     "end_time": "2018-12-24T07:55:56.724548Z",
     "start_time": "2018-12-24T07:55:56.619829Z"
    }
   },
   "outputs": [
    {
     "name": "stdout",
     "output_type": "stream",
     "text": [
      "[0.26456039 0.89367243 0.55275402 0.4121718  0.28307214 0.742975\n",
      " 0.92637458 0.84958204 0.50339065 0.10423391]\n"
     ]
    },
    {
     "data": {
      "image/png": "[encoded data removed]",
      "text/plain": [
       "<Figure size 432x288 with 1 Axes>"
      ]
     },
     "metadata": {
      "needs_background": "light"
     },
     "output_type": "display_data"
    }
   ],
   "source": [
    "# declare some \n",
    "expected_action_value =  np.random.uniform(0 ,1 , 10)\n",
    "print(expected_action_value)\n",
    "plt.bar(range(10),expected_action_value)\n",
    "plt.show()"
   ]
  },
  {
   "cell_type": "code",
   "execution_count": 26,
   "metadata": {
    "ExecuteTime": {
     "end_time": "2018-12-24T08:04:58.545748Z",
     "start_time": "2018-12-24T08:04:58.531785Z"
    }
   },
   "outputs": [],
   "source": [
    "# basic\n",
    "estimated_action_value = np.zeros(10)\n",
    "\n",
    "\n",
    "def reward_function1(action_taken, expected_action_value):\n",
    "    if np.random.uniform(0, 1) <= expected_action_value[action_taken]: return 1\n",
    "    return 0\n",
    "\n",
    "def reward_function(action_taken, expected_action_value):\n",
    "    if np.random.uniform(0, 1) <= expected_action_value[action_taken]: return 1\n",
    "    return -1\n",
    "\n",
    "def multi_arm_bandit_problem(arms = 10, steps = 1000, e = 0.1, expected_action_value = []):\n",
    "    overall_reward, optimal_action = [], []\n",
    "    estimate_action_value = np.zeros(arms)\n",
    "    count = np.zeros(arms)\n",
    "    for s in range(0, steps):\n",
    "        e_estimator = np.random.uniform(0, 1)\n",
    "        action = np.argmax(estimate_action_value) if e_estimator > e else np.random.choice(np.arange(10))\n",
    "        reward = reward_function(action, expected_action_value)\n",
    "        estimate_action_value[action] = estimate_action_value[action] + (1/(count[action]+1)) * (reward - estimate_action_value[action])\n",
    "        overall_reward.append(reward)\n",
    "        optimal_action.append(action == np.argmax(expected_action_value))\n",
    "        count[action] += 1\n",
    "    return(overall_reward, optimal_action)\n",
    "\n",
    "def run_game(runs = 100, steps = 1000, arms = 10):\n",
    "    rewards = np.zeros((runs, steps))\n",
    "    optimal_actions = np.zeros((runs, steps))\n",
    "    expected_action_value = np.random.uniform(0, 1 , arms)\n",
    "    for run in range(0, runs):\n",
    "        rewards[run][:], optimal_actions[run][:] = multi_arm_bandit_problem(arms = arms, steps = steps, e = epsilon_values[e_step], expected_action_value = expected_action_value)\n",
    "    rewards_avg = np.average(rewards, axis = 1)\n",
    "    optimal_action_perc = np.average(optimal_actions, axis = 1)\n",
    "    return (rewards_avg, optimal_action_perc)"
   ]
  },
  {
   "cell_type": "code",
   "execution_count": 27,
   "metadata": {
    "ExecuteTime": {
     "end_time": "2018-12-24T08:05:04.818483Z",
     "start_time": "2018-12-24T08:04:58.990575Z"
    }
   },
   "outputs": [
    {
     "name": "stdout",
     "output_type": "stream",
     "text": [
      "[ 0.026  0.45  -0.01   0.41   0.446  0.44   0.462  0.464  0.456  0.456\n",
      "  0.052  0.476  0.416  0.036  0.42   0.478  0.448  0.402  0.068  0.492\n",
      "  0.464  0.078  0.06   0.476 -0.17   0.08  -0.23   0.392  0.444  0.484\n",
      "  0.426  0.502 -0.118  0.468 -0.25  -0.028  0.42   0.454  0.452  0.438\n",
      "  0.054  0.444  0.45   0.106  0.38   0.058  0.046  0.424  0.46   0.028\n",
      "  0.448  0.444  0.058  0.4   -0.018 -0.108  0.022  0.484  0.438  0.482\n",
      "  0.052  0.436  0.48   0.442  0.436  0.43   0.474  0.364  0.448  0.466\n",
      "  0.454  0.484  0.06   0.062  0.078  0.054  0.43  -0.136  0.438  0.372\n",
      "  0.436  0.42  -0.076  0.442  0.498  0.084  0.05   0.048  0.452  0.414\n",
      "  0.104 -0.064  0.334  0.068  0.43  -0.126  0.476  0.462  0.42  -0.024] [0.001 0.977 0.001 0.895 0.984 0.987 0.988 0.98  0.99  0.978 0.    0.981\n",
      " 0.96  0.    0.954 0.988 0.969 0.909 0.001 0.982 0.969 0.    0.    0.973\n",
      " 0.003 0.    0.003 0.962 0.986 0.982 0.911 0.973 0.001 0.978 0.001 0.007\n",
      " 0.98  0.961 0.981 0.983 0.    0.94  0.969 0.    0.834 0.001 0.    0.954\n",
      " 0.988 0.003 0.976 0.955 0.003 0.939 0.001 0.001 0.    0.953 0.773 0.965\n",
      " 0.    0.953 0.98  0.931 0.971 0.908 0.98  0.833 0.971 0.977 0.962 0.975\n",
      " 0.    0.    0.    0.    0.973 0.001 0.968 0.862 0.99  0.981 0.003 0.972\n",
      " 0.936 0.    0.003 0.    0.981 0.961 0.    0.003 0.719 0.    0.984 0.001\n",
      " 0.974 0.956 0.939 0.001]\n",
      "[0.818 0.754 0.768 0.796 0.81  0.808 0.774 0.8   0.818 0.83  0.766 0.808\n",
      " 0.8   0.812 0.848 0.784 0.76  0.82  0.802 0.824 0.784 0.81  0.798 0.804\n",
      " 0.814 0.806 0.808 0.8   0.772 0.812 0.766 0.798 0.792 0.804 0.766 0.768\n",
      " 0.804 0.782 0.81  0.752 0.758 0.796 0.766 0.78  0.764 0.8   0.764 0.806\n",
      " 0.806 0.828 0.77  0.794 0.778 0.726 0.8   0.792 0.802 0.818 0.798 0.846\n",
      " 0.806 0.81  0.778 0.786 0.762 0.816 0.752 0.782 0.812 0.814 0.78  0.794\n",
      " 0.776 0.774 0.802 0.754 0.81  0.8   0.79  0.816 0.78  0.8   0.758 0.82\n",
      " 0.788 0.794 0.782 0.77  0.806 0.832 0.804 0.786 0.808 0.784 0.782 0.786\n",
      " 0.8   0.79  0.8   0.79 ] [0.101 0.416 0.435 0.666 0.744 0.043 0.736 0.756 0.672 0.024 0.729 0.725\n",
      " 0.729 0.773 0.727 0.703 0.071 0.085 0.074 0.74  0.731 0.764 0.754 0.05\n",
      " 0.72  0.727 0.737 0.052 0.702 0.693 0.724 0.742 0.624 0.743 0.53  0.053\n",
      " 0.761 0.055 0.291 0.032 0.021 0.655 0.705 0.033 0.045 0.72  0.036 0.695\n",
      " 0.079 0.689 0.092 0.701 0.647 0.037 0.673 0.711 0.048 0.767 0.637 0.731\n",
      " 0.059 0.707 0.641 0.715 0.031 0.737 0.623 0.101 0.728 0.728 0.657 0.72\n",
      " 0.752 0.026 0.199 0.043 0.52  0.68  0.746 0.598 0.064 0.741 0.407 0.087\n",
      " 0.751 0.649 0.733 0.139 0.723 0.545 0.099 0.717 0.67  0.6   0.547 0.749\n",
      " 0.365 0.683 0.065 0.689]\n",
      "[0.5   0.512 0.468 0.488 0.488 0.522 0.456 0.526 0.476 0.468 0.548 0.524\n",
      " 0.546 0.494 0.468 0.468 0.488 0.492 0.528 0.464 0.516 0.466 0.508 0.536\n",
      " 0.518 0.524 0.53  0.524 0.502 0.504 0.508 0.502 0.494 0.554 0.512 0.486\n",
      " 0.45  0.496 0.458 0.532 0.468 0.51  0.52  0.512 0.486 0.472 0.49  0.53\n",
      " 0.534 0.522 0.45  0.56  0.506 0.484 0.5   0.55  0.472 0.524 0.504 0.53\n",
      " 0.544 0.46  0.494 0.468 0.542 0.468 0.548 0.496 0.542 0.526 0.47  0.52\n",
      " 0.462 0.474 0.588 0.514 0.518 0.496 0.498 0.48  0.532 0.508 0.488 0.438\n",
      " 0.502 0.492 0.522 0.452 0.466 0.568 0.482 0.516 0.472 0.512 0.47  0.534\n",
      " 0.468 0.47  0.498 0.452] [0.356 0.134 0.089 0.088 0.49  0.044 0.051 0.143 0.345 0.138 0.555 0.528\n",
      " 0.38  0.469 0.077 0.067 0.098 0.425 0.514 0.074 0.356 0.065 0.158 0.48\n",
      " 0.063 0.433 0.459 0.541 0.06  0.313 0.062 0.121 0.084 0.252 0.101 0.09\n",
      " 0.229 0.449 0.329 0.259 0.05  0.389 0.06  0.29  0.232 0.048 0.469 0.333\n",
      " 0.467 0.254 0.065 0.434 0.499 0.481 0.417 0.478 0.088 0.366 0.096 0.302\n",
      " 0.512 0.224 0.061 0.392 0.331 0.064 0.329 0.496 0.351 0.224 0.054 0.05\n",
      " 0.219 0.243 0.373 0.135 0.315 0.113 0.171 0.473 0.097 0.513 0.15  0.058\n",
      " 0.099 0.059 0.065 0.496 0.045 0.175 0.106 0.073 0.214 0.41  0.151 0.45\n",
      " 0.11  0.14  0.056 0.349]\n",
      "[0.162 0.182 0.168 0.184 0.158 0.142 0.116 0.194 0.198 0.202 0.228 0.17\n",
      " 0.12  0.116 0.17  0.122 0.134 0.092 0.19  0.158 0.144 0.186 0.154 0.14\n",
      " 0.138 0.166 0.22  0.188 0.192 0.176 0.188 0.156 0.12  0.146 0.17  0.216\n",
      " 0.192 0.19  0.23  0.176 0.16  0.126 0.18  0.192 0.154 0.186 0.182 0.184\n",
      " 0.202 0.218 0.184 0.15  0.146 0.18  0.222 0.16  0.156 0.188 0.182 0.118\n",
      " 0.152 0.198 0.194 0.13  0.162 0.12  0.188 0.156 0.17  0.178 0.15  0.22\n",
      " 0.168 0.13  0.168 0.202 0.16  0.204 0.078 0.138 0.138 0.178 0.128 0.172\n",
      " 0.14  0.15  0.148 0.204 0.106 0.176 0.166 0.166 0.152 0.19  0.052 0.178\n",
      " 0.144 0.128 0.174 0.204] [0.249 0.297 0.302 0.312 0.28  0.302 0.284 0.28  0.312 0.313 0.313 0.11\n",
      " 0.189 0.144 0.314 0.313 0.316 0.085 0.111 0.114 0.329 0.313 0.117 0.295\n",
      " 0.166 0.138 0.323 0.339 0.312 0.333 0.3   0.316 0.145 0.237 0.087 0.17\n",
      " 0.33  0.319 0.323 0.329 0.226 0.185 0.271 0.253 0.297 0.329 0.292 0.261\n",
      " 0.344 0.071 0.321 0.285 0.3   0.335 0.244 0.331 0.306 0.302 0.241 0.196\n",
      " 0.306 0.333 0.233 0.277 0.079 0.339 0.328 0.266 0.29  0.303 0.235 0.106\n",
      " 0.212 0.124 0.268 0.314 0.132 0.237 0.307 0.088 0.268 0.296 0.335 0.301\n",
      " 0.186 0.313 0.324 0.27  0.222 0.244 0.322 0.108 0.299 0.176 0.104 0.111\n",
      " 0.29  0.274 0.261 0.256]\n",
      "[0.368 0.414 0.378 0.394 0.362 0.378 0.422 0.356 0.376 0.384 0.338 0.36\n",
      " 0.382 0.384 0.352 0.362 0.422 0.404 0.404 0.392 0.346 0.388 0.388 0.346\n",
      " 0.356 0.402 0.4   0.4   0.39  0.356 0.412 0.41  0.394 0.43  0.392 0.44\n",
      " 0.406 0.342 0.384 0.396 0.39  0.374 0.406 0.32  0.386 0.394 0.392 0.398\n",
      " 0.4   0.37  0.364 0.372 0.414 0.368 0.428 0.312 0.398 0.35  0.386 0.454\n",
      " 0.336 0.372 0.394 0.408 0.342 0.44  0.42  0.382 0.374 0.378 0.468 0.414\n",
      " 0.38  0.354 0.378 0.394 0.392 0.418 0.358 0.356 0.37  0.364 0.318 0.366\n",
      " 0.442 0.41  0.428 0.392 0.414 0.338 0.38  0.404 0.416 0.338 0.368 0.408\n",
      " 0.36  0.39  0.398 0.408] [0.102 0.101 0.1   0.091 0.111 0.106 0.109 0.1   0.108 0.095 0.09  0.103\n",
      " 0.104 0.094 0.099 0.082 0.107 0.092 0.116 0.12  0.101 0.086 0.098 0.1\n",
      " 0.115 0.108 0.118 0.1   0.098 0.09  0.089 0.102 0.095 0.101 0.106 0.114\n",
      " 0.099 0.089 0.115 0.091 0.11  0.097 0.103 0.092 0.091 0.103 0.096 0.11\n",
      " 0.095 0.095 0.103 0.108 0.087 0.102 0.099 0.091 0.105 0.099 0.102 0.124\n",
      " 0.092 0.106 0.091 0.103 0.083 0.098 0.113 0.102 0.1   0.106 0.104 0.097\n",
      " 0.094 0.095 0.086 0.102 0.094 0.115 0.083 0.098 0.096 0.097 0.101 0.089\n",
      " 0.101 0.1   0.106 0.102 0.087 0.103 0.11  0.104 0.087 0.096 0.098 0.11\n",
      " 0.093 0.109 0.092 0.099]\n"
     ]
    }
   ],
   "source": [
    "epsilon_values  = [0,0.25,0.5,0.75,1.0]\n",
    "all_rewards_avg = []\n",
    "all_optimal_action_perc = []\n",
    "\n",
    "for e_step in range(4):\n",
    "    rewards_avg, optimal_action_perc = run_game()\n",
    "    all_rewards_avg.append()\n",
    "    print(rewards_avg,optimal_action_perc)"
   ]
  },
  {
   "cell_type": "code",
   "execution_count": null,
   "metadata": {},
   "outputs": [],
   "source": []
  },
  {
   "cell_type": "code",
   "execution_count": null,
   "metadata": {},
   "outputs": [],
   "source": []
  },
  {
   "cell_type": "markdown",
   "metadata": {},
   "source": [
    "# Reference\n",
    "1. Reinforcement Learning with Multi Arm Bandit – ITNEXT. (2018). ITNEXT. Retrieved 24 December 2018, from https://itnext.io/reinforcement-learning-with-multi-arm-bandit-decf442e02d2\n",
    "2. matplotlib.pyplot.bar — Matplotlib 3.0.2 documentation. (2018). Matplotlib.org. Retrieved 24 December 2018, from https://matplotlib.org/api/_as_gen/matplotlib.pyplot.bar.html\n",
    "3. "
   ]
  }
 ],
 "metadata": {
  "kernelspec": {
   "display_name": "Python 3",
   "language": "python",
   "name": "python3"
  },
  "language_info": {
   "codemirror_mode": {
    "name": "ipython",
    "version": 3
   },
   "file_extension": ".py",
   "mimetype": "text/x-python",
   "name": "python",
   "nbconvert_exporter": "python",
   "pygments_lexer": "ipython3",
   "version": "3.6.6"
  },
  "latex_envs": {
   "LaTeX_envs_menu_present": true,
   "autoclose": false,
   "autocomplete": true,
   "bibliofile": "biblio.bib",
   "cite_by": "apalike",
   "current_citInitial": 1,
   "eqLabelWithNumbers": true,
   "eqNumInitial": 1,
   "hotkeys": {
    "equation": "Ctrl-E",
    "itemize": "Ctrl-I"
   },
   "labels_anchors": false,
   "latex_user_defs": false,
   "report_style_numbering": false,
   "user_envs_cfg": false
  },
  "varInspector": {
   "cols": {
    "lenName": 16,
    "lenType": 16,
    "lenVar": 40
   },
   "kernels_config": {
    "python": {
     "delete_cmd_postfix": "",
     "delete_cmd_prefix": "del ",
     "library": "var_list.py",
     "varRefreshCmd": "print(var_dic_list())"
    },
    "r": {
     "delete_cmd_postfix": ") ",
     "delete_cmd_prefix": "rm(",
     "library": "var_list.r",
     "varRefreshCmd": "cat(var_dic_list()) "
    }
   },
   "types_to_exclude": [
    "module",
    "function",
    "builtin_function_or_method",
    "instance",
    "_Feature"
   ],
   "window_display": false
  }
 },
 "nbformat": 4,
 "nbformat_minor": 2
}
