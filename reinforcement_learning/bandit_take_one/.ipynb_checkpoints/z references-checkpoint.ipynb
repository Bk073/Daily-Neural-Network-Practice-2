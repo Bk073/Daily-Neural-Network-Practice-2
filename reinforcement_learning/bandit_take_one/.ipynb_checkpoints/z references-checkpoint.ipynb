{
 "cells": [
  {
   "cell_type": "code",
   "execution_count": 10,
   "metadata": {
    "ExecuteTime": {
     "end_time": "2018-12-24T08:17:18.009552Z",
     "start_time": "2018-12-24T08:17:18.002573Z"
    }
   },
   "outputs": [],
   "source": [
    "import random, datetime, math\n",
    "import numpy as np\n",
    "\n",
    "random.seed(datetime.datetime.now())\n",
    "levers = [\"q1\", \"q2\", \"q3\", \"q4\", \"q5\", \"q6\", \"q7\", \"q8\", \"q9\", \"q10\"]\n",
    "# reward_percent = [random.random() for i in range(10)]\n",
    "reward_percent = list(np.random.uniform(0 ,1 , 10))\n",
    "\n",
    "lever_count, reward_count, expected_return  = ([0, 0, 0, 0, 0, 0, 0, 0, 0, 0] for i in range(3))\n",
    "\n",
    "lever   = random.randint(0, 9)\n",
    "epsilon = 0.33\n",
    "optimal_decision = reward_percent.index(max(reward_percent))"
   ]
  },
  {
   "cell_type": "code",
   "execution_count": 11,
   "metadata": {
    "ExecuteTime": {
     "end_time": "2018-12-24T08:17:18.449570Z",
     "start_time": "2018-12-24T08:17:18.444584Z"
    }
   },
   "outputs": [
    {
     "name": "stdout",
     "output_type": "stream",
     "text": [
      "[0.33 0.01 0.13 0.37 0.32 0.34 0.49 0.22 0.38 0.71]\n",
      "2\n",
      "[0, 0, 0, 0, 0, 0, 0, 0, 0, 0]\n"
     ]
    }
   ],
   "source": [
    "# reward percent \n",
    "print(np.around(reward_percent,2))\n",
    "print(lever)\n",
    "print(expected_return)"
   ]
  },
  {
   "cell_type": "code",
   "execution_count": 29,
   "metadata": {
    "ExecuteTime": {
     "end_time": "2018-12-24T08:17:28.852565Z",
     "start_time": "2018-12-24T08:17:28.803696Z"
    }
   },
   "outputs": [
    {
     "name": "stdout",
     "output_type": "stream",
     "text": [
      "Optimal Decision: q10 with chance: 0.713637 chosen 114475 times. Average reward: 3.314350\n",
      "Optimal Decision: q10 with chance: 0.713637 chosen 115127 times. Average reward: 3.314645\n",
      "Optimal Decision: q10 with chance: 0.713637 chosen 115809 times. Average reward: 3.316082\n",
      "Optimal Decision: q10 with chance: 0.713637 chosen 116498 times. Average reward: 3.316020\n",
      "Optimal Decision: q10 with chance: 0.713637 chosen 117197 times. Average reward: 3.315554\n",
      "Optimal Decision: q10 with chance: 0.713637 chosen 117864 times. Average reward: 3.314770\n",
      "Optimal Decision: q10 with chance: 0.713637 chosen 118545 times. Average reward: 3.315351\n",
      "Optimal Decision: q10 with chance: 0.713637 chosen 119243 times. Average reward: 3.316087\n",
      "Optimal Decision: q10 with chance: 0.713637 chosen 119894 times. Average reward: 3.312882\n",
      "Optimal Decision: q10 with chance: 0.713637 chosen 120582 times. Average reward: 3.313529\n",
      "Epsilon:  0.33\n",
      "Times lever was pulled:    [6569, 6683, 6676, 6528, 6557, 6538, 6680, 6571, 6616, 120582]\n",
      "Expected return value :    [0.335 0.012 0.13  0.38  0.318 0.343 0.484 0.223 0.376 0.714]\n",
      "Ground Truth Reward Prob:  [0.329 0.012 0.131 0.373 0.319 0.344 0.485 0.224 0.382 0.714]\n"
     ]
    }
   ],
   "source": [
    "for i in range(1, 10001):\n",
    "    \n",
    "    #epislon case - explore if the random value is less than epsilon's value we choose a random lever\n",
    "    if random.random() < epsilon:\n",
    "        vals = list(range(0, 10))\n",
    "        vals.remove(expected_return.index(max(expected_return)))\n",
    "        lever = random.choice(vals)\n",
    "\n",
    "    #else, pick the value that has historically given the highest reward\n",
    "    else: lever = expected_return.index(max(expected_return))\n",
    "\n",
    "    #every 100 iterations, print out the optimal lever, its chance and times. also print out the average reward\n",
    "    if i % 1000 == 0: print(\"Optimal Decision: %s with chance: %f chosen %d times. Average reward: %f\" % (levers[optimal_decision], reward_percent[optimal_decision], lever_count[optimal_decision], sum(expected_return)))\n",
    "\n",
    "    #pray to RNGesus that we get a reward from our current lever\n",
    "    if random.random() < reward_percent[lever]:\n",
    "        reward_count[lever]+=1\n",
    "        instant_reward = 1\n",
    "    else:\n",
    "        instant_reward = 0\n",
    "\n",
    "    #update how many times the current lever was pulled\n",
    "    lever_count[lever] = lever_count[lever] + 1\n",
    "\n",
    "    #newestimate function\n",
    "    expected_return[lever] = expected_return[lever] + (1/lever_count[lever]) * (instant_reward - expected_return[lever])\n",
    "\n",
    "print(\"Epsilon: \", epsilon)\n",
    "print(\"Times lever was pulled:   \", lever_count)\n",
    "print(\"Expected return value :   \", np.around(expected_return,3))\n",
    "print(\"Ground Truth Reward Prob: \", np.around(reward_percent, 3))"
   ]
  },
  {
   "cell_type": "code",
   "execution_count": null,
   "metadata": {},
   "outputs": [],
   "source": []
  },
  {
   "cell_type": "code",
   "execution_count": null,
   "metadata": {},
   "outputs": [],
   "source": []
  },
  {
   "cell_type": "code",
   "execution_count": null,
   "metadata": {},
   "outputs": [],
   "source": []
  },
  {
   "cell_type": "code",
   "execution_count": null,
   "metadata": {},
   "outputs": [],
   "source": []
  }
 ],
 "metadata": {
  "kernelspec": {
   "display_name": "Python 3",
   "language": "python",
   "name": "python3"
  },
  "language_info": {
   "codemirror_mode": {
    "name": "ipython",
    "version": 3
   },
   "file_extension": ".py",
   "mimetype": "text/x-python",
   "name": "python",
   "nbconvert_exporter": "python",
   "pygments_lexer": "ipython3",
   "version": "3.6.6"
  },
  "latex_envs": {
   "LaTeX_envs_menu_present": true,
   "autoclose": false,
   "autocomplete": true,
   "bibliofile": "biblio.bib",
   "cite_by": "apalike",
   "current_citInitial": 1,
   "eqLabelWithNumbers": true,
   "eqNumInitial": 1,
   "hotkeys": {
    "equation": "Ctrl-E",
    "itemize": "Ctrl-I"
   },
   "labels_anchors": false,
   "latex_user_defs": false,
   "report_style_numbering": false,
   "user_envs_cfg": false
  },
  "varInspector": {
   "cols": {
    "lenName": 16,
    "lenType": 16,
    "lenVar": 40
   },
   "kernels_config": {
    "python": {
     "delete_cmd_postfix": "",
     "delete_cmd_prefix": "del ",
     "library": "var_list.py",
     "varRefreshCmd": "print(var_dic_list())"
    },
    "r": {
     "delete_cmd_postfix": ") ",
     "delete_cmd_prefix": "rm(",
     "library": "var_list.r",
     "varRefreshCmd": "cat(var_dic_list()) "
    }
   },
   "types_to_exclude": [
    "module",
    "function",
    "builtin_function_or_method",
    "instance",
    "_Feature"
   ],
   "window_display": false
  }
 },
 "nbformat": 4,
 "nbformat_minor": 2
}
