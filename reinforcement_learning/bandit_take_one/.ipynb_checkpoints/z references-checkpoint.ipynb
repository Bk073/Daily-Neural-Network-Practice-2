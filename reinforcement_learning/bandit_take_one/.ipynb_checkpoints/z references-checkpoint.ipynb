{
 "cells": [
  {
   "cell_type": "code",
   "execution_count": 75,
   "metadata": {
    "ExecuteTime": {
     "end_time": "2018-12-22T23:20:56.081730Z",
     "start_time": "2018-12-22T23:20:56.074749Z"
    }
   },
   "outputs": [],
   "source": [
    "import random, datetime, math\n",
    "\n",
    "random.seed(datetime.datetime.now())\n",
    "levers = [\"q1\", \"q2\", \"q3\", \"q4\", \"q5\", \"q6\", \"q7\", \"q8\", \"q9\", \"q10\"]\n",
    "reward_percent = [random.random() for i in range(10)]\n",
    "lever_count, reward_count, expected_return  = ([0, 0, 0, 0, 0, 0, 0, 0, 0, 0] for i in range(3))\n",
    "\n",
    "lever   = random.randint(0, 9)\n",
    "epsilon = 0.33\n",
    "optimal_decision = reward_percent.index(max(reward_percent))"
   ]
  },
  {
   "cell_type": "code",
   "execution_count": 76,
   "metadata": {
    "ExecuteTime": {
     "end_time": "2018-12-22T23:20:56.349015Z",
     "start_time": "2018-12-22T23:20:56.343032Z"
    }
   },
   "outputs": [
    {
     "name": "stdout",
     "output_type": "stream",
     "text": [
      "[0.5  0.71 0.71 0.73 0.81 0.76 0.2  0.35 0.9  0.14]\n",
      "2\n",
      "[0, 0, 0, 0, 0, 0, 0, 0, 0, 0]\n"
     ]
    }
   ],
   "source": [
    "# reward percent \n",
    "print(np.around(reward_percent,2))\n",
    "print(lever)\n",
    "print(expected_return)"
   ]
  },
  {
   "cell_type": "code",
   "execution_count": 100,
   "metadata": {
    "ExecuteTime": {
     "end_time": "2018-12-23T12:54:32.583203Z",
     "start_time": "2018-12-23T12:54:32.566210Z"
    }
   },
   "outputs": [
    {
     "name": "stdout",
     "output_type": "stream",
     "text": [
      "Optimal Decision: q9 with chance: 0.896005 chosen 17386 times. Average reward: 5.810696\n",
      "Optimal Decision: q9 with chance: 0.896005 chosen 17447 times. Average reward: 5.809577\n",
      "Optimal Decision: q9 with chance: 0.896005 chosen 17516 times. Average reward: 5.806808\n",
      "Optimal Decision: q9 with chance: 0.896005 chosen 17589 times. Average reward: 5.801502\n",
      "Optimal Decision: q9 with chance: 0.896005 chosen 17656 times. Average reward: 5.797154\n",
      "Optimal Decision: q9 with chance: 0.896005 chosen 17716 times. Average reward: 5.801325\n",
      "Optimal Decision: q9 with chance: 0.896005 chosen 17784 times. Average reward: 5.808296\n",
      "Optimal Decision: q9 with chance: 0.896005 chosen 17850 times. Average reward: 5.807584\n",
      "Optimal Decision: q9 with chance: 0.896005 chosen 17917 times. Average reward: 5.804495\n",
      "Optimal Decision: q9 with chance: 0.896005 chosen 17994 times. Average reward: 5.804478\n",
      "Epsilon:  0.33\n",
      "Times lever was pulled:    [983, 986, 1045, 1021, 936, 1021, 975, 1030, 17995, 1008]\n",
      "Expected return value :    [0.503 0.697 0.725 0.717 0.807 0.755 0.189 0.377 0.891 0.145]\n",
      "Ground Truth Reward Prob:  [0.501 0.706 0.706 0.732 0.811 0.756 0.201 0.35  0.896 0.137]\n"
     ]
    }
   ],
   "source": [
    "for i in range(1, 1001):\n",
    "    \n",
    "    #epislon case - explore if the random value is less than epsilon's value we choose a random lever\n",
    "    if random.random() < epsilon:\n",
    "        vals = list(range(0, 10))\n",
    "        vals.remove(expected_return.index(max(expected_return)))\n",
    "        lever = random.choice(vals)\n",
    "\n",
    "    #else, pick the value that has historically given the highest reward\n",
    "    else: lever = expected_return.index(max(expected_return))\n",
    "\n",
    "    #every 100 iterations, print out the optimal lever, its chance and times. also print out the average reward\n",
    "    if i % 100 == 0: print(\"Optimal Decision: %s with chance: %f chosen %d times. Average reward: %f\" % (levers[optimal_decision], reward_percent[optimal_decision], lever_count[optimal_decision], sum(expected_return)))\n",
    "\n",
    "    #pray to RNGesus that we get a reward from our current lever\n",
    "    if random.random() < reward_percent[lever]:\n",
    "        reward_count[lever]+=1\n",
    "        instant_reward = 1\n",
    "    else:\n",
    "        instant_reward = 0\n",
    "\n",
    "    #update how many times the current lever was pulled\n",
    "    lever_count[lever] = lever_count[lever] + 1\n",
    "\n",
    "    #newestimate function\n",
    "    expected_return[lever] = expected_return[lever] + (1/lever_count[lever]) * (instant_reward - expected_return[lever])\n",
    "\n",
    "print(\"Epsilon: \", epsilon)\n",
    "print(\"Times lever was pulled:   \", lever_count)\n",
    "print(\"Expected return value :   \", np.around(expected_return,3))\n",
    "print(\"Ground Truth Reward Prob: \", np.around(reward_percent, 3))"
   ]
  },
  {
   "cell_type": "code",
   "execution_count": null,
   "metadata": {},
   "outputs": [],
   "source": []
  },
  {
   "cell_type": "code",
   "execution_count": null,
   "metadata": {},
   "outputs": [],
   "source": []
  },
  {
   "cell_type": "code",
   "execution_count": null,
   "metadata": {},
   "outputs": [],
   "source": []
  },
  {
   "cell_type": "code",
   "execution_count": null,
   "metadata": {},
   "outputs": [],
   "source": []
  }
 ],
 "metadata": {
  "kernelspec": {
   "display_name": "Python 3",
   "language": "python",
   "name": "python3"
  },
  "language_info": {
   "codemirror_mode": {
    "name": "ipython",
    "version": 3
   },
   "file_extension": ".py",
   "mimetype": "text/x-python",
   "name": "python",
   "nbconvert_exporter": "python",
   "pygments_lexer": "ipython3",
   "version": "3.6.6"
  },
  "latex_envs": {
   "LaTeX_envs_menu_present": true,
   "autoclose": false,
   "autocomplete": true,
   "bibliofile": "biblio.bib",
   "cite_by": "apalike",
   "current_citInitial": 1,
   "eqLabelWithNumbers": true,
   "eqNumInitial": 1,
   "hotkeys": {
    "equation": "Ctrl-E",
    "itemize": "Ctrl-I"
   },
   "labels_anchors": false,
   "latex_user_defs": false,
   "report_style_numbering": false,
   "user_envs_cfg": false
  },
  "varInspector": {
   "cols": {
    "lenName": 16,
    "lenType": 16,
    "lenVar": 40
   },
   "kernels_config": {
    "python": {
     "delete_cmd_postfix": "",
     "delete_cmd_prefix": "del ",
     "library": "var_list.py",
     "varRefreshCmd": "print(var_dic_list())"
    },
    "r": {
     "delete_cmd_postfix": ") ",
     "delete_cmd_prefix": "rm(",
     "library": "var_list.r",
     "varRefreshCmd": "cat(var_dic_list()) "
    }
   },
   "types_to_exclude": [
    "module",
    "function",
    "builtin_function_or_method",
    "instance",
    "_Feature"
   ],
   "window_display": false
  }
 },
 "nbformat": 4,
 "nbformat_minor": 2
}
