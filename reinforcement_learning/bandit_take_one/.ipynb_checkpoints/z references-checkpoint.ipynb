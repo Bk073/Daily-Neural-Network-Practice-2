{
 "cells": [
  {
   "cell_type": "code",
   "execution_count": 9,
   "metadata": {
    "ExecuteTime": {
     "end_time": "2018-12-22T23:00:09.688094Z",
     "start_time": "2018-12-22T23:00:09.681111Z"
    }
   },
   "outputs": [],
   "source": [
    "import random, datetime, math\n",
    "\n",
    "random.seed(datetime.datetime.now())\n",
    "levers = [\"q1\", \"q2\", \"q3\", \"q4\", \"q5\", \"q6\", \"q7\", \"q8\", \"q9\", \"q10\"]\n",
    "reward_percent = [random.random() for i in range(10)]\n",
    "lever_count, reward_count, expected_return  = ([0, 0, 0, 0, 0, 0, 0, 0, 0, 0] for i in range(3))\n",
    "\n",
    "lever   = random.randint(0, 9)\n",
    "epsilon = 0.33\n",
    "optimal_decision = reward_percent.index(max(reward_percent))"
   ]
  },
  {
   "cell_type": "code",
   "execution_count": 10,
   "metadata": {
    "ExecuteTime": {
     "end_time": "2018-12-22T23:00:09.971125Z",
     "start_time": "2018-12-22T23:00:09.966133Z"
    }
   },
   "outputs": [
    {
     "name": "stdout",
     "output_type": "stream",
     "text": [
      "[0.95 0.88 0.16 0.67 0.37 0.99 0.72 0.5  0.11 0.96]\n",
      "8\n",
      "[0, 0, 0, 0, 0, 0, 0, 0, 0, 0]\n"
     ]
    }
   ],
   "source": [
    "# reward percent \n",
    "print(np.around(reward_percent,2))\n",
    "print(lever)\n",
    "print(expected_return)"
   ]
  },
  {
   "cell_type": "code",
   "execution_count": 12,
   "metadata": {
    "ExecuteTime": {
     "end_time": "2018-12-22T23:01:21.059270Z",
     "start_time": "2018-12-22T23:01:21.046307Z"
    }
   },
   "outputs": [
    {
     "name": "stdout",
     "output_type": "stream",
     "text": [
      "Optimal Decision: q6 with chance: 99.000000 chosen 214 times. Average reward: 6.347491\n",
      "Optimal Decision: q6 with chance: 99.000000 chosen 275 times. Average reward: 6.696891\n",
      "Optimal Decision: q6 with chance: 99.000000 chosen 323 times. Average reward: 7.041523\n",
      "Optimal Decision: q6 with chance: 99.000000 chosen 390 times. Average reward: 7.252687\n",
      "Optimal Decision: q6 with chance: 99.000000 chosen 458 times. Average reward: 7.378861\n",
      "Optimal Decision: q6 with chance: 99.000000 chosen 524 times. Average reward: 7.529321\n",
      "Optimal Decision: q6 with chance: 99.000000 chosen 591 times. Average reward: 7.650558\n",
      "Optimal Decision: q6 with chance: 99.000000 chosen 657 times. Average reward: 7.768846\n",
      "Optimal Decision: q6 with chance: 99.000000 chosen 734 times. Average reward: 7.838972\n",
      "Optimal Decision: q6 with chance: 99.000000 chosen 793 times. Average reward: 7.953162\n",
      "Epsilon:  0.33\n",
      "Times lever was pulled:    [142, 62, 82, 71, 79, 794, 86, 68, 78, 538]\n",
      "Expected return value :    [0.9654929577464789, 0.9225806451612902, 0.5875609756097562, 0.8898591549295776, 0.6721518987341772, 0.9981863979848865, 0.8372093023255813, 0.6800000000000002, 0.42794871794871797, 0.972174721189591]\n",
      "Ground Truth Reward Prob:  [9600, 8900, 1700, 6800, 3800, 9900, 7200, 5000, 1200, 9700]\n"
     ]
    }
   ],
   "source": [
    "for i in range(1, 1001):\n",
    "    \n",
    "    #epislon case - explore if the random value is less than epsilon's value we choose a random lever\n",
    "    if random.random() < epsilon:\n",
    "        vals = list(range(0, 10))\n",
    "        vals.remove(expected_return.index(max(expected_return)))\n",
    "        lever = random.choice(vals)\n",
    "\n",
    "    # if we havent received a reward yet and our epsilon case did not occur, \n",
    "    # just stick with the same lever (if we just use the case below, max() \n",
    "    # will return 0 on our first iteration)\n",
    "    elif max(reward_count) == 0: lever = lever\n",
    "\n",
    "    #else, pick the value that has historically given the highest reward\n",
    "    else: lever = expected_return.index(max(expected_return))\n",
    "\n",
    "    #every 100 iterations, print out the optimal lever, its chance and times. also print out the average reward\n",
    "    if i % 100 == 0: print(\"Optimal Decision: %s with chance: %f chosen %d times. Average reward: %f\" % (levers[optimal_decision], reward_percent[optimal_decision], lever_count[optimal_decision], sum(expected_return)))\n",
    "\n",
    "    #pray to RNGesus that we get a reward from our current lever\n",
    "    if random.random() < reward_percent[lever]:\n",
    "        reward_count[lever]+=1\n",
    "        instant_reward = 1\n",
    "    else:\n",
    "        instant_reward = 0\n",
    "\n",
    "    #update how many times the current lever was pulled\n",
    "    lever_count[lever] = lever_count[lever] + 1\n",
    "\n",
    "    #newestimate function\n",
    "    expected_return[lever] = expected_return[lever] + (1/lever_count[lever]) * (instant_reward - expected_return[lever])\n",
    "\n",
    "#rounding at the end for prettier printing\n",
    "#reward_percent  = [int((math.ceil(num*100)/100)*100) for num in reward_percent]\n",
    " expected_return = [math.ceil(num*100)/100 for num in expected_return]\n",
    "\n",
    "print(\"Epsilon: \", epsilon)\n",
    "print(\"Times lever was pulled:   \", lever_count)\n",
    "print(\"Expected return value :   \", expected_return)\n",
    "print(\"Ground Truth Reward Prob: \", reward_percent)"
   ]
  },
  {
   "cell_type": "code",
   "execution_count": null,
   "metadata": {},
   "outputs": [],
   "source": []
  },
  {
   "cell_type": "code",
   "execution_count": null,
   "metadata": {},
   "outputs": [],
   "source": []
  },
  {
   "cell_type": "code",
   "execution_count": null,
   "metadata": {},
   "outputs": [],
   "source": []
  },
  {
   "cell_type": "code",
   "execution_count": null,
   "metadata": {},
   "outputs": [],
   "source": []
  }
 ],
 "metadata": {
  "kernelspec": {
   "display_name": "Python 3",
   "language": "python",
   "name": "python3"
  },
  "language_info": {
   "codemirror_mode": {
    "name": "ipython",
    "version": 3
   },
   "file_extension": ".py",
   "mimetype": "text/x-python",
   "name": "python",
   "nbconvert_exporter": "python",
   "pygments_lexer": "ipython3",
   "version": "3.6.6"
  },
  "latex_envs": {
   "LaTeX_envs_menu_present": true,
   "autoclose": false,
   "autocomplete": true,
   "bibliofile": "biblio.bib",
   "cite_by": "apalike",
   "current_citInitial": 1,
   "eqLabelWithNumbers": true,
   "eqNumInitial": 1,
   "hotkeys": {
    "equation": "Ctrl-E",
    "itemize": "Ctrl-I"
   },
   "labels_anchors": false,
   "latex_user_defs": false,
   "report_style_numbering": false,
   "user_envs_cfg": false
  },
  "varInspector": {
   "cols": {
    "lenName": 16,
    "lenType": 16,
    "lenVar": 40
   },
   "kernels_config": {
    "python": {
     "delete_cmd_postfix": "",
     "delete_cmd_prefix": "del ",
     "library": "var_list.py",
     "varRefreshCmd": "print(var_dic_list())"
    },
    "r": {
     "delete_cmd_postfix": ") ",
     "delete_cmd_prefix": "rm(",
     "library": "var_list.r",
     "varRefreshCmd": "cat(var_dic_list()) "
    }
   },
   "types_to_exclude": [
    "module",
    "function",
    "builtin_function_or_method",
    "instance",
    "_Feature"
   ],
   "window_display": false
  }
 },
 "nbformat": 4,
 "nbformat_minor": 2
}
