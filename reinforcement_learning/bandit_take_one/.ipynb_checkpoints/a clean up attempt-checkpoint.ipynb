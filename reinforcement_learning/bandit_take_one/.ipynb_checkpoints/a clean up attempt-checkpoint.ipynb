{
 "cells": [
  {
   "cell_type": "code",
   "execution_count": 5,
   "metadata": {
    "ExecuteTime": {
     "end_time": "2019-01-02T06:38:52.979751Z",
     "start_time": "2019-01-02T06:38:52.973308Z"
    }
   },
   "outputs": [],
   "source": [
    "# import lib\n",
    "import numpy as np \n",
    "import tensorflow as tf\n",
    "import matplotlib.pyplot as plt\n",
    "import threading\n",
    "import multiprocessing\n",
    "from multiprocessing import Process,Manager,Array\n",
    "import scipy\n",
    "np.random.seed(78)\n",
    "tf.set_random_seed(678)"
   ]
  },
  {
   "cell_type": "code",
   "execution_count": 9,
   "metadata": {
    "ExecuteTime": {
     "end_time": "2019-01-02T06:42:49.859537Z",
     "start_time": "2019-01-02T06:42:49.504896Z"
    }
   },
   "outputs": [
    {
     "name": "stdout",
     "output_type": "stream",
     "text": [
      "0\n"
     ]
    }
   ],
   "source": [
    "# function\n",
    "import time\n",
    "from multiprocessing import Process, Value, Lock\n",
    "\n",
    "def func(val, lock):\n",
    "    for i in range(50):\n",
    "        time.sleep(0.01)\n",
    "        with lock:\n",
    "            val.value += 1\n",
    "\n",
    "v = Value('i', 0)\n",
    "lock = Lock()\n",
    "procs = [Process(target=func, args=(v, lock)) for i in range(10)]\n",
    "\n",
    "for p in procs: p.start()\n",
    "for p in procs: p.join()\n",
    "\n",
    "print(v.value)"
   ]
  },
  {
   "cell_type": "code",
   "execution_count": null,
   "metadata": {},
   "outputs": [],
   "source": [
    "from multiprocessing import Process, Array\n",
    "import scipy\n",
    "import numpy\n",
    "\n",
    "def f(a):\n",
    "    a[0] = -a[0]\n",
    "\n",
    "if __name__ == '__main__':\n",
    "    # Create the array\n",
    "    N = int(10)\n",
    "    unshared_arr = scipy.rand(N)\n",
    "    a = Array('d', unshared_arr)\n",
    "    print \"Originally, the first two elements of arr = %s\"%(a[:2])\n",
    "\n",
    "    # Create, start, and finish the child process\n",
    "    p = Process(target=f, args=(a,))\n",
    "    p.start()\n",
    "    p.join()\n",
    "\n",
    "    # Print out the changed values\n",
    "    print \"Now, the first two elements of arr = %s\"%a[:2]\n",
    "\n",
    "    b = numpy.frombuffer(a.get_obj())\n",
    "\n",
    "    b[0] = 10.0\n",
    "    print a[0]"
   ]
  },
  {
   "cell_type": "code",
   "execution_count": null,
   "metadata": {},
   "outputs": [],
   "source": []
  },
  {
   "cell_type": "code",
   "execution_count": null,
   "metadata": {},
   "outputs": [],
   "source": []
  },
  {
   "cell_type": "code",
   "execution_count": null,
   "metadata": {},
   "outputs": [],
   "source": []
  },
  {
   "cell_type": "code",
   "execution_count": null,
   "metadata": {},
   "outputs": [],
   "source": []
  },
  {
   "cell_type": "code",
   "execution_count": null,
   "metadata": {},
   "outputs": [],
   "source": []
  }
 ],
 "metadata": {
  "kernelspec": {
   "display_name": "Python 3",
   "language": "python",
   "name": "python3"
  },
  "language_info": {
   "codemirror_mode": {
    "name": "ipython",
    "version": 3
   },
   "file_extension": ".py",
   "mimetype": "text/x-python",
   "name": "python",
   "nbconvert_exporter": "python",
   "pygments_lexer": "ipython3",
   "version": "3.6.6"
  },
  "latex_envs": {
   "LaTeX_envs_menu_present": true,
   "autoclose": false,
   "autocomplete": true,
   "bibliofile": "biblio.bib",
   "cite_by": "apalike",
   "current_citInitial": 1,
   "eqLabelWithNumbers": true,
   "eqNumInitial": 1,
   "hotkeys": {
    "equation": "Ctrl-E",
    "itemize": "Ctrl-I"
   },
   "labels_anchors": false,
   "latex_user_defs": false,
   "report_style_numbering": false,
   "user_envs_cfg": false
  },
  "varInspector": {
   "cols": {
    "lenName": 16,
    "lenType": 16,
    "lenVar": 40
   },
   "kernels_config": {
    "python": {
     "delete_cmd_postfix": "",
     "delete_cmd_prefix": "del ",
     "library": "var_list.py",
     "varRefreshCmd": "print(var_dic_list())"
    },
    "r": {
     "delete_cmd_postfix": ") ",
     "delete_cmd_prefix": "rm(",
     "library": "var_list.r",
     "varRefreshCmd": "cat(var_dic_list()) "
    }
   },
   "types_to_exclude": [
    "module",
    "function",
    "builtin_function_or_method",
    "instance",
    "_Feature"
   ],
   "window_display": false
  }
 },
 "nbformat": 4,
 "nbformat_minor": 2
}
