{
 "cells": [
  {
   "cell_type": "code",
   "execution_count": 1,
   "metadata": {
    "ExecuteTime": {
     "end_time": "2018-12-25T09:38:08.225034Z",
     "start_time": "2018-12-25T09:37:53.159644Z"
    }
   },
   "outputs": [],
   "source": [
    "# import lib\n",
    "import numpy as np \n",
    "import tensorflow as tf\n",
    "import matplotlib.pyplot as plt\n",
    "import threading\n",
    "np.random.seed(78)\n",
    "tf.set_random_seed(678)"
   ]
  },
  {
   "cell_type": "code",
   "execution_count": 2,
   "metadata": {
    "ExecuteTime": {
     "end_time": "2018-12-25T09:38:32.073049Z",
     "start_time": "2018-12-25T09:38:32.067040Z"
    }
   },
   "outputs": [
    {
     "name": "stdout",
     "output_type": "stream",
     "text": [
      "[0.04818123 0.68096301 0.79869607 0.80010859 0.96529725 0.44401982\n",
      " 0.83123488 0.24656763 0.05027788 0.48743178]\n",
      "[0. 0. 0. 0. 0. 0. 0. 0. 0. 0.]\n",
      "[0. 0. 0. 0. 0. 0. 0. 0. 0. 0.]\n"
     ]
    }
   ],
   "source": [
    "# declare\n",
    "num_epoch    = 10000\n",
    "ground_truth = np.random.uniform(0,1,10)\n",
    "expected     = np.zeros(10)\n",
    "pull_count   = np.zeros(10) \n",
    "print(ground_truth)\n",
    "print(expected)\n",
    "print(pull_count)"
   ]
  },
  {
   "cell_type": "code",
   "execution_count": 3,
   "metadata": {
    "ExecuteTime": {
     "end_time": "2018-12-25T09:38:32.615086Z",
     "start_time": "2018-12-25T09:38:32.546269Z"
    }
   },
   "outputs": [
    {
     "name": "stdout",
     "output_type": "stream",
     "text": [
      "[0.048 0.681 0.799 0.8   0.965 0.444 0.831 0.247 0.05  0.487]\n",
      "[0.036 0.673 0.807 0.806 0.969 0.478 0.842 0.24  0.051 0.471]\n",
      "[1008. 1038.  933.  972. 1023. 1013. 1043. 1006.  965.  999.]\n"
     ]
    }
   ],
   "source": [
    "# train \n",
    "for iter in range(num_epoch):\n",
    "    current_action = np.random.randint(10)\n",
    "    pull_count[current_action] = pull_count[current_action] + 1\n",
    "    if np.random.uniform(0,1) < ground_truth[current_action]: current_reward = 1\n",
    "    else: current_reward = 0\n",
    "    expected[current_action] = expected[current_action] + (1/pull_count[current_action]) * (current_reward-expected[current_action])\n",
    "    \n",
    "print(np.around(ground_truth,3))\n",
    "print(np.around(expected,3))\n",
    "print(np.around(pull_count,3))"
   ]
  },
  {
   "cell_type": "code",
   "execution_count": 4,
   "metadata": {
    "ExecuteTime": {
     "end_time": "2018-12-25T09:38:50.107027Z",
     "start_time": "2018-12-25T09:38:50.026245Z"
    }
   },
   "outputs": [
    {
     "name": "stdout",
     "output_type": "stream",
     "text": [
      "[0.04818123 0.68096301 0.79869607 0.80010859 0.96529725 0.44401982\n",
      " 0.83123488 0.24656763 0.05027788 0.48743178]\n",
      "[0. 0. 0. 0. 0. 0. 0. 0. 0. 0.]\n",
      "[0. 0. 0. 0. 0. 0. 0. 0. 0. 0.]\n",
      "[0.048 0.681 0.799 0.8   0.965 0.444 0.831 0.247 0.05  0.487]\n",
      "[0.051 0.682 0.789 0.81  0.977 0.457 0.823 0.231 0.038 0.465]\n",
      "[1023. 1034. 1027. 1016.  960.  983.  945. 1027. 1019.  966.]\n"
     ]
    }
   ],
   "source": [
    "# declare\n",
    "expected     = np.zeros(10)\n",
    "pull_count   = np.zeros(10) \n",
    "print(ground_truth)\n",
    "print(expected)\n",
    "print(pull_count)\n",
    "\n",
    "def findvalue():\n",
    "    global expected,pull_count\n",
    "    for iter in range(num_epoch//2):\n",
    "        current_action = np.random.randint(10)\n",
    "        pull_count[current_action] = pull_count[current_action] + 1\n",
    "        if np.random.uniform(0,1) < ground_truth[current_action]: current_reward = 1\n",
    "        else: current_reward = 0\n",
    "        expected[current_action] = expected[current_action] + (1/pull_count[current_action]) * (current_reward-expected[current_action])\n",
    "  \n",
    "jobs = []\n",
    "for i in range(0, 2):\n",
    "    thread = threading.Thread(target=findvalue())\n",
    "    jobs.append(thread)\n",
    "\n",
    "for x in jobs:\n",
    "    x.start()\n",
    "\n",
    "for x in jobs:\n",
    "    x.join()\n",
    "\n",
    "print(np.around(ground_truth,3))\n",
    "print(np.around(expected,3))\n",
    "print(np.around(pull_count,3))"
   ]
  },
  {
   "cell_type": "code",
   "execution_count": 128,
   "metadata": {
    "ExecuteTime": {
     "end_time": "2018-12-25T09:34:18.945266Z",
     "start_time": "2018-12-25T09:34:18.923326Z"
    }
   },
   "outputs": [
    {
     "name": "stdout",
     "output_type": "stream",
     "text": [
      "[0.81  0.424 0.829 0.009 0.086 0.463 0.117 0.486 0.44  0.161]\n",
      "[0.875 0.333 1.    0.    0.    0.5   0.125 0.5   0.2   0.5  ]\n",
      "[ 8.  3.  1.  4.  6.  4.  8.  6. 10.  2.]\n"
     ]
    }
   ],
   "source": []
  },
  {
   "cell_type": "code",
   "execution_count": null,
   "metadata": {
    "ExecuteTime": {
     "end_time": "2018-12-24T14:11:28.828126Z",
     "start_time": "2018-12-24T14:11:09.794105Z"
    }
   },
   "outputs": [],
   "source": []
  },
  {
   "cell_type": "code",
   "execution_count": null,
   "metadata": {},
   "outputs": [],
   "source": []
  },
  {
   "cell_type": "code",
   "execution_count": null,
   "metadata": {},
   "outputs": [],
   "source": []
  },
  {
   "cell_type": "code",
   "execution_count": null,
   "metadata": {},
   "outputs": [],
   "source": []
  },
  {
   "cell_type": "markdown",
   "metadata": {},
   "source": [
    "# Reference \n",
    "1. Solving the Multi-Armed Bandit Problem – Towards Data Science. (2017). Towards Data Science. Retrieved 24 December 2018, from https://towardsdatascience.com/solving-the-multi-armed-bandit-problem-b72de40db97c\n",
    "2. "
   ]
  }
 ],
 "metadata": {
  "kernelspec": {
   "display_name": "Python 3",
   "language": "python",
   "name": "python3"
  },
  "latex_envs": {
   "LaTeX_envs_menu_present": true,
   "autoclose": false,
   "autocomplete": true,
   "bibliofile": "biblio.bib",
   "cite_by": "apalike",
   "current_citInitial": 1,
   "eqLabelWithNumbers": true,
   "eqNumInitial": 1,
   "hotkeys": {
    "equation": "Ctrl-E",
    "itemize": "Ctrl-I"
   },
   "labels_anchors": false,
   "latex_user_defs": false,
   "report_style_numbering": false,
   "user_envs_cfg": false
  },
  "varInspector": {
   "cols": {
    "lenName": 16,
    "lenType": 16,
    "lenVar": 40
   },
   "kernels_config": {
    "python": {
     "delete_cmd_postfix": "",
     "delete_cmd_prefix": "del ",
     "library": "var_list.py",
     "varRefreshCmd": "print(var_dic_list())"
    },
    "r": {
     "delete_cmd_postfix": ") ",
     "delete_cmd_prefix": "rm(",
     "library": "var_list.r",
     "varRefreshCmd": "cat(var_dic_list()) "
    }
   },
   "types_to_exclude": [
    "module",
    "function",
    "builtin_function_or_method",
    "instance",
    "_Feature"
   ],
   "window_display": false
  }
 },
 "nbformat": 4,
 "nbformat_minor": 2
}
