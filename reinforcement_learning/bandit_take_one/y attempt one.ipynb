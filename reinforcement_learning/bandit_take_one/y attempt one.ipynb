{
 "cells": [
  {
   "cell_type": "code",
   "execution_count": 2,
   "metadata": {
    "ExecuteTime": {
     "end_time": "2018-12-24T11:43:55.565984Z",
     "start_time": "2018-12-24T11:43:55.525512Z"
    }
   },
   "outputs": [],
   "source": [
    "# import lib\n",
    "import numpy as np \n",
    "import tensorflow as tf\n",
    "import matplotlib.pyplot as plt\n",
    "\n",
    "np.random.seed(78)\n",
    "tf.set_random_seed(678)"
   ]
  },
  {
   "cell_type": "code",
   "execution_count": 31,
   "metadata": {
    "ExecuteTime": {
     "end_time": "2018-12-24T12:43:23.261887Z",
     "start_time": "2018-12-24T12:43:23.256886Z"
    }
   },
   "outputs": [
    {
     "name": "stdout",
     "output_type": "stream",
     "text": [
      "[0.19452121 0.91838531 0.68906848 0.24437955 0.63711696 0.27985914\n",
      " 0.94169872 0.05066309 0.88659284 0.49082195]\n",
      "[0. 0. 0. 0. 0. 0. 0. 0. 0. 0.]\n",
      "[1.e-10 1.e-10 1.e-10 1.e-10 1.e-10 1.e-10 1.e-10 1.e-10 1.e-10 1.e-10]\n"
     ]
    }
   ],
   "source": [
    "# declare\n",
    "num_epoch    = 10\n",
    "ground_truth = np.random.uniform(0,1,10)\n",
    "expected     = np.zeros(10)\n",
    "pull_count   = np.zeros(10) + 1e-10\n",
    "print(ground_truth)\n",
    "print(expected)\n",
    "print(pull_count)"
   ]
  },
  {
   "cell_type": "code",
   "execution_count": 29,
   "metadata": {
    "ExecuteTime": {
     "end_time": "2018-12-24T12:38:33.245603Z",
     "start_time": "2018-12-24T12:38:33.237623Z"
    }
   },
   "outputs": [
    {
     "name": "stdout",
     "output_type": "stream",
     "text": [
      "0\n",
      "0.9109796506321873\n",
      "0\n",
      "------\n",
      "7\n",
      "0.2414776262567656\n",
      "0\n",
      "------\n",
      "3\n",
      "0.5519274902548998\n",
      "0\n",
      "------\n",
      "9\n",
      "0.24400811383276544\n",
      "0\n",
      "------\n",
      "7\n",
      "0.2414776262567656\n",
      "0\n",
      "------\n",
      "5\n",
      "0.291016382189513\n",
      "0\n",
      "------\n",
      "1\n",
      "0.3443528034183553\n",
      "0\n",
      "------\n",
      "8\n",
      "0.3206369844038238\n",
      "0\n",
      "------\n",
      "7\n",
      "0.2414776262567656\n",
      "1\n",
      "------\n",
      "0\n",
      "0.9109796506321873\n",
      "1\n",
      "------\n"
     ]
    }
   ],
   "source": [
    "# train \n",
    "for iter in range(num_epoch):\n",
    "    current_action = np.random.randint(10)\n",
    "    pull_count[current_action] = pull_count[current_action] + 1\n",
    "    if np.random.uniform(0,1) < ground_truth[current_action]: current_reward = 1\n",
    "    else: current_reward = 0\n",
    "    \n",
    "    expected[current_action] = expected[current_action] + (1/pull_count[current_action])"
   ]
  },
  {
   "cell_type": "code",
   "execution_count": null,
   "metadata": {},
   "outputs": [],
   "source": []
  },
  {
   "cell_type": "code",
   "execution_count": null,
   "metadata": {},
   "outputs": [],
   "source": []
  },
  {
   "cell_type": "code",
   "execution_count": null,
   "metadata": {},
   "outputs": [],
   "source": []
  },
  {
   "cell_type": "code",
   "execution_count": null,
   "metadata": {},
   "outputs": [],
   "source": []
  },
  {
   "cell_type": "code",
   "execution_count": null,
   "metadata": {},
   "outputs": [],
   "source": []
  },
  {
   "cell_type": "code",
   "execution_count": null,
   "metadata": {},
   "outputs": [],
   "source": []
  },
  {
   "cell_type": "markdown",
   "metadata": {},
   "source": [
    "# Reference \n",
    "1. Solving the Multi-Armed Bandit Problem – Towards Data Science. (2017). Towards Data Science. Retrieved 24 December 2018, from https://towardsdatascience.com/solving-the-multi-armed-bandit-problem-b72de40db97c\n",
    "2. "
   ]
  }
 ],
 "metadata": {
  "kernelspec": {
   "display_name": "Python 3",
   "language": "python",
   "name": "python3"
  },
  "language_info": {
   "codemirror_mode": {
    "name": "ipython",
    "version": 3
   },
   "file_extension": ".py",
   "mimetype": "text/x-python",
   "name": "python",
   "nbconvert_exporter": "python",
   "pygments_lexer": "ipython3",
   "version": "3.6.6"
  },
  "latex_envs": {
   "LaTeX_envs_menu_present": true,
   "autoclose": false,
   "autocomplete": true,
   "bibliofile": "biblio.bib",
   "cite_by": "apalike",
   "current_citInitial": 1,
   "eqLabelWithNumbers": true,
   "eqNumInitial": 1,
   "hotkeys": {
    "equation": "Ctrl-E",
    "itemize": "Ctrl-I"
   },
   "labels_anchors": false,
   "latex_user_defs": false,
   "report_style_numbering": false,
   "user_envs_cfg": false
  },
  "varInspector": {
   "cols": {
    "lenName": 16,
    "lenType": 16,
    "lenVar": 40
   },
   "kernels_config": {
    "python": {
     "delete_cmd_postfix": "",
     "delete_cmd_prefix": "del ",
     "library": "var_list.py",
     "varRefreshCmd": "print(var_dic_list())"
    },
    "r": {
     "delete_cmd_postfix": ") ",
     "delete_cmd_prefix": "rm(",
     "library": "var_list.r",
     "varRefreshCmd": "cat(var_dic_list()) "
    }
   },
   "types_to_exclude": [
    "module",
    "function",
    "builtin_function_or_method",
    "instance",
    "_Feature"
   ],
   "window_display": false
  }
 },
 "nbformat": 4,
 "nbformat_minor": 2
}
