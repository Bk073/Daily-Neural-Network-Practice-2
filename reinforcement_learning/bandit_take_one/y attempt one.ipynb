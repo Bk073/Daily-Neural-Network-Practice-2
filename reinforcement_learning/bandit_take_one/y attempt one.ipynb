{
 "cells": [
  {
   "cell_type": "code",
   "execution_count": 1,
   "metadata": {
    "ExecuteTime": {
     "end_time": "2018-12-25T09:38:08.225034Z",
     "start_time": "2018-12-25T09:37:53.159644Z"
    }
   },
   "outputs": [],
   "source": [
    "# import lib\n",
    "import numpy as np \n",
    "import tensorflow as tf\n",
    "import matplotlib.pyplot as plt\n",
    "import threading\n",
    "np.random.seed(78)\n",
    "tf.set_random_seed(678)"
   ]
  },
  {
   "cell_type": "code",
   "execution_count": 8,
   "metadata": {
    "ExecuteTime": {
     "end_time": "2018-12-25T09:39:29.438124Z",
     "start_time": "2018-12-25T09:39:29.432138Z"
    }
   },
   "outputs": [
    {
     "name": "stdout",
     "output_type": "stream",
     "text": [
      "[0.90626164 0.02255411 0.87551925 0.11565788 0.09965873 0.92431365\n",
      " 0.88146685 0.12355341 0.18428255 0.04542723]\n",
      "[0. 0. 0. 0. 0. 0. 0. 0. 0. 0.]\n",
      "[0. 0. 0. 0. 0. 0. 0. 0. 0. 0.]\n"
     ]
    }
   ],
   "source": [
    "# declare\n",
    "num_epoch    = 1000000\n",
    "ground_truth = np.random.uniform(0,1,10)\n",
    "expected     = np.zeros(10)\n",
    "pull_count   = np.zeros(10) \n",
    "print(ground_truth)\n",
    "print(expected)\n",
    "print(pull_count)"
   ]
  },
  {
   "cell_type": "code",
   "execution_count": 9,
   "metadata": {
    "ExecuteTime": {
     "end_time": "2018-12-25T09:39:35.147088Z",
     "start_time": "2018-12-25T09:39:30.013999Z"
    }
   },
   "outputs": [
    {
     "name": "stdout",
     "output_type": "stream",
     "text": [
      "[0.906 0.023 0.876 0.116 0.1   0.924 0.881 0.124 0.184 0.045]\n",
      "[0.904 0.023 0.876 0.114 0.098 0.924 0.882 0.124 0.186 0.045]\n",
      "[ 99894. 100048.  99708. 100042. 100219.  99885.  99606. 100124. 100277.\n",
      " 100197.]\n"
     ]
    }
   ],
   "source": [
    "# train \n",
    "for iter in range(num_epoch):\n",
    "    current_action = np.random.randint(10)\n",
    "    pull_count[current_action] = pull_count[current_action] + 1\n",
    "    if np.random.uniform(0,1) < ground_truth[current_action]: current_reward = 1\n",
    "    else: current_reward = 0\n",
    "    expected[current_action] = expected[current_action] + (1/pull_count[current_action]) * (current_reward-expected[current_action])\n",
    "    \n",
    "print(np.around(ground_truth,3))\n",
    "print(np.around(expected,3))\n",
    "print(np.around(pull_count,3))"
   ]
  },
  {
   "cell_type": "code",
   "execution_count": 10,
   "metadata": {
    "ExecuteTime": {
     "end_time": "2018-12-25T09:39:41.882690Z",
     "start_time": "2018-12-25T09:39:37.175383Z"
    }
   },
   "outputs": [
    {
     "name": "stdout",
     "output_type": "stream",
     "text": [
      "[0.90626164 0.02255411 0.87551925 0.11565788 0.09965873 0.92431365\n",
      " 0.88146685 0.12355341 0.18428255 0.04542723]\n",
      "[0. 0. 0. 0. 0. 0. 0. 0. 0. 0.]\n",
      "[0. 0. 0. 0. 0. 0. 0. 0. 0. 0.]\n",
      "[0.906 0.023 0.876 0.116 0.1   0.924 0.881 0.124 0.184 0.045]\n",
      "[0.906 0.022 0.875 0.115 0.099 0.922 0.882 0.124 0.184 0.045]\n",
      "[ 99787. 100324. 100545.  99759.  99898.  99667.  99909. 100175. 100262.\n",
      "  99674.]\n"
     ]
    }
   ],
   "source": [
    "# multi threaded\n",
    "expected     = np.zeros(10)\n",
    "pull_count   = np.zeros(10) \n",
    "print(ground_truth)\n",
    "print(expected)\n",
    "print(pull_count)\n",
    "\n",
    "def findvalue():\n",
    "    global expected,pull_count\n",
    "    for iter in range(num_epoch//2):\n",
    "        current_action = np.random.randint(10)\n",
    "        pull_count[current_action] = pull_count[current_action] + 1\n",
    "        if np.random.uniform(0,1) < ground_truth[current_action]: current_reward = 1\n",
    "        else: current_reward = 0\n",
    "        expected[current_action] = expected[current_action] + (1/pull_count[current_action]) * (current_reward-expected[current_action])\n",
    "  \n",
    "jobs = []\n",
    "for i in range(0, 2):\n",
    "    thread = threading.Thread(target=findvalue())\n",
    "    jobs.append(thread)\n",
    "\n",
    "for x in jobs:\n",
    "    x.start()\n",
    "\n",
    "for x in jobs:\n",
    "    x.join()\n",
    "\n",
    "print(np.around(ground_truth,3))\n",
    "print(np.around(expected,3))\n",
    "print(np.around(pull_count,3))"
   ]
  },
  {
   "cell_type": "code",
   "execution_count": null,
   "metadata": {
    "ExecuteTime": {
     "end_time": "2018-12-25T09:34:18.945266Z",
     "start_time": "2018-12-25T09:34:18.923326Z"
    }
   },
   "outputs": [],
   "source": []
  },
  {
   "cell_type": "code",
   "execution_count": null,
   "metadata": {
    "ExecuteTime": {
     "end_time": "2018-12-24T14:11:28.828126Z",
     "start_time": "2018-12-24T14:11:09.794105Z"
    }
   },
   "outputs": [],
   "source": []
  },
  {
   "cell_type": "code",
   "execution_count": null,
   "metadata": {},
   "outputs": [],
   "source": []
  },
  {
   "cell_type": "code",
   "execution_count": null,
   "metadata": {},
   "outputs": [],
   "source": []
  },
  {
   "cell_type": "code",
   "execution_count": null,
   "metadata": {},
   "outputs": [],
   "source": []
  },
  {
   "cell_type": "markdown",
   "metadata": {},
   "source": [
    "# Reference \n",
    "1. Solving the Multi-Armed Bandit Problem – Towards Data Science. (2017). Towards Data Science. Retrieved 24 December 2018, from https://towardsdatascience.com/solving-the-multi-armed-bandit-problem-b72de40db97c\n",
    "2. "
   ]
  }
 ],
 "metadata": {
  "kernelspec": {
   "display_name": "Python 3",
   "language": "python",
   "name": "python3"
  },
  "latex_envs": {
   "LaTeX_envs_menu_present": true,
   "autoclose": false,
   "autocomplete": true,
   "bibliofile": "biblio.bib",
   "cite_by": "apalike",
   "current_citInitial": 1,
   "eqLabelWithNumbers": true,
   "eqNumInitial": 1,
   "hotkeys": {
    "equation": "Ctrl-E",
    "itemize": "Ctrl-I"
   },
   "labels_anchors": false,
   "latex_user_defs": false,
   "report_style_numbering": false,
   "user_envs_cfg": false
  },
  "varInspector": {
   "cols": {
    "lenName": 16,
    "lenType": 16,
    "lenVar": 40
   },
   "kernels_config": {
    "python": {
     "delete_cmd_postfix": "",
     "delete_cmd_prefix": "del ",
     "library": "var_list.py",
     "varRefreshCmd": "print(var_dic_list())"
    },
    "r": {
     "delete_cmd_postfix": ") ",
     "delete_cmd_prefix": "rm(",
     "library": "var_list.r",
     "varRefreshCmd": "cat(var_dic_list()) "
    }
   },
   "types_to_exclude": [
    "module",
    "function",
    "builtin_function_or_method",
    "instance",
    "_Feature"
   ],
   "window_display": false
  }
 },
 "nbformat": 4,
 "nbformat_minor": 2
}
