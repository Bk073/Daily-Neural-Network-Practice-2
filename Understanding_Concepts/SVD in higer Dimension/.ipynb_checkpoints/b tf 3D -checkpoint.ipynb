{
 "cells": [
  {
   "cell_type": "code",
   "execution_count": 1,
   "metadata": {
    "ExecuteTime": {
     "end_time": "2018-11-24T22:44:29.709180Z",
     "start_time": "2018-11-24T22:44:24.604112Z"
    },
    "code_folding": [
     0
    ]
   },
   "outputs": [
    {
     "data": {
      "text/html": [
       "<script type=\"text/javascript\">window.PlotlyConfig = {MathJaxConfig: 'local'};</script><script type=\"text/javascript\">if (window.MathJax) {MathJax.Hub.Config({SVG: {font: \"STIX-Web\"}});}</script><script>requirejs.config({paths: { 'plotly': ['https://cdn.plot.ly/plotly-latest.min']},});if(!window._Plotly) {require(['plotly'],function(plotly) {window._Plotly=plotly;});}</script>"
      ],
      "text/vnd.plotly.v1+html": [
       "<script type=\"text/javascript\">window.PlotlyConfig = {MathJaxConfig: 'local'};</script><script type=\"text/javascript\">if (window.MathJax) {MathJax.Hub.Config({SVG: {font: \"STIX-Web\"}});}</script><script>requirejs.config({paths: { 'plotly': ['https://cdn.plot.ly/plotly-latest.min']},});if(!window._Plotly) {require(['plotly'],function(plotly) {window._Plotly=plotly;});}</script>"
      ]
     },
     "metadata": {},
     "output_type": "display_data"
    }
   ],
   "source": [
    "# import lib\n",
    "import numpy      as np\n",
    "import tensorflow as tf\n",
    "import matplotlib.pyplot as plt\n",
    "import plotly.graph_objs as go\n",
    "from   plotly.offline import download_plotlyjs, init_notebook_mode, plot, iplot\n",
    "\n",
    "# data set \n",
    "import sklearn.datasets as datasets\n",
    "import matplotlib\n",
    "from mpl_toolkits.mplot3d import Axes3D\n",
    "from mpl_toolkits.mplot3d import axes3d\n",
    "init_notebook_mode(connected=True); np.random.seed(6789); tf.set_random_seed(67890); plt.style.use('seaborn'); plt.rcParams.update({'font.size': 92})\n",
    "matplotlib.rc('xtick', labelsize=20); matplotlib.rc('ytick', labelsize=20)\n",
    "\n",
    "# export to image\n",
    "import plotly.io as pio"
   ]
  },
  {
   "cell_type": "code",
   "execution_count": 16,
   "metadata": {
    "ExecuteTime": {
     "end_time": "2018-11-24T22:58:10.249154Z",
     "start_time": "2018-11-24T22:58:10.237162Z"
    },
    "code_folding": [
     1,
     3,
     7,
     11,
     17,
     24,
     33
    ]
   },
   "outputs": [],
   "source": [
    "# create functions and start session\n",
    "try: \n",
    "    if sess._closed: sess = tf.InteractiveSession()\n",
    "except:\n",
    "    sess = tf.InteractiveSession()\n",
    "\n",
    "# Functions that I will use\n",
    "def np_pca_svd(X):\n",
    "    U,s,VT = np.linalg.svd(X,full_matrices=False)\n",
    "    S      = np.diag(s)\n",
    "    return U,S,VT.T\n",
    "def tf_pca_svd(X,mmax=1.5,mmin=0.5): \n",
    "    s,U,V  = tf.linalg.svd(X,full_matrices=False)\n",
    "    S      = tf.diag(s)\n",
    "    s      = s.eval()\n",
    "    ScaledS= (mmax-mmin)*((s-s.min())/(s.max()-s.min())) + mmin\n",
    "    return U.eval(),S,V.eval(),ScaledS\n",
    "def normalize_sign(A,B):\n",
    "    \"\"\"\n",
    "    utility function for resolving the sign ambiguity in SVD\n",
    "    http://stats.stackexchange.com/q/34396/115202\n",
    "    \"\"\"\n",
    "    signs = np.sign(A) * np.sign(B)\n",
    "    return A, B * signs    \n",
    "def plot_data_with_pca(data,vector,value,cenx=0,ceny=0,width=0.05,title=None,save_fig=False,show_fig=True,close=True,alpha=1.0):\n",
    "    plt.scatter(data[:,0],data[:,1],c=label,cmap='YlOrBr',alpha=alpha)\n",
    "    ax1 = plt.arrow(cenx,ceny,*vector[:,0]*value[0],width=width,length_includes_head=False,color='Red' ,capstyle='projecting',label='PC 1',alpha=alpha)\n",
    "    ax2 = plt.arrow(cenx,ceny,*vector[:,1]*value[1],width=width,length_includes_head=False,color='Blue',capstyle='projecting',label='PC 2',alpha=alpha)\n",
    "    if title: plt.title(title,fontsize=30)\n",
    "    plt.legend([ax1,ax2],['pc 1','pc 2'],prop={'size': 20}); plt.tight_layout()\n",
    "    if save_fig: plt.savefig('figure/'+str(title)+'.png')\n",
    "    if show_fig: plt.show()\n",
    "    if close   : plt.close('all')\n",
    "def normalize_with_range(data,mmax=1.,mmin=0.0):\n",
    "    norm_data = (mmax-mmin) * ((data - data.min(0,keepdims=True))/ (data.max(0,keepdims=True)-data.min(0,keepdims=True))) + mmin\n",
    "    return norm_data\n",
    "def save_rotating_imgae(data,vectors,angel=5):\n",
    "    \n",
    "    colors = ['red','blue','green']\n",
    "    fig    = plt.figure(figsize=(10,10))\n",
    "    ax     = fig.add_subplot(111, projection='3d')\n",
    "    \n",
    "    # plot the data\n",
    "    ax.scatter(data[:,0],data[:,1],data[:,2], c=label, marker='o',cmap='YlGnBu',alpha=0.5)\n",
    "\n",
    "    # plot the vectors \n",
    "    for v in range(len(vectors)): \n",
    "        current_c = colors[v]\n",
    "        current_v = vectors[:,v]\n",
    "        ax.plot([0, current_v[0]], [0, current_v[1]], [0, current_v[2]], color=current_c, alpha=0.8, lw=3)\n",
    "        \n",
    "    ax.set_xlabel('X Label'); ax.set_ylabel('Y Label'); ax.set_zlabel('Z Label')\n",
    "    # rotate the axes and update\n",
    "    for angle in range(0, 360,angel):\n",
    "        ax.view_init(30, angle)\n",
    "        plt.tight_layout()\n",
    "        plt.draw();\n",
    "        plt.savefig('figure/'+str(angle)+'.png')\n",
    "    plt.close('all')\n",
    "    \n",
    "number_of_data = 4000\n",
    "skew_matrix    = np.array([[2,0.2],[1.1,0]])"
   ]
  },
  {
   "cell_type": "code",
   "execution_count": 17,
   "metadata": {
    "ExecuteTime": {
     "end_time": "2018-11-24T22:58:59.468472Z",
     "start_time": "2018-11-24T22:58:10.674993Z"
    },
    "code_folding": []
   },
   "outputs": [],
   "source": [
    "# create 3D Data and viz\n",
    "data,label     = datasets.make_blobs(n_samples=number_of_data,n_features=3,random_state=2,cluster_std =1.9,center_box =(-10,10))\n",
    "skew_matrix_3d = np.array([[1,1.2,1],[0.2,1,0.4],[0.1,0.8,1]])\n",
    "data    = data @ skew_matrix_3d.T\n",
    "data    = data - data.mean(0,keepdims=True)\n",
    "U,S,V,s = tf_pca_svd(data)\n",
    "save_rotating_imgae(data,V)"
   ]
  },
  {
   "cell_type": "code",
   "execution_count": null,
   "metadata": {
    "ExecuteTime": {
     "start_time": "2018-11-24T22:59:23.666Z"
    }
   },
   "outputs": [],
   "source": [
    "# project the data \n",
    "projected_data = (U@S).eval()\n",
    "projected_vect = V.T @ V\n",
    "save_rotating_imgae(projected_data,projected_vect)"
   ]
  },
  {
   "cell_type": "code",
   "execution_count": 41,
   "metadata": {
    "ExecuteTime": {
     "end_time": "2018-11-24T22:41:47.059190Z",
     "start_time": "2018-11-24T22:41:47.055204Z"
    }
   },
   "outputs": [],
   "source": [
    "# reconstructed data\n",
    "reconstructed_data = projected_data @ V.T\n",
    "reconstructed_vec  = projected_vect @ V\n",
    "save_rotating_imgae(reconstructed_data,reconstructed_vec)"
   ]
  },
  {
   "cell_type": "code",
   "execution_count": 42,
   "metadata": {
    "ExecuteTime": {
     "end_time": "2018-11-24T22:41:47.336033Z",
     "start_time": "2018-11-24T22:41:47.330051Z"
    }
   },
   "outputs": [
    {
     "name": "stdout",
     "output_type": "stream",
     "text": [
      "True\n",
      "True\n"
     ]
    }
   ],
   "source": [
    "# is the reconstructed data same\n",
    "print(np.allclose(data,reconstructed_data))\n",
    "print(np.allclose(V,reconstructed_vec))"
   ]
  },
  {
   "cell_type": "code",
   "execution_count": null,
   "metadata": {},
   "outputs": [],
   "source": []
  },
  {
   "cell_type": "code",
   "execution_count": null,
   "metadata": {},
   "outputs": [],
   "source": []
  },
  {
   "cell_type": "code",
   "execution_count": null,
   "metadata": {},
   "outputs": [],
   "source": []
  },
  {
   "cell_type": "code",
   "execution_count": null,
   "metadata": {},
   "outputs": [],
   "source": []
  },
  {
   "cell_type": "code",
   "execution_count": null,
   "metadata": {},
   "outputs": [],
   "source": []
  },
  {
   "cell_type": "code",
   "execution_count": null,
   "metadata": {},
   "outputs": [],
   "source": []
  },
  {
   "cell_type": "markdown",
   "metadata": {},
   "source": [
    "# Reference \n",
    "1. PCA?, R. (2018). Relationship between SVD and PCA. How to use SVD to perform PCA?. Cross Validated. Retrieved 15 November 2018, from https://stats.stackexchange.com/questions/134282/relationship-between-svd-and-pca-how-to-use-svd-to-perform-pca\n",
    "2. tf.linalg.svd | TensorFlow. (2018). TensorFlow. Retrieved 15 November 2018, from https://www.tensorflow.org/api_docs/python/tf/linalg/svd\n",
    "3. Line and Scatter Plots. (2018). Plot.ly. Retrieved 15 November 2018, from https://plot.ly/matplotlib/line-and-scatter/\n",
    "4. exception)?, H. (2018). How to check if a Tensorflow Session is still open (without catching an exception)?. Stack Overflow. Retrieved 15 November 2018, from https://stackoverflow.com/questions/42974627/how-to-check-if-a-tensorflow-session-is-still-open-without-catching-an-exceptio\n",
    "5. sklearn.datasets.make_blobs — scikit-learn 0.20.0 documentation. (2018). Scikit-learn.org. Retrieved 15 November 2018, from https://scikit-learn.org/stable/modules/generated/sklearn.datasets.make_blobs.html\n",
    "6. Styling Markers. (2018). Plot.ly. Retrieved 15 November 2018, from https://plot.ly/python/marker-style/\n",
    "7. Subplots. (2018). Plot.ly. Retrieved 15 November 2018, from https://plot.ly/python/subplots/\n",
    "8. matplotlib, S. (2018). Seaborn configuration hides default matplotlib. Stack Overflow. Retrieved 15 November 2018, from https://stackoverflow.com/questions/33099348/seaborn-configuration-hides-default-matplotlib\n",
    "9. color example code: colormaps_reference.py — Matplotlib 2.0.2 documentation. (2018). Matplotlib.org. Retrieved 15 November 2018, from https://matplotlib.org/examples/color/colormaps_reference.html\n",
    "10. matplotlib.pyplot.arrow — Matplotlib 3.0.2 documentation. (2018). Matplotlib.org. Retrieved 15 November 2018, from https://matplotlib.org/api/_as_gen/matplotlib.pyplot.arrow.html\n",
    "11. notebook?, H. (2018). How to set the matplotlib figure default size in ipython notebook?. Stack Overflow. Retrieved 15 November 2018, from https://stackoverflow.com/questions/17230797/how-to-set-the-matplotlib-figure-default-size-in-ipython-notebook\n",
    "12. arrow, M. (2018). Matplotlib legend for an arrow. Stack Overflow. Retrieved 15 November 2018, from https://stackoverflow.com/questions/22348229/matplotlib-legend-for-an-arrow\n",
    "13. value?, H. (2018). How to use a decimal range() step value?. Stack Overflow. Retrieved 15 November 2018, from https://stackoverflow.com/questions/477486/how-to-use-a-decimal-range-step-value\n",
    "14. Static Image Export. (2018). Plot.ly. Retrieved 17 November 2018, from https://plot.ly/python/static-image-export/\n",
    "15. value?, H. (2018). How to use a decimal range() step value?. Stack Overflow. Retrieved 17 November 2018, from https://stackoverflow.com/questions/477486/how-to-use-a-decimal-range-step-value\n",
    "16. 3D Camera Controls. (2018). Plot.ly. Retrieved 17 November 2018, from https://plot.ly/python/3d-camera-controls/\n",
    "17. mplot3d tutorial — Matplotlib 2.0.2 documentation. (2018). Matplotlib.org. Retrieved 24 November 2018, from https://matplotlib.org/mpl_toolkits/mplot3d/tutorial.html#scatter-plots\n",
    "18. Python Programming Tutorials. (2018). Pythonprogramming.net. Retrieved 24 November 2018, from https://pythonprogramming.net/matplotlib-3d-scatterplot-tutorial/\n",
    "19. Rotating a 3D plot — Matplotlib 2.2.3 documentation. (2018). Matplotlib.org. Retrieved 24 November 2018, from https://matplotlib.org/gallery/mplot3d/rotate_axes3d.html\n",
    "20. plot, P. (2018). Putting arrowheads on vectors in matplotlib's 3d plot. Stack Overflow. Retrieved 24 November 2018, from https://stackoverflow.com/questions/22867620/putting-arrowheads-on-vectors-in-matplotlibs-3d-plot\n",
    "21. pylab_examples example code: arrow_simple_demo.py — Matplotlib 2.0.2 documentation. (2018). Matplotlib.org. Retrieved 24 November 2018, from https://matplotlib.org/examples/pylab_examples/arrow_simple_demo.html"
   ]
  }
 ],
 "metadata": {
  "kernelspec": {
   "display_name": "Python 3",
   "language": "python",
   "name": "python3"
  },
  "latex_envs": {
   "LaTeX_envs_menu_present": true,
   "autoclose": false,
   "autocomplete": true,
   "bibliofile": "biblio.bib",
   "cite_by": "apalike",
   "current_citInitial": 1,
   "eqLabelWithNumbers": true,
   "eqNumInitial": 1,
   "hotkeys": {
    "equation": "Ctrl-E",
    "itemize": "Ctrl-I"
   },
   "labels_anchors": false,
   "latex_user_defs": false,
   "report_style_numbering": false,
   "user_envs_cfg": false
  },
  "varInspector": {
   "cols": {
    "lenName": 16,
    "lenType": 16,
    "lenVar": 40
   },
   "kernels_config": {
    "python": {
     "delete_cmd_postfix": "",
     "delete_cmd_prefix": "del ",
     "library": "var_list.py",
     "varRefreshCmd": "print(var_dic_list())"
    },
    "r": {
     "delete_cmd_postfix": ") ",
     "delete_cmd_prefix": "rm(",
     "library": "var_list.r",
     "varRefreshCmd": "cat(var_dic_list()) "
    }
   },
   "position": {
    "height": "591.8px",
    "left": "605px",
    "right": "20px",
    "top": "45px",
    "width": "800px"
   },
   "types_to_exclude": [
    "module",
    "function",
    "builtin_function_or_method",
    "instance",
    "_Feature"
   ],
   "window_display": false
  }
 },
 "nbformat": 4,
 "nbformat_minor": 2
}
