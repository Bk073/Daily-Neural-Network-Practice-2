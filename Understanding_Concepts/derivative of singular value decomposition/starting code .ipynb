{
 "cells": [
  {
   "cell_type": "code",
   "execution_count": 5,
   "metadata": {
    "ExecuteTime": {
     "end_time": "2018-11-20T18:18:44.553294Z",
     "start_time": "2018-11-20T18:18:42.083388Z"
    }
   },
   "outputs": [],
   "source": [
    "# improt the library and set the data set\n",
    "import tensorflow as tf\n",
    "import numpy      as np\n",
    "from sklearn import datasets\n",
    "\n",
    "np.random.seed(789)\n",
    "tf.set_random_seed(678)\n",
    "sess = tf.InteractiveSession()"
   ]
  },
  {
   "cell_type": "code",
   "execution_count": 19,
   "metadata": {
    "ExecuteTime": {
     "end_time": "2018-11-20T18:30:00.208186Z",
     "start_time": "2018-11-20T18:30:00.143356Z"
    }
   },
   "outputs": [
    {
     "name": "stdout",
     "output_type": "stream",
     "text": [
      "Original Data Shape:  (9000, 3)\n",
      "U Data Shape:  (9000, 3)\n",
      "s Data Shape:  (3,)\n",
      "V Data Shape:  (3, 3)\n",
      "Is it same with original data? :  True\n"
     ]
    }
   ],
   "source": [
    "# create data and basic reviews\n",
    "data,label = datasets.make_blobs(9000,3)\n",
    "s,U,V      = tf.linalg.svd(data,full_matrices=False)\n",
    "s = s.eval(); V = V.eval();U = U.eval();\n",
    "print('Original Data Shape: ', data.shape)\n",
    "print('U Data Shape: ', U.shape)\n",
    "print('s Data Shape: ', s.shape)\n",
    "print('V Data Shape: ', V.shape)\n",
    "original_data = (U @ tf.diag(s) @ tf.transpose(V)).eval()\n",
    "print(\"Is it same with original data? : \", np.allclose(original_data,data))"
   ]
  },
  {
   "cell_type": "code",
   "execution_count": 32,
   "metadata": {
    "ExecuteTime": {
     "end_time": "2018-11-20T18:33:07.863094Z",
     "start_time": "2018-11-20T18:32:53.488882Z"
    }
   },
   "outputs": [
    {
     "name": "stdout",
     "output_type": "stream",
     "text": [
      " Are they all Identity Matrix?  True\n",
      " Are they all Identity Matrix?  True\n",
      " Are they all Identity Matrix?  True\n",
      " This is not an identity matrix:  False\n",
      " This is an identity matrix:  True\n"
     ]
    }
   ],
   "source": [
    "# see if orthogonal property hold\n",
    "print(' Are they all Identity Matrix? ', np.allclose(np.eye(U.shape[1]), U.T @ U ))\n",
    "print(' Are they all Identity Matrix? ', np.allclose(np.eye(V.shape[0]), V   @ V.T ))\n",
    "print(' Are they all Identity Matrix? ', np.allclose(np.eye(V.shape[1]), V.T @ V ))\n",
    "\n",
    "since_not_full_matrice = U @ U.T\n",
    "_,U_full,_= tf.linalg.svd(data,full_matrices=True)\n",
    "U_full = U_full.eval()\n",
    "\n",
    "print(' This is not an identity matrix: ', np.allclose(np.eye(since_not_full_matrice.shape[0]), since_not_full_matrice ))\n",
    "print(' This is an identity matrix: ', np.allclose(np.eye(since_not_full_matrice.shape[0]), U_full@U_full.T ))"
   ]
  },
  {
   "cell_type": "code",
   "execution_count": null,
   "metadata": {
    "ExecuteTime": {
     "start_time": "2018-11-20T18:37:28.918Z"
    }
   },
   "outputs": [],
   "source": [
    "# is inverse true? \n",
    "print('Is inverse same as transpose? : ', np.allclose(np.linalg.inv(U_full),U_full.T))\n",
    "print('Is inverse same as transpose? : ', np.allclose(np.linalg.inv(V),V.T))"
   ]
  },
  {
   "cell_type": "code",
   "execution_count": null,
   "metadata": {
    "ExecuteTime": {
     "end_time": "2018-11-20T18:30:32.347278Z",
     "start_time": "2018-11-20T18:30:32.336299Z"
    }
   },
   "outputs": [],
   "source": [
    "# orthogonal compliment\n"
   ]
  },
  {
   "cell_type": "code",
   "execution_count": null,
   "metadata": {},
   "outputs": [],
   "source": []
  },
  {
   "cell_type": "code",
   "execution_count": null,
   "metadata": {},
   "outputs": [],
   "source": []
  },
  {
   "cell_type": "code",
   "execution_count": null,
   "metadata": {},
   "outputs": [],
   "source": []
  },
  {
   "cell_type": "code",
   "execution_count": null,
   "metadata": {},
   "outputs": [],
   "source": []
  }
 ],
 "metadata": {
  "kernelspec": {
   "display_name": "Python 3",
   "language": "python",
   "name": "python3"
  },
  "language_info": {
   "codemirror_mode": {
    "name": "ipython",
    "version": 3
   },
   "file_extension": ".py",
   "mimetype": "text/x-python",
   "name": "python",
   "nbconvert_exporter": "python",
   "pygments_lexer": "ipython3",
   "version": "3.6.5"
  },
  "latex_envs": {
   "LaTeX_envs_menu_present": true,
   "autoclose": false,
   "autocomplete": true,
   "bibliofile": "biblio.bib",
   "cite_by": "apalike",
   "current_citInitial": 1,
   "eqLabelWithNumbers": true,
   "eqNumInitial": 1,
   "hotkeys": {
    "equation": "Ctrl-E",
    "itemize": "Ctrl-I"
   },
   "labels_anchors": false,
   "latex_user_defs": false,
   "report_style_numbering": false,
   "user_envs_cfg": false
  },
  "varInspector": {
   "cols": {
    "lenName": 16,
    "lenType": 16,
    "lenVar": 40
   },
   "kernels_config": {
    "python": {
     "delete_cmd_postfix": "",
     "delete_cmd_prefix": "del ",
     "library": "var_list.py",
     "varRefreshCmd": "print(var_dic_list())"
    },
    "r": {
     "delete_cmd_postfix": ") ",
     "delete_cmd_prefix": "rm(",
     "library": "var_list.r",
     "varRefreshCmd": "cat(var_dic_list()) "
    }
   },
   "types_to_exclude": [
    "module",
    "function",
    "builtin_function_or_method",
    "instance",
    "_Feature"
   ],
   "window_display": false
  }
 },
 "nbformat": 4,
 "nbformat_minor": 2
}
