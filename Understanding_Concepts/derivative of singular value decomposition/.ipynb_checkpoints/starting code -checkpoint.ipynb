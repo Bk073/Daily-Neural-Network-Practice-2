{
 "cells": [
  {
   "cell_type": "code",
   "execution_count": 42,
   "metadata": {
    "ExecuteTime": {
     "end_time": "2018-11-21T00:24:09.025577Z",
     "start_time": "2018-11-21T00:24:08.894890Z"
    }
   },
   "outputs": [
    {
     "name": "stderr",
     "output_type": "stream",
     "text": [
      "C:\\ProgramData\\Anaconda3\\lib\\site-packages\\tensorflow\\python\\client\\session.py:1711: UserWarning: An interactive session is already active. This can cause out-of-memory errors in some cases. You must explicitly call `InteractiveSession.close()` to release resources held by the other session(s).\n",
      "  warnings.warn('An interactive session is already active. This can '\n"
     ]
    }
   ],
   "source": [
    "# improt the library and set the data set\n",
    "import tensorflow as tf\n",
    "import numpy      as np\n",
    "from sklearn import datasets\n",
    "np.set_printoptions(precision=3,suppress=True)\n",
    "np.random.seed(789)\n",
    "tf.set_random_seed(678)\n",
    "sess = tf.InteractiveSession()"
   ]
  },
  {
   "cell_type": "code",
   "execution_count": 77,
   "metadata": {
    "ExecuteTime": {
     "end_time": "2018-11-21T01:00:35.309310Z",
     "start_time": "2018-11-21T01:00:35.303326Z"
    }
   },
   "outputs": [
    {
     "name": "stdout",
     "output_type": "stream",
     "text": [
      "Transpose Matrix: \n",
      " [[ 0 -2  1]\n",
      " [ 2  0  4]\n",
      " [-1  4  0]]\n",
      "Negate Matrix: \n",
      " [[ 0 -2  1]\n",
      " [ 2  0 -4]\n",
      " [-1 -4  0]]\n"
     ]
    }
   ],
   "source": [
    "# skew matrix\n",
    "skew_mat = np.array([\n",
    "    [0,2,-1],\n",
    "    [-2,0,4],\n",
    "    [1,4,0]\n",
    "])\n",
    "\n",
    "print('Transpose Matrix: \\n',skew_mat.T)\n",
    "print('Negate Matrix: \\n',-skew_mat)"
   ]
  },
  {
   "cell_type": "code",
   "execution_count": 19,
   "metadata": {
    "ExecuteTime": {
     "end_time": "2018-11-20T18:30:00.208186Z",
     "start_time": "2018-11-20T18:30:00.143356Z"
    }
   },
   "outputs": [
    {
     "name": "stdout",
     "output_type": "stream",
     "text": [
      "Original Data Shape:  (9000, 3)\n",
      "U Data Shape:  (9000, 3)\n",
      "s Data Shape:  (3,)\n",
      "V Data Shape:  (3, 3)\n",
      "Is it same with original data? :  True\n"
     ]
    }
   ],
   "source": [
    "# create data and basic reviews\n",
    "data,label = datasets.make_blobs(9000,3)\n",
    "s,U,V      = tf.linalg.svd(data,full_matrices=False)\n",
    "s = s.eval(); V = V.eval();U = U.eval();\n",
    "print('Original Data Shape: ', data.shape)\n",
    "print('U Data Shape: ', U.shape)\n",
    "print('s Data Shape: ', s.shape)\n",
    "print('V Data Shape: ', V.shape)\n",
    "original_data = (U @ tf.diag(s) @ tf.transpose(V)).eval()\n",
    "print(\"Is it same with original data? : \", np.allclose(original_data,data))"
   ]
  },
  {
   "cell_type": "code",
   "execution_count": 32,
   "metadata": {
    "ExecuteTime": {
     "end_time": "2018-11-20T18:33:07.863094Z",
     "start_time": "2018-11-20T18:32:53.488882Z"
    }
   },
   "outputs": [
    {
     "name": "stdout",
     "output_type": "stream",
     "text": [
      " Are they all Identity Matrix?  True\n",
      " Are they all Identity Matrix?  True\n",
      " Are they all Identity Matrix?  True\n",
      " This is not an identity matrix:  False\n",
      " This is an identity matrix:  True\n"
     ]
    }
   ],
   "source": [
    "# see if orthogonal property hold\n",
    "print(' Are they all Identity Matrix? ', np.allclose(np.eye(U.shape[1]), U.T @ U ))\n",
    "print(' Are they all Identity Matrix? ', np.allclose(np.eye(V.shape[0]), V   @ V.T ))\n",
    "print(' Are they all Identity Matrix? ', np.allclose(np.eye(V.shape[1]), V.T @ V ))\n",
    "\n",
    "since_not_full_matrice = U @ U.T\n",
    "_,U_full,_= tf.linalg.svd(data,full_matrices=True)\n",
    "U_full = U_full.eval()\n",
    "\n",
    "print(' This is not an identity matrix: ', np.allclose(np.eye(since_not_full_matrice.shape[0]), since_not_full_matrice ))\n",
    "print(' This is an identity matrix: ', np.allclose(np.eye(since_not_full_matrice.shape[0]), U_full@U_full.T ))"
   ]
  },
  {
   "cell_type": "code",
   "execution_count": 36,
   "metadata": {
    "ExecuteTime": {
     "end_time": "2018-11-20T18:37:49.256577Z",
     "start_time": "2018-11-20T18:37:28.920225Z"
    }
   },
   "outputs": [
    {
     "name": "stdout",
     "output_type": "stream",
     "text": [
      "Is inverse same as transpose? :  True\n",
      "Is inverse same as transpose? :  True\n"
     ]
    }
   ],
   "source": [
    "# is inverse true? \n",
    "print('Is inverse same as transpose? : ', np.allclose(np.linalg.inv(U_full),U_full.T))\n",
    "print('Is inverse same as transpose? : ', np.allclose(np.linalg.inv(V),V.T))"
   ]
  },
  {
   "cell_type": "code",
   "execution_count": 66,
   "metadata": {
    "ExecuteTime": {
     "end_time": "2018-11-21T00:33:42.851005Z",
     "start_time": "2018-11-21T00:33:25.027323Z"
    },
    "code_folding": [
     2
    ]
   },
   "outputs": [
    {
     "name": "stdout",
     "output_type": "stream",
     "text": [
      "What is the shape of U? : (9000, 3)\n",
      "What is the shape of orth matrix of U ? : (9000, 8997)\n",
      "--------------------------------------------\n",
      "Shape of Result:  (3, 8997)\n",
      "Are they all close to zero? :  True\n",
      "--------------------------------------------\n",
      "Shape of Result:  (8997, 3)\n",
      "Are they all close to zero? :  True\n",
      "--------------------------------------------\n",
      "Is the property true? :  True\n"
     ]
    }
   ],
   "source": [
    "# orthogonal compliment\n",
    "# https://github.com/statsmodels/statsmodels/issues/3039\n",
    "def orthogonal_complement(x, normalize=False, threshold=1e-15):\n",
    "    \"\"\"Compute orthogonal complement of a matrix\n",
    "\n",
    "    this works along axis zero, i.e. rank == column rank,\n",
    "    or number of rows > column rank\n",
    "    otherwise orthogonal complement is empty\n",
    "\n",
    "    TODO possibly: use normalize='top' or 'bottom'\n",
    "\n",
    "    \"\"\"\n",
    "    x = np.asarray(x)\n",
    "    r, c = x.shape\n",
    "    if r < c:\n",
    "        import warnings\n",
    "        warnings.warn('fewer rows than columns', UserWarning)\n",
    "\n",
    "    # we assume svd is ordered by decreasing singular value, o.w. need sort\n",
    "    s, v, d = np.linalg.svd(x)\n",
    "    rank = (v > threshold).sum()\n",
    "\n",
    "    oc = s[:, rank:]\n",
    "\n",
    "    if normalize:\n",
    "        k_oc = oc.shape[1]\n",
    "        oc = oc.dot(np.linalg.inv(oc[:k_oc, :]))\n",
    "    return oc\n",
    "\n",
    "orth_u        = orthogonal_complement(U)\n",
    "orth_u_and_u1 = U.T @ orth_u\n",
    "orth_u_and_u2 = orth_u.T @ U\n",
    "\n",
    "print('What is the shape of U? :', U.shape)\n",
    "print('What is the shape of orth matrix of U ? :', orth_u.shape)\n",
    "print('--------------------------------------------')\n",
    "\n",
    "print('Shape of Result: ',orth_u_and_u1.shape)\n",
    "print('Are they all close to zero? : ',np.allclose(orth_u_and_u1,0.0) )\n",
    "print('--------------------------------------------')\n",
    "\n",
    "print('Shape of Result: ',orth_u_and_u2.shape)\n",
    "print('Are they all close to zero? : ',np.allclose(orth_u_and_u2,0.0) )\n",
    "print('--------------------------------------------')\n",
    "\n",
    "property_uorth = np.eye(U.shape[0]) - U @ U.T\n",
    "print('Is the property true? : ',np.allclose(property_uorth,orth_u @ orth_u.T))"
   ]
  },
  {
   "cell_type": "code",
   "execution_count": 70,
   "metadata": {
    "ExecuteTime": {
     "end_time": "2018-11-21T00:53:48.896360Z",
     "start_time": "2018-11-21T00:53:48.834525Z"
    }
   },
   "outputs": [
    {
     "name": "stdout",
     "output_type": "stream",
     "text": [
      "Original Data Shape:  (9000, 3)\n",
      "U Data Shape:  (9000, 3)\n",
      "s Data Shape:  (3, 3)\n",
      "V Data Shape:  (3, 3)\n",
      "Is it same with original data? :  True\n"
     ]
    }
   ],
   "source": [
    "# step 0 \n",
    "A = data.copy()\n",
    "s,U,V = tf.linalg.svd(A)\n",
    "s = s.eval(); V = V.eval();U = U.eval();\n",
    "print('Original Data Shape: ', A.shape)\n",
    "print('U Data Shape: ', U.shape)\n",
    "print('s Data Shape: ', tf.diag(s).shape)\n",
    "print('V Data Shape: ', V.shape)\n",
    "original_data = (U @ tf.diag(s) @ tf.transpose(V)).eval()\n",
    "print(\"Is it same with original data? : \", np.allclose(original_data,data))"
   ]
  },
  {
   "cell_type": "code",
   "execution_count": 74,
   "metadata": {
    "ExecuteTime": {
     "end_time": "2018-11-21T00:54:08.081945Z",
     "start_time": "2018-11-21T00:54:08.076957Z"
    }
   },
   "outputs": [
    {
     "name": "stdout",
     "output_type": "stream",
     "text": [
      " U dot product on U :  True\n",
      " V dot product on V :  True\n"
     ]
    }
   ],
   "source": [
    "# step 1 \n",
    "print(' U dot product on U : ', np.allclose(U.T @ U, np.eye(U.shape[1])))\n",
    "print(' V dot product on V : ', np.allclose(U.T @ U, np.eye(V.shape[1])))"
   ]
  },
  {
   "cell_type": "code",
   "execution_count": 83,
   "metadata": {
    "ExecuteTime": {
     "end_time": "2018-11-21T01:14:14.178057Z",
     "start_time": "2018-11-21T01:14:04.442255Z"
    }
   },
   "outputs": [
    {
     "name": "stdout",
     "output_type": "stream",
     "text": [
      "orthogonal complement matrix of U :  (9000, 8997)\n",
      "Append U and U Orth (9000, 9000)\n",
      "Append U dot product on Append U :  True\n"
     ]
    }
   ],
   "source": [
    "# step 2\n",
    "u_orth = orthogonal_complement(U)\n",
    "append_u = np.hstack((U,u_orth))\n",
    "\n",
    "print('orthogonal complement matrix of U : ',u_orth.shape)\n",
    "print('Append U and U Orth',append_u.shape)\n",
    "print('Append U dot product on Append U : ', np.allclose(append_u.T @ append_u, np.eye(append_u.shape[1])))"
   ]
  },
  {
   "cell_type": "code",
   "execution_count": 152,
   "metadata": {
    "ExecuteTime": {
     "end_time": "2018-11-21T03:04:52.942014Z",
     "start_time": "2018-11-21T03:04:52.566993Z"
    }
   },
   "outputs": [
    {
     "name": "stdout",
     "output_type": "stream",
     "text": [
      "Tensor(\"matmul_334:0\", shape=(3, 3), dtype=float64)\n",
      "True\n",
      "[[-0.191  1.189  0.322]\n",
      " [ 1.752  0.956  0.277]\n",
      " [ 1.702  0.965  0.23 ]\n",
      " ...\n",
      " [-0.202  1.281  0.334]\n",
      " [ 1.303  1.335  0.324]\n",
      " [ 1.827  0.8    0.324]]\n"
     ]
    }
   ],
   "source": [
    "# perform back prop\n",
    "\n",
    "class tf_svd_layer():\n",
    "    \n",
    "    def __init__(self,m,n):\n",
    "        self.m = m\n",
    "        self.n = n\n",
    "    \n",
    "    def feedforward(self,input):\n",
    "        s,U,V = tf.linalg.svd(A,full_matrices=False)\n",
    "        self.s = s\n",
    "        self.S = tf.diag(s)\n",
    "        self.U = U\n",
    "        self.V = V\n",
    "        return U @ tf.diag(s) @ tf.transpose(V)\n",
    "    \n",
    "    def backprop(self,grad):\n",
    "        \n",
    "        i = tf.cast(tf.eye(self.n),tf.float64)\n",
    "        f = 1.0 / (self.s[..., tf.newaxis, :]**2 - self.s[..., :, tf.newaxis]**2 + i) - i\n",
    "        \n",
    "        grad_u = grad @ tf.transpose(self.S @ tf.transpose(self.V))\n",
    "        grad_s = tf.diag_part(tf.transpose(self.U) @ grad @ self.V)\n",
    "        grad_v = tf.transpose(self.U @ self.S) @ grad\n",
    "        \n",
    "        utgu = tf.transpose(self.U) @ grad_u\n",
    "        vtgv = tf.transpose(self.V) @ grad_v\n",
    "\n",
    "        i_minus_uut = tf.cast(tf.eye(self.m),tf.float64) - self.U @ tf.transpose(self.U)\n",
    "\n",
    "        t1 = (f * (utgu - tf.transpose(utgu) )) * s[..., tf.newaxis, :]\n",
    "        t1 = t1 + i * grad_s[..., :, tf.newaxis]\n",
    "        t1 = t1 + s[..., :, tf.newaxis] * (f * (vtgv - tf.transpose(vtgv)))\n",
    "        t1 = self.U @ t1 @ tf.transpose(self.V)\n",
    "        t1 = t1 + i_minus_uut @ grad_u @( self.V / s[..., :, tf.newaxis])\n",
    "\n",
    "        return utgu\n",
    "\n",
    "A = data.copy()\n",
    "fake_grad = np.ones_like(A)\n",
    "\n",
    "svd_l = tf_svd_layer(9000,3)\n",
    "svd_layer = svd_l.feedforward(A)\n",
    "svd_grad  = svd_l.backprop(fake_grad)\n",
    "\n",
    "svd_layer = svd_layer.eval()\n",
    "svd_grad  = svd_grad.eval()\n",
    "\n",
    "print(np.allclose(svd_layer,A))\n",
    "print(svd_grad)"
   ]
  },
  {
   "cell_type": "code",
   "execution_count": null,
   "metadata": {},
   "outputs": [],
   "source": []
  },
  {
   "cell_type": "code",
   "execution_count": 150,
   "metadata": {
    "ExecuteTime": {
     "end_time": "2018-11-21T03:04:03.042599Z",
     "start_time": "2018-11-21T03:04:01.920668Z"
    }
   },
   "outputs": [
    {
     "name": "stdout",
     "output_type": "stream",
     "text": [
      "True\n",
      "[[1. 1. 1.]\n",
      " [1. 1. 1.]\n",
      " [1. 1. 1.]\n",
      " ...\n",
      " [1. 1. 1.]\n",
      " [1. 1. 1.]\n",
      " [1. 1. 1.]]\n"
     ]
    }
   ],
   "source": [
    "# sanity check \n",
    "import autograd.numpy as npg \n",
    "from autograd import elementwise_grad as egrad\n",
    "A = data.copy()\n",
    "\n",
    "def U_svd(A):\n",
    "    U,S,V = npg.linalg.svd(A,full_matrices=False)\n",
    "    return U @ npg.diag(S) @ V\n",
    "\n",
    "U_svd_grad = egrad(U_svd)\n",
    "temp = U_svd(A)\n",
    "print(np.allclose(temp,A))\n",
    "print(U_svd_grad(A))"
   ]
  },
  {
   "cell_type": "code",
   "execution_count": null,
   "metadata": {},
   "outputs": [],
   "source": []
  },
  {
   "cell_type": "code",
   "execution_count": null,
   "metadata": {},
   "outputs": [],
   "source": []
  }
 ],
 "metadata": {
  "kernelspec": {
   "display_name": "Python 3",
   "language": "python",
   "name": "python3"
  },
  "language_info": {
   "codemirror_mode": {
    "name": "ipython",
    "version": 3
   },
   "file_extension": ".py",
   "mimetype": "text/x-python",
   "name": "python",
   "nbconvert_exporter": "python",
   "pygments_lexer": "ipython3",
   "version": "3.6.5"
  },
  "latex_envs": {
   "LaTeX_envs_menu_present": true,
   "autoclose": false,
   "autocomplete": true,
   "bibliofile": "biblio.bib",
   "cite_by": "apalike",
   "current_citInitial": 1,
   "eqLabelWithNumbers": true,
   "eqNumInitial": 1,
   "hotkeys": {
    "equation": "Ctrl-E",
    "itemize": "Ctrl-I"
   },
   "labels_anchors": false,
   "latex_user_defs": false,
   "report_style_numbering": false,
   "user_envs_cfg": false
  },
  "varInspector": {
   "cols": {
    "lenName": 16,
    "lenType": 16,
    "lenVar": 40
   },
   "kernels_config": {
    "python": {
     "delete_cmd_postfix": "",
     "delete_cmd_prefix": "del ",
     "library": "var_list.py",
     "varRefreshCmd": "print(var_dic_list())"
    },
    "r": {
     "delete_cmd_postfix": ") ",
     "delete_cmd_prefix": "rm(",
     "library": "var_list.r",
     "varRefreshCmd": "cat(var_dic_list()) "
    }
   },
   "types_to_exclude": [
    "module",
    "function",
    "builtin_function_or_method",
    "instance",
    "_Feature"
   ],
   "window_display": false
  }
 },
 "nbformat": 4,
 "nbformat_minor": 2
}
