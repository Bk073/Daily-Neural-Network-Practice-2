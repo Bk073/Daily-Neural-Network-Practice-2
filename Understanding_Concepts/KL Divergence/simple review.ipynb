{
 "cells": [
  {
   "cell_type": "code",
   "execution_count": 13,
   "metadata": {
    "ExecuteTime": {
     "end_time": "2018-11-28T20:15:50.013558Z",
     "start_time": "2018-11-28T20:15:50.007575Z"
    }
   },
   "outputs": [],
   "source": [
    "import numpy as np\n",
    "from scipy import stats\n",
    "from collections import Counter\n",
    "import matplotlib.pyplot as plt\n",
    "\n",
    "np.random.seed(8) # To ensure you get same results on your machine\n",
    " \n",
    "def redball_blueball(count=1):\n",
    "  '''\n",
    "  Generates a red or a blue ball\n",
    "  By default generates only one ball, but could generate more if desired\n",
    "  '''\n",
    "  bag = np.random.uniform(0,1.0,count) # generate a bag of balls with count balls\n",
    "  # now lets convert this bag into labels\n",
    "  # we assume that everything that has a value of 0.4 or below is a red ball\n",
    "  # and any value above 0.4 is a blue ball\n",
    "  return ['red' if (x <= 0.5) else 'blue' for x in bag.tolist()]"
   ]
  },
  {
   "cell_type": "code",
   "execution_count": 14,
   "metadata": {
    "ExecuteTime": {
     "end_time": "2018-11-28T20:15:50.335952Z",
     "start_time": "2018-11-28T20:15:50.331945Z"
    }
   },
   "outputs": [
    {
     "name": "stdout",
     "output_type": "stream",
     "text": [
      "['blue', 'blue', 'blue', 'blue', 'red', 'red', 'red', 'red', 'blue', 'red']\n"
     ]
    }
   ],
   "source": [
    "print(redball_blueball(10))"
   ]
  },
  {
   "cell_type": "code",
   "execution_count": 21,
   "metadata": {
    "ExecuteTime": {
     "end_time": "2018-11-28T20:17:55.664176Z",
     "start_time": "2018-11-28T20:17:55.656221Z"
    }
   },
   "outputs": [
    {
     "name": "stdout",
     "output_type": "stream",
     "text": [
      "Counter({'blue': 7, 'red': 3})\n",
      "Counter({'red': 51, 'blue': 49})\n",
      "Counter({'red': 500, 'blue': 500})\n",
      "Counter({'red': 5004, 'blue': 4996})\n"
     ]
    }
   ],
   "source": [
    " \n",
    "bag_10 = redball_blueball(10)\n",
    "bag_100 = redball_blueball(100)\n",
    "bag_1000 = redball_blueball(1000)\n",
    "bag_10000 = redball_blueball(10000)\n",
    "\n",
    "print(Counter(bag_10))\n",
    "print(Counter(bag_100))\n",
    "print(Counter(bag_1000))\n",
    "print(Counter(bag_10000))"
   ]
  },
  {
   "cell_type": "code",
   "execution_count": 19,
   "metadata": {
    "ExecuteTime": {
     "end_time": "2018-11-28T20:16:56.623350Z",
     "start_time": "2018-11-28T20:16:56.479036Z"
    }
   },
   "outputs": [
    {
     "data": {
      "image/png": "[encoded data removed]",
      "text/plain": [
       "<Figure size 432x288 with 1 Axes>"
      ]
     },
     "metadata": {},
     "output_type": "display_data"
    }
   ],
   "source": [
    "x_axis = np.arange(-10, 10, 0.001)\n",
    "# Mean = 0, SD = 2.\n",
    "dist_a = stats.norm.pdf(x_axis,0,2)\n",
    "# Mean = 1, SD = 2\n",
    "dist_b = stats.norm.pdf(x_axis,1,2)\n",
    "plt.plot(x_axis, dist_a)\n",
    "plt.plot(x_axis, dist_b)\n",
    "plt.fill_between(x_axis, dist_a, dist_b, where=dist_b>=dist_a, facecolor='green', interpolate=True)\n",
    "plt.fill_between(x_axis, dist_a, dist_b, where=dist_b<=dist_a, facecolor='blue',  interpolate=True)\n",
    "plt.show()"
   ]
  },
  {
   "cell_type": "code",
   "execution_count": 20,
   "metadata": {
    "ExecuteTime": {
     "end_time": "2018-11-28T20:17:29.534312Z",
     "start_time": "2018-11-28T20:17:23.685362Z"
    }
   },
   "outputs": [
    {
     "name": "stdout",
     "output_type": "stream",
     "text": [
      "[master 129c0499] s\n",
      " 2 files changed, 502 insertions(+)\n",
      " create mode 100644 Understanding_Concepts/KL Divergence/.ipynb_checkpoints/simple review-checkpoint.ipynb\n",
      " create mode 100644 Understanding_Concepts/KL Divergence/simple review.ipynb\n"
     ]
    },
    {
     "name": "stderr",
     "output_type": "stream",
     "text": [
      "warning: LF will be replaced by CRLF in Understanding_Concepts/KL Divergence/.ipynb_checkpoints/simple review-checkpoint.ipynb.\n",
      "The file will have its original line endings in your working directory.\n",
      "warning: LF will be replaced by CRLF in Understanding_Concepts/KL Divergence/simple review.ipynb.\n",
      "The file will have its original line endings in your working directory.\n",
      "To https://github.com/JaeDukSeo/Daily-Neural-Network-Practice-2\n",
      "   16c5dfae..129c0499  master -> master\n"
     ]
    }
   ],
   "source": [
    "! git all-go"
   ]
  },
  {
   "cell_type": "code",
   "execution_count": null,
   "metadata": {},
   "outputs": [],
   "source": []
  },
  {
   "cell_type": "code",
   "execution_count": null,
   "metadata": {},
   "outputs": [],
   "source": []
  },
  {
   "cell_type": "code",
   "execution_count": null,
   "metadata": {},
   "outputs": [],
   "source": []
  },
  {
   "cell_type": "code",
   "execution_count": null,
   "metadata": {},
   "outputs": [],
   "source": []
  }
 ],
 "metadata": {
  "kernelspec": {
   "display_name": "Python 3",
   "language": "python",
   "name": "python3"
  },
  "language_info": {
   "codemirror_mode": {
    "name": "ipython",
    "version": 3
   },
   "file_extension": ".py",
   "mimetype": "text/x-python",
   "name": "python",
   "nbconvert_exporter": "python",
   "pygments_lexer": "ipython3",
   "version": "3.6.5"
  },
  "latex_envs": {
   "LaTeX_envs_menu_present": true,
   "autoclose": false,
   "autocomplete": true,
   "bibliofile": "biblio.bib",
   "cite_by": "apalike",
   "current_citInitial": 1,
   "eqLabelWithNumbers": true,
   "eqNumInitial": 1,
   "hotkeys": {
    "equation": "Ctrl-E",
    "itemize": "Ctrl-I"
   },
   "labels_anchors": false,
   "latex_user_defs": false,
   "report_style_numbering": false,
   "user_envs_cfg": false
  },
  "varInspector": {
   "cols": {
    "lenName": 16,
    "lenType": 16,
    "lenVar": 40
   },
   "kernels_config": {
    "python": {
     "delete_cmd_postfix": "",
     "delete_cmd_prefix": "del ",
     "library": "var_list.py",
     "varRefreshCmd": "print(var_dic_list())"
    },
    "r": {
     "delete_cmd_postfix": ") ",
     "delete_cmd_prefix": "rm(",
     "library": "var_list.r",
     "varRefreshCmd": "cat(var_dic_list()) "
    }
   },
   "types_to_exclude": [
    "module",
    "function",
    "builtin_function_or_method",
    "instance",
    "_Feature"
   ],
   "window_display": false
  }
 },
 "nbformat": 4,
 "nbformat_minor": 2
}
