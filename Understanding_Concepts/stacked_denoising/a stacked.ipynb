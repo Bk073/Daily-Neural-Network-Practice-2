{
 "cells": [
  {
   "cell_type": "code",
   "execution_count": 2,
   "metadata": {
    "code_folding": [
     0
    ]
   },
   "outputs": [],
   "source": [
    "# import all of the needed\n",
    "import tensorflow as tf\n",
    "import numpy as np\n",
    "import sys, os,cv2\n",
    "from sklearn.utils import shuffle\n",
    "from scipy.misc import imread,imresize\n",
    "import matplotlib.pyplot as plt\n",
    "from sklearn.preprocessing import OneHotEncoder\n",
    "from skimage.transform import resize\n",
    "from imgaug import augmenters as iaa\n",
    "import imgaug as ia\n",
    "from scipy.ndimage import zoom\n",
    "import seaborn as sns\n",
    "from scipy import linalg as LA\n",
    "\n",
    "np.random.seed(0)\n",
    "np.set_printoptions(precision = 3,suppress =True)\n",
    "old_v = tf.logging.get_verbosity()\n",
    "tf.logging.set_verbosity(tf.logging.ERROR)\n",
    "from tensorflow.examples.tutorials.mnist import input_data"
   ]
  },
  {
   "cell_type": "code",
   "execution_count": 3,
   "metadata": {
    "code_folding": [
     0
    ]
   },
   "outputs": [
    {
     "name": "stdout",
     "output_type": "stream",
     "text": [
      "Extracting ../../Dataset/fashionmnist/train-images-idx3-ubyte.gz\n",
      "Extracting ../../Dataset/fashionmnist/train-labels-idx1-ubyte.gz\n",
      "Extracting ../../Dataset/fashionmnist/t10k-images-idx3-ubyte.gz\n",
      "Extracting ../../Dataset/fashionmnist/t10k-labels-idx1-ubyte.gz\n",
      "(55000, 784)\n",
      "0.0 1.0\n",
      "(55000, 10)\n",
      "0.0 1.0\n",
      "(10000, 784)\n",
      "0.0 1.0\n",
      "(10000, 10)\n",
      "0.0 1.0\n",
      "-----------------------\n"
     ]
    }
   ],
   "source": [
    "# import data\n",
    "mnist = input_data.read_data_sets('../../Dataset/fashionmnist/',one_hot=True)\n",
    "train_data, train_label, test_data, test_label = mnist.train.images, mnist.train.labels, mnist.test.images, mnist.test.labels\n",
    "\n",
    "# Show some details and vis some of them\n",
    "print(train_data.shape)\n",
    "print(train_data.min(),train_data.max())\n",
    "print(train_label.shape)\n",
    "print(train_label.min(),train_label.max())\n",
    "print(test_data.shape)\n",
    "print(test_data.min(),test_data.max())\n",
    "print(test_label.shape)\n",
    "print(test_label.min(),test_label.max())\n",
    "print('-----------------------')"
   ]
  },
  {
   "cell_type": "code",
   "execution_count": null,
   "metadata": {},
   "outputs": [],
   "source": [
    "# declare the layer\n",
    "class np_FNN():\n",
    "\n",
    "    def __init__(self,inc,outc,act=np_relu,d_act = d_np_relu):\n",
    "        self.w = r.normal(0,0.008,size=(inc, outc)).astype(np.float64)\n",
    "        self.b = r.normal(0,0.0001,size=(outc)).astype(np.float64)\n",
    "        self.m,self.v = np.zeros_like(self.w),np.zeros_like(self.w)\n",
    "        self.mb,self.vb = np.zeros_like(self.b),np.zeros_like(self.b)\n",
    "        self.act = act; self.d_act = d_act\n",
    "\n",
    "    def getw(self): return self.w\n",
    "\n",
    "    def feedforward(self,input):\n",
    "        self.input  = input\n",
    "        self.layer  = self.input.dot(self.w) + self.b\n",
    "        self.layerA = self.act(self.layer)\n",
    "        return self.layerA\n",
    "\n",
    "    def backprop(self,grad,lr_rate):\n",
    "        grad_1 = grad\n",
    "        grad_2 = self.d_act(self.layer)\n",
    "        grad_3 = self.input\n",
    "\n",
    "        grad_middle = grad_1 * grad_2\n",
    "        grad_b = grad_middle.sum(0) / grad.shape[0]\n",
    "        grad = grad_3.T.dot(grad_middle) / grad.shape[0]\n",
    "        grad_pass = grad_middle.dot(self.w.T)\n",
    "\n",
    "        self.m = self.m * beta1 + (1. - beta1) * grad\n",
    "        self.v = self.v * beta2 + (1. - beta2) * grad ** 2\n",
    "        m_hat,v_hat = self.m/(1.-beta1), self.v/(1.-beta2)\n",
    "        adam_middle =  m_hat * lr_rate / (np.sqrt(v_hat) + adam_e)\n",
    "        self.w = self.w - adam_middle\n",
    "\n",
    "        self.mb = self.mb * beta1 + (1. - beta1) * grad_b\n",
    "        self.vb = self.vb * beta2 + (1. - beta2) * grad_b ** 2\n",
    "        m_hat,v_hat = self.mb/(1.-beta1), self.vb/(1.-beta2)\n",
    "        adam_middle =  m_hat * lr_rate / (np.sqrt(v_hat) + adam_e)\n",
    "        self.b = self.b - adam_middle\n",
    "\n",
    "        return grad_pass"
   ]
  },
  {
   "cell_type": "code",
   "execution_count": null,
   "metadata": {},
   "outputs": [],
   "source": []
  },
  {
   "cell_type": "code",
   "execution_count": null,
   "metadata": {},
   "outputs": [],
   "source": []
  },
  {
   "cell_type": "code",
   "execution_count": null,
   "metadata": {},
   "outputs": [],
   "source": []
  },
  {
   "cell_type": "code",
   "execution_count": null,
   "metadata": {},
   "outputs": [],
   "source": []
  },
  {
   "cell_type": "code",
   "execution_count": null,
   "metadata": {},
   "outputs": [],
   "source": []
  },
  {
   "cell_type": "code",
   "execution_count": null,
   "metadata": {},
   "outputs": [],
   "source": []
  }
 ],
 "metadata": {
  "kernelspec": {
   "display_name": "Python 3",
   "language": "python",
   "name": "python3"
  },
  "language_info": {
   "codemirror_mode": {
    "name": "ipython",
    "version": 3
   },
   "file_extension": ".py",
   "mimetype": "text/x-python",
   "name": "python",
   "nbconvert_exporter": "python",
   "pygments_lexer": "ipython3",
   "version": "3.6.5"
  }
 },
 "nbformat": 4,
 "nbformat_minor": 2
}
