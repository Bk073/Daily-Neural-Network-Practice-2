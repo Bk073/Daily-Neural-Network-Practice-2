{
 "cells": [
  {
   "cell_type": "code",
   "execution_count": null,
   "metadata": {},
   "outputs": [],
   "source": []
  },
  {
   "cell_type": "code",
   "execution_count": null,
   "metadata": {},
   "outputs": [],
   "source": []
  },
  {
   "cell_type": "code",
   "execution_count": null,
   "metadata": {},
   "outputs": [],
   "source": []
  },
  {
   "cell_type": "code",
   "execution_count": null,
   "metadata": {},
   "outputs": [],
   "source": [
    "# pca \n",
    "from scipy.linalg import eigh\n",
    "from scipy import linalg as LA\n",
    "mystery_jae = mystery.copy()\n",
    "\n",
    "# mystery_jae_cented = mystery_jae - mystery_jae.mean(axis=1)[:,None]\n",
    "# mystery_jae_cented = mystery_jae - mystery_jae_cented.mean(0)\n",
    "mystery_jae_cented = mystery_jae - mystery_jae.mean(axis=0)\n",
    "cov_matrix         = mystery_jae_cented.T @ mystery_jae_cented / (mystery_jae_cented.shape[0]-1)\n",
    "evals, evecs       = LA.eigh(cov_matrix)\n",
    "\n",
    "idx = np.argsort(evals)[::-1]\n",
    "evecs = evecs[:,idx]\n",
    "# sort eigenvectors according to same index\n",
    "evals = evals[idx]\n",
    "# select the first n eigenvectors (n is desired dimension\n",
    "# of rescaled data array, or dims_rescaled_data)\n",
    "evecs = evecs[:, :2]\n",
    "\n",
    "print(evecs.shape) # 30309,2\n",
    "print(mystery_jae.shape)\n",
    "mystery_jae_pca = mystery_jae @evecs\n",
    "mystery_jae_pca = mystery_jae_pca - mystery_jae_pca.mean(0"
   ]
  },
  {
   "cell_type": "code",
   "execution_count": 3,
   "metadata": {},
   "outputs": [
    {
     "name": "stdout",
     "output_type": "stream",
     "text": [
      "[master 781b1acb] s\n",
      " 2 files changed, 70 insertions(+), 18 deletions(-)\n"
     ]
    },
    {
     "name": "stderr",
     "output_type": "stream",
     "text": [
      "warning: LF will be replaced by CRLF in Understanding_Concepts/again_review_svd_pca_ica/.ipynb_checkpoints/a review session-checkpoint.ipynb.\n",
      "The file will have its original line endings in your working directory.\n",
      "warning: LF will be replaced by CRLF in Understanding_Concepts/again_review_svd_pca_ica/a review session.ipynb.\n",
      "The file will have its original line endings in your working directory.\n",
      "To https://github.com/JaeDukSeo/Daily-Neural-Network-Practice-2\n",
      "   9d5d20eb..781b1acb  master -> master\n"
     ]
    }
   ],
   "source": [
    "! git all-go"
   ]
  },
  {
   "cell_type": "code",
   "execution_count": null,
   "metadata": {},
   "outputs": [],
   "source": []
  }
 ],
 "metadata": {
  "kernelspec": {
   "display_name": "Python 3",
   "language": "python",
   "name": "python3"
  },
  "language_info": {
   "codemirror_mode": {
    "name": "ipython",
    "version": 3
   },
   "file_extension": ".py",
   "mimetype": "text/x-python",
   "name": "python",
   "nbconvert_exporter": "python",
   "pygments_lexer": "ipython3",
   "version": "3.6.5"
  }
 },
 "nbformat": 4,
 "nbformat_minor": 2
}
