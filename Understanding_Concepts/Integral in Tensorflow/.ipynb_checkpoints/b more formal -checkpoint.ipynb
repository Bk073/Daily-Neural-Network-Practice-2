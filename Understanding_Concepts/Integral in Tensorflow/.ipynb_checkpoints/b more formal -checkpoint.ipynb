{
 "cells": [
  {
   "cell_type": "code",
   "execution_count": 1,
   "metadata": {
    "ExecuteTime": {
     "end_time": "2018-12-01T02:43:24.740075Z",
     "start_time": "2018-12-01T02:43:21.742086Z"
    }
   },
   "outputs": [],
   "source": [
    "# import library\n",
    "import numpy as np\n",
    "import matplotlib.pyplot as plt\n",
    "import tensorflow as tf\n",
    "np.random.seed(789)\n",
    "tf.set_random_seed(678)"
   ]
  },
  {
   "cell_type": "code",
   "execution_count": 2,
   "metadata": {
    "ExecuteTime": {
     "end_time": "2018-12-01T02:43:24.826845Z",
     "start_time": "2018-12-01T02:43:24.804903Z"
    },
    "code_folding": [
     1,
     8,
     13,
     21,
     25,
     40,
     50,
     54,
     69
    ]
   },
   "outputs": [],
   "source": [
    "# integral methods\n",
    "def riemannint(function,a,b,n):\n",
    "    sumval = 0\n",
    "    h = (b-a)/n\n",
    "    for i in range(0,n-1):\n",
    "        current_x = a+i*h\n",
    "        sumval    = sumval + function(current_x) * h\n",
    "    return sumval\n",
    "def riemannint2(function,a,b,n):\n",
    "    sumval = 0\n",
    "    h = (b-a)/n\n",
    "    sumval = h * np.sum(function(a + i * h) for i in range(0,n-1) )\n",
    "    return sumval    \n",
    "def trapezeint1(function,a,b,n):\n",
    "    h = (b-a)/n\n",
    "    sumval = 0\n",
    "    for i in range(0,n-1):\n",
    "        x = a + i * h\n",
    "        sumval = sumval+2*function(x)\n",
    "    sumval = h*(sumval+function(a)+function(b))/2\n",
    "    return sumval\n",
    "def trapezeint2(function,a,b,n):\n",
    "    h = (b-a)/n\n",
    "    sumval = h/2 * (function(a) + function(b) + 2 * np.sum(function(a + i * h) for i in range(0,n-1) ))\n",
    "    return sumval\n",
    "def simpsonint1(function,a,b,n):\n",
    "    h = (b-a)/n\n",
    "    m = n/2\n",
    "    sumval = 0\n",
    "    if n % 2 == 0:\n",
    "        for i in range(1,int(m-1)):\n",
    "            x = a + 2*i*h\n",
    "            sumval = sumval+2*function(x);\n",
    "        for i in range(1,int(m)):\n",
    "            x = a+(2*i-1)*h;\n",
    "            sumval = sumval+4*function(x);\n",
    "        sumval = h*(sumval+function(a)+function(b))/3\n",
    "    else:\n",
    "        print(\"Simpson’s rule requires n to be even.\")\n",
    "    return sumval\n",
    "def simpsonint2(function,a,b,n):\n",
    "    h = (b-a)/n\n",
    "    sumval = 0; evensum= 0\n",
    "    if n % 2 == 0:\n",
    "        evensum = np.sum(function(a+2*j*h)     for j in range(1,int(n/2-1)))\n",
    "        oddsum  = np.sum(function(a+(2*j-1)*h) for j in range(1,int(n/2)))\n",
    "        sumval  = h/3 * (function(a)+function(b)+2*evensum+4*oddsum)\n",
    "    else:\n",
    "        print(\"Simpson’s rule requires n to be even.\")\n",
    "    return sumval\n",
    "def trapezearea(function,a,b):\n",
    "    h    = (b-a)\n",
    "    area = h*(function(a)+function(b))/2\n",
    "    return area\n",
    "def adaptint(function,a,b,tol=1e-8):\n",
    "    h = (b-1)\n",
    "    m = (b+1)/2\n",
    "    area = 0\n",
    "    areatot     = trapezearea(function,a,b)\n",
    "    nextareatot = trapezearea(function,a,m) + trapezearea(function,m,b)\n",
    "    err = np.abs(areatot-nextareatot)\n",
    "    \n",
    "    if err < tol:\n",
    "        return areatot\n",
    "    else:\n",
    "        arealeft  = adaptint(function,a,m,tol/2)\n",
    "        arearight = adaptint(function,m,b,tol/2)\n",
    "        area      = area + arealeft + arearight     \n",
    "    return area\n",
    "def montecarlo(function,a,b,n):\n",
    "    sumval = 0.0\n",
    "    the_range = np.arange(a,b,(b-a)/n)\n",
    "    for i in the_range:\n",
    "        sumval = sumval + function(i)\n",
    "    sumval = (b-a)/n * sumval\n",
    "    return sumval"
   ]
  },
  {
   "cell_type": "code",
   "execution_count": 5,
   "metadata": {
    "ExecuteTime": {
     "end_time": "2018-12-01T02:44:05.443082Z",
     "start_time": "2018-12-01T02:44:05.439054Z"
    }
   },
   "outputs": [],
   "source": [
    "# create the functions and show\n",
    "def function1(x):  return x\n",
    "def function2(x):  return x ** 2 + 100 - x ** 5\n",
    "def function3(x):  return x ** 0.5 \n",
    "def function4(x):  return x * np.sin(x ** 2)"
   ]
  },
  {
   "cell_type": "code",
   "execution_count": 6,
   "metadata": {
    "ExecuteTime": {
     "end_time": "2018-12-01T02:44:05.872299Z",
     "start_time": "2018-12-01T02:44:05.847378Z"
    },
    "code_folding": [
     9,
     16,
     21,
     29,
     33,
     48,
     58,
     62,
     77
    ]
   },
   "outputs": [
    {
     "name": "stdout",
     "output_type": "stream",
     "text": [
      "(73.45679936078517+21.099273577834477j)\n",
      "(73.45679936078523+21.099273577834467j)\n",
      "(73.48317643416345+21.116666104965393j)\n",
      "(73.48317643416345+21.116666104965393j)\n",
      "(73.43030698590852+21.081838947719834j)\n",
      "(73.43030698590849+21.08183894771984j)\n",
      "(77.79666845890844+17.392527130926087j)\n",
      "nan\n"
     ]
    },
    {
     "name": "stderr",
     "output_type": "stream",
     "text": [
      "C:\\ProgramData\\Anaconda3\\lib\\site-packages\\ipykernel_launcher.py:4: RuntimeWarning: invalid value encountered in double_scalars\n",
      "  after removing the cwd from sys.path.\n"
     ]
    }
   ],
   "source": [
    "# generate uniform \n",
    "current_range_a  = 0\n",
    "current_range_b  = np.pi\n",
    "current_number_of_points = 3000\n",
    "current_function = function3\n",
    "\n",
    "print(riemannint (current_function,current_range_a,current_range_b,current_number_of_points))\n",
    "print(riemannint2(current_function,current_range_a,current_range_b,current_number_of_points))\n",
    "print(trapezeint1(current_function,current_range_a,current_range_b,current_number_of_points))\n",
    "print(trapezeint2(current_function,current_range_a,current_range_b,current_number_of_points))\n",
    "print(simpsonint1(current_function,current_range_a,current_range_b,current_number_of_points))\n",
    "print(simpsonint2(current_function,current_range_a,current_range_b,current_number_of_points))\n",
    "print(adaptint   (current_function,current_range_a,current_range_b))\n",
    "print(montecarlo (current_function,current_range_a,current_range_b,current_number_of_points))"
   ]
  },
  {
   "cell_type": "code",
   "execution_count": null,
   "metadata": {
    "ExecuteTime": {
     "end_time": "2018-12-01T02:40:12.636544Z",
     "start_time": "2018-12-01T02:40:12.631540Z"
    }
   },
   "outputs": [],
   "source": []
  },
  {
   "cell_type": "code",
   "execution_count": null,
   "metadata": {},
   "outputs": [],
   "source": []
  },
  {
   "cell_type": "code",
   "execution_count": null,
   "metadata": {},
   "outputs": [],
   "source": []
  }
 ],
 "metadata": {
  "kernelspec": {
   "display_name": "Python 3",
   "language": "python",
   "name": "python3"
  },
  "language_info": {
   "codemirror_mode": {
    "name": "ipython",
    "version": 3
   },
   "file_extension": ".py",
   "mimetype": "text/x-python",
   "name": "python",
   "nbconvert_exporter": "python",
   "pygments_lexer": "ipython3",
   "version": "3.6.5"
  },
  "latex_envs": {
   "LaTeX_envs_menu_present": true,
   "autoclose": false,
   "autocomplete": true,
   "bibliofile": "biblio.bib",
   "cite_by": "apalike",
   "current_citInitial": 1,
   "eqLabelWithNumbers": true,
   "eqNumInitial": 1,
   "hotkeys": {
    "equation": "Ctrl-E",
    "itemize": "Ctrl-I"
   },
   "labels_anchors": false,
   "latex_user_defs": false,
   "report_style_numbering": false,
   "user_envs_cfg": false
  },
  "varInspector": {
   "cols": {
    "lenName": 16,
    "lenType": 16,
    "lenVar": 40
   },
   "kernels_config": {
    "python": {
     "delete_cmd_postfix": "",
     "delete_cmd_prefix": "del ",
     "library": "var_list.py",
     "varRefreshCmd": "print(var_dic_list())"
    },
    "r": {
     "delete_cmd_postfix": ") ",
     "delete_cmd_prefix": "rm(",
     "library": "var_list.r",
     "varRefreshCmd": "cat(var_dic_list()) "
    }
   },
   "types_to_exclude": [
    "module",
    "function",
    "builtin_function_or_method",
    "instance",
    "_Feature"
   ],
   "window_display": false
  }
 },
 "nbformat": 4,
 "nbformat_minor": 2
}
