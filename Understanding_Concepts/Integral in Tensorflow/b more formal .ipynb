{
 "cells": [
  {
   "cell_type": "code",
   "execution_count": 1,
   "metadata": {
    "ExecuteTime": {
     "end_time": "2018-12-01T02:43:24.740075Z",
     "start_time": "2018-12-01T02:43:21.742086Z"
    }
   },
   "outputs": [],
   "source": [
    "# import library\n",
    "import numpy as np\n",
    "import matplotlib.pyplot as plt\n",
    "import tensorflow as tf\n",
    "np.random.seed(789)\n",
    "tf.set_random_seed(678)"
   ]
  },
  {
   "cell_type": "code",
   "execution_count": 46,
   "metadata": {
    "ExecuteTime": {
     "end_time": "2018-12-01T04:53:11.551407Z",
     "start_time": "2018-12-01T04:53:11.533456Z"
    },
    "code_folding": [
     1,
     8,
     13,
     21,
     25,
     40,
     50,
     54,
     69
    ]
   },
   "outputs": [],
   "source": [
    "# integral methods\n",
    "def riemannint(function,a,b,n):\n",
    "    sumval = 0\n",
    "    h = (b-a)/n\n",
    "    for i in range(0,n-1):\n",
    "        current_x = a+i*h\n",
    "        sumval    = sumval + function(current_x) * h\n",
    "    return sumval\n",
    "def riemannint2(function,a,b,n):\n",
    "    sumval = 0\n",
    "    h = (b-a)/n\n",
    "    sumval = h * np.sum(function(a + i * h) for i in range(0,n-1) )\n",
    "    return sumval    \n",
    "def trapezeint1(function,a,b,n):\n",
    "    h = (b-a)/n\n",
    "    sumval = 0\n",
    "    for i in range(0,n-1):\n",
    "        x = a + i * h\n",
    "        sumval = sumval+2*function(x)\n",
    "    sumval = h*(sumval+function(a)+function(b))/2\n",
    "    return sumval\n",
    "def trapezeint2(function,a,b,n):\n",
    "    h = (b-a)/n\n",
    "    sumval = h/2 * (function(a) + function(b) + 2 * np.sum(function(a + i * h) for i in range(0,n-1) ))\n",
    "    return sumval\n",
    "def simpsonint1(function,a,b,n):\n",
    "    h = (b-a)/n\n",
    "    m = n/2\n",
    "    sumval = 0\n",
    "    if n % 2 == 0:\n",
    "        for i in range(1,int(m-1)):\n",
    "            x = a + 2*i*h\n",
    "            sumval = sumval+2*function(x);\n",
    "        for i in range(1,int(m)):\n",
    "            x = a+(2*i-1)*h;\n",
    "            sumval = sumval+4*function(x);\n",
    "        sumval = h*(sumval+function(a)+function(b))/3\n",
    "    else:\n",
    "        print(\"Simpson’s rule requires n to be even.\")\n",
    "    return sumval\n",
    "def simpsonint2(function,a,b,n):\n",
    "    h = (b-a)/n\n",
    "    sumval = 0; evensum= 0\n",
    "    if n % 2 == 0:\n",
    "        evensum = np.sum(function(a+2*j*h)     for j in range(1,int(n/2-1)))\n",
    "        oddsum  = np.sum(function(a+(2*j-1)*h) for j in range(1,int(n/2)))\n",
    "        sumval  = h/3 * (function(a)+function(b)+2*evensum+4*oddsum)\n",
    "    else:\n",
    "        print(\"Simpson’s rule requires n to be even.\")\n",
    "    return sumval\n",
    "def trapezearea(function,a,b):\n",
    "    h    = (b-a)\n",
    "    area = h*(function(a)+function(b))/2\n",
    "    return area\n",
    "def adaptint(function,a,b,tol=1e-8):\n",
    "    h = (b-1)\n",
    "    m = (b+1)/2\n",
    "    area = 0\n",
    "    areatot     = trapezearea(function,a,b)\n",
    "    nextareatot = trapezearea(function,a,m) + trapezearea(function,m,b)\n",
    "    err = np.abs(areatot-nextareatot)\n",
    "    \n",
    "    if err < tol:\n",
    "        return areatot\n",
    "    else:\n",
    "        arealeft  = adaptint(function,a,m,tol/2)\n",
    "        arearight = adaptint(function,m,b,tol/2)\n",
    "        area      = area + arealeft + arearight     \n",
    "    return area\n",
    "def montecarlo(function,a,b,n):\n",
    "    sumval = 0.0\n",
    "    the_range = np.random.uniform(a,b,n)\n",
    "    for i in the_range:\n",
    "        i = float(i)\n",
    "        sumval = sumval + function(i)\n",
    "    sumval = (b-a)/n * sumval\n",
    "    return sumval"
   ]
  },
  {
   "cell_type": "code",
   "execution_count": 47,
   "metadata": {
    "ExecuteTime": {
     "end_time": "2018-12-01T04:53:11.813549Z",
     "start_time": "2018-12-01T04:53:11.809559Z"
    }
   },
   "outputs": [],
   "source": [
    "# create the functions and show\n",
    "def function1(x):  return x\n",
    "def function2(x):  return x ** 2 + 100 - x ** 5\n",
    "def function3(x):  return x ** 0.5 \n",
    "def function4(x):  return x * np.sin(x ** 2)"
   ]
  },
  {
   "cell_type": "markdown",
   "metadata": {},
   "source": [
    "<img src=\"https://i.imgur.com/ZzdA9Lu.png\" >"
   ]
  },
  {
   "cell_type": "code",
   "execution_count": 48,
   "metadata": {
    "ExecuteTime": {
     "end_time": "2018-12-01T04:53:14.916086Z",
     "start_time": "2018-12-01T04:53:14.908097Z"
    },
    "code_folding": [
     9,
     16,
     21,
     29,
     33,
     48,
     58,
     62,
     77
    ]
   },
   "outputs": [
    {
     "name": "stdout",
     "output_type": "stream",
     "text": [
      "Riemann sums (long)  :  1822.5899999999992\n",
      "Riemann sums (short) :  1822.5899999999997\n",
      "Trapeze integration (long)  :  1841.4899999999998\n",
      "Trapeze integration (short) :  1841.4899999999998\n",
      "Simpson’s integration (long)  :  1804.5066666666664\n",
      "Simpson’s integration (short) :  1804.5066666666667\n",
      "Adaptive integration  :  1890.0\n",
      "Monte Carlo Sampling  :  1979.609052071008\n"
     ]
    }
   ],
   "source": [
    "# compute the integral\n",
    "current_range_a  = -8\n",
    "current_range_b  = 62\n",
    "current_number_of_points = 100\n",
    "current_function = function1\n",
    "print(\"Riemann sums (long)  : \",riemannint (current_function,current_range_a,current_range_b,current_number_of_points))\n",
    "print(\"Riemann sums (short) : \",riemannint2(current_function,current_range_a,current_range_b,current_number_of_points))\n",
    "print(\"Trapeze integration (long)  : \",trapezeint1(current_function,current_range_a,current_range_b,current_number_of_points))\n",
    "print(\"Trapeze integration (short) : \",trapezeint2(current_function,current_range_a,current_range_b,current_number_of_points))\n",
    "print(\"Simpson’s integration (long)  : \",simpsonint1(current_function,current_range_a,current_range_b,current_number_of_points))\n",
    "print(\"Simpson’s integration (short) : \",simpsonint2(current_function,current_range_a,current_range_b,current_number_of_points))\n",
    "print(\"Adaptive integration  : \",adaptint   (current_function,current_range_a,current_range_b))\n",
    "print(\"Monte Carlo Sampling  : \",montecarlo (current_function,current_range_a,current_range_b,current_number_of_points))"
   ]
  },
  {
   "cell_type": "markdown",
   "metadata": {
    "ExecuteTime": {
     "end_time": "2018-12-01T02:40:12.636544Z",
     "start_time": "2018-12-01T02:40:12.631540Z"
    }
   },
   "source": [
    "<img src=\"https://i.imgur.com/64OzKLE.png\">"
   ]
  },
  {
   "cell_type": "code",
   "execution_count": 70,
   "metadata": {
    "ExecuteTime": {
     "end_time": "2018-12-01T05:11:16.003892Z",
     "start_time": "2018-12-01T05:11:15.989932Z"
    }
   },
   "outputs": [
    {
     "name": "stdout",
     "output_type": "stream",
     "text": [
      "Riemann sums (long)  :  -492829960396.269\n",
      "Riemann sums (short) :  -492829960396.2683\n",
      "Trapeze integration (long)  :  -494447360940.7683\n",
      "Trapeze integration (short) :  -494447360940.7683\n",
      "Simpson’s integration (long)  :  -491240189297.83234\n",
      "Simpson’s integration (short) :  -491240189297.8325\n",
      "Adaptive integration  :  -777069505591.5591\n",
      "Monte Carlo Sampling  :  -478457700790.4377\n"
     ]
    }
   ],
   "source": [
    "# compute the integral\n",
    "current_range_a  = -10\n",
    "current_range_b  = 120\n",
    "current_number_of_points = 1000\n",
    "current_function = function2\n",
    "print(\"Riemann sums (long)  : \",riemannint (current_function,current_range_a,current_range_b,current_number_of_points))\n",
    "print(\"Riemann sums (short) : \",riemannint2(current_function,current_range_a,current_range_b,current_number_of_points))\n",
    "print(\"Trapeze integration (long)  : \",trapezeint1(current_function,current_range_a,current_range_b,current_number_of_points))\n",
    "print(\"Trapeze integration (short) : \",trapezeint2(current_function,current_range_a,current_range_b,current_number_of_points))\n",
    "print(\"Simpson’s integration (long)  : \",simpsonint1(current_function,current_range_a,current_range_b,current_number_of_points))\n",
    "print(\"Simpson’s integration (short) : \",simpsonint2(current_function,current_range_a,current_range_b,current_number_of_points))\n",
    "print(\"Adaptive integration  : \",adaptint   (current_function,current_range_a,current_range_b))\n",
    "print(\"Monte Carlo Sampling  : \",montecarlo (current_function,current_range_a,current_range_b,current_number_of_points))"
   ]
  },
  {
   "attachments": {},
   "cell_type": "markdown",
   "metadata": {},
   "source": [
    "<img src=\"https://i.imgur.com/3uN9tZE.png\">"
   ]
  },
  {
   "cell_type": "code",
   "execution_count": 52,
   "metadata": {
    "ExecuteTime": {
     "end_time": "2018-12-01T04:53:55.314188Z",
     "start_time": "2018-12-01T04:53:55.301256Z"
    }
   },
   "outputs": [
    {
     "name": "stdout",
     "output_type": "stream",
     "text": [
      "Riemann sums (long)  :  (72.64425070771362+667.2763945457909j)\n",
      "Riemann sums (short) :  (72.64425070771361+667.27639454579j)\n",
      "Trapeze integration (long)  :  (72.93919434639734+667.8913945457899j)\n",
      "Trapeze integration (short) :  (72.93919434639734+667.8913945457899j)\n",
      "Simpson’s integration (long)  :  (72.3463806556528+666.6571271505652j)\n",
      "Simpson’s integration (short) :  (72.34638065565284+666.6571271505654j)\n",
      "Adaptive integration  :  (122.79666845890848+505j)\n",
      "Monte Carlo Sampling  :  (70.5658001813228+675.8484814091789j)\n"
     ]
    }
   ],
   "source": [
    "# compute the integral\n",
    "current_range_a  = -100\n",
    "current_range_b  = 23\n",
    "current_number_of_points = 1000\n",
    "current_function = function3\n",
    "print(\"Riemann sums (long)  : \",riemannint (current_function,current_range_a,current_range_b,current_number_of_points))\n",
    "print(\"Riemann sums (short) : \",riemannint2(current_function,current_range_a,current_range_b,current_number_of_points))\n",
    "print(\"Trapeze integration (long)  : \",trapezeint1(current_function,current_range_a,current_range_b,current_number_of_points))\n",
    "print(\"Trapeze integration (short) : \",trapezeint2(current_function,current_range_a,current_range_b,current_number_of_points))\n",
    "print(\"Simpson’s integration (long)  : \",simpsonint1(current_function,current_range_a,current_range_b,current_number_of_points))\n",
    "print(\"Simpson’s integration (short) : \",simpsonint2(current_function,current_range_a,current_range_b,current_number_of_points))\n",
    "print(\"Adaptive integration  : \",adaptint   (current_function,current_range_a,current_range_b))\n",
    "print(\"Monte Carlo Sampling  : \",montecarlo (current_function,current_range_a,current_range_b,current_number_of_points))"
   ]
  },
  {
   "cell_type": "markdown",
   "metadata": {
    "ExecuteTime": {
     "end_time": "2018-12-01T04:54:38.035633Z",
     "start_time": "2018-12-01T04:54:38.030644Z"
    }
   },
   "source": [
    "<img src=\"https://i.imgur.com/OhYW2dJ.png\">"
   ]
  },
  {
   "cell_type": "code",
   "execution_count": 59,
   "metadata": {
    "ExecuteTime": {
     "end_time": "2018-12-01T04:55:45.832638Z",
     "start_time": "2018-12-01T04:55:45.810697Z"
    }
   },
   "outputs": [
    {
     "name": "stdout",
     "output_type": "stream",
     "text": [
      "Riemann sums (long)  :  0.9575173691435607\n",
      "Riemann sums (short) :  0.9575173691435601\n",
      "Trapeze integration (long)  :  0.9553939177510109\n",
      "Trapeze integration (short) :  0.9553939177510109\n",
      "Simpson’s integration (long)  :  0.9593540353720345\n",
      "Simpson’s integration (short) :  0.9593540353720346\n",
      "Adaptive integration  :  -0.9266930073586241\n",
      "Monte Carlo Sampling  :  0.9816538377344248\n"
     ]
    }
   ],
   "source": [
    "# compute the integral\n",
    "current_range_a  = 0\n",
    "current_range_b  = np.pi\n",
    "current_number_of_points = 1000\n",
    "current_function = function4\n",
    "print(\"Riemann sums (long)  : \",riemannint (current_function,current_range_a,current_range_b,current_number_of_points))\n",
    "print(\"Riemann sums (short) : \",riemannint2(current_function,current_range_a,current_range_b,current_number_of_points))\n",
    "print(\"Trapeze integration (long)  : \",trapezeint1(current_function,current_range_a,current_range_b,current_number_of_points))\n",
    "print(\"Trapeze integration (short) : \",trapezeint2(current_function,current_range_a,current_range_b,current_number_of_points))\n",
    "print(\"Simpson’s integration (long)  : \",simpsonint1(current_function,current_range_a,current_range_b,current_number_of_points))\n",
    "print(\"Simpson’s integration (short) : \",simpsonint2(current_function,current_range_a,current_range_b,current_number_of_points))\n",
    "print(\"Adaptive integration  : \",adaptint   (current_function,current_range_a,current_range_b))\n",
    "print(\"Monte Carlo Sampling  : \",montecarlo (current_function,current_range_a,current_range_b,current_number_of_points))"
   ]
  },
  {
   "cell_type": "code",
   "execution_count": null,
   "metadata": {},
   "outputs": [],
   "source": []
  }
 ],
 "metadata": {
  "kernelspec": {
   "display_name": "Python 3",
   "language": "python",
   "name": "python3"
  },
  "language_info": {
   "codemirror_mode": {
    "name": "ipython",
    "version": 3
   },
   "file_extension": ".py",
   "mimetype": "text/x-python",
   "name": "python",
   "nbconvert_exporter": "python",
   "pygments_lexer": "ipython3",
   "version": "3.6.5"
  },
  "latex_envs": {
   "LaTeX_envs_menu_present": true,
   "autoclose": false,
   "autocomplete": true,
   "bibliofile": "biblio.bib",
   "cite_by": "apalike",
   "current_citInitial": 1,
   "eqLabelWithNumbers": true,
   "eqNumInitial": 1,
   "hotkeys": {
    "equation": "Ctrl-E",
    "itemize": "Ctrl-I"
   },
   "labels_anchors": false,
   "latex_user_defs": false,
   "report_style_numbering": false,
   "user_envs_cfg": false
  },
  "varInspector": {
   "cols": {
    "lenName": 16,
    "lenType": 16,
    "lenVar": 40
   },
   "kernels_config": {
    "python": {
     "delete_cmd_postfix": "",
     "delete_cmd_prefix": "del ",
     "library": "var_list.py",
     "varRefreshCmd": "print(var_dic_list())"
    },
    "r": {
     "delete_cmd_postfix": ") ",
     "delete_cmd_prefix": "rm(",
     "library": "var_list.r",
     "varRefreshCmd": "cat(var_dic_list()) "
    }
   },
   "types_to_exclude": [
    "module",
    "function",
    "builtin_function_or_method",
    "instance",
    "_Feature"
   ],
   "window_display": false
  }
 },
 "nbformat": 4,
 "nbformat_minor": 2
}
