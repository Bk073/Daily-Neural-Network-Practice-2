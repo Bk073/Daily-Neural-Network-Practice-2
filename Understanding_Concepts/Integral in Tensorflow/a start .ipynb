{
 "cells": [
  {
   "cell_type": "code",
   "execution_count": 2,
   "metadata": {
    "ExecuteTime": {
     "end_time": "2018-11-27T20:36:28.099341Z",
     "start_time": "2018-11-27T20:36:26.966319Z"
    }
   },
   "outputs": [],
   "source": [
    "import numpy as np\n",
    "import matplotlib.pyplot as plt"
   ]
  },
  {
   "cell_type": "code",
   "execution_count": 3,
   "metadata": {
    "ExecuteTime": {
     "end_time": "2018-11-27T20:36:28.313770Z",
     "start_time": "2018-11-27T20:36:28.128258Z"
    },
    "code_folding": [
     4,
     11
    ]
   },
   "outputs": [
    {
     "name": "stdout",
     "output_type": "stream",
     "text": [
      "50.0\n",
      "49.98500100000002\n",
      "49.985001\n",
      "49.990001\n"
     ]
    },
    {
     "data": {
      "image/png": "[encoded data removed]",
      "text/plain": [
       "<Figure size 432x288 with 1 Axes>"
      ]
     },
     "metadata": {},
     "output_type": "display_data"
    }
   ],
   "source": [
    "# generate uniform \n",
    "def function1(x): return x \n",
    "\n",
    "# practice round\n",
    "def riemannint(function,a,b,n):\n",
    "    sumval = 0\n",
    "    h = (b-a)/n\n",
    "    for i in range(0,n-1):\n",
    "        current_x = a+i*h\n",
    "        sumval    = sumval + function(current_x) * h\n",
    "    return sumval\n",
    "def riemannint2(function,a,b,n):\n",
    "    sumval = 0\n",
    "    h = (b-a)/n\n",
    "    sumval = h * np.sum(function(a + i * h) for i in range(0,n-1) )\n",
    "    return sumval    \n",
    "def trapezeint1(function,a,b,n):\n",
    "    h = (b-a)/n\n",
    "    sumval = 0\n",
    "    for i in range(0,n-1):\n",
    "        x = a + i * h\n",
    "        sumval = sumval+2*function(x)\n",
    "    sumval = h*(sumval+function(a)+function(b))/2\n",
    "    return sumval\n",
    "def trapezeint2(function,a,b,n):\n",
    "    h = (b-a)/n\n",
    "    \n",
    "    \n",
    "x_range = np.arange(-100,100,0.5)\n",
    "func1   = function1(x_range)\n",
    "real_value = 10 * 10 / 2\n",
    "print(real_value)\n",
    "print(riemannint (function1,-0,10,10000))\n",
    "print(riemannint2(function1,-0,10,10000))\n",
    "print(trapezeint1(function1,-0,10,10000))\n",
    "\n",
    "plt.plot(x_range,func1); plt.show()"
   ]
  },
  {
   "cell_type": "code",
   "execution_count": null,
   "metadata": {
    "ExecuteTime": {
     "end_time": "2018-11-26T10:34:55.839880Z",
     "start_time": "2018-11-26T10:34:55.834894Z"
    }
   },
   "outputs": [],
   "source": []
  },
  {
   "cell_type": "code",
   "execution_count": null,
   "metadata": {},
   "outputs": [],
   "source": []
  },
  {
   "cell_type": "code",
   "execution_count": null,
   "metadata": {},
   "outputs": [],
   "source": []
  },
  {
   "cell_type": "code",
   "execution_count": null,
   "metadata": {},
   "outputs": [],
   "source": []
  }
 ],
 "metadata": {
  "kernelspec": {
   "display_name": "Python 3",
   "language": "python",
   "name": "python3"
  },
  "language_info": {
   "codemirror_mode": {
    "name": "ipython",
    "version": 3
   },
   "file_extension": ".py",
   "mimetype": "text/x-python",
   "name": "python",
   "nbconvert_exporter": "python",
   "pygments_lexer": "ipython3",
   "version": "3.6.5"
  },
  "latex_envs": {
   "LaTeX_envs_menu_present": true,
   "autoclose": false,
   "autocomplete": true,
   "bibliofile": "biblio.bib",
   "cite_by": "apalike",
   "current_citInitial": 1,
   "eqLabelWithNumbers": true,
   "eqNumInitial": 1,
   "hotkeys": {
    "equation": "Ctrl-E",
    "itemize": "Ctrl-I"
   },
   "labels_anchors": false,
   "latex_user_defs": false,
   "report_style_numbering": false,
   "user_envs_cfg": false
  },
  "varInspector": {
   "cols": {
    "lenName": 16,
    "lenType": 16,
    "lenVar": 40
   },
   "kernels_config": {
    "python": {
     "delete_cmd_postfix": "",
     "delete_cmd_prefix": "del ",
     "library": "var_list.py",
     "varRefreshCmd": "print(var_dic_list())"
    },
    "r": {
     "delete_cmd_postfix": ") ",
     "delete_cmd_prefix": "rm(",
     "library": "var_list.r",
     "varRefreshCmd": "cat(var_dic_list()) "
    }
   },
   "types_to_exclude": [
    "module",
    "function",
    "builtin_function_or_method",
    "instance",
    "_Feature"
   ],
   "window_display": false
  }
 },
 "nbformat": 4,
 "nbformat_minor": 2
}
