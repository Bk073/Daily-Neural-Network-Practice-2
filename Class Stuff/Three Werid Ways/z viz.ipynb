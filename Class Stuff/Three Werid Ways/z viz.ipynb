{
 "cells": [
  {
   "cell_type": "code",
   "execution_count": 22,
   "metadata": {
    "ExecuteTime": {
     "end_time": "2019-02-04T05:09:59.487470Z",
     "start_time": "2019-02-04T05:09:59.482484Z"
    }
   },
   "outputs": [],
   "source": [
    "# import lib\n",
    "import numpy as np\n",
    "import matplotlib.pyplot as plt\n",
    "plt.style.use('seaborn')"
   ]
  },
  {
   "cell_type": "code",
   "execution_count": 23,
   "metadata": {
    "ExecuteTime": {
     "end_time": "2019-02-04T05:10:01.073237Z",
     "start_time": "2019-02-04T05:10:01.056281Z"
    }
   },
   "outputs": [
    {
     "name": "stdout",
     "output_type": "stream",
     "text": [
      "(10, 200) (10, 200)\n",
      "(10, 200) (10, 200)\n",
      "(10, 200) (10, 200)\n",
      "(10, 200) (10, 200)\n",
      "(10, 200) (10, 200)\n"
     ]
    }
   ],
   "source": [
    "# read results 1 \n",
    "caseA_train = np.load('no_batch/A/train.npy'); caseA_test  = np.load('no_batch/A/test.npy')\n",
    "caseB_train = np.load('no_batch/B/train.npy'); caseB_test  = np.load('no_batch/B/test.npy')\n",
    "caseC_train = np.load('no_batch/C/train.npy'); caseC_test  = np.load('no_batch/C/test.npy')\n",
    "caseD_train = np.load('no_batch/D/train.npy'); caseD_test  = np.load('no_batch/D/test.npy')\n",
    "caseE_train = np.load('no_batch/E/train.npy'); caseE_test  = np.load('no_batch/E/test.npy')\n",
    "\n",
    "print(caseA_train.shape,caseA_test.shape)\n",
    "print(caseB_train.shape,caseB_test.shape)\n",
    "print(caseC_train.shape,caseC_test.shape)\n",
    "print(caseD_train.shape,caseD_test.shape)\n",
    "print(caseE_train.shape,caseE_test.shape)"
   ]
  },
  {
   "cell_type": "code",
   "execution_count": null,
   "metadata": {
    "ExecuteTime": {
     "start_time": "2019-02-04T05:13:14.244Z"
    }
   },
   "outputs": [],
   "source": [
    "# plot the training\n",
    "import pylab as plot\n",
    "params = {'legend.fontsize': 15,'legend.handlelength': 2}\n",
    "plot.rcParams.update(params)\n",
    "plt.figure(figsize=(10,10))\n",
    "\n",
    "current_case = caseA_train\n",
    "plt.plot(current_case.max(0),  ' ' ,color='red')\n",
    "plt.plot(current_case.mean(0), '-' ,color='red',label='train mean')\n",
    "plt.plot(current_case.min(0) , ' ' ,color='red')\n",
    "plt.fill_between(range(len(current_case[0])),current_case.max(0),current_case.min(0),facecolor='red', alpha=0.2)\n",
    "\n",
    "current_case = caseB_train\n",
    "plt.plot(current_case.max(0),  ' ' ,color='blue')\n",
    "plt.plot(current_case.mean(0), '-' ,color='blue',label='train mean')\n",
    "plt.plot(current_case.min(0) , ' ' ,color='blue')\n",
    "plt.fill_between(range(len(current_case[0])),current_case.max(0),current_case.min(0),facecolor='blue', alpha=0.2)\n",
    "\n",
    "current_case = caseC_train\n",
    "plt.plot(current_case.max(0),  ' ' ,color='green')\n",
    "plt.plot(current_case.mean(0), '-' ,color='green',label='train mean')\n",
    "plt.plot(current_case.min(0) , ' ' ,color='green')\n",
    "plt.fill_between(range(len(current_case[0])),current_case.max(0),current_case.min(0),facecolor='green', alpha=0.2)\n",
    "\n",
    "current_case = caseD_train\n",
    "plt.plot(current_case.max(0),  ' ' ,color='black')\n",
    "plt.plot(current_case.mean(0), '-' ,color='black',label='train mean')\n",
    "plt.plot(current_case.min(0) , ' ' ,color='black')\n",
    "plt.fill_between(range(len(current_case[0])),current_case.max(0),current_case.min(0),facecolor='black', alpha=0.2)\n",
    "\n",
    "plt.legend()\n",
    "plt.show()"
   ]
  },
  {
   "cell_type": "code",
   "execution_count": null,
   "metadata": {},
   "outputs": [],
   "source": []
  },
  {
   "cell_type": "code",
   "execution_count": null,
   "metadata": {},
   "outputs": [],
   "source": []
  },
  {
   "cell_type": "code",
   "execution_count": null,
   "metadata": {},
   "outputs": [],
   "source": []
  },
  {
   "cell_type": "code",
   "execution_count": null,
   "metadata": {},
   "outputs": [],
   "source": []
  },
  {
   "cell_type": "code",
   "execution_count": null,
   "metadata": {},
   "outputs": [],
   "source": []
  }
 ],
 "metadata": {
  "kernelspec": {
   "display_name": "Python 3",
   "language": "python",
   "name": "python3"
  },
  "language_info": {
   "codemirror_mode": {
    "name": "ipython",
    "version": 3
   },
   "file_extension": ".py",
   "mimetype": "text/x-python",
   "name": "python",
   "nbconvert_exporter": "python",
   "pygments_lexer": "ipython3",
   "version": "3.6.6"
  },
  "latex_envs": {
   "LaTeX_envs_menu_present": true,
   "autoclose": false,
   "autocomplete": true,
   "bibliofile": "biblio.bib",
   "cite_by": "apalike",
   "current_citInitial": 1,
   "eqLabelWithNumbers": true,
   "eqNumInitial": 1,
   "hotkeys": {
    "equation": "Ctrl-E",
    "itemize": "Ctrl-I"
   },
   "labels_anchors": false,
   "latex_user_defs": false,
   "report_style_numbering": false,
   "user_envs_cfg": false
  },
  "varInspector": {
   "cols": {
    "lenName": 16,
    "lenType": 16,
    "lenVar": 40
   },
   "kernels_config": {
    "python": {
     "delete_cmd_postfix": "",
     "delete_cmd_prefix": "del ",
     "library": "var_list.py",
     "varRefreshCmd": "print(var_dic_list())"
    },
    "r": {
     "delete_cmd_postfix": ") ",
     "delete_cmd_prefix": "rm(",
     "library": "var_list.r",
     "varRefreshCmd": "cat(var_dic_list()) "
    }
   },
   "types_to_exclude": [
    "module",
    "function",
    "builtin_function_or_method",
    "instance",
    "_Feature"
   ],
   "window_display": false
  }
 },
 "nbformat": 4,
 "nbformat_minor": 2
}
