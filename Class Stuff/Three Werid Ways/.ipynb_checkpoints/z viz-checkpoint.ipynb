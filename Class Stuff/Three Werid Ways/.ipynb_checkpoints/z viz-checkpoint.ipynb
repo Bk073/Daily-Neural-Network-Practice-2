{
 "cells": [
  {
   "cell_type": "code",
   "execution_count": 4,
   "metadata": {
    "ExecuteTime": {
     "end_time": "2019-02-04T05:00:44.358103Z",
     "start_time": "2019-02-04T05:00:43.347431Z"
    }
   },
   "outputs": [],
   "source": [
    "# import lib\n",
    "import numpy as np\n",
    "import matplotlib.pyplot as plt"
   ]
  },
  {
   "cell_type": "code",
   "execution_count": 10,
   "metadata": {
    "ExecuteTime": {
     "end_time": "2019-02-04T05:04:08.823361Z",
     "start_time": "2019-02-04T05:04:08.814383Z"
    }
   },
   "outputs": [
    {
     "name": "stdout",
     "output_type": "stream",
     "text": [
      "[[0.0966     0.1236     0.1486     ... 0.51739999 0.51999999 0.51779999]\n",
      " [0.1088     0.1334     0.1462     ... 0.4288     0.4268     0.4358    ]\n",
      " [0.1024     0.1092     0.117      ... 0.53039999 0.5324     0.53459999]\n",
      " ...\n",
      " [0.1008     0.1256     0.1278     ... 0.52879999 0.5294     0.5288    ]\n",
      " [0.0966     0.1198     0.1568     ... 0.51679999 0.5224     0.5244    ]\n",
      " [0.102      0.1118     0.1148     ... 0.5574     0.5556     0.5516    ]]\n",
      "(10, 200) (10, 200)\n"
     ]
    }
   ],
   "source": [
    "# read results 1 \n",
    "caseA_train = np.load('no_batch/A/train.npy'); caseA_test  = np.load('no_batch/A/train.npy')\n",
    "caseB_train = np.load('no_batch/A/train.npy'); caseB_test  = np.load('no_batch/A/train.npy')\n",
    "caseC_train = np.load('no_batch/A/train.npy'); caseC_test  = np.load('no_batch/A/train.npy')\n",
    "caseD_train = np.load('no_batch/A/train.npy'); caseD_test  = np.load('no_batch/A/train.npy')\n",
    "caseE_train = np.load('no_batch/A/train.npy'); caseE_test  = np.load('no_batch/A/train.npy')\n",
    "\n",
    "\n",
    "print(caseA_train.shape,caseA_test.shape)"
   ]
  },
  {
   "cell_type": "code",
   "execution_count": null,
   "metadata": {},
   "outputs": [],
   "source": []
  },
  {
   "cell_type": "code",
   "execution_count": null,
   "metadata": {},
   "outputs": [],
   "source": []
  },
  {
   "cell_type": "code",
   "execution_count": null,
   "metadata": {},
   "outputs": [],
   "source": []
  },
  {
   "cell_type": "code",
   "execution_count": null,
   "metadata": {},
   "outputs": [],
   "source": []
  },
  {
   "cell_type": "code",
   "execution_count": null,
   "metadata": {},
   "outputs": [],
   "source": []
  },
  {
   "cell_type": "code",
   "execution_count": null,
   "metadata": {},
   "outputs": [],
   "source": []
  }
 ],
 "metadata": {
  "kernelspec": {
   "display_name": "Python 3",
   "language": "python",
   "name": "python3"
  },
  "language_info": {
   "codemirror_mode": {
    "name": "ipython",
    "version": 3
   },
   "file_extension": ".py",
   "mimetype": "text/x-python",
   "name": "python",
   "nbconvert_exporter": "python",
   "pygments_lexer": "ipython3",
   "version": "3.6.6"
  },
  "latex_envs": {
   "LaTeX_envs_menu_present": true,
   "autoclose": false,
   "autocomplete": true,
   "bibliofile": "biblio.bib",
   "cite_by": "apalike",
   "current_citInitial": 1,
   "eqLabelWithNumbers": true,
   "eqNumInitial": 1,
   "hotkeys": {
    "equation": "Ctrl-E",
    "itemize": "Ctrl-I"
   },
   "labels_anchors": false,
   "latex_user_defs": false,
   "report_style_numbering": false,
   "user_envs_cfg": false
  },
  "varInspector": {
   "cols": {
    "lenName": 16,
    "lenType": 16,
    "lenVar": 40
   },
   "kernels_config": {
    "python": {
     "delete_cmd_postfix": "",
     "delete_cmd_prefix": "del ",
     "library": "var_list.py",
     "varRefreshCmd": "print(var_dic_list())"
    },
    "r": {
     "delete_cmd_postfix": ") ",
     "delete_cmd_prefix": "rm(",
     "library": "var_list.r",
     "varRefreshCmd": "cat(var_dic_list()) "
    }
   },
   "types_to_exclude": [
    "module",
    "function",
    "builtin_function_or_method",
    "instance",
    "_Feature"
   ],
   "window_display": false
  }
 },
 "nbformat": 4,
 "nbformat_minor": 2
}
