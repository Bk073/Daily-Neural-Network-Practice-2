{
 "cells": [
  {
   "cell_type": "code",
   "execution_count": 4,
   "metadata": {
    "ExecuteTime": {
     "end_time": "2019-02-11T00:58:07.241868Z",
     "start_time": "2019-02-11T00:58:07.233880Z"
    }
   },
   "outputs": [
    {
     "name": "stdout",
     "output_type": "stream",
     "text": [
      "0.0\n",
      "0.010101010101010102\n",
      "0.020202020202020204\n",
      "0.030303030303030304\n",
      "0.04040404040404041\n",
      "0.05050505050505051\n",
      "0.06060606060606061\n",
      "0.07070707070707072\n",
      "0.08080808080808081\n",
      "0.09090909090909091\n",
      "0.10101010101010102\n",
      "0.11111111111111112\n",
      "0.12121212121212122\n",
      "0.13131313131313133\n",
      "0.14141414141414144\n",
      "0.15151515151515152\n",
      "0.16161616161616163\n",
      "0.17171717171717174\n",
      "0.18181818181818182\n",
      "0.19191919191919193\n",
      "0.20202020202020204\n",
      "0.21212121212121213\n",
      "0.22222222222222224\n",
      "0.23232323232323235\n",
      "0.24242424242424243\n",
      "0.25252525252525254\n",
      "0.26262626262626265\n",
      "0.27272727272727276\n",
      "0.2828282828282829\n",
      "0.29292929292929293\n",
      "0.30303030303030304\n",
      "0.31313131313131315\n",
      "0.32323232323232326\n",
      "0.33333333333333337\n",
      "0.3434343434343435\n",
      "0.3535353535353536\n",
      "0.36363636363636365\n",
      "0.37373737373737376\n",
      "0.38383838383838387\n",
      "0.393939393939394\n",
      "0.4040404040404041\n",
      "0.4141414141414142\n",
      "0.42424242424242425\n",
      "0.43434343434343436\n",
      "0.4444444444444445\n",
      "0.4545454545454546\n",
      "0.4646464646464647\n",
      "0.4747474747474748\n",
      "0.48484848484848486\n",
      "0.494949494949495\n",
      "0.5050505050505051\n",
      "0.5151515151515152\n",
      "0.5252525252525253\n",
      "0.5353535353535354\n",
      "0.5454545454545455\n",
      "0.5555555555555556\n",
      "0.5656565656565657\n",
      "0.5757575757575758\n",
      "0.5858585858585859\n",
      "0.595959595959596\n",
      "0.6060606060606061\n",
      "0.6161616161616162\n",
      "0.6262626262626263\n",
      "0.6363636363636365\n",
      "0.6464646464646465\n",
      "0.6565656565656566\n",
      "0.6666666666666667\n",
      "0.6767676767676768\n",
      "0.686868686868687\n",
      "0.696969696969697\n",
      "0.7070707070707072\n",
      "0.7171717171717172\n",
      "0.7272727272727273\n",
      "0.7373737373737375\n",
      "0.7474747474747475\n",
      "0.7575757575757577\n",
      "0.7676767676767677\n",
      "0.7777777777777778\n",
      "0.787878787878788\n",
      "0.797979797979798\n",
      "0.8080808080808082\n",
      "0.8181818181818182\n",
      "0.8282828282828284\n",
      "0.8383838383838385\n",
      "0.8484848484848485\n",
      "0.8585858585858587\n",
      "0.8686868686868687\n",
      "0.8787878787878789\n",
      "0.888888888888889\n",
      "0.8989898989898991\n",
      "0.9090909090909092\n",
      "0.9191919191919192\n",
      "0.9292929292929294\n",
      "0.9393939393939394\n",
      "0.9494949494949496\n",
      "0.9595959595959597\n",
      "0.9696969696969697\n",
      "0.9797979797979799\n",
      "0.98989898989899\n",
      "1.0\n"
     ]
    }
   ],
   "source": [
    "import numpy as np\n",
    "\n",
    "def f(x): return 4/(1+x**2)\n",
    "s_n = 0\n",
    "error_term = 0\n",
    "for x in np.linspace(0,1,100):\n",
    "    value = f(x)\n",
    "    s_n = s_n + value\n",
    "    error_term = value**2 + error_term\n",
    "s_n = s_n/100\n",
    "error_term = np.sqrt(error_term/100-s_n**2)/10\n",
    "print(s_n)\n",
    "print(s_n)"
   ]
  },
  {
   "cell_type": "code",
   "execution_count": null,
   "metadata": {},
   "outputs": [],
   "source": []
  },
  {
   "cell_type": "code",
   "execution_count": null,
   "metadata": {},
   "outputs": [],
   "source": []
  },
  {
   "cell_type": "code",
   "execution_count": null,
   "metadata": {},
   "outputs": [],
   "source": []
  },
  {
   "cell_type": "code",
   "execution_count": null,
   "metadata": {},
   "outputs": [],
   "source": []
  },
  {
   "cell_type": "code",
   "execution_count": null,
   "metadata": {},
   "outputs": [],
   "source": []
  },
  {
   "cell_type": "code",
   "execution_count": null,
   "metadata": {},
   "outputs": [],
   "source": []
  },
  {
   "cell_type": "code",
   "execution_count": null,
   "metadata": {},
   "outputs": [],
   "source": []
  }
 ],
 "metadata": {
  "kernelspec": {
   "display_name": "Python 3",
   "language": "python",
   "name": "python3"
  },
  "language_info": {
   "codemirror_mode": {
    "name": "ipython",
    "version": 3
   },
   "file_extension": ".py",
   "mimetype": "text/x-python",
   "name": "python",
   "nbconvert_exporter": "python",
   "pygments_lexer": "ipython3",
   "version": "3.6.6"
  },
  "latex_envs": {
   "LaTeX_envs_menu_present": true,
   "autoclose": false,
   "autocomplete": true,
   "bibliofile": "biblio.bib",
   "cite_by": "apalike",
   "current_citInitial": 1,
   "eqLabelWithNumbers": true,
   "eqNumInitial": 1,
   "hotkeys": {
    "equation": "Ctrl-E",
    "itemize": "Ctrl-I"
   },
   "labels_anchors": false,
   "latex_user_defs": false,
   "report_style_numbering": false,
   "user_envs_cfg": false
  },
  "varInspector": {
   "cols": {
    "lenName": 16,
    "lenType": 16,
    "lenVar": 40
   },
   "kernels_config": {
    "python": {
     "delete_cmd_postfix": "",
     "delete_cmd_prefix": "del ",
     "library": "var_list.py",
     "varRefreshCmd": "print(var_dic_list())"
    },
    "r": {
     "delete_cmd_postfix": ") ",
     "delete_cmd_prefix": "rm(",
     "library": "var_list.r",
     "varRefreshCmd": "cat(var_dic_list()) "
    }
   },
   "types_to_exclude": [
    "module",
    "function",
    "builtin_function_or_method",
    "instance",
    "_Feature"
   ],
   "window_display": false
  }
 },
 "nbformat": 4,
 "nbformat_minor": 2
}
