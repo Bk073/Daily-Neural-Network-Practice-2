{
 "cells": [
  {
   "cell_type": "code",
   "execution_count": 1,
   "metadata": {
    "ExecuteTime": {
     "end_time": "2018-11-21T02:45:35.854657Z",
     "start_time": "2018-11-21T02:45:13.553420Z"
    },
    "code_folding": [
     0
    ]
   },
   "outputs": [],
   "source": [
    "# import library\n",
    "import tensorflow as tf\n",
    "import numpy as np\n",
    "import sys, os,cv2\n",
    "from scipy.misc import imread,imresize\n",
    "import matplotlib.pyplot as plt\n",
    "from sklearn.preprocessing import OneHotEncoder\n",
    "from imgaug import augmenters as iaa\n",
    "import imgaug as ia\n",
    "from scipy.ndimage import zoom\n",
    "from sklearn.utils import shuffle\n",
    "import matplotlib.animation as animation\n",
    "import seaborn as sns\n",
    "from mpl_toolkits.mplot3d import Axes3D\n",
    "from sklearn.datasets import make_blobs,make_moons,make_swiss_roll\n",
    "from IPython.display  import IFrame\n",
    "\n",
    "plt.style.use('seaborn')\n",
    "os.environ['TF_CPP_MIN_LOG_LEVEL'] = '3'"
   ]
  },
  {
   "cell_type": "code",
   "execution_count": 2,
   "metadata": {
    "ExecuteTime": {
     "end_time": "2018-11-21T02:45:35.874605Z",
     "start_time": "2018-11-21T02:45:35.867623Z"
    },
    "code_folding": [
     1,
     10
    ]
   },
   "outputs": [],
   "source": [
    "# create function for PCA using SVD\n",
    "def pca_svd(data,return_project = False,mmax=1.5,mmin=0.5):\n",
    "    data  = data - data.mean(0,keepdims=True)\n",
    "    U,S,V = np.linalg.svd(data,full_matrices=False)\n",
    "    projected_data = U @ np.diag(S) \n",
    "    V_T   = V.T\n",
    "    s_range = (mmax-mmin) * (S-S.min())/(S.max()-S.min()) + mmin\n",
    "    if not return_project: return V_T,s_range\n",
    "    return projected_data,V_T,s_range\n",
    "def tf_pca_svd(X,mmax=1.5,mmin=0.5,full=True): \n",
    "    s,U,V  = tf.linalg.svd(X,full_matrices=full)\n",
    "    S      = tf.diag(s)\n",
    "    s      = s.eval()\n",
    "    ScaledS= (mmax-mmin)*((s-s.min())/(s.max()-s.min())) + mmin\n",
    "    return U.eval(),S,V.eval(),ScaledS"
   ]
  },
  {
   "cell_type": "code",
   "execution_count": 3,
   "metadata": {
    "ExecuteTime": {
     "end_time": "2018-11-21T02:45:36.180269Z",
     "start_time": "2018-11-21T02:45:35.887571Z"
    },
    "code_folding": [
     0
    ]
   },
   "outputs": [
    {
     "ename": "NameError",
     "evalue": "name 'sess' is not defined",
     "output_type": "error",
     "traceback": [
      "\u001b[1;31m---------------------------------------------------------------------------\u001b[0m",
      "\u001b[1;31mNameError\u001b[0m                                 Traceback (most recent call last)",
      "\u001b[1;32m<ipython-input-3-123687d5c11e>\u001b[0m in \u001b[0;36m<module>\u001b[1;34m()\u001b[0m\n\u001b[0;32m      1\u001b[0m \u001b[1;31m# start the session\u001b[0m\u001b[1;33m\u001b[0m\u001b[1;33m\u001b[0m\u001b[0m\n\u001b[0;32m      2\u001b[0m \u001b[1;31m# sess = tf.InteractiveSession()\u001b[0m\u001b[1;33m\u001b[0m\u001b[1;33m\u001b[0m\u001b[0m\n\u001b[1;32m----> 3\u001b[1;33m \u001b[0msess\u001b[0m\u001b[1;33m.\u001b[0m\u001b[0mrun\u001b[0m\u001b[1;33m(\u001b[0m\u001b[0mtf\u001b[0m\u001b[1;33m.\u001b[0m\u001b[0mglobal_variables_initializer\u001b[0m\u001b[1;33m(\u001b[0m\u001b[1;33m)\u001b[0m\u001b[1;33m)\u001b[0m\u001b[1;33m\u001b[0m\u001b[0m\n\u001b[0m",
      "\u001b[1;31mNameError\u001b[0m: name 'sess' is not defined"
     ]
    }
   ],
   "source": [
    "# start the session\n",
    "# sess = tf.InteractiveSession()\n",
    "sess.run(tf.global_variables_initializer())"
   ]
  },
  {
   "cell_type": "code",
   "execution_count": null,
   "metadata": {
    "ExecuteTime": {
     "end_time": "2018-11-21T02:45:36.184259Z",
     "start_time": "2018-11-21T02:45:14.469Z"
    },
    "code_folding": []
   },
   "outputs": [],
   "source": [
    "# make circle original data\n",
    "from sklearn import  datasets\n",
    "np.random.seed(6789)\n",
    "n_samples   = 4000\n",
    "data,label  = datasets.make_blobs(n_samples=n_samples,cluster_std=0.3,centers=2)\n",
    "U,S,V,_     = tf_pca_svd(data)\n",
    "\n",
    "print(data.shape)\n",
    "print(U.shape)\n",
    "print(S.shape)\n",
    "print(V.shape)"
   ]
  },
  {
   "cell_type": "code",
   "execution_count": null,
   "metadata": {},
   "outputs": [],
   "source": []
  },
  {
   "cell_type": "code",
   "execution_count": 10,
   "metadata": {
    "ExecuteTime": {
     "end_time": "2018-11-21T03:00:20.403557Z",
     "start_time": "2018-11-21T03:00:20.396594Z"
    }
   },
   "outputs": [
    {
     "name": "stdout",
     "output_type": "stream",
     "text": [
      "(9000, 3)\n"
     ]
    }
   ],
   "source": [
    "# create sample data\n",
    "from sklearn.datasets import make_blobs\n",
    "data,label = make_blobs(9000,3)\n",
    "print(data.shape)"
   ]
  },
  {
   "cell_type": "code",
   "execution_count": 11,
   "metadata": {
    "ExecuteTime": {
     "end_time": "2018-11-21T03:00:21.241225Z",
     "start_time": "2018-11-21T03:00:21.236213Z"
    }
   },
   "outputs": [
    {
     "name": "stdout",
     "output_type": "stream",
     "text": [
      "(9000, 3)\n",
      "(3,)\n",
      "(3, 3)\n"
     ]
    }
   ],
   "source": [
    "# start with numpy svd\n",
    "U,s,VT = np.linalg.svd(data,full_matrices=False)\n",
    "print(U.shape)\n",
    "print(s.shape)\n",
    "print(VT.shape)"
   ]
  },
  {
   "cell_type": "code",
   "execution_count": 22,
   "metadata": {
    "ExecuteTime": {
     "end_time": "2018-11-21T03:05:01.722592Z",
     "start_time": "2018-11-21T03:05:00.532363Z"
    },
    "code_folding": []
   },
   "outputs": [
    {
     "name": "stdout",
     "output_type": "stream",
     "text": [
      "[[ 1.39547963e+05 -2.86660322e+03 -1.31819497e+03]\n",
      " [ 1.16524227e+04 -2.39364816e+02 -1.10070865e+02]\n",
      " [ 1.56829614e+04 -3.22160400e+02 -1.48144053e+02]]\n",
      "[[1. 1. 1.]\n",
      " [1. 1. 1.]\n",
      " [1. 1. 1.]\n",
      " ...\n",
      " [1. 1. 1.]\n",
      " [1. 1. 1.]\n",
      " [1. 1. 1.]]\n"
     ]
    }
   ],
   "source": [
    "# get the gradient function\n",
    "import numpy as anp\n",
    "def T(x): return anp.swapaxes(x, -1, -2)\n",
    "def grad_svd(usv, a,g):\n",
    "    dot = anp.dot\n",
    "    u = usv[0]\n",
    "    s = usv[1]\n",
    "    v = T(usv[2])\n",
    "\n",
    "    m, n = a.shape[-2:]\n",
    "\n",
    "    k = anp.min((m, n))\n",
    "    # broadcastable identity array with shape (1, 1, ..., 1, k, k)\n",
    "    i = anp.reshape(anp.eye(k), anp.concatenate((anp.ones(a.ndim - 2, dtype=int), (k, k))))\n",
    "\n",
    "    f = 1 / (s[..., anp.newaxis, :]**2 - s[..., :, anp.newaxis]**2 + i)\n",
    "\n",
    "    gu = g[0]\n",
    "    gs = g[1]\n",
    "    gv = T(g[2])\n",
    "\n",
    "    utgu = dot(T(u), gu)\n",
    "    vtgv = dot(T(v), gv)\n",
    "    i_minus_uut = (anp.reshape(anp.eye(m), anp.concatenate((anp.ones(a.ndim - 2, dtype=int), (m, m)))) - dot(u, T(u)))\n",
    "\n",
    "    t1 = (f * (utgu - T(utgu))) * s[..., anp.newaxis, :]\n",
    "    t1 = t1 + i * gs[..., :, anp.newaxis]\n",
    "    t1 = t1 + s[..., :, anp.newaxis] * (f * (vtgv - T(vtgv)))\n",
    "\n",
    "    t1 = dot(dot(u, t1), T(v))\n",
    "    t1 = t1 + dot(i_minus_uut, dot(gu, T(v) / s[..., :, anp.newaxis]))\n",
    "    return t1\n",
    "\n",
    "S  = np.diag(s)\n",
    "gu = np.ones_like(data) @ (S @ VT).T\n",
    "gs = np.diag(U.T @ np.ones_like(data) @ VT.T)\n",
    "gv = (U @ S).T @ np.ones_like(data)\n",
    "grad_svd = grad_svd([U,s,VT],data,[gu,gs,gv])\n",
    "print(grad_svd)\n"
   ]
  },
  {
   "cell_type": "code",
   "execution_count": 17,
   "metadata": {
    "ExecuteTime": {
     "end_time": "2018-11-19T17:53:16.380181Z",
     "start_time": "2018-11-19T17:53:15.701485Z"
    },
    "code_folding": [
     3
    ]
   },
   "outputs": [
    {
     "name": "stdout",
     "output_type": "stream",
     "text": [
      "7sss890\n",
      "7890\n",
      "(4000, 2)\n",
      "7sss890\n",
      "7890\n",
      "7999.999999999996\n",
      "7sss890\n",
      "7890\n",
      "0.9999999999999996\n"
     ]
    }
   ],
   "source": [
    "# use the high level api\n",
    "from autograd import elementwise_grad as egrad\n",
    "import autograd.numpy as nps\n",
    "def get_svd(data):\n",
    "    U,s,V = nps.linalg.svd(data,full_matrices=False)\n",
    "    S = nps.diag(s)\n",
    "    return U @ S @ V.T\n",
    "\n",
    "grad_ssvd = egrad(get_svd)\n",
    "print(grad_ssvd(data).shape)\n",
    "print(grad_ssvd(data).sum())\n",
    "print(grad_ssvd(data).mean())"
   ]
  },
  {
   "cell_type": "code",
   "execution_count": null,
   "metadata": {},
   "outputs": [],
   "source": []
  },
  {
   "cell_type": "code",
   "execution_count": null,
   "metadata": {},
   "outputs": [],
   "source": []
  }
 ],
 "metadata": {
  "kernelspec": {
   "display_name": "Python 3",
   "language": "python",
   "name": "python3"
  },
  "language_info": {
   "codemirror_mode": {
    "name": "ipython",
    "version": 3
   },
   "file_extension": ".py",
   "mimetype": "text/x-python",
   "name": "python",
   "nbconvert_exporter": "python",
   "pygments_lexer": "ipython3",
   "version": "3.6.5"
  },
  "latex_envs": {
   "LaTeX_envs_menu_present": true,
   "autoclose": false,
   "autocomplete": true,
   "bibliofile": "biblio.bib",
   "cite_by": "apalike",
   "current_citInitial": 1,
   "eqLabelWithNumbers": true,
   "eqNumInitial": 1,
   "hotkeys": {
    "equation": "Ctrl-E",
    "itemize": "Ctrl-I"
   },
   "labels_anchors": false,
   "latex_user_defs": false,
   "report_style_numbering": false,
   "user_envs_cfg": false
  },
  "toc": {
   "base_numbering": 1,
   "nav_menu": {},
   "number_sections": true,
   "sideBar": true,
   "skip_h1_title": false,
   "title_cell": "Table of Contents",
   "title_sidebar": "Contents",
   "toc_cell": false,
   "toc_position": {},
   "toc_section_display": true,
   "toc_window_display": false
  },
  "varInspector": {
   "cols": {
    "lenName": 16,
    "lenType": 16,
    "lenVar": 40
   },
   "kernels_config": {
    "python": {
     "delete_cmd_postfix": "",
     "delete_cmd_prefix": "del ",
     "library": "var_list.py",
     "varRefreshCmd": "print(var_dic_list())"
    },
    "r": {
     "delete_cmd_postfix": ") ",
     "delete_cmd_prefix": "rm(",
     "library": "var_list.r",
     "varRefreshCmd": "cat(var_dic_list()) "
    }
   },
   "types_to_exclude": [
    "module",
    "function",
    "builtin_function_or_method",
    "instance",
    "_Feature"
   ],
   "window_display": false
  }
 },
 "nbformat": 4,
 "nbformat_minor": 2
}
