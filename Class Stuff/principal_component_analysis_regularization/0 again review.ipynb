{
 "cells": [
  {
   "cell_type": "code",
   "execution_count": 1,
   "metadata": {
    "ExecuteTime": {
     "end_time": "2018-12-09T14:51:53.140299Z",
     "start_time": "2018-12-09T14:51:50.001852Z"
    },
    "code_folding": []
   },
   "outputs": [],
   "source": [
    "# import library\n",
    "import tensorflow as tf \n",
    "tf.enable_eager_execution()\n",
    "import numpy      as np\n",
    "import matplotlib.pyplot as plt\n",
    "np.random.seed(789); tf.set_random_seed(678)\n",
    "\n",
    "from sklearn.datasets.samples_generator import make_blobs,make_moons,make_biclusters,make_s_curve"
   ]
  },
  {
   "cell_type": "code",
   "execution_count": 20,
   "metadata": {
    "ExecuteTime": {
     "end_time": "2018-12-09T15:38:17.600185Z",
     "start_time": "2018-12-09T15:38:17.582236Z"
    }
   },
   "outputs": [
    {
     "name": "stdout",
     "output_type": "stream",
     "text": [
      "(4000, 2)\n",
      "(2,)\n",
      "(4000, 2)\n",
      "(2, 2)\n",
      "1.9640012849356274\n",
      "True\n"
     ]
    }
   ],
   "source": [
    "# declare hyperparameter\n",
    "number_of_data_points = 4000\n",
    "X,Y   = make_moons(number_of_data_points,noise=0.2)\n",
    "s,U,V = tf.svd(X)\n",
    "\n",
    "recon_data = U @ tf.diag(s) @ tf.transpose(V)\n",
    "print(recon_data.shape)\n",
    "print(s.shape)\n",
    "print(U.shape)\n",
    "print(V.shape)\n",
    "print( np.diag(V @ V).sum())\n",
    "\n",
    "print(\n",
    "    np.allclose(X,recon_data)\n",
    ")"
   ]
  },
  {
   "cell_type": "code",
   "execution_count": null,
   "metadata": {
    "ExecuteTime": {
     "end_time": "2018-12-09T15:39:42.258782Z",
     "start_time": "2018-12-09T15:39:41.870811Z"
    }
   },
   "outputs": [],
   "source": []
  },
  {
   "cell_type": "code",
   "execution_count": null,
   "metadata": {
    "ExecuteTime": {
     "end_time": "2018-12-09T15:39:51.143710Z",
     "start_time": "2018-12-09T15:39:50.774028Z"
    }
   },
   "outputs": [],
   "source": []
  },
  {
   "cell_type": "code",
   "execution_count": null,
   "metadata": {},
   "outputs": [],
   "source": []
  },
  {
   "cell_type": "markdown",
   "metadata": {},
   "source": [
    "# Reference \n",
    "1. Brownlee, J. (2018). How to Generate Test Datasets in Python with scikit-learn. Machine Learning Mastery. Retrieved 9 December 2018, from https://machinelearningmastery.com/generate-test-datasets-python-scikit-learn/\n",
    "2. sklearn.datasets.make_s_curve — scikit-learn 0.20.1 documentation. (2018). Scikit-learn.org. Retrieved 9 December 2018, from https://scikit-learn.org/stable/modules/generated/sklearn.datasets.make_s_curve.html#sklearn.datasets.make_s_curve\n",
    "3. Eager execution basics | TensorFlow. (2018). TensorFlow. Retrieved 9 December 2018, from https://www.tensorflow.org/tutorials/eager/eager_basics\n",
    "4. "
   ]
  }
 ],
 "metadata": {
  "kernelspec": {
   "display_name": "Python 3",
   "language": "python",
   "name": "python3"
  },
  "latex_envs": {
   "LaTeX_envs_menu_present": true,
   "autoclose": false,
   "autocomplete": true,
   "bibliofile": "biblio.bib",
   "cite_by": "apalike",
   "current_citInitial": 1,
   "eqLabelWithNumbers": true,
   "eqNumInitial": 1,
   "hotkeys": {
    "equation": "Ctrl-E",
    "itemize": "Ctrl-I"
   },
   "labels_anchors": false,
   "latex_user_defs": false,
   "report_style_numbering": false,
   "user_envs_cfg": false
  },
  "varInspector": {
   "cols": {
    "lenName": 16,
    "lenType": 16,
    "lenVar": 40
   },
   "kernels_config": {
    "python": {
     "delete_cmd_postfix": "",
     "delete_cmd_prefix": "del ",
     "library": "var_list.py",
     "varRefreshCmd": "print(var_dic_list())"
    },
    "r": {
     "delete_cmd_postfix": ") ",
     "delete_cmd_prefix": "rm(",
     "library": "var_list.r",
     "varRefreshCmd": "cat(var_dic_list()) "
    }
   },
   "types_to_exclude": [
    "module",
    "function",
    "builtin_function_or_method",
    "instance",
    "_Feature"
   ],
   "window_display": false
  }
 },
 "nbformat": 4,
 "nbformat_minor": 2
}
