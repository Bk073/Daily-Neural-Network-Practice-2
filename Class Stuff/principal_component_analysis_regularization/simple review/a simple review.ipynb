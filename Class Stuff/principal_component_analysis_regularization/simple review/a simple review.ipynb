{
 "cells": [
  {
   "cell_type": "code",
   "execution_count": 2,
   "metadata": {
    "ExecuteTime": {
     "end_time": "2018-12-11T19:59:36.398831Z",
     "start_time": "2018-12-11T19:59:35.673742Z"
    },
    "code_folding": []
   },
   "outputs": [],
   "source": [
    "# import library\n",
    "import tensorflow as tf\n",
    "import numpy as np\n",
    "import sys, os,cv2\n",
    "from scipy.misc import imread,imresize\n",
    "import matplotlib.pyplot as plt\n",
    "from sklearn.preprocessing import OneHotEncoder\n",
    "from imgaug import augmenters as iaa\n",
    "import imgaug as ia\n",
    "from scipy.ndimage import zoom\n",
    "from sklearn.utils import shuffle\n",
    "import matplotlib.animation as animation\n",
    "import seaborn as sns\n",
    "from mpl_toolkits.mplot3d import Axes3D\n",
    "from sklearn.datasets import make_blobs,make_moons,make_swiss_roll\n",
    "from IPython.display  import IFrame\n",
    "\n",
    "plt.style.use('seaborn')\n",
    "os.environ['TF_CPP_MIN_LOG_LEVEL'] = '3'\n",
    "\n",
    "sess = tf.InteractiveSession()"
   ]
  },
  {
   "cell_type": "code",
   "execution_count": 26,
   "metadata": {
    "ExecuteTime": {
     "end_time": "2018-12-11T20:06:43.894138Z",
     "start_time": "2018-12-11T20:06:42.741222Z"
    },
    "code_folding": [
     1,
     28
    ]
   },
   "outputs": [
    {
     "name": "stdout",
     "output_type": "stream",
     "text": [
      "(8000, 96, 96, 3)\n",
      "(8000, 10)\n"
     ]
    }
   ],
   "source": [
    "# read all of the data\n",
    "def read_all_images(path_to_data):\n",
    "    \"\"\"\n",
    "    :param path_to_data: the file containing the binary images from the STL-10 dataset\n",
    "    :return: an array containing all the images\n",
    "    \"\"\"\n",
    "\n",
    "    with open(path_to_data, 'rb') as f:\n",
    "        # read whole file in uint8 chunks\n",
    "        everything = np.fromfile(f, dtype=np.uint8)\n",
    "\n",
    "        # We force the data into 3x96x96 chunks, since the\n",
    "        # images are stored in \"column-major order\", meaning\n",
    "        # that \"the first 96*96 values are the red channel,\n",
    "        # the next 96*96 are green, and the last are blue.\"\n",
    "        # The -1 is since the size of the pictures depends\n",
    "        # on the input file, and this way numpy determines\n",
    "        # the size on its own.\n",
    "\n",
    "        images = np.reshape(everything, (-1, 3, 96, 96))\n",
    "\n",
    "        # Now transpose the images into a standard image format\n",
    "        # readable by, for example, matplotlib.imshow\n",
    "        # You might want to comment this line or reverse the shuffle\n",
    "        # if you will use a learning algorithm like CNN, since they like\n",
    "        # their channels separated.\n",
    "        images = np.transpose(images, (0, 3, 2, 1))\n",
    "        return images\n",
    "def read_labels(path_to_labels):\n",
    "    \"\"\"\n",
    "    :param path_to_labels: path to the binary file containing labels from the STL-10 dataset\n",
    "    :return: an array containing the labels\n",
    "    \"\"\"\n",
    "    with open(path_to_labels, 'rb') as f:\n",
    "        labels = np.fromfile(f, dtype=np.uint8)\n",
    "        return labels\n",
    "    \n",
    "test_images  = read_all_images(\"../../../DataSet/STL10/stl10_binary/test_X.bin\")  / 255.0\n",
    "test_labels  = read_labels    (\"../../../DataSet/STL10/stl10_binary/test_y.bin\")\n",
    "\n",
    "label_encoder= OneHotEncoder(sparse=False,categories='auto')\n",
    "test_labels  = label_encoder.fit_transform(test_labels.reshape((-1,1)))\n",
    "print(test_images.shape)\n",
    "print(test_labels.shape)"
   ]
  },
  {
   "cell_type": "code",
   "execution_count": 27,
   "metadata": {
    "ExecuteTime": {
     "end_time": "2018-12-11T20:06:44.947324Z",
     "start_time": "2018-12-11T20:06:43.934045Z"
    }
   },
   "outputs": [
    {
     "name": "stdout",
     "output_type": "stream",
     "text": [
      "(20, 96, 96, 3)\n"
     ]
    }
   ],
   "source": [
    "# shuffle and choose some \n",
    "test_images = test_images[np.random.permutation(range(8000))][:20,:,:,:]\n",
    "print(test_images.shape)"
   ]
  },
  {
   "cell_type": "code",
   "execution_count": 32,
   "metadata": {
    "ExecuteTime": {
     "end_time": "2018-12-11T20:08:01.015019Z",
     "start_time": "2018-12-11T20:08:00.752719Z"
    }
   },
   "outputs": [
    {
     "name": "stdout",
     "output_type": "stream",
     "text": [
      "(20, 3) (20, 9216, 3) (20, 3, 3)\n",
      "[[ 85.23419885  10.09639759   5.03899525]\n",
      " [ 99.76483989   4.38067074   0.68340723]\n",
      " [ 85.52585557   4.88880737   2.04994964]\n",
      " [104.65363803   2.92912635   2.15039383]\n",
      " [ 91.73792115   3.3337852    1.48640598]\n",
      " [ 96.09514678   5.26032663   3.61897189]\n",
      " [ 66.73022029   6.24293727   2.66518949]\n",
      " [ 76.41944925  14.94471729   1.46516197]\n",
      " [116.20832409   8.75029012   1.80756128]\n",
      " [ 67.80445162   7.92808671   4.47123383]\n",
      " [ 81.15044884   6.53810427   1.66171993]\n",
      " [ 85.68737958   8.31203833   2.73003311]\n",
      " [ 70.26765363   3.37747005   1.58940633]\n",
      " [ 88.13917902   8.66685819   2.21592273]\n",
      " [ 72.24368186   7.11945119   2.0016453 ]\n",
      " [ 77.8107459    9.1888384    1.98184751]\n",
      " [108.45456837   5.25632701   1.04413289]\n",
      " [ 99.924446     3.41020751   1.00203039]\n",
      " [ 75.07205628   4.11915938   2.8707447 ]\n",
      " [ 74.34558614  11.07276207   1.79037843]]\n",
      "[[5.03899525]\n",
      " [0.68340723]\n",
      " [2.04994964]\n",
      " [2.15039383]\n",
      " [1.48640598]\n",
      " [3.61897189]\n",
      " [2.66518949]\n",
      " [1.46516197]\n",
      " [1.80756128]\n",
      " [4.47123383]\n",
      " [1.66171993]\n",
      " [2.73003311]\n",
      " [1.58940633]\n",
      " [2.21592273]\n",
      " [2.0016453 ]\n",
      " [1.98184751]\n",
      " [1.04413289]\n",
      " [1.00203039]\n",
      " [2.8707447 ]\n",
      " [1.79037843]]\n"
     ]
    }
   ],
   "source": [
    "# show s u v\n",
    "test_images_flat = np.reshape(test_images,(20,96*96,3))\n",
    "s,U,V   = tf.svd(test_images_flat)\n",
    "smin    = tf.reduce_min(s,1,keepdims=True)\n",
    "smax    = tf.reduce_max(s,1,keepdims=True)\n",
    "scaleds = (s - smin)/(smax - sm)\n",
    "print(s.shape,U.shape,V.shape)\n",
    "print(s.eval())\n",
    "print(smin.eval())"
   ]
  },
  {
   "cell_type": "code",
   "execution_count": null,
   "metadata": {},
   "outputs": [],
   "source": []
  },
  {
   "cell_type": "code",
   "execution_count": null,
   "metadata": {},
   "outputs": [],
   "source": []
  },
  {
   "cell_type": "code",
   "execution_count": null,
   "metadata": {},
   "outputs": [],
   "source": []
  },
  {
   "cell_type": "code",
   "execution_count": null,
   "metadata": {},
   "outputs": [],
   "source": []
  },
  {
   "cell_type": "code",
   "execution_count": null,
   "metadata": {},
   "outputs": [],
   "source": []
  }
 ],
 "metadata": {
  "kernelspec": {
   "display_name": "Python 3",
   "language": "python",
   "name": "python3"
  },
  "language_info": {
   "codemirror_mode": {
    "name": "ipython",
    "version": 3
   },
   "file_extension": ".py",
   "mimetype": "text/x-python",
   "name": "python",
   "nbconvert_exporter": "python",
   "pygments_lexer": "ipython3",
   "version": "3.6.6"
  },
  "latex_envs": {
   "LaTeX_envs_menu_present": true,
   "autoclose": false,
   "autocomplete": true,
   "bibliofile": "biblio.bib",
   "cite_by": "apalike",
   "current_citInitial": 1,
   "eqLabelWithNumbers": true,
   "eqNumInitial": 1,
   "hotkeys": {
    "equation": "Ctrl-E",
    "itemize": "Ctrl-I"
   },
   "labels_anchors": false,
   "latex_user_defs": false,
   "report_style_numbering": false,
   "user_envs_cfg": false
  },
  "varInspector": {
   "cols": {
    "lenName": 16,
    "lenType": 16,
    "lenVar": 40
   },
   "kernels_config": {
    "python": {
     "delete_cmd_postfix": "",
     "delete_cmd_prefix": "del ",
     "library": "var_list.py",
     "varRefreshCmd": "print(var_dic_list())"
    },
    "r": {
     "delete_cmd_postfix": ") ",
     "delete_cmd_prefix": "rm(",
     "library": "var_list.r",
     "varRefreshCmd": "cat(var_dic_list()) "
    }
   },
   "types_to_exclude": [
    "module",
    "function",
    "builtin_function_or_method",
    "instance",
    "_Feature"
   ],
   "window_display": false
  }
 },
 "nbformat": 4,
 "nbformat_minor": 2
}
