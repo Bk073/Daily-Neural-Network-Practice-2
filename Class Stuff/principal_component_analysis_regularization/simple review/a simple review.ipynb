{
 "cells": [
  {
   "cell_type": "code",
   "execution_count": 2,
   "metadata": {
    "ExecuteTime": {
     "end_time": "2018-12-11T19:59:36.398831Z",
     "start_time": "2018-12-11T19:59:35.673742Z"
    },
    "code_folding": []
   },
   "outputs": [],
   "source": [
    "# import library\n",
    "import tensorflow as tf\n",
    "import numpy as np\n",
    "import sys, os,cv2\n",
    "from scipy.misc import imread,imresize\n",
    "import matplotlib.pyplot as plt\n",
    "from sklearn.preprocessing import OneHotEncoder\n",
    "from imgaug import augmenters as iaa\n",
    "import imgaug as ia\n",
    "from scipy.ndimage import zoom\n",
    "from sklearn.utils import shuffle\n",
    "import matplotlib.animation as animation\n",
    "import seaborn as sns\n",
    "from mpl_toolkits.mplot3d import Axes3D\n",
    "from sklearn.datasets import make_blobs,make_moons,make_swiss_roll\n",
    "from IPython.display  import IFrame\n",
    "\n",
    "plt.style.use('seaborn')\n",
    "os.environ['TF_CPP_MIN_LOG_LEVEL'] = '3'\n",
    "\n",
    "sess = tf.InteractiveSession()"
   ]
  },
  {
   "cell_type": "code",
   "execution_count": 170,
   "metadata": {
    "ExecuteTime": {
     "end_time": "2018-12-11T23:18:49.023189Z",
     "start_time": "2018-12-11T23:18:47.366631Z"
    },
    "code_folding": [
     1,
     28
    ]
   },
   "outputs": [
    {
     "name": "stdout",
     "output_type": "stream",
     "text": [
      "(100, 96, 96, 3)\n",
      "(8000, 10)\n"
     ]
    }
   ],
   "source": [
    "# read all of the data\n",
    "def read_all_images(path_to_data):\n",
    "    \"\"\"\n",
    "    :param path_to_data: the file containing the binary images from the STL-10 dataset\n",
    "    :return: an array containing all the images\n",
    "    \"\"\"\n",
    "\n",
    "    with open(path_to_data, 'rb') as f:\n",
    "        # read whole file in uint8 chunks\n",
    "        everything = np.fromfile(f, dtype=np.uint8)\n",
    "\n",
    "        # We force the data into 3x96x96 chunks, since the\n",
    "        # images are stored in \"column-major order\", meaning\n",
    "        # that \"the first 96*96 values are the red channel,\n",
    "        # the next 96*96 are green, and the last are blue.\"\n",
    "        # The -1 is since the size of the pictures depends\n",
    "        # on the input file, and this way numpy determines\n",
    "        # the size on its own.\n",
    "\n",
    "        images = np.reshape(everything, (-1, 3, 96, 96))\n",
    "\n",
    "        # Now transpose the images into a standard image format\n",
    "        # readable by, for example, matplotlib.imshow\n",
    "        # You might want to comment this line or reverse the shuffle\n",
    "        # if you will use a learning algorithm like CNN, since they like\n",
    "        # their channels separated.\n",
    "        images = np.transpose(images, (0, 3, 2, 1))\n",
    "        return images\n",
    "def read_labels(path_to_labels):\n",
    "    \"\"\"\n",
    "    :param path_to_labels: path to the binary file containing labels from the STL-10 dataset\n",
    "    :return: an array containing the labels\n",
    "    \"\"\"\n",
    "    with open(path_to_labels, 'rb') as f:\n",
    "        labels = np.fromfile(f, dtype=np.uint8)\n",
    "        return labels\n",
    "def show(data):\n",
    "    fig=plt.figure(figsize=(20, 20))\n",
    "    columns = 10 ; rows = 10\n",
    "    for i in range(1, columns*rows +1):\n",
    "        fig.add_subplot(rows, columns, i)\n",
    "        plt.imshow(data[i-1])\n",
    "        plt.axis('off')\n",
    "    plt.show()\n",
    "test_images_og  = read_all_images(\"../../../DataSet/STL10/stl10_binary/test_X.bin\")  / 255.0\n",
    "test_labels  = read_labels    (\"../../../DataSet/STL10/stl10_binary/test_y.bin\")\n",
    "\n",
    "label_encoder= OneHotEncoder(sparse=False,categories='auto')\n",
    "test_labels  = label_encoder.fit_transform(test_labels.reshape((-1,1)))\n",
    "print(test_images.shape)\n",
    "print(test_labels.shape)"
   ]
  },
  {
   "cell_type": "code",
   "execution_count": 171,
   "metadata": {
    "ExecuteTime": {
     "end_time": "2018-12-11T23:18:50.373578Z",
     "start_time": "2018-12-11T23:18:49.156832Z"
    }
   },
   "outputs": [
    {
     "name": "stdout",
     "output_type": "stream",
     "text": [
      "(100, 96, 96, 3)\n"
     ]
    }
   ],
   "source": [
    "# shuffle and choose some \n",
    "test_images = test_images_og[np.random.permutation(range(8000))][:100,:,:,:]\n",
    "print(test_images.shape)"
   ]
  },
  {
   "cell_type": "code",
   "execution_count": null,
   "metadata": {
    "ExecuteTime": {
     "start_time": "2018-12-11T23:18:48.205Z"
    }
   },
   "outputs": [],
   "source": [
    "# show s u v\n",
    "test_images_flat = np.reshape(test_images,(100,96*96,3))\n",
    "s,U,V   = tf.svd(test_images_flat)\n",
    "smin    = tf.reduce_min(s,1,keepdims=True)\n",
    "smax    = tf.reduce_max(s,1,keepdims=True)\n",
    "mmax =  1.0\n",
    "mmin =  0.0\n",
    "scaleds = (mmax-mmin)*(s - smin)/(smax - smin + 1e-8) + mmin\n",
    "recon1 = U @ tf.matrix_diag(s) @ tf.transpose(V,(0,2,1))\n",
    "recon1 = recon1 * tf.reduce_mean(tf.transpose(tf.abs(V),(0,2,1)) * scaleds[:,:,None] ,(1),keepdims=True)\n",
    "recon2 = U[:,:,:] @ tf.matrix_diag(scaleds[:,:]) @ tf.transpose(V,(0,2,1))[:,:,:]\n",
    "recon1 = recon1.eval()\n",
    "recon2 = recon2.eval()\n",
    "recon1_reshape = np.reshape(recon1,(100,96,96,3))\n",
    "recon2_reshape = np.reshape(recon2,(100,96,96,3))\n",
    "\n",
    "print(recon1_reshape.shape)\n",
    "print(recon2_reshape.shape)\n",
    "print(np.allclose(recon1,test_images_flat))\n",
    "print(np.allclose(recon2,test_images_flat))\n",
    "\n",
    "recon1_reshape = (recon1_reshape-recon1_reshape.min((1,2),keepdims=True))/(recon1_reshape.max((1,2),keepdims=True)-recon1_reshape.min((1,2),keepdims=True)+1e-8)\n",
    "recon2_reshape = (recon2_reshape-recon2_reshape.min((1,2),keepdims=True))/(recon2_reshape.max((1,2),keepdims=True)-recon2_reshape.min((1,2),keepdims=True)+1e-8)\n",
    "\n",
    "show(test_images)\n",
    "show(recon1_reshape)\n",
    "# show(recon2_reshape)"
   ]
  },
  {
   "cell_type": "code",
   "execution_count": null,
   "metadata": {
    "ExecuteTime": {
     "start_time": "2018-12-11T23:18:48.638Z"
    }
   },
   "outputs": [],
   "source": [
    "show(test_images)\n"
   ]
  },
  {
   "cell_type": "code",
   "execution_count": null,
   "metadata": {
    "ExecuteTime": {
     "start_time": "2018-12-11T23:18:49.773Z"
    }
   },
   "outputs": [],
   "source": [
    "show(recon1_reshape)\n"
   ]
  },
  {
   "cell_type": "code",
   "execution_count": 110,
   "metadata": {
    "ExecuteTime": {
     "end_time": "2018-12-11T20:30:55.827554Z",
     "start_time": "2018-12-11T20:30:55.801649Z"
    }
   },
   "outputs": [
    {
     "name": "stdout",
     "output_type": "stream",
     "text": [
      "[0.48688113 0.48579878 0.42157484]\n",
      "[0.24729228 0.2429821  0.27573131]\n",
      "[0.48216067 0.48538282 0.42215459]\n",
      "[0.25147739 0.25827502 0.28740009]\n",
      "[0.47401969 0.47619256 0.43790244]\n",
      "[0.24836926 0.25524647 0.27823375]\n"
     ]
    }
   ],
   "source": [
    "print(test_images.mean((0,1,2)))\n",
    "print(test_images.std ((0,1,2)))\n",
    "print(recon1_reshape.mean((0,1,2)))\n",
    "print(recon1_reshape.std ((0,1,2)))\n",
    "print(recon2_reshape.mean((0,1,2)))\n",
    "print(recon2_reshape.std ((0,1,2)))"
   ]
  },
  {
   "cell_type": "code",
   "execution_count": 111,
   "metadata": {
    "ExecuteTime": {
     "end_time": "2018-12-11T20:31:01.145901Z",
     "start_time": "2018-12-11T20:31:01.136926Z"
    }
   },
   "outputs": [
    {
     "name": "stdout",
     "output_type": "stream",
     "text": [
      "[10032.34117647 13010.41960784 15966.13333333 13154.9372549\n",
      " 10812.16470588 17473.74901961  9085.8745098   9041.09411765\n",
      " 15225.64313725 14692.16078431]\n",
      "[ 9803.14777255 14401.68037276 15966.13333333 11594.27871905\n",
      " 12076.84444189 17473.74901961  8706.71654989  9103.2510128\n",
      " 15410.46918111 13538.30469759]\n",
      "[ 9745.68340283 14525.881046   15848.45662951 11200.04975528\n",
      " 12380.36098692 17502.23855722  8674.51871421  9065.97240196\n",
      " 15463.52976702 13521.95902832]\n"
     ]
    }
   ],
   "source": [
    "print(test_images.sum((1,2,3)))\n",
    "print(recon1_reshape.sum((1,2,3)))\n",
    "print(recon2_reshape.sum((1,2,3)))"
   ]
  },
  {
   "cell_type": "code",
   "execution_count": null,
   "metadata": {},
   "outputs": [],
   "source": []
  },
  {
   "cell_type": "code",
   "execution_count": null,
   "metadata": {},
   "outputs": [],
   "source": []
  },
  {
   "cell_type": "code",
   "execution_count": null,
   "metadata": {},
   "outputs": [],
   "source": []
  }
 ],
 "metadata": {
  "kernelspec": {
   "display_name": "Python 3",
   "language": "python",
   "name": "python3"
  },
  "language_info": {
   "codemirror_mode": {
    "name": "ipython",
    "version": 3
   },
   "file_extension": ".py",
   "mimetype": "text/x-python",
   "name": "python",
   "nbconvert_exporter": "python",
   "pygments_lexer": "ipython3",
   "version": "3.6.6"
  },
  "latex_envs": {
   "LaTeX_envs_menu_present": true,
   "autoclose": false,
   "autocomplete": true,
   "bibliofile": "biblio.bib",
   "cite_by": "apalike",
   "current_citInitial": 1,
   "eqLabelWithNumbers": true,
   "eqNumInitial": 1,
   "hotkeys": {
    "equation": "Ctrl-E",
    "itemize": "Ctrl-I"
   },
   "labels_anchors": false,
   "latex_user_defs": false,
   "report_style_numbering": false,
   "user_envs_cfg": false
  },
  "varInspector": {
   "cols": {
    "lenName": 16,
    "lenType": 16,
    "lenVar": 40
   },
   "kernels_config": {
    "python": {
     "delete_cmd_postfix": "",
     "delete_cmd_prefix": "del ",
     "library": "var_list.py",
     "varRefreshCmd": "print(var_dic_list())"
    },
    "r": {
     "delete_cmd_postfix": ") ",
     "delete_cmd_prefix": "rm(",
     "library": "var_list.r",
     "varRefreshCmd": "cat(var_dic_list()) "
    }
   },
   "types_to_exclude": [
    "module",
    "function",
    "builtin_function_or_method",
    "instance",
    "_Feature"
   ],
   "window_display": false
  }
 },
 "nbformat": 4,
 "nbformat_minor": 2
}
