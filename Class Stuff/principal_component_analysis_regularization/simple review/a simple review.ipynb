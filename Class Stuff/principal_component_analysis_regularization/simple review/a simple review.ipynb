{
 "cells": [
  {
   "cell_type": "code",
   "execution_count": 2,
   "metadata": {
    "ExecuteTime": {
     "end_time": "2018-12-11T19:59:36.398831Z",
     "start_time": "2018-12-11T19:59:35.673742Z"
    },
    "code_folding": [
     0
    ]
   },
   "outputs": [],
   "source": [
    "# import library\n",
    "import tensorflow as tf\n",
    "import numpy as np\n",
    "import sys, os,cv2\n",
    "from scipy.misc import imread,imresize\n",
    "import matplotlib.pyplot as plt\n",
    "from sklearn.preprocessing import OneHotEncoder\n",
    "from imgaug import augmenters as iaa\n",
    "import imgaug as ia\n",
    "from scipy.ndimage import zoom\n",
    "from sklearn.utils import shuffle\n",
    "import matplotlib.animation as animation\n",
    "import seaborn as sns\n",
    "from mpl_toolkits.mplot3d import Axes3D\n",
    "from sklearn.datasets import make_blobs,make_moons,make_swiss_roll\n",
    "from IPython.display  import IFrame\n",
    "\n",
    "plt.style.use('seaborn')\n",
    "os.environ['TF_CPP_MIN_LOG_LEVEL'] = '3'\n",
    "\n",
    "sess = tf.InteractiveSession()"
   ]
  },
  {
   "cell_type": "code",
   "execution_count": 20,
   "metadata": {
    "ExecuteTime": {
     "end_time": "2018-12-11T20:02:55.650500Z",
     "start_time": "2018-12-11T20:02:55.542788Z"
    }
   },
   "outputs": [
    {
     "name": "stdout",
     "output_type": "stream",
     "text": [
      "[[36.87462 ]\n",
      " [36.976223]\n",
      " [33.18152 ]\n",
      " [37.927834]\n",
      " [36.807064]\n",
      " [39.013073]\n",
      " [36.390636]\n",
      " [42.059578]\n",
      " [35.203815]\n",
      " [37.928886]\n",
      " [38.55363 ]\n",
      " [34.30606 ]\n",
      " [30.580536]\n",
      " [38.748863]\n",
      " [39.517197]\n",
      " [43.87555 ]\n",
      " [29.397581]\n",
      " [34.651836]\n",
      " [40.587196]\n",
      " [39.584545]\n",
      " [39.81382 ]\n",
      " [33.979202]\n",
      " [39.28564 ]\n",
      " [37.335766]\n",
      " [39.796844]\n",
      " [41.27135 ]\n",
      " [37.96741 ]\n",
      " [40.032593]\n",
      " [36.749737]\n",
      " [40.355206]\n",
      " [32.030872]\n",
      " [36.447826]\n",
      " [41.843124]\n",
      " [32.41275 ]\n",
      " [34.803185]\n",
      " [39.15173 ]\n",
      " [34.575832]\n",
      " [37.159126]\n",
      " [26.35929 ]\n",
      " [31.541433]\n",
      " [27.082243]\n",
      " [36.42254 ]\n",
      " [31.815989]\n",
      " [40.82864 ]\n",
      " [39.38875 ]\n",
      " [37.563274]\n",
      " [37.414215]\n",
      " [37.122707]\n",
      " [37.19942 ]\n",
      " [37.795567]\n",
      " [41.334145]\n",
      " [33.251778]\n",
      " [39.63948 ]\n",
      " [45.830845]\n",
      " [29.24076 ]\n",
      " [39.2946  ]\n",
      " [34.33127 ]\n",
      " [27.051792]\n",
      " [35.31388 ]\n",
      " [39.061203]\n",
      " [38.366   ]\n",
      " [36.706142]\n",
      " [40.110954]\n",
      " [36.47924 ]\n",
      " [37.34772 ]\n",
      " [35.40087 ]\n",
      " [33.8638  ]\n",
      " [35.58202 ]\n",
      " [40.05621 ]\n",
      " [36.279354]\n",
      " [40.482975]\n",
      " [33.937653]\n",
      " [36.840927]\n",
      " [28.957458]\n",
      " [39.83729 ]\n",
      " [39.362003]\n",
      " [41.681183]\n",
      " [34.41598 ]\n",
      " [40.111454]\n",
      " [33.69572 ]\n",
      " [26.542475]\n",
      " [41.344154]\n",
      " [35.70546 ]\n",
      " [37.022755]\n",
      " [37.155502]\n",
      " [35.558796]\n",
      " [36.48704 ]\n",
      " [39.698463]\n",
      " [42.36833 ]\n",
      " [32.197777]\n",
      " [37.249672]\n",
      " [42.984303]\n",
      " [26.796194]\n",
      " [34.377518]\n",
      " [42.491066]\n",
      " [39.621933]\n",
      " [28.952065]\n",
      " [36.89956 ]\n",
      " [35.189   ]\n",
      " [35.95424 ]]\n"
     ]
    }
   ],
   "source": [
    "# make circle original data\n",
    "from sklearn.datasets import fetch_olivetti_faces\n",
    "from sklearn import  datasets\n",
    "np.random.seed(6789)\n",
    "dataset = fetch_olivetti_faces(shuffle=True)['data'][np.random.permutation(range(400))][:100,:,None]\n",
    "\n",
    "s,U,V   = tf.svd(dataset)\n",
    "print(s.eval())"
   ]
  },
  {
   "cell_type": "code",
   "execution_count": null,
   "metadata": {},
   "outputs": [],
   "source": []
  },
  {
   "cell_type": "code",
   "execution_count": null,
   "metadata": {},
   "outputs": [],
   "source": []
  },
  {
   "cell_type": "code",
   "execution_count": null,
   "metadata": {},
   "outputs": [],
   "source": []
  },
  {
   "cell_type": "code",
   "execution_count": null,
   "metadata": {},
   "outputs": [],
   "source": []
  },
  {
   "cell_type": "code",
   "execution_count": null,
   "metadata": {},
   "outputs": [],
   "source": []
  },
  {
   "cell_type": "code",
   "execution_count": null,
   "metadata": {},
   "outputs": [],
   "source": []
  },
  {
   "cell_type": "code",
   "execution_count": null,
   "metadata": {},
   "outputs": [],
   "source": []
  }
 ],
 "metadata": {
  "kernelspec": {
   "display_name": "Python 3",
   "language": "python",
   "name": "python3"
  },
  "language_info": {
   "codemirror_mode": {
    "name": "ipython",
    "version": 3
   },
   "file_extension": ".py",
   "mimetype": "text/x-python",
   "name": "python",
   "nbconvert_exporter": "python",
   "pygments_lexer": "ipython3",
   "version": "3.6.6"
  },
  "latex_envs": {
   "LaTeX_envs_menu_present": true,
   "autoclose": false,
   "autocomplete": true,
   "bibliofile": "biblio.bib",
   "cite_by": "apalike",
   "current_citInitial": 1,
   "eqLabelWithNumbers": true,
   "eqNumInitial": 1,
   "hotkeys": {
    "equation": "Ctrl-E",
    "itemize": "Ctrl-I"
   },
   "labels_anchors": false,
   "latex_user_defs": false,
   "report_style_numbering": false,
   "user_envs_cfg": false
  },
  "varInspector": {
   "cols": {
    "lenName": 16,
    "lenType": 16,
    "lenVar": 40
   },
   "kernels_config": {
    "python": {
     "delete_cmd_postfix": "",
     "delete_cmd_prefix": "del ",
     "library": "var_list.py",
     "varRefreshCmd": "print(var_dic_list())"
    },
    "r": {
     "delete_cmd_postfix": ") ",
     "delete_cmd_prefix": "rm(",
     "library": "var_list.r",
     "varRefreshCmd": "cat(var_dic_list()) "
    }
   },
   "types_to_exclude": [
    "module",
    "function",
    "builtin_function_or_method",
    "instance",
    "_Feature"
   ],
   "window_display": false
  }
 },
 "nbformat": 4,
 "nbformat_minor": 2
}
