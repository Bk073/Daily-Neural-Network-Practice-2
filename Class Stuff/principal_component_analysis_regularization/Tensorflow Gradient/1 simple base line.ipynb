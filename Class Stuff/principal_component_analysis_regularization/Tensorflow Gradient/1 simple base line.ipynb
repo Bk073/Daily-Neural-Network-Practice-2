{
 "cells": [
  {
   "cell_type": "code",
   "execution_count": 1,
   "metadata": {
    "ExecuteTime": {
     "end_time": "2018-12-14T16:18:35.352833Z",
     "start_time": "2018-12-14T16:18:20.700861Z"
    }
   },
   "outputs": [],
   "source": [
    "# import Library and some random image data set\n",
    "import tensorflow as tf\n",
    "import numpy      as np\n",
    "import seaborn    as sns \n",
    "import pandas     as pd\n",
    "import os\n",
    "import matplotlib.pyplot as plt\n",
    "np.random.seed(78); tf.set_random_seed(78)\n",
    "\n",
    "# get some of the STL data set\n",
    "from skimage import util \n",
    "from skimage.transform import resize\n",
    "from skimage.io import imread\n",
    "import warnings\n",
    "warnings.filterwarnings(\"ignore\")"
   ]
  },
  {
   "cell_type": "code",
   "execution_count": 18,
   "metadata": {
    "ExecuteTime": {
     "end_time": "2018-12-14T16:36:23.791244Z",
     "start_time": "2018-12-14T16:36:23.770303Z"
    },
    "code_folding": []
   },
   "outputs": [],
   "source": [
    "# create the layers\n",
    "\n",
    "def tf_elu(x):   return tf.nn.elu(x)\n",
    "def d_tf_elu(x): return tf.cast(tf.greater(x,0),tf.float64)  + (tf_elu(tf.cast(tf.less_equal(x,0),tf.float64) * x) + 1.0)\n",
    "\n",
    "def tf_relu(x):   return tf.nn.relu(x)\n",
    "def d_tf_relu(x): return tf.cast(tf.greater(x,0),tf.float64)\n",
    "\n",
    "def tf_tanh(x):   return tf.nn.tanh(x)\n",
    "def d_tf_tanh(x): return 1 - tf_tanh(x) ** 2\n",
    "\n",
    "def tf_sigmoid(x):   return tf.nn.sigmoid(x)\n",
    "def d_tf_sigmoid(x): return tf_sigmoid(x) * (1.0-tf_sigmoid(x))\n",
    "\n",
    "class FNN():\n",
    "    \n",
    "    def __init__(self,inc,outc,act,dact):\n",
    "        self.w = tf.Variable(tf.random_normal((inc,outc),stddev=0.01))\n",
    "        self.act = act \n",
    "        self.dact= dact\n",
    "        \n",
    "    def feedforward(self,data):\n",
    "        self.input = data\n",
    "        self.layer = data @ self.w\n",
    "        self.layera= self.act(self.layer)\n",
    "        return [self.layer,self.layera]\n",
    "    \n",
    "    def backprop(self,grad):\n",
    "        grad1 = grad\n",
    "        grad2 = self.dact(self.layer)\n",
    "        grad3 = self.input\n",
    "        grad_middle = grad1 * grad2\n",
    "        \n",
    "        gradw = tf.transpose(self.input) @ grad_middle\n",
    "        gradp = grad_middle @ tf.transpose(self.w)\n",
    "        \n",
    "        return [gradw,gradp]\n",
    "    \n",
    "class tf_batch_norm_layer():\n",
    "    \n",
    "    def __init__(self,axis):\n",
    "        self.axis        = axis\n",
    "        \n",
    "    def feedforward(self,input,training_phase=True,eps = 1e-8):\n",
    "        self.input = input\n",
    "        self.input_size          = self.input.shape\n",
    "        self.batch,self.c = self.input_size[0].value,self.input_size[1].value\n",
    "\n",
    "        self.mean    = tf.reduce_mean(self.input,axis=self.axis ,keepdims=True)\n",
    "        self.var     = tf.reduce_mean(tf.square(self.input-self.mean),axis=self.axis,keepdims=True)\n",
    "        centered_data= (self.input - self.mean)/tf.sqrt(self.var + eps)\n",
    "        \n",
    "        return centered_data\n",
    "    \n",
    "    def backprop(self,grad,eps = 1e-8):\n",
    "        change_parts = 1.0 /(self.batch * self.h * self.w)\n",
    "        grad_sigma   = tf.reduce_sum( grad *  (self.input-self.mean)     ,axis=self.axis,keepdims=True) * -0.5 * (self.var+eps) ** -1.5\n",
    "        grad_mean    = tf.reduce_sum( grad *  (-1./tf.sqrt(self.var+eps)),axis=self.axis,keepdims=True) + grad_sigma * change_parts * 2.0 * tf.reduce_sum((self.input-self.mean),axis=self.axis,keepdims=True) * -1\n",
    "        grad_x       = grad * 1/(tf.sqrt(self.var+eps)) + grad_sigma * change_parts * 2.0 * (self.input-self.mean) + grad_mean * change_parts\n",
    "        return grad_x"
   ]
  },
  {
   "cell_type": "code",
   "execution_count": 20,
   "metadata": {
    "ExecuteTime": {
     "end_time": "2018-12-14T16:36:24.710079Z",
     "start_time": "2018-12-14T16:36:24.654176Z"
    }
   },
   "outputs": [],
   "source": [
    "# declare layers\n",
    "l1 = FNN(100,64,tf_relu,d_tf_relu)\n",
    "l1b= tf_batch_norm_layer(0)\n",
    "l2 = FNN(64,32,tf_relu,d_tf_relu)\n",
    "l2b= tf_batch_norm_layer(0)\n",
    "l3 = FNN(32,16,tf_relu,d_tf_relu)\n",
    "l3b= tf_batch_norm_layer(0)\n",
    "l4 = FNN(16,1,tf_relu,d_tf_relu)"
   ]
  },
  {
   "cell_type": "code",
   "execution_count": 22,
   "metadata": {
    "ExecuteTime": {
     "end_time": "2018-12-14T16:36:29.778250Z",
     "start_time": "2018-12-14T16:36:29.751359Z"
    }
   },
   "outputs": [
    {
     "name": "stdout",
     "output_type": "stream",
     "text": [
      "(20, 64)\n"
     ]
    }
   ],
   "source": [
    "# create some random data\n",
    "x_data = np.random.uniform(0,1,(20,100))\n",
    "\n",
    "layer1,layer1a = l1.feedforward(x_data)\n",
    "layer1b = l1b.feedforward(layer1a)\n",
    "layer2,layer2a = l2.feedforward(layer1a)\n",
    "layer3,layer3a = l3.feedforward(layer2a)\n",
    "layer4,layer4a = l4.feedforward(layer3a)\n",
    "\n",
    "print(layer1b.shape)\n",
    "\n",
    "\n"
   ]
  },
  {
   "cell_type": "code",
   "execution_count": 25,
   "metadata": {
    "ExecuteTime": {
     "end_time": "2018-12-14T16:36:58.345358Z",
     "start_time": "2018-12-14T16:36:58.291876Z"
    }
   },
   "outputs": [],
   "source": [
    "# start the session \n",
    "# sess = tf.InteractiveSession()\n",
    "sess.run(tf.global_variables_initializer())"
   ]
  },
  {
   "cell_type": "code",
   "execution_count": 37,
   "metadata": {
    "ExecuteTime": {
     "end_time": "2018-12-14T16:39:25.046166Z",
     "start_time": "2018-12-14T16:39:24.887538Z"
    }
   },
   "outputs": [
    {
     "name": "stdout",
     "output_type": "stream",
     "text": [
      "0.019295728\n",
      "0.030497272\n"
     ]
    },
    {
     "data": {
      "text/plain": [
       "(array([869., 138., 108.,  70.,  52.,  18.,  14.,   8.,   2.,   1.]),\n",
       " array([0.        , 0.01882514, 0.03765029, 0.05647543, 0.07530057,\n",
       "        0.09412572, 0.11295086, 0.131776  , 0.15060115, 0.16942629,\n",
       "        0.18825144], dtype=float32),\n",
       " <a list of 10 Patch objects>)"
      ]
     },
     "execution_count": 37,
     "metadata": {},
     "output_type": "execute_result"
    },
    {
     "data": {
      "image/png": "[encoded data removed]",
      "text/plain": [
       "<Figure size 432x288 with 1 Axes>"
      ]
     },
     "metadata": {
      "needs_background": "light"
     },
     "output_type": "display_data"
    }
   ],
   "source": [
    "temps = layer1a.eval()\n",
    "print(temps.mean(1).mean())\n",
    "print(temps.std(1) .mean())\n",
    "plt.hist(temps.ravel())"
   ]
  },
  {
   "cell_type": "code",
   "execution_count": 40,
   "metadata": {
    "ExecuteTime": {
     "end_time": "2018-12-14T16:40:27.063634Z",
     "start_time": "2018-12-14T16:40:27.038663Z"
    }
   },
   "outputs": [
    {
     "name": "stdout",
     "output_type": "stream",
     "text": [
      "(20, 64)\n",
      "Tensor(\"Mean_6:0\", shape=(1, 64), dtype=float32)\n"
     ]
    },
    {
     "ename": "NameError",
     "evalue": "name 'self' is not defined",
     "output_type": "error",
     "traceback": [
      "\u001b[1;31m---------------------------------------------------------------------------\u001b[0m",
      "\u001b[1;31mNameError\u001b[0m                                 Traceback (most recent call last)",
      "\u001b[1;32m<ipython-input-40-ac2a6d89ee79>\u001b[0m in \u001b[0;36m<module>\u001b[1;34m\u001b[0m\n\u001b[0;32m      2\u001b[0m \u001b[0mprint\u001b[0m\u001b[1;33m(\u001b[0m\u001b[0mtemps\u001b[0m\u001b[1;33m.\u001b[0m\u001b[0mshape\u001b[0m\u001b[1;33m)\u001b[0m\u001b[1;33m\u001b[0m\u001b[0m\n\u001b[0;32m      3\u001b[0m \u001b[0mprint\u001b[0m\u001b[1;33m(\u001b[0m\u001b[0mmean\u001b[0m\u001b[1;33m)\u001b[0m\u001b[1;33m\u001b[0m\u001b[0m\n\u001b[1;32m----> 4\u001b[1;33m \u001b[0mvar\u001b[0m     \u001b[1;33m=\u001b[0m \u001b[0mtf\u001b[0m\u001b[1;33m.\u001b[0m\u001b[0mreduce_mean\u001b[0m\u001b[1;33m(\u001b[0m\u001b[0mtf\u001b[0m\u001b[1;33m.\u001b[0m\u001b[0msquare\u001b[0m\u001b[1;33m(\u001b[0m\u001b[0mtemps\u001b[0m\u001b[1;33m-\u001b[0m\u001b[0mmean\u001b[0m\u001b[1;33m)\u001b[0m\u001b[1;33m,\u001b[0m\u001b[0maxis\u001b[0m\u001b[1;33m=\u001b[0m\u001b[0mself\u001b[0m\u001b[1;33m.\u001b[0m\u001b[0maxis\u001b[0m\u001b[1;33m,\u001b[0m\u001b[0mkeepdims\u001b[0m\u001b[1;33m=\u001b[0m\u001b[1;32mTrue\u001b[0m\u001b[1;33m)\u001b[0m\u001b[1;33m\u001b[0m\u001b[0m\n\u001b[0m\u001b[0;32m      5\u001b[0m \u001b[0mcentered_data\u001b[0m\u001b[1;33m=\u001b[0m \u001b[1;33m(\u001b[0m\u001b[0mtemps\u001b[0m \u001b[1;33m-\u001b[0m \u001b[0mmean\u001b[0m\u001b[1;33m)\u001b[0m\u001b[1;33m/\u001b[0m\u001b[0mtf\u001b[0m\u001b[1;33m.\u001b[0m\u001b[0msqrt\u001b[0m\u001b[1;33m(\u001b[0m\u001b[0mvar\u001b[0m \u001b[1;33m+\u001b[0m \u001b[0meps\u001b[0m\u001b[1;33m)\u001b[0m\u001b[1;33m\u001b[0m\u001b[0m\n",
      "\u001b[1;31mNameError\u001b[0m: name 'self' is not defined"
     ]
    }
   ],
   "source": [
    "mean    = tf.reduce_mean(temps,axis=0 ,keepdims=True)\n",
    "print(temps.shape)\n",
    "print(mean)\n",
    "var     = tf.reduce_mean(tf.square(temps-mean),axis=self.axis,keepdims=True)\n",
    "centered_data= (temps - mean)/tf.sqrt(var + eps)"
   ]
  },
  {
   "cell_type": "code",
   "execution_count": 36,
   "metadata": {
    "ExecuteTime": {
     "end_time": "2018-12-14T16:38:55.299237Z",
     "start_time": "2018-12-14T16:38:55.140610Z"
    }
   },
   "outputs": [
    {
     "name": "stdout",
     "output_type": "stream",
     "text": [
      "2.9263902e-09\n",
      "0.79663\n"
     ]
    },
    {
     "data": {
      "text/plain": [
       "(array([  7.,  58., 281., 636., 135.,  97.,  33.,  15.,   6.,  12.]),\n",
       " array([-2.479382  , -1.795573  , -1.1117638 , -0.42795476,  0.2558543 ,\n",
       "         0.9396634 ,  1.6234725 ,  2.3072815 ,  2.9910908 ,  3.6748998 ,\n",
       "         4.358709  ], dtype=float32),\n",
       " <a list of 10 Patch objects>)"
      ]
     },
     "execution_count": 36,
     "metadata": {},
     "output_type": "execute_result"
    },
    {
     "data": {
      "image/png": "[encoded data removed]",
      "text/plain": [
       "<Figure size 432x288 with 1 Axes>"
      ]
     },
     "metadata": {
      "needs_background": "light"
     },
     "output_type": "display_data"
    }
   ],
   "source": [
    "temps = layer1b.eval()\n",
    "print(temps.mean(0).mean())\n",
    "print(temps.std(0) .mean())\n",
    "plt.hist(temps.ravel())"
   ]
  },
  {
   "cell_type": "code",
   "execution_count": null,
   "metadata": {},
   "outputs": [],
   "source": []
  },
  {
   "cell_type": "code",
   "execution_count": null,
   "metadata": {},
   "outputs": [],
   "source": []
  },
  {
   "cell_type": "code",
   "execution_count": null,
   "metadata": {},
   "outputs": [],
   "source": []
  },
  {
   "cell_type": "code",
   "execution_count": null,
   "metadata": {},
   "outputs": [],
   "source": []
  },
  {
   "cell_type": "code",
   "execution_count": null,
   "metadata": {},
   "outputs": [],
   "source": []
  }
 ],
 "metadata": {
  "kernelspec": {
   "display_name": "Python 3",
   "language": "python",
   "name": "python3"
  },
  "language_info": {
   "codemirror_mode": {
    "name": "ipython",
    "version": 3
   },
   "file_extension": ".py",
   "mimetype": "text/x-python",
   "name": "python",
   "nbconvert_exporter": "python",
   "pygments_lexer": "ipython3",
   "version": "3.6.6"
  },
  "latex_envs": {
   "LaTeX_envs_menu_present": true,
   "autoclose": false,
   "autocomplete": true,
   "bibliofile": "biblio.bib",
   "cite_by": "apalike",
   "current_citInitial": 1,
   "eqLabelWithNumbers": true,
   "eqNumInitial": 1,
   "hotkeys": {
    "equation": "Ctrl-E",
    "itemize": "Ctrl-I"
   },
   "labels_anchors": false,
   "latex_user_defs": false,
   "report_style_numbering": false,
   "user_envs_cfg": false
  },
  "varInspector": {
   "cols": {
    "lenName": 16,
    "lenType": 16,
    "lenVar": 40
   },
   "kernels_config": {
    "python": {
     "delete_cmd_postfix": "",
     "delete_cmd_prefix": "del ",
     "library": "var_list.py",
     "varRefreshCmd": "print(var_dic_list())"
    },
    "r": {
     "delete_cmd_postfix": ") ",
     "delete_cmd_prefix": "rm(",
     "library": "var_list.r",
     "varRefreshCmd": "cat(var_dic_list()) "
    }
   },
   "types_to_exclude": [
    "module",
    "function",
    "builtin_function_or_method",
    "instance",
    "_Feature"
   ],
   "window_display": false
  }
 },
 "nbformat": 4,
 "nbformat_minor": 2
}
