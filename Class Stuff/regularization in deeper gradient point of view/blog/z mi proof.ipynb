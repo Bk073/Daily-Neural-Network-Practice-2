{
 "cells": [
  {
   "cell_type": "code",
   "execution_count": 2,
   "metadata": {
    "ExecuteTime": {
     "end_time": "2019-01-17T10:57:12.569498Z",
     "start_time": "2019-01-17T10:57:12.559500Z"
    }
   },
   "outputs": [
    {
     "ename": "AttributeError",
     "evalue": "module 'sklearn' has no attribute 'metrics'",
     "output_type": "error",
     "traceback": [
      "\u001b[1;31m---------------------------------------------------------------------------\u001b[0m",
      "\u001b[1;31mAttributeError\u001b[0m                            Traceback (most recent call last)",
      "\u001b[1;32m<ipython-input-2-5e29502e80f7>\u001b[0m in \u001b[0;36m<module>\u001b[1;34m\u001b[0m\n\u001b[0;32m      1\u001b[0m \u001b[1;32mimport\u001b[0m \u001b[0mnumpy\u001b[0m\u001b[1;33m\u001b[0m\u001b[0m\n\u001b[0;32m      2\u001b[0m \u001b[1;32mimport\u001b[0m \u001b[0msklearn\u001b[0m\u001b[1;33m\u001b[0m\u001b[0m\n\u001b[1;32m----> 3\u001b[1;33m \u001b[0msklearn\u001b[0m\u001b[1;33m.\u001b[0m\u001b[0mmetrics\u001b[0m\u001b[1;33m.\u001b[0m\u001b[0mmutual_info_score\u001b[0m\u001b[1;33m(\u001b[0m\u001b[1;33m[\u001b[0m\u001b[1;36m0\u001b[0m\u001b[1;33m,\u001b[0m\u001b[1;36m1\u001b[0m\u001b[1;33m]\u001b[0m\u001b[1;33m,\u001b[0m\u001b[1;33m[\u001b[0m\u001b[1;36m1\u001b[0m\u001b[1;33m,\u001b[0m\u001b[1;36m0\u001b[0m\u001b[1;33m]\u001b[0m\u001b[1;33m)\u001b[0m\u001b[1;33m\u001b[0m\u001b[0m\n\u001b[0m",
      "\u001b[1;31mAttributeError\u001b[0m: module 'sklearn' has no attribute 'metrics'"
     ]
    }
   ],
   "source": [
    "import numpy\n",
    "import sklearn"
   ]
  },
  {
   "cell_type": "code",
   "execution_count": 30,
   "metadata": {
    "ExecuteTime": {
     "end_time": "2019-01-17T11:07:12.801468Z",
     "start_time": "2019-01-17T11:07:12.795500Z"
    }
   },
   "outputs": [
    {
     "name": "stdout",
     "output_type": "stream",
     "text": [
      "0.018995643791203554\n",
      "0.018995643791203554\n"
     ]
    }
   ],
   "source": [
    "from scipy import stats\n",
    "\n",
    "def KL(P,Q):\n",
    "    epsilon = 0.0\n",
    "    P = P+epsilon\n",
    "    Q = Q+epsilon\n",
    "    divergence = np.sum(P*np.log(P/Q))\n",
    "    return divergence\n",
    "\n",
    "# Should be normalized though\n",
    "values1 = np.asarray([1.,1.,1.])\n",
    "values2 = np.asarray([1.,1.,1.5])\n",
    "values1 = values1/values1.sum()\n",
    "values2 = values2/values2.sum()\n",
    "\n",
    "print(KL(values1,values2))\n",
    "print(stats.entropy(pk=values1, qk=values2))"
   ]
  },
  {
   "cell_type": "code",
   "execution_count": 34,
   "metadata": {
    "ExecuteTime": {
     "end_time": "2019-01-17T11:07:47.528992Z",
     "start_time": "2019-01-17T11:07:47.523009Z"
    }
   },
   "outputs": [
    {
     "name": "stdout",
     "output_type": "stream",
     "text": [
      "0.018995643791203554\n",
      "0.018995643791202887\n",
      "True\n"
     ]
    }
   ],
   "source": [
    "print(KL(values1,values2))\n",
    "test = np.sum((values1 * np.log(values1/values2) + 4 - 4))\n",
    "print(test)\n",
    "print(np.allclose(KL(values1,values2),test))"
   ]
  },
  {
   "cell_type": "code",
   "execution_count": 40,
   "metadata": {
    "ExecuteTime": {
     "end_time": "2019-01-17T11:10:49.123703Z",
     "start_time": "2019-01-17T11:10:49.117704Z"
    }
   },
   "outputs": [
    {
     "name": "stdout",
     "output_type": "stream",
     "text": [
      "4.018995643791203\n",
      "8.70416313399567\n",
      "-4.685167490204468\n"
     ]
    }
   ],
   "source": [
    "temp = 0\n",
    "for v in range(3):\n",
    "    temp = temp + values1[v] * ( np.log(values1[v]/values2[v]) + 4)\n",
    "print(temp)\n",
    "\n",
    "temp2 = 0\n",
    "for v in range(3):\n",
    "    temp2 = temp2 + np.log(np.exp(4)*values2[v]*(values1[v]/values2[v]))\n",
    "print(temp2)\n",
    "print(temp-temp2)"
   ]
  },
  {
   "cell_type": "code",
   "execution_count": 41,
   "metadata": {
    "ExecuteTime": {
     "end_time": "2019-01-17T11:11:09.771546Z",
     "start_time": "2019-01-17T11:11:09.762571Z"
    }
   },
   "outputs": [
    {
     "name": "stdout",
     "output_type": "stream",
     "text": [
      "4.018995643791203\n",
      "4.0\n",
      "0.018995643791202887\n"
     ]
    }
   ],
   "source": [
    "temp = 0\n",
    "for v in range(3):\n",
    "    temp = temp + values1[v] * ( np.log(values1[v]/values2[v]) + 4)\n",
    "print(temp)\n",
    "\n",
    "temp2 = 0\n",
    "for v in range(3):\n",
    "    temp2 = temp2 + np.log(np.exp(4)) *(values2[v]*(values1[v]/values2[v]))\n",
    "print(temp2)\n",
    "print(temp-temp2)"
   ]
  },
  {
   "cell_type": "code",
   "execution_count": 43,
   "metadata": {
    "ExecuteTime": {
     "end_time": "2019-01-17T11:12:40.221008Z",
     "start_time": "2019-01-17T11:12:40.215015Z"
    }
   },
   "outputs": [
    {
     "name": "stdout",
     "output_type": "stream",
     "text": [
      "8.70416313399567\n",
      "-4.685167490204468\n"
     ]
    }
   ],
   "source": [
    "temp2 = 0\n",
    "for v in range(3):\n",
    "    temp2 = temp2 + np.log(values2[v] * np.exp(\n",
    "        np.log(values1[v]/values2[v]) + 4\n",
    "    ))\n",
    "print(temp2)\n",
    "print(temp-temp2)"
   ]
  },
  {
   "cell_type": "code",
   "execution_count": 47,
   "metadata": {
    "ExecuteTime": {
     "end_time": "2019-01-17T11:14:20.574444Z",
     "start_time": "2019-01-17T11:14:20.569434Z"
    }
   },
   "outputs": [
    {
     "name": "stdout",
     "output_type": "stream",
     "text": [
      "1.4956072114935859\n",
      "2.523388432297617\n"
     ]
    }
   ],
   "source": [
    "temp2 = 0\n",
    "for v in range(3):\n",
    "    temp2 = temp2 + np.log(values2[v] * np.exp( np.log(values1[v]/values2[v] + 4)))\n",
    "print(temp2)\n",
    "print(temp-temp2)"
   ]
  },
  {
   "cell_type": "code",
   "execution_count": null,
   "metadata": {},
   "outputs": [],
   "source": []
  },
  {
   "cell_type": "code",
   "execution_count": null,
   "metadata": {},
   "outputs": [],
   "source": []
  }
 ],
 "metadata": {
  "kernelspec": {
   "display_name": "Python 3",
   "language": "python",
   "name": "python3"
  },
  "language_info": {
   "codemirror_mode": {
    "name": "ipython",
    "version": 3
   },
   "file_extension": ".py",
   "mimetype": "text/x-python",
   "name": "python",
   "nbconvert_exporter": "python",
   "pygments_lexer": "ipython3",
   "version": "3.6.6"
  },
  "latex_envs": {
   "LaTeX_envs_menu_present": true,
   "autoclose": false,
   "autocomplete": true,
   "bibliofile": "biblio.bib",
   "cite_by": "apalike",
   "current_citInitial": 1,
   "eqLabelWithNumbers": true,
   "eqNumInitial": 1,
   "hotkeys": {
    "equation": "Ctrl-E",
    "itemize": "Ctrl-I"
   },
   "labels_anchors": false,
   "latex_user_defs": false,
   "report_style_numbering": false,
   "user_envs_cfg": false
  },
  "varInspector": {
   "cols": {
    "lenName": 16,
    "lenType": 16,
    "lenVar": 40
   },
   "kernels_config": {
    "python": {
     "delete_cmd_postfix": "",
     "delete_cmd_prefix": "del ",
     "library": "var_list.py",
     "varRefreshCmd": "print(var_dic_list())"
    },
    "r": {
     "delete_cmd_postfix": ") ",
     "delete_cmd_prefix": "rm(",
     "library": "var_list.r",
     "varRefreshCmd": "cat(var_dic_list()) "
    }
   },
   "types_to_exclude": [
    "module",
    "function",
    "builtin_function_or_method",
    "instance",
    "_Feature"
   ],
   "window_display": false
  }
 },
 "nbformat": 4,
 "nbformat_minor": 2
}
