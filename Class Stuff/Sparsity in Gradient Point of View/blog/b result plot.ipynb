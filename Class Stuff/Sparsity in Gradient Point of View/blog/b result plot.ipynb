{
 "cells": [
  {
   "cell_type": "code",
   "execution_count": 2,
   "metadata": {
    "ExecuteTime": {
     "end_time": "2019-01-05T20:57:22.301151Z",
     "start_time": "2019-01-05T20:57:21.485854Z"
    }
   },
   "outputs": [],
   "source": [
    "import numpy as np\n",
    "import matplotlib.pyplot as plt\n",
    "plt.style.use('seaborn')"
   ]
  },
  {
   "cell_type": "code",
   "execution_count": 46,
   "metadata": {
    "ExecuteTime": {
     "end_time": "2019-01-05T21:23:56.818497Z",
     "start_time": "2019-01-05T21:23:54.335302Z"
    },
    "code_folding": [
     3
    ]
   },
   "outputs": [],
   "source": [
    "# read Z results \n",
    "\n",
    "\n",
    "def read_npy(folder):\n",
    "\n",
    "    Z_gradp1 = np.asarray(np.load(folder+'/gradp1.npy')); Z_gradp2 = np.asarray(np.load(folder+'/gradp2.npy')); Z_gradp3 = np.asarray(np.load(folder+'/gradp3.npy'))\n",
    "    Z_gradp4 = np.asarray(np.load(folder+'/gradp4.npy')); Z_gradp5 = np.asarray(np.load(folder+'/gradp5.npy')); Z_gradp6 = np.asarray(np.load(folder+'/gradp6.npy'))\n",
    "\n",
    "    Z_gradw1 = np.asarray(np.load(folder+'/gradw1.npy')); Z_gradw2 = np.asarray(np.load(folder+'/gradw2.npy')); Z_gradw3 = np.asarray(np.load(folder+'/gradw3.npy')); \n",
    "    Z_gradw4 = np.asarray(np.load(folder+'/gradw4.npy')); Z_gradw5 = np.asarray(np.load(folder+'/gradw5.npy')); Z_gradw6 = np.asarray(np.load(folder+'/gradw6.npy')); \n",
    "\n",
    "    Z_layer1 = np.asarray(np.load(folder+'/llayer1.npy')); Z_layer2 = np.asarray(np.load(folder+'/llayer2.npy'));  Z_layer3 = np.asarray(np.load(folder+'/llayer3.npy')); \n",
    "    Z_layer4 = np.asarray(np.load(folder+'/llayer4.npy')); Z_layer5 = np.asarray(np.load(folder+'/llayer5.npy'));  Z_layer6 = np.asarray(np.load(folder+'/llayer6.npy')); \n",
    "\n",
    "    Z_layera1 = np.asarray(np.load(folder+'/llayer1a.npy')); Z_layera2 = np.asarray(np.load(folder+'/llayer2a.npy')); Z_layera3 = np.asarray(np.load(folder+'/llayer3a.npy')); \n",
    "    Z_layera4 = np.asarray(np.load(folder+'/llayer4a.npy')); Z_layera5 = np.asarray(np.load(folder+'/llayer5a.npy')); Z_layera6 = np.asarray(np.load(folder+'/llayer6a.npy')); \n",
    "\n",
    "    Z_moment1   = np.asarray(np.load(folder+'/gradup1.npy')); Z_moment2   = np.asarray(np.load(folder+'/gradup2.npy'));  Z_moment3   = np.asarray(np.load(folder+'/gradup3.npy')); \n",
    "    Z_moment4   = np.asarray(np.load(folder+'/gradup4.npy')); Z_moment5   = np.asarray(np.load(folder+'/gradup5.npy'));  Z_moment6   = np.asarray(np.load(folder+'/gradup6.npy')); \n",
    "\n",
    "    Z_weights1  = np.asarray(np.load(folder+'/weight1.npy'));  Z_weights2  = np.asarray(np.load(folder+'/weight2.npy')); Z_weights3  = np.asarray(np.load(folder+'/weight3.npy')); \n",
    "    Z_weights4  = np.asarray(np.load(folder+'/weight4.npy'));  Z_weights5  = np.asarray(np.load(folder+'/weight5.npy')); Z_weights6  = np.asarray(np.load(folder+'/weight6.npy')); \n",
    "\n",
    "    gradp = np.array([Z_gradp1,Z_gradp2,Z_gradp3,Z_gradp4,Z_gradp5,Z_gradp6])\n",
    "    gradw = np.array([Z_gradw1,Z_gradw2,Z_gradw3,Z_gradw4,Z_gradw5,Z_gradw6])\n",
    "    layer = np.array([Z_layer1,Z_layer2,Z_layer3,Z_layer4,Z_layer5,Z_layer6])\n",
    "    layera= np.array([Z_layera1,Z_layera2,Z_layera3,Z_layera4,Z_layera5,Z_layera6])\n",
    "    moment= np.array([Z_moment1,Z_moment2,Z_moment3,Z_moment4,Z_moment5,Z_moment6])\n",
    "    weight= np.array([Z_weights1,Z_weights2,Z_weights3,Z_weights4,Z_weights5,Z_weights6])\n",
    "    \n",
    "    return gradp,gradw,layer,layera,moment,weight\n",
    "\n",
    "\n",
    "Z_gradp,Z_gradw,Z_layer,Z_layera,Z_moment,Z_weight = read_npy('Z')\n",
    "A_gradp,A_gradw,A_layer,A_layera,A_moment,A_weight = read_npy('A')\n",
    "B_gradp,B_gradw,B_layer,B_layera,B_moment,B_weight = read_npy('B')\n",
    "C_gradp,C_gradw,C_layer,C_layera,C_moment,C_weight = read_npy('C')\n",
    "D_gradp,D_gradw,D_layer,D_layera,D_moment,D_weight = read_npy('D')\n",
    "E_gradp,E_gradw,E_layer,E_layera,E_moment,E_weight = read_npy('E')\n",
    "F_gradp,F_gradw,F_layer,F_layera,F_moment,F_weight = read_npy('F')\n",
    "G_gradp,G_gradw,G_layer,G_layera,G_moment,G_weight = read_npy('G')\n",
    "H_gradp,H_gradw,H_layer,H_layera,H_moment,H_weight = read_npy('H')\n",
    "I_gradp,I_gradw,I_layer,I_layera,I_moment,I_weight = read_npy('I')\n",
    "J_gradp,J_gradw,J_layer,J_layera,J_moment,J_weight = read_npy('J')\n",
    "\n",
    "\n"
   ]
  },
  {
   "cell_type": "code",
   "execution_count": null,
   "metadata": {
    "ExecuteTime": {
     "end_time": "2019-01-05T21:08:52.104780Z",
     "start_time": "2019-01-05T21:08:52.099820Z"
    }
   },
   "outputs": [],
   "source": []
  },
  {
   "cell_type": "code",
   "execution_count": null,
   "metadata": {},
   "outputs": [],
   "source": []
  },
  {
   "cell_type": "code",
   "execution_count": null,
   "metadata": {},
   "outputs": [],
   "source": []
  },
  {
   "cell_type": "code",
   "execution_count": null,
   "metadata": {},
   "outputs": [],
   "source": []
  },
  {
   "cell_type": "code",
   "execution_count": 3,
   "metadata": {
    "ExecuteTime": {
     "end_time": "2019-01-05T20:57:31.985414Z",
     "start_time": "2019-01-05T20:57:31.761603Z"
    }
   },
   "outputs": [],
   "source": [
    "! start ."
   ]
  }
 ],
 "metadata": {
  "kernelspec": {
   "display_name": "Python 3",
   "language": "python",
   "name": "python3"
  },
  "language_info": {
   "codemirror_mode": {
    "name": "ipython",
    "version": 3
   },
   "file_extension": ".py",
   "mimetype": "text/x-python",
   "name": "python",
   "nbconvert_exporter": "python",
   "pygments_lexer": "ipython3",
   "version": "3.6.6"
  },
  "latex_envs": {
   "LaTeX_envs_menu_present": true,
   "autoclose": false,
   "autocomplete": true,
   "bibliofile": "biblio.bib",
   "cite_by": "apalike",
   "current_citInitial": 1,
   "eqLabelWithNumbers": true,
   "eqNumInitial": 1,
   "hotkeys": {
    "equation": "Ctrl-E",
    "itemize": "Ctrl-I"
   },
   "labels_anchors": false,
   "latex_user_defs": false,
   "report_style_numbering": false,
   "user_envs_cfg": false
  },
  "varInspector": {
   "cols": {
    "lenName": 16,
    "lenType": 16,
    "lenVar": 40
   },
   "kernels_config": {
    "python": {
     "delete_cmd_postfix": "",
     "delete_cmd_prefix": "del ",
     "library": "var_list.py",
     "varRefreshCmd": "print(var_dic_list())"
    },
    "r": {
     "delete_cmd_postfix": ") ",
     "delete_cmd_prefix": "rm(",
     "library": "var_list.r",
     "varRefreshCmd": "cat(var_dic_list()) "
    }
   },
   "types_to_exclude": [
    "module",
    "function",
    "builtin_function_or_method",
    "instance",
    "_Feature"
   ],
   "window_display": false
  }
 },
 "nbformat": 4,
 "nbformat_minor": 2
}
