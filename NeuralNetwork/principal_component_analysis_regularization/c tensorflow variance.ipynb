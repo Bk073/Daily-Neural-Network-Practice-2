{
 "cells": [
  {
   "cell_type": "code",
   "execution_count": 84,
   "metadata": {
    "ExecuteTime": {
     "end_time": "2018-11-16T16:08:56.540111Z",
     "start_time": "2018-11-16T16:08:56.534128Z"
    },
    "code_folding": []
   },
   "outputs": [
    {
     "data": {
      "text/html": [
       "<script type=\"text/javascript\">window.PlotlyConfig = {MathJaxConfig: 'local'};</script><script type=\"text/javascript\">if (window.MathJax) {MathJax.Hub.Config({SVG: {font: \"STIX-Web\"}});}</script><script>requirejs.config({paths: { 'plotly': ['https://cdn.plot.ly/plotly-latest.min']},});if(!window._Plotly) {require(['plotly'],function(plotly) {window._Plotly=plotly;});}</script>"
      ],
      "text/vnd.plotly.v1+html": [
       "<script type=\"text/javascript\">window.PlotlyConfig = {MathJaxConfig: 'local'};</script><script type=\"text/javascript\">if (window.MathJax) {MathJax.Hub.Config({SVG: {font: \"STIX-Web\"}});}</script><script>requirejs.config({paths: { 'plotly': ['https://cdn.plot.ly/plotly-latest.min']},});if(!window._Plotly) {require(['plotly'],function(plotly) {window._Plotly=plotly;});}</script>"
      ]
     },
     "metadata": {},
     "output_type": "display_data"
    }
   ],
   "source": [
    "# import lib\n",
    "import numpy      as np\n",
    "import tensorflow as tf\n",
    "import matplotlib.pyplot as plt\n",
    "import plotly.graph_objs as go\n",
    "from   plotly.offline import download_plotlyjs, init_notebook_mode, plot, iplot\n",
    "\n",
    "# data set \n",
    "import sklearn.datasets as datasets\n",
    "\n",
    "init_notebook_mode(connected=True); np.random.seed(6789); tf.set_random_seed(67890); plt.style.use('seaborn')"
   ]
  },
  {
   "cell_type": "code",
   "execution_count": 85,
   "metadata": {
    "ExecuteTime": {
     "end_time": "2018-11-16T16:08:57.407303Z",
     "start_time": "2018-11-16T16:08:57.398326Z"
    },
    "code_folding": [
     5,
     10,
     17,
     25,
     35
    ]
   },
   "outputs": [],
   "source": [
    "# create functions and start session\n",
    "try: \n",
    "    if sess._closed: sess = tf.InteractiveSession()\n",
    "except:\n",
    "    sess = tf.InteractiveSession()\n",
    "def np_pca_svd(X):\n",
    "    U,s,VT = np.linalg.svd(X,full_matrices=False)\n",
    "    S      = np.diag(s)\n",
    "    return U,S,VT.T\n",
    "    \n",
    "def tf_pca_svd(X,mmax=1.5,mmin=0.5): \n",
    "    s,U,V  = tf.linalg.svd(X,full_matrices=False)\n",
    "    S      = tf.diag(s)\n",
    "    s      = s.eval()\n",
    "    ScaledS= (mmax-mmin)*((s-s.min())/(s.max()-s.min())) + mmin\n",
    "    return U.eval(),S,V.eval(),ScaledS\n",
    "\n",
    "def normalize_sign(A,B):\n",
    "    \"\"\"\n",
    "    utility function for resolving the sign ambiguity in SVD\n",
    "    http://stats.stackexchange.com/q/34396/115202\n",
    "    \"\"\"\n",
    "    signs = np.sign(A) * np.sign(B)\n",
    "    return A, B * signs    \n",
    "\n",
    "def plot_data_with_pca(data,vector,value,cenx=0,ceny=0,width=0.05,title=None,save_fig=False,show_fig=True,close=True,alpha=1.0):\n",
    "    plt.scatter(data[:,0],data[:,1],c=label,cmap='YlOrBr',alpha=alpha)\n",
    "    ax1 = plt.arrow(cenx,ceny,*vector[:,0]*value[0],width=width,length_includes_head=False,color='Red' ,capstyle='projecting',label='PC 1',alpha=alpha)\n",
    "    ax2 = plt.arrow(cenx,ceny,*vector[:,1]*value[1],width=width,length_includes_head=False,color='Blue',capstyle='projecting',label='PC 2',alpha=alpha)\n",
    "    if title: plt.title(title,fontsize=30)\n",
    "    plt.legend([ax1,ax2],['pc 1','pc 2']); plt.tight_layout()\n",
    "    if save_fig: plt.savefig('figure/'+str(title)+'.png')\n",
    "    if show_fig: plt.show()\n",
    "    if close   : plt.close('all')\n",
    "    \n",
    "def normalize_with_range(data,mmax=1.,mmin=0.0):\n",
    "    norm_data = (mmax-mmin) * ((data - data.min(0,keepdims=True))/ (data.max(0,keepdims=True)-data.min(0,keepdims=True))) + mmin\n",
    "    return norm_data\n",
    "\n",
    "number_of_data = 4000\n",
    "skew_matrix    = np.array([[2,0.2],[1.1,0]])"
   ]
  },
  {
   "cell_type": "code",
   "execution_count": null,
   "metadata": {
    "ExecuteTime": {
     "start_time": "2018-11-16T16:26:09.450Z"
    },
    "code_folding": [],
    "scrolled": false
   },
   "outputs": [
    {
     "name": "stdout",
     "output_type": "stream",
     "text": [
      "=============================== FIND PC ============================\n",
      "Are the two projection vector same? :  True\n",
      "=============================== FIND PC ============================\n",
      "=============================== PROJECTION ============================\n",
      "Are the two PROJECTED DATA same? :  True\n",
      "Are the two PROJECTED VECTOR same? :  True\n",
      "=============================== PROJECTION ============================\n",
      "================================= RECONSTRUCTION ==========================\n",
      "Are the two RECONSTRUCTED DATA same? :  True\n",
      "Are the two RECONSTRUCTED VECTOR same? :  True\n",
      "================================= RECONSTRUCTION ==========================\n",
      "===========================================================\n",
      "Are the ORIGINAL and RECONSTRUCTED DATA same? :  True\n",
      "Are the ORIGINAL and RECONSTRUCTED DATA same? :  True\n",
      "Are the ORIGINAL and RECONSTRUCTED VECTOR same? :  True\n",
      "Are the ORIGINAL and RECONSTRUCTED VECTOR same? :  True\n",
      "===========================================================\n"
     ]
    }
   ],
   "source": [
    "# create some simple dataset blobs and skew it (center it as well)\n",
    "data,label = datasets.make_blobs(n_samples=number_of_data,centers=2,random_state=23,cluster_std =1.9,center_box =(-20,20))\n",
    "data       = data @ skew_matrix\n",
    "data       = data - data.mean(0,keepdims=True)\n",
    "\n",
    "# ==================================== FIND PC =====================================================\n",
    "cov     = data.T @ data / (data.shape[0] - 1)\n",
    "val,vec = np.linalg.eigh(cov)\n",
    "vec     = vec.T\n",
    "vec     = vec[:,::-1]; val     = val[::-1]\n",
    "\n",
    "og_U,og_S,og_V,og_ss = tf_pca_svd(data)\n",
    "\n",
    "print('=============================== FIND PC ============================')\n",
    "print('Are the two projection vector same? : ',np.allclose(*normalize_sign(vec,og_V)))\n",
    "print('=============================== FIND PC ============================')\n",
    "# ==================================== FIND PC =====================================================\n",
    "\n",
    "# =================================== PROJECTION ======================================================\n",
    "np_projected_data = data   @ vec\n",
    "np_projected_veco = vec.T  @ vec\n",
    "\n",
    "tf_projected_data = (og_U  @ og_S).eval()\n",
    "tf_projected_veco = og_V.T @ og_V\n",
    "print('=============================== PROJECTION ============================')\n",
    "print('Are the two PROJECTED DATA same? : '  ,np.allclose(*normalize_sign(np_projected_data,tf_projected_data)))\n",
    "print('Are the two PROJECTED VECTOR same? : ',np.allclose(*normalize_sign(np_projected_veco,tf_projected_veco)))\n",
    "print('=============================== PROJECTION ============================')\n",
    "# =================================== PROJECTION ======================================================\n",
    "\n",
    "# =================================== RECONSTRUCTION ======================================================\n",
    "np_reconstructed_data = np_projected_data @ vec.T\n",
    "np_reconstructed_veco = np_projected_veco @ vec\n",
    "\n",
    "tf_reconstructed_data = tf_projected_data @ og_V.T\n",
    "tf_reconstructed_veco = tf_projected_veco @ og_V\n",
    "print('================================= RECONSTRUCTION ==========================')\n",
    "print('Are the two RECONSTRUCTED DATA same? : ',np.allclose(*normalize_sign(np_reconstructed_data,tf_reconstructed_data)))\n",
    "print('Are the two RECONSTRUCTED VECTOR same? : ',np.allclose(*normalize_sign(np_reconstructed_veco,tf_reconstructed_veco)))\n",
    "print('================================= RECONSTRUCTION ==========================')\n",
    "\n",
    "print('===========================================================')\n",
    "print('Are the ORIGINAL and RECONSTRUCTED DATA same? : ',np.allclose(*normalize_sign(np_reconstructed_data,data)))\n",
    "print('Are the ORIGINAL and RECONSTRUCTED DATA same? : ',np.allclose(*normalize_sign(tf_reconstructed_data,data)))\n",
    "print('Are the ORIGINAL and RECONSTRUCTED VECTOR same? : ',np.allclose(*normalize_sign(np_reconstructed_veco,vec)))\n",
    "print('Are the ORIGINAL and RECONSTRUCTED VECTOR same? : ',np.allclose(*normalize_sign(tf_reconstructed_veco,og_V)))\n",
    "print('===========================================================')\n",
    "# =================================== RECONSTRUCTION ======================================================\n",
    "\n",
    "plt.figure(figsize=(30,20))\n",
    "plt.subplot(321); plot_data_with_pca(data,vec ,og_ss,title='Original Data with NP PC`s',show_fig=False,close=False)\n",
    "plt.subplot(322); plot_data_with_pca(data,og_V,og_ss,title='Original Data with TF PC`s',show_fig=False,close=False)\n",
    "plt.subplot(323); plot_data_with_pca(np_projected_data,np_projected_veco,og_ss,title='NP Projected',show_fig=False,close=False)\n",
    "plt.subplot(324); plot_data_with_pca(tf_projected_data,tf_projected_veco,og_ss,title='TF Projected',show_fig=False,close=False)\n",
    "plt.subplot(325); plot_data_with_pca(np_reconstructed_data,np_reconstructed_veco,og_ss,title='NP Recon',show_fig=False,close=False)\n",
    "plt.subplot(326); plot_data_with_pca(tf_reconstructed_data,tf_reconstructed_veco,og_ss,title='TF Recon',show_fig=False,close=False)\n",
    "plt.show()"
   ]
  },
  {
   "cell_type": "code",
   "execution_count": null,
   "metadata": {
    "ExecuteTime": {
     "end_time": "2018-11-16T16:25:01.771433Z",
     "start_time": "2018-11-16T16:25:01.765449Z"
    },
    "code_folding": []
   },
   "outputs": [],
   "source": []
  },
  {
   "cell_type": "code",
   "execution_count": null,
   "metadata": {
    "ExecuteTime": {
     "end_time": "2018-11-16T16:08:51.232431Z",
     "start_time": "2018-11-16T16:08:50.324853Z"
    },
    "code_folding": [],
    "scrolled": false
   },
   "outputs": [],
   "source": []
  },
  {
   "cell_type": "code",
   "execution_count": null,
   "metadata": {},
   "outputs": [],
   "source": []
  },
  {
   "cell_type": "code",
   "execution_count": null,
   "metadata": {},
   "outputs": [],
   "source": []
  },
  {
   "cell_type": "code",
   "execution_count": null,
   "metadata": {},
   "outputs": [],
   "source": []
  },
  {
   "cell_type": "code",
   "execution_count": null,
   "metadata": {},
   "outputs": [],
   "source": []
  },
  {
   "cell_type": "code",
   "execution_count": null,
   "metadata": {},
   "outputs": [],
   "source": []
  },
  {
   "cell_type": "code",
   "execution_count": null,
   "metadata": {},
   "outputs": [],
   "source": []
  },
  {
   "cell_type": "code",
   "execution_count": 16,
   "metadata": {
    "ExecuteTime": {
     "end_time": "2018-11-15T21:30:13.893577Z",
     "start_time": "2018-11-15T21:30:13.688528Z"
    }
   },
   "outputs": [],
   "source": []
  },
  {
   "cell_type": "code",
   "execution_count": null,
   "metadata": {},
   "outputs": [],
   "source": []
  },
  {
   "cell_type": "code",
   "execution_count": null,
   "metadata": {},
   "outputs": [],
   "source": []
  },
  {
   "cell_type": "code",
   "execution_count": null,
   "metadata": {},
   "outputs": [],
   "source": []
  },
  {
   "cell_type": "markdown",
   "metadata": {},
   "source": [
    "### Tensorflow SVD already tranposes the V matrix\n",
    "<img src=\"https://i.imgur.com/im9zhFr.png\"> \n",
    "\n",
    "### As seen above there is a method called adjoint_b and this indicates the fact that we are tranposing v \n",
    "### To recover the original value of data we need to transpose the V"
   ]
  },
  {
   "cell_type": "code",
   "execution_count": 17,
   "metadata": {
    "ExecuteTime": {
     "end_time": "2018-11-15T18:54:15.105718Z",
     "start_time": "2018-11-15T18:54:15.071810Z"
    }
   },
   "outputs": [
    {
     "name": "stdout",
     "output_type": "stream",
     "text": [
      "Did not Transpose:  False\n",
      "Did Transpose:  True\n"
     ]
    }
   ],
   "source": [
    "a = data\n",
    "s, u, v = tf.linalg.svd(a)\n",
    "tf_a_approxT = tf.matmul(u, tf.matmul(tf.linalg.diag(s), v)) \n",
    "tf_a_approx  = tf.matmul(u, tf.matmul(tf.linalg.diag(s), tf.transpose(v)) )\n",
    "u, s, v_adj  = np.linalg.svd(a, full_matrices=False)\n",
    "np_a_approx  = np.dot(u, np.dot(np.diag(s), v_adj))\n",
    "tf_a_approxT = tf_a_approxT.eval()\n",
    "tf_a_approx  = tf_a_approx.eval()\n",
    "print('Did not Transpose: ',np.allclose(np_a_approx,tf_a_approxT))\n",
    "print('Did Transpose: ',np.allclose(np_a_approx,tf_a_approx))"
   ]
  },
  {
   "cell_type": "markdown",
   "metadata": {},
   "source": [
    "# Reference \n",
    "1. PCA?, R. (2018). Relationship between SVD and PCA. How to use SVD to perform PCA?. Cross Validated. Retrieved 15 November 2018, from https://stats.stackexchange.com/questions/134282/relationship-between-svd-and-pca-how-to-use-svd-to-perform-pca\n",
    "2. tf.linalg.svd | TensorFlow. (2018). TensorFlow. Retrieved 15 November 2018, from https://www.tensorflow.org/api_docs/python/tf/linalg/svd\n",
    "3. Line and Scatter Plots. (2018). Plot.ly. Retrieved 15 November 2018, from https://plot.ly/matplotlib/line-and-scatter/\n",
    "4. exception)?, H. (2018). How to check if a Tensorflow Session is still open (without catching an exception)?. Stack Overflow. Retrieved 15 November 2018, from https://stackoverflow.com/questions/42974627/how-to-check-if-a-tensorflow-session-is-still-open-without-catching-an-exceptio\n",
    "5. sklearn.datasets.make_blobs — scikit-learn 0.20.0 documentation. (2018). Scikit-learn.org. Retrieved 15 November 2018, from https://scikit-learn.org/stable/modules/generated/sklearn.datasets.make_blobs.html\n",
    "6. Styling Markers. (2018). Plot.ly. Retrieved 15 November 2018, from https://plot.ly/python/marker-style/\n",
    "7. Subplots. (2018). Plot.ly. Retrieved 15 November 2018, from https://plot.ly/python/subplots/\n",
    "8. matplotlib, S. (2018). Seaborn configuration hides default matplotlib. Stack Overflow. Retrieved 15 November 2018, from https://stackoverflow.com/questions/33099348/seaborn-configuration-hides-default-matplotlib\n",
    "9. color example code: colormaps_reference.py — Matplotlib 2.0.2 documentation. (2018). Matplotlib.org. Retrieved 15 November 2018, from https://matplotlib.org/examples/color/colormaps_reference.html\n",
    "10. matplotlib.pyplot.arrow — Matplotlib 3.0.2 documentation. (2018). Matplotlib.org. Retrieved 15 November 2018, from https://matplotlib.org/api/_as_gen/matplotlib.pyplot.arrow.html\n",
    "11. notebook?, H. (2018). How to set the matplotlib figure default size in ipython notebook?. Stack Overflow. Retrieved 15 November 2018, from https://stackoverflow.com/questions/17230797/how-to-set-the-matplotlib-figure-default-size-in-ipython-notebook\n",
    "12. arrow, M. (2018). Matplotlib legend for an arrow. Stack Overflow. Retrieved 15 November 2018, from https://stackoverflow.com/questions/22348229/matplotlib-legend-for-an-arrow\n",
    "13. value?, H. (2018). How to use a decimal range() step value?. Stack Overflow. Retrieved 15 November 2018, from https://stackoverflow.com/questions/477486/how-to-use-a-decimal-range-step-value"
   ]
  }
 ],
 "metadata": {
  "kernelspec": {
   "display_name": "Python 3",
   "language": "python",
   "name": "python3"
  },
  "language_info": {
   "codemirror_mode": {
    "name": "ipython",
    "version": 3
   },
   "file_extension": ".py",
   "mimetype": "text/x-python",
   "name": "python",
   "nbconvert_exporter": "python",
   "pygments_lexer": "ipython3",
   "version": "3.6.5"
  },
  "latex_envs": {
   "LaTeX_envs_menu_present": true,
   "autoclose": false,
   "autocomplete": true,
   "bibliofile": "biblio.bib",
   "cite_by": "apalike",
   "current_citInitial": 1,
   "eqLabelWithNumbers": true,
   "eqNumInitial": 1,
   "hotkeys": {
    "equation": "Ctrl-E",
    "itemize": "Ctrl-I"
   },
   "labels_anchors": false,
   "latex_user_defs": false,
   "report_style_numbering": false,
   "user_envs_cfg": false
  },
  "varInspector": {
   "cols": {
    "lenName": 16,
    "lenType": 16,
    "lenVar": 40
   },
   "kernels_config": {
    "python": {
     "delete_cmd_postfix": "",
     "delete_cmd_prefix": "del ",
     "library": "var_list.py",
     "varRefreshCmd": "print(var_dic_list())"
    },
    "r": {
     "delete_cmd_postfix": ") ",
     "delete_cmd_prefix": "rm(",
     "library": "var_list.r",
     "varRefreshCmd": "cat(var_dic_list()) "
    }
   },
   "position": {
    "height": "591.8px",
    "left": "605px",
    "right": "20px",
    "top": "45px",
    "width": "800px"
   },
   "types_to_exclude": [
    "module",
    "function",
    "builtin_function_or_method",
    "instance",
    "_Feature"
   ],
   "window_display": false
  }
 },
 "nbformat": 4,
 "nbformat_minor": 2
}
