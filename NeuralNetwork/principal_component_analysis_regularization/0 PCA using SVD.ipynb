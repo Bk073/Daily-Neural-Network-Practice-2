{
 "cells": [
  {
   "cell_type": "code",
   "execution_count": 1,
   "metadata": {
    "ExecuteTime": {
     "end_time": "2018-11-14T21:25:33.420496Z",
     "start_time": "2018-11-14T21:25:26.289165Z"
    },
    "code_folding": []
   },
   "outputs": [],
   "source": [
    "# import library\n",
    "import matplotlib\n",
    "matplotlib.use('TkAgg')\n",
    "import tensorflow as tf\n",
    "import numpy as np\n",
    "import sys, os,cv2\n",
    "from scipy.misc import imread,imresize\n",
    "import matplotlib.pyplot as plt\n",
    "from sklearn.preprocessing import OneHotEncoder\n",
    "from imgaug import augmenters as iaa\n",
    "import imgaug as ia\n",
    "from scipy.ndimage import zoom\n",
    "from sklearn.utils import shuffle\n",
    "import matplotlib.animation as animation\n",
    "import seaborn as sns\n",
    "from mpl_toolkits.mplot3d import Axes3D\n",
    "from sklearn.datasets import make_blobs,make_moons,make_swiss_roll\n",
    "from IPython.display  import IFrame\n",
    "\n",
    "plt.style.use('seaborn')\n",
    "os.environ['TF_CPP_MIN_LOG_LEVEL'] = '3'"
   ]
  },
  {
   "cell_type": "code",
   "execution_count": 2,
   "metadata": {
    "ExecuteTime": {
     "end_time": "2018-11-14T21:25:33.501279Z",
     "start_time": "2018-11-14T21:25:33.496294Z"
    },
    "code_folding": [
     0
    ]
   },
   "outputs": [],
   "source": [
    "# create function for PCA using SVD\n",
    "def pca_svd(data,return_project = False,mmax=1.5,mmin=0.5):\n",
    "    data  = data - data.mean(0,keepdims=True)\n",
    "    U,S,V = np.linalg.svd(data,full_matrices=False)\n",
    "    projected_data = U @ np.diag(S) \n",
    "    V_T = V.T\n",
    "    s_range = (mmax-mmin) * (S-S.min())/(S.max()-S.min()) + mmin\n",
    "    if not return_project: return V_T,s_range\n",
    "    return projected_data,V_T,s_range"
   ]
  },
  {
   "cell_type": "code",
   "execution_count": null,
   "metadata": {
    "ExecuteTime": {
     "start_time": "2018-11-14T21:25:26.291Z"
    },
    "code_folding": [
     0
    ]
   },
   "outputs": [],
   "source": [
    "# make circle original data\n",
    "from sklearn import  datasets\n",
    "np.random.seed(6789)\n",
    "n_samples = 4000\n",
    "data,label  = datasets.make_blobs(n_samples=n_samples,cluster_std=0.3,centers=2)\n",
    "data = data + np.random.poisson(size=data.shape)\n",
    "transformation = np.asarray([[2,0.5],[3.2,0]])\n",
    "data = data @ transformation\n",
    "data = data - data.mean(0,keepdims=True)\n",
    "\n",
    "# normalize and standardize\n",
    "data_normalized = (data-data.min( 0,keepdims=True))/(data.max(0,keepdims=True)-data.min(0,keepdims=True))\n",
    "data_std        = (data-data.mean(0,keepdims=True))/(data.std(0,keepdims=True))\n",
    "\n",
    "og_vec,og_val = pca_svd(data,mmax=2,mmin=1)\n",
    "no_vec,no_val = pca_svd(data_normalized,mmax=0.35,mmin=0.25)\n",
    "st_vec,st_val = pca_svd(data_std)\n",
    "\n",
    "plt.figure(figsize=(30,10))\n",
    "plt.subplot(131); plt.title('Original')\n",
    "plt.scatter(data[label==0,0],data[label==0,1]);           \n",
    "plt.scatter(data[label==1,0],data[label==1,1]); \n",
    "plt.arrow(0,0,*og_vec[:,0]*og_val[0],length_includes_head = False,color='Red',  ec=\"k\", head_width=1, head_length=1,width=0.1);                   \n",
    "plt.arrow(0,0,*og_vec[:,1]*og_val[1],length_includes_head = False,color='Blue', ec=\"k\", head_width=1, head_length=1,width=0.1);\n",
    "\n",
    "plt.subplot(132); plt.title('Norm')\n",
    "plt.scatter(data_normalized[label==0,0],data_normalized[label==0,1]); \n",
    "plt.scatter(data_normalized[label==1,0],data_normalized[label==1,1]);\n",
    "plt.arrow(0.5,0.5,*no_vec[:,0]*no_val[0],length_includes_head = False,color='Red',  ec=\"k\", head_width=0.1, head_length=0.1,width=0.01);                   \n",
    "plt.arrow(0.5,0.5,*no_vec[:,1]*no_val[1],length_includes_head = False,color='Blue', ec=\"k\", head_width=0.1, head_length=0.1,width=0.01);\n",
    "\n",
    "plt.subplot(133); plt.title('STD')\n",
    "plt.scatter(data_std[label==0,0],data_std[label==0,1]); \n",
    "plt.scatter(data_std[label==1,0],data_std[label==1,1]); \n",
    "plt.arrow(0,0,*st_vec[:,0]*st_val[0],length_includes_head = False,color='Red',  ec=\"k\", head_width=1, head_length=1,width=0.1);                   \n",
    "plt.arrow(0,0,*st_vec[:,1]*st_val[1],length_includes_head = False,color='Blue', ec=\"k\", head_width=1, head_length=1,width=0.1);\n",
    "\n",
    "plt.show()"
   ]
  },
  {
   "cell_type": "code",
   "execution_count": null,
   "metadata": {
    "ExecuteTime": {
     "start_time": "2018-11-14T21:25:26.296Z"
    },
    "code_folding": [
     0
    ]
   },
   "outputs": [],
   "source": [
    "# Regular PCA and Back to it\n",
    "og_vec,og_val = pca_svd(data)\n",
    "\n",
    "projected_data = data  @ og_vec\n",
    "pj_vec,pj_val  = pca_svd(projected_data)\n",
    "\n",
    "reconstructdata= projected_data @ og_vec.T\n",
    "rc_vec,rc_val  = pca_svd(reconstructdata)\n",
    "\n",
    "plt.figure(figsize=(30,10))\n",
    "plt.subplot(131); plt.title('Original Data')\n",
    "plt.scatter(data[label==0,0],data[label==0,1]);     \n",
    "plt.scatter(data[label==1,0],data[label==1,1])\n",
    "plt.arrow(0,0,*og_vec[:,0]*og_val[0],length_includes_head = False,color='Red',  ec=\"k\", head_width=1, head_length=1,width=0.1);                   \n",
    "plt.arrow(0,0,*og_vec[:,1]*og_val[1],length_includes_head = False,color='Blue', ec=\"k\", head_width=1, head_length=1,width=0.1);\n",
    "\n",
    "plt.subplot(132); plt.title('Projected Data')\n",
    "plt.scatter(projected_data[label==0,0],data[label==0,1]); plt.scatter(projected_data[label==1,0],data[label==1,1])\n",
    "plt.arrow(0,0,*pj_vec[:,0]*pj_val[0],length_includes_head = False,color='Red',  ec=\"k\", head_width=1, head_length=1,width=0.1);                   \n",
    "plt.arrow(0,0,*pj_vec[:,1]*pj_val[1],length_includes_head = False,color='Blue', ec=\"k\", head_width=1, head_length=1,width=0.1);\n",
    "\n",
    "plt.subplot(133); plt.title('Reconstructed Data')\n",
    "plt.scatter(reconstructdata[label==0,0],data[label==0,1]); plt.scatter(reconstructdata[label==1,0],data[label==1,1])\n",
    "plt.arrow(0,0,*rc_vec[:,0]*rc_val[0],length_includes_head = False,color='Red',  ec=\"k\", head_width=1, head_length=1,width=0.1);                   \n",
    "plt.arrow(0,0,*rc_vec[:,1]*rc_val[1],length_includes_head = False,color='Blue', ec=\"k\", head_width=1, head_length=1,width=0.1);\n",
    "\n",
    "plt.show()"
   ]
  },
  {
   "cell_type": "code",
   "execution_count": null,
   "metadata": {
    "ExecuteTime": {
     "start_time": "2018-11-14T21:25:26.303Z"
    },
    "code_folding": [
     0
    ]
   },
   "outputs": [],
   "source": [
    "# now fun with pca\n",
    "og_vec, og_val = pca_svd(data)\n",
    "\n",
    "projected_data = data @ og_vec\n",
    "pj_vec,pj_val  = pca_svd(projected_data)\n",
    "\n",
    "og_vec_value   = og_vec * og_val\n",
    "og_vec_value   = og_vec * og_vec_value.std(0,keepdims=True)\n",
    "\n",
    "reconstructdata= projected_data @ og_vec_value.T\n",
    "rc_vec,rc_val  = pca_svd(reconstructdata)\n",
    "\n",
    "plt.figure(figsize=(30,10))\n",
    "plt.subplot(131); \n",
    "plt.scatter(data[label==0,0],data[label==0,1]);     \n",
    "plt.scatter(data[label==1,0],data[label==1,1])\n",
    "plt.arrow(0,0,*og_vec[:,0]*og_val[0],length_includes_head = False,color='Red',  ec=\"k\", head_width=1, head_length=1,width=0.1);                   \n",
    "plt.arrow(0,0,*og_vec[:,1]*og_val[1],length_includes_head = False,color='Blue', ec=\"k\", head_width=1, head_length=1,width=0.1);\n",
    "\n",
    "plt.subplot(132); \n",
    "plt.scatter(projected_data[label==0,0],data[label==0,1]); plt.scatter(projected_data[label==1,0],data[label==1,1])\n",
    "plt.arrow(0,0,*pj_vec[:,0]*pj_val[0],length_includes_head = False,color='Red',  ec=\"k\", head_width=1, head_length=1,width=0.1);                   \n",
    "plt.arrow(0,0,*pj_vec[:,1]*pj_val[1],length_includes_head = False,color='Blue', ec=\"k\", head_width=1, head_length=1,width=0.1);\n",
    "\n",
    "plt.subplot(133); \n",
    "plt.scatter(reconstructdata[label==0,0],data[label==0,1]); plt.scatter(reconstructdata[label==1,0],data[label==1,1])\n",
    "plt.arrow(0,0,*rc_vec[:,0]*rc_val[0],length_includes_head = False,color='Red',  ec=\"k\", head_width=1, head_length=1,width=0.1);                   \n",
    "plt.arrow(0,0,*rc_vec[:,1]*rc_val[1],length_includes_head = False,color='Blue', ec=\"k\", head_width=1, head_length=1,width=0.1);\n",
    "\n",
    "plt.show()"
   ]
  },
  {
   "cell_type": "code",
   "execution_count": null,
   "metadata": {
    "ExecuteTime": {
     "start_time": "2018-11-14T21:25:26.305Z"
    },
    "code_folding": [
     0
    ]
   },
   "outputs": [],
   "source": [
    "# now fun with pca subtract std\n",
    "og_vec, og_val = pca_svd(data)\n",
    "\n",
    "projected_data = data @ og_vec\n",
    "pj_vec,pj_val  = pca_svd(projected_data)\n",
    "\n",
    "og_vec_value   = og_vec * og_val\n",
    "og_vec_mean    = og_vec_value - og_vec_value.std(0,keepdims=True)\n",
    "\n",
    "reconstructdata= projected_data @ og_vec_mean.T\n",
    "rc_vec,rc_val  = pca_svd(reconstructdata)\n",
    "\n",
    "plt.figure(figsize=(30,10))\n",
    "plt.subplot(131); \n",
    "plt.scatter(data[label==0,0],data[label==0,1]);     \n",
    "plt.scatter(data[label==1,0],data[label==1,1])\n",
    "plt.arrow(0,0,*og_vec[:,0]*og_val[0],length_includes_head = False,color='Red',  ec=\"k\", head_width=1, head_length=1,width=0.1);                   \n",
    "plt.arrow(0,0,*og_vec[:,1]*og_val[1],length_includes_head = False,color='Blue', ec=\"k\", head_width=1, head_length=1,width=0.1);\n",
    "\n",
    "plt.subplot(132); \n",
    "plt.scatter(projected_data[label==0,0],data[label==0,1]); plt.scatter(projected_data[label==1,0],data[label==1,1])\n",
    "plt.arrow(0,0,*pj_vec[:,0]*pj_val[0],length_includes_head = False,color='Red',  ec=\"k\", head_width=1, head_length=1,width=0.1);                   \n",
    "plt.arrow(0,0,*pj_vec[:,1]*pj_val[1],length_includes_head = False,color='Blue', ec=\"k\", head_width=1, head_length=1,width=0.1);\n",
    "\n",
    "plt.subplot(133); \n",
    "plt.scatter(reconstructdata[label==0,0],data[label==0,1]); plt.scatter(reconstructdata[label==1,0],data[label==1,1])\n",
    "plt.arrow(0,0,*rc_vec[:,0]*rc_val[0],length_includes_head = False,color='Red',  ec=\"k\", head_width=1, head_length=1,width=0.1);                   \n",
    "plt.arrow(0,0,*rc_vec[:,1]*rc_val[1],length_includes_head = False,color='Blue', ec=\"k\", head_width=1, head_length=1,width=0.1);\n",
    "\n",
    "plt.show()"
   ]
  },
  {
   "cell_type": "code",
   "execution_count": null,
   "metadata": {
    "ExecuteTime": {
     "start_time": "2018-11-14T21:25:26.308Z"
    },
    "code_folding": [
     0
    ]
   },
   "outputs": [],
   "source": [
    "# now fun with pca \n",
    "og_vec, og_val = pca_svd(data)\n",
    "\n",
    "projected_data = data @ og_vec\n",
    "pj_vec,pj_val  = pca_svd(projected_data)\n",
    "\n",
    "og_vec_value   = og_vec * og_val\n",
    "og_vec_mean    = og_vec_value - og_vec_value.mean(0,keepdims=True)\n",
    "\n",
    "reconstructdata= projected_data @ og_vec_mean.T\n",
    "rc_vec,rc_val  = pca_svd(reconstructdata)\n",
    "\n",
    "plt.figure(figsize=(30,10))\n",
    "plt.subplot(131); \n",
    "plt.scatter(data[label==0,0],data[label==0,1]);     \n",
    "plt.scatter(data[label==1,0],data[label==1,1])\n",
    "plt.arrow(0,0,*og_vec[:,0]*og_val[0],length_includes_head = False,color='Red',  ec=\"k\", head_width=1, head_length=1,width=0.1);                   \n",
    "plt.arrow(0,0,*og_vec[:,1]*og_val[1],length_includes_head = False,color='Blue', ec=\"k\", head_width=1, head_length=1,width=0.1);\n",
    "\n",
    "plt.subplot(132); \n",
    "plt.scatter(projected_data[label==0,0],data[label==0,1]); plt.scatter(projected_data[label==1,0],data[label==1,1])\n",
    "plt.arrow(0,0,*pj_vec[:,0]*pj_val[0],length_includes_head = False,color='Red',  ec=\"k\", head_width=1, head_length=1,width=0.1);                   \n",
    "plt.arrow(0,0,*pj_vec[:,1]*pj_val[1],length_includes_head = False,color='Blue', ec=\"k\", head_width=1, head_length=1,width=0.1);\n",
    "\n",
    "plt.subplot(133); \n",
    "plt.scatter(reconstructdata[label==0,0],data[label==0,1]); plt.scatter(reconstructdata[label==1,0],data[label==1,1])\n",
    "plt.arrow(0,0,*rc_vec[:,0]*rc_val[0],length_includes_head = False,color='Red',  ec=\"k\", head_width=1, head_length=1,width=0.1);                   \n",
    "plt.arrow(0,0,*rc_vec[:,1]*rc_val[1],length_includes_head = False,color='Blue', ec=\"k\", head_width=1, head_length=1,width=0.1);\n",
    "\n",
    "plt.show()"
   ]
  },
  {
   "cell_type": "markdown",
   "metadata": {},
   "source": [
    "# =========================================================================================================="
   ]
  },
  {
   "cell_type": "code",
   "execution_count": null,
   "metadata": {
    "ExecuteTime": {
     "start_time": "2018-11-14T21:25:26.353Z"
    },
    "code_folding": [
     0
    ]
   },
   "outputs": [],
   "source": [
    "# Make Moons project them\n",
    "data,label  = datasets.make_moons(n_samples=n_samples,noise=0.2,shuffle=2,random_state=5678)\n",
    "data[:,0] *= 2.5; data[:,1] *= 5.5\n",
    "data = data - data.mean(0,keepdims=True)\n",
    "\n",
    "data_normalized = (data-data.min( 0,keepdims=True))/(data.max(0,keepdims=True)-data.min(0,keepdims=True))\n",
    "data_std        = (data-data.mean(0,keepdims=True))/(data.std(0,keepdims=True))\n",
    "\n",
    "og_vec,og_val = pca_svd(data)\n",
    "no_vec,no_val = pca_svd(data_normalized,mmax=0.5,mmin=0.25)\n",
    "st_vec,st_val = pca_svd(data_std)\n",
    "\n",
    "plt.figure(figsize=(30,10))\n",
    "plt.subplot(131); \n",
    "plt.scatter(data[label==0,0],data[label==0,1]);           plt.scatter(data[label==1,0],data[label==1,1]); plt.title('Original')\n",
    "plt.arrow(0,0,*og_vec[:,0]*og_val[0],length_includes_head = False,color='Red',  ec=\"k\", head_width=1, head_length=1,width=0.1);                   \n",
    "plt.arrow(0,0,*og_vec[:,1]*og_val[1],length_includes_head = False,color='Blue', ec=\"k\", head_width=1, head_length=1,width=0.1);\n",
    "\n",
    "plt.subplot(132); \n",
    "plt.scatter(data_normalized[label==0,0],data_normalized[label==0,1]); plt.scatter(data_normalized[label==1,0],data_normalized[label==1,1]); plt.title('Norm')\n",
    "plt.arrow(0.5,0.5,*no_vec[:,0]*no_val[0],length_includes_head = False,color='Red',  ec=\"k\", head_width=0.1, head_length=0.1,width=0.01);                   \n",
    "plt.arrow(0.5,0.5,*no_vec[:,1]*no_val[1],length_includes_head = False,color='Blue', ec=\"k\", head_width=0.1, head_length=0.1,width=0.01);\n",
    "\n",
    "plt.subplot(133); \n",
    "plt.scatter(data_std[label==0,0],data_std[label==0,1]); plt.scatter(data_std[label==1,0],data_std[label==1,1]); plt.title('STD')\n",
    "plt.arrow(0,0,*st_vec[:,0]*st_val[0],length_includes_head = False,color='Red',  ec=\"k\", head_width=1, head_length=1,width=0.1);                   \n",
    "plt.arrow(0,0,*st_vec[:,1]*st_val[1],length_includes_head = False,color='Blue', ec=\"k\", head_width=1, head_length=1,width=0.1);\n",
    "\n",
    "plt.show()"
   ]
  },
  {
   "cell_type": "code",
   "execution_count": null,
   "metadata": {
    "ExecuteTime": {
     "start_time": "2018-11-14T21:25:26.359Z"
    },
    "code_folding": [
     0
    ]
   },
   "outputs": [],
   "source": [
    "# now fun with pca \n",
    "og_vec, og_val = pca_svd(data)\n",
    "\n",
    "projected_data = data @ og_vec\n",
    "pj_vec,pj_val  = pca_svd(projected_data)\n",
    "\n",
    "og_vec_value   = og_vec * og_val\n",
    "og_vec_mean    = og_vec * og_vec_value.std(0,keepdims=True)\n",
    "\n",
    "reconstructdata= projected_data @ og_vec_mean.T\n",
    "rc_vec,rc_val  = pca_svd(reconstructdata)\n",
    "\n",
    "plt.figure(figsize=(30,10))\n",
    "plt.subplot(131); \n",
    "plt.scatter(data[label==0,0],data[label==0,1]);     \n",
    "plt.scatter(data[label==1,0],data[label==1,1])\n",
    "plt.arrow(0,0,*og_vec[:,0]*og_val[0],length_includes_head = False,color='Red',  ec=\"k\", head_width=1, head_length=1,width=0.1);                   \n",
    "plt.arrow(0,0,*og_vec[:,1]*og_val[1],length_includes_head = False,color='Blue', ec=\"k\", head_width=1, head_length=1,width=0.1);\n",
    "\n",
    "plt.subplot(132); \n",
    "plt.scatter(projected_data[label==0,0],data[label==0,1]); plt.scatter(projected_data[label==1,0],data[label==1,1])\n",
    "plt.arrow(0,0,*pj_vec[:,0]*pj_val[0],length_includes_head = False,color='Red',  ec=\"k\", head_width=1, head_length=1,width=0.1);                   \n",
    "plt.arrow(0,0,*pj_vec[:,1]*pj_val[1],length_includes_head = False,color='Blue', ec=\"k\", head_width=1, head_length=1,width=0.1);\n",
    "\n",
    "plt.subplot(133); \n",
    "plt.scatter(reconstructdata[label==0,0],data[label==0,1]); plt.scatter(reconstructdata[label==1,0],data[label==1,1])\n",
    "plt.arrow(0,0,*rc_vec[:,0]*rc_val[0],length_includes_head = False,color='Red',  ec=\"k\", head_width=1, head_length=1,width=0.1);                   \n",
    "plt.arrow(0,0,*rc_vec[:,1]*rc_val[1],length_includes_head = False,color='Blue', ec=\"k\", head_width=1, head_length=1,width=0.1);\n",
    "\n",
    "plt.show()"
   ]
  },
  {
   "cell_type": "markdown",
   "metadata": {
    "code_folding": [
     4
    ]
   },
   "source": [
    "# =========================================================================================================="
   ]
  },
  {
   "cell_type": "code",
   "execution_count": null,
   "metadata": {
    "ExecuteTime": {
     "start_time": "2018-11-14T21:25:26.375Z"
    },
    "code_folding": [
     0
    ]
   },
   "outputs": [],
   "source": [
    "# The S Shaped Data\n",
    "data,label  = datasets.make_s_curve(n_samples=n_samples,noise=0.2,random_state=5678)\n",
    "data = np.vstack([data[:,0],data[:,2]]).T\n",
    "data = data - data.mean(0,keepdims=True)\n",
    "\n",
    "data_normalized = (data-data.min( 0,keepdims=True))/(data.max(0,keepdims=True)-data.min(0,keepdims=True))\n",
    "data_std        = (data-data.mean(0,keepdims=True))/(data.std(0,keepdims=True))\n",
    "\n",
    "og_vec,og_val = pca_svd(data)\n",
    "no_vec,no_val = pca_svd(data_normalized,mmax=0.5,mmin=0.25)\n",
    "st_vec,st_val = pca_svd(data_std)\n",
    "\n",
    "plt.figure(figsize=(30,10))\n",
    "plt.subplot(131); \n",
    "plt.scatter(data[:,0],data[:,1],c=label);                       plt.title('Original')\n",
    "plt.arrow(0,0,*og_vec[:,0]*og_val[0],length_includes_head = False,color='Red',  ec=\"k\", head_width=1, head_length=1,width=0.1);                   \n",
    "plt.arrow(0,0,*og_vec[:,1]*og_val[1],length_includes_head = False,color='Blue', ec=\"k\", head_width=1, head_length=1,width=0.1);\n",
    "\n",
    "plt.subplot(132); \n",
    "plt.scatter(data_normalized[:,0],data_normalized[:,1],c=label); plt.title('Norm')\n",
    "plt.arrow(0.5,0.5,*no_vec[:,0]*no_val[0],length_includes_head = False,color='Red',  ec=\"k\", head_width=0.1, head_length=0.1,width=0.01);                   \n",
    "plt.arrow(0.5,0.5,*no_vec[:,1]*no_val[1],length_includes_head = False,color='Blue', ec=\"k\", head_width=0.1, head_length=0.1,width=0.01);\n",
    "\n",
    "plt.subplot(133); \n",
    "plt.scatter(data_std[:,0],data_std[:,1],c=label);               plt.title('STD')\n",
    "plt.arrow(0,0,*st_vec[:,0]*st_val[0],length_includes_head = False,color='Red',  ec=\"k\", head_width=1, head_length=1,width=0.1);                   \n",
    "plt.arrow(0,0,*st_vec[:,1]*st_val[1],length_includes_head = False,color='Blue', ec=\"k\", head_width=1, head_length=1,width=0.1);\n",
    "\n",
    "plt.show()"
   ]
  },
  {
   "cell_type": "code",
   "execution_count": null,
   "metadata": {
    "ExecuteTime": {
     "start_time": "2018-11-14T21:25:26.381Z"
    },
    "code_folding": [
     0
    ]
   },
   "outputs": [],
   "source": [
    "# now fun with pca \n",
    "og_vec, og_val = pca_svd(data)\n",
    "\n",
    "projected_data = data @ og_vec\n",
    "pj_vec,pj_val  = pca_svd(projected_data)\n",
    "\n",
    "og_vec_recon   = og_vec * og_val\n",
    "og_vec_recon   = og_vec * og_vec_recon.std(0,keepdims=True)\n",
    "\n",
    "reconstructdata= projected_data @ og_vec_recon.T\n",
    "rc_vec,rc_val  = pca_svd(reconstructdata,mmax=0.45,mmin=0.1)\n",
    "\n",
    "plt.figure(figsize=(30,10))\n",
    "plt.subplot(131); \n",
    "plt.scatter(data[:,0],data[:,1],c=label);                       plt.title('Original')\n",
    "plt.arrow(0,0,*og_vec[:,0]*og_val[0],length_includes_head = False,color='Red',  ec=\"k\", head_width=1, head_length=1,width=0.1);                   \n",
    "plt.arrow(0,0,*og_vec[:,1]*og_val[1],length_includes_head = False,color='Blue', ec=\"k\", head_width=1, head_length=1,width=0.1);\n",
    "\n",
    "plt.subplot(132); \n",
    "plt.scatter(projected_data[:,0],projected_data[:,1],c=label); plt.title('Norm')\n",
    "plt.arrow(0,0,*pj_vec[:,0]*pj_val[0],length_includes_head = False,color='Red',  ec=\"k\", head_width=0.1, head_length=0.1,width=0.01);                   \n",
    "plt.arrow(0,0,*pj_vec[:,1]*pj_val[1],length_includes_head = False,color='Blue', ec=\"k\", head_width=0.1, head_length=0.1,width=0.01);\n",
    "\n",
    "plt.subplot(133); \n",
    "plt.scatter(reconstructdata[:,0],reconstructdata[:,1],c=label);               plt.title('STD')\n",
    "plt.arrow(0,0,*rc_vec[:,0]*rc_val[0],length_includes_head = False,color='Red',  ec=\"k\", head_width=0.1, head_length=0.1,width=0.01);                   \n",
    "plt.arrow(0,0,*rc_vec[:,1]*rc_val[1],length_includes_head = False,color='Blue', ec=\"k\", head_width=0.1, head_length=0.1,width=0.01);\n",
    "\n",
    "plt.show()"
   ]
  },
  {
   "cell_type": "markdown",
   "metadata": {},
   "source": [
    "# =========================================================================================================="
   ]
  },
  {
   "cell_type": "code",
   "execution_count": null,
   "metadata": {
    "ExecuteTime": {
     "start_time": "2018-11-14T21:25:26.390Z"
    },
    "code_folding": [
     0
    ],
    "scrolled": false
   },
   "outputs": [],
   "source": [
    "# use the 3D roll with noise\n",
    "from sklearn.datasets.samples_generator import make_swiss_roll\n",
    "import mpl_toolkits.mplot3d.axes3d as p3\n",
    "from matplotlib import cm\n",
    "%matplotlib notebook\n",
    "X, c= make_swiss_roll(n_samples, noise = 1)\n",
    "fig = plt.figure()\n",
    "ax  = p3.Axes3D(fig)\n",
    "ax.view_init(7, -80)\n",
    "ax.scatter(X[:,0], X[:,1], X[:,2],c=c,s=20, edgecolor='k',cmap=cm.coolwarm)"
   ]
  },
  {
   "cell_type": "code",
   "execution_count": null,
   "metadata": {
    "ExecuteTime": {
     "end_time": "2018-11-14T21:18:15.188824Z",
     "start_time": "2018-11-14T21:18:15.184820Z"
    }
   },
   "outputs": [],
   "source": []
  },
  {
   "cell_type": "code",
   "execution_count": null,
   "metadata": {},
   "outputs": [],
   "source": []
  },
  {
   "cell_type": "code",
   "execution_count": null,
   "metadata": {},
   "outputs": [],
   "source": []
  },
  {
   "cell_type": "code",
   "execution_count": null,
   "metadata": {},
   "outputs": [],
   "source": []
  },
  {
   "cell_type": "code",
   "execution_count": null,
   "metadata": {
    "ExecuteTime": {
     "start_time": "2018-11-14T21:25:26.398Z"
    }
   },
   "outputs": [],
   "source": [
    "IFrame('https://www.youtube.com/embed/hxGF7cPvs_c', width=700, height=350)"
   ]
  },
  {
   "cell_type": "code",
   "execution_count": null,
   "metadata": {
    "ExecuteTime": {
     "start_time": "2018-11-14T21:25:26.401Z"
    }
   },
   "outputs": [],
   "source": [
    "IFrame('https://www.youtube.com/embed/6lc6Oz0k9WA', width=700, height=350)"
   ]
  },
  {
   "cell_type": "markdown",
   "metadata": {},
   "source": [
    "# Good link for robust pca\n",
    "\n",
    "<a href=\"https://www.youtube.com/watch?v=hxGF7cPvs_c\">one</a>\n",
    "<a href=\"https://www.youtube.com/watch?v=DK8RTamIoB8\">two</a>\n",
    "<a href=\"https://www.youtube.com/watch?v=hxGF7cPvs_c\">three</a>\n",
    "<a href=\"https://www.youtube.com/watch?v=d0bCO_ECkVo\">four</a>\n",
    "<a href=\"https://www.youtube.com/watch?v=6lc6Oz0k9WA\">five</a>\n",
    "\n",
    "1. https://www.youtube.com/watch?v=6lc6Oz0k9WA\n",
    "2. https://www.youtube.com/watch?v=d0bCO_ECkVo\n",
    "3. https://www.youtube.com/watch?v=hxGF7cPvs_c\n",
    "4. https://www.youtube.com/watch?v=DK8RTamIoB8\n",
    "5. https://www.youtube.com/watch?v=hxGF7cPvs_c"
   ]
  },
  {
   "cell_type": "markdown",
   "metadata": {},
   "source": [
    "# Reference\n",
    "\n",
    "<br>\n",
    "\n",
    "\n",
    "1. tf.set_random_seed | TensorFlow. (2018). TensorFlow. Retrieved 28 October 2018, from https://www.tensorflow.org/api_docs/python/tf/set_random_seed\n",
    "2. Comparing different hierarchical linkage methods on toy datasets — scikit-learn 0.20.0 documentation. (2018). Scikit-learn.org. Retrieved 28 October 2018, from http://scikit-learn.org/stable/auto_examples/cluster/plot_linkage_comparison.html#sphx-glr-auto-examples-cluster-plot-linkage-comparison-py\n",
    "3. VanderPlas, J. (2018). Multiple Subplots | Python Data Science Handbook. Jakevdp.github.io. Retrieved 28 October 2018, from https://jakevdp.github.io/PythonDataScienceHandbook/04.08-multiple-subplots.html\n",
    "4. object, M. (2018). Matplotlib returning a plot object. Stack Overflow. Retrieved 28 October 2018, from https://stackoverflow.com/questions/43925337/matplotlib-returning-a-plot-object\n",
    "5. Plot randomly generated classification dataset — scikit-learn 0.20.0 documentation. (2018). Scikit-learn.org. Retrieved 28 October 2018, from http://scikit-learn.org/stable/auto_examples/datasets/plot_random_dataset.html#sphx-glr-auto-examples-datasets-plot-random-dataset-py\n",
    "6. 5. Dataset loading utilities — scikit-learn 0.20.0 documentation. (2018). Scikit-learn.org. Retrieved 28 October 2018, from http://scikit-learn.org/stable/datasets/index.html\n",
    "7. mplot3d tutorial — Matplotlib 2.0.2 documentation. (2018). Matplotlib.org. Retrieved 28 October 2018, from https://matplotlib.org/mpl_toolkits/mplot3d/tutorial.html\n",
    "8. matplotlib, H. (2018). How to plot vectors in python using matplotlib. Stack Overflow. Retrieved 28 October 2018, from https://stackoverflow.com/questions/42281966/how-to-plot-vectors-in-python-using-matplotlib\n",
    "9. arrow, M. (2018). Matplotlib legend for an arrow. Stack Overflow. Retrieved 28 October 2018, from https://stackoverflow.com/questions/22348229/matplotlib-legend-for-an-arrow\n",
    "10. plt colors - Google Search. (2018). Google.ca. Retrieved 28 October 2018, from https://www.google.ca/search?q=plt+colors&rlz=1C1CHBF_enCA771CA771&oq=plt+colors&aqs=chrome..69i57j0l5.1038j0j7&sourceid=chrome&ie=UTF-8\n",
    "11. Brownlee, J. (2018). A Gentle Introduction to Singular-Value Decomposition for Machine Learning. Machine Learning Mastery. Retrieved 28 October 2018, from https://machinelearningmastery.com/singular-value-decomposition-for-machine-learning/\n",
    "12. https://www.quora.com/Why-do-we-need-to-center-the-data-for-Principle-Components-Analysis\n",
    "13. ipython-notebook, i. (2018). iframe not rendering in ipython-notebook. Stack Overflow. Retrieved 14 November 2018, from https://stackoverflow.com/questions/17619964/iframe-not-rendering-in-ipython-notebook\n",
    "14. numpy.random.poisson — NumPy v1.15 Manual. (2018). Docs.scipy.org. Retrieved 14 November 2018, from https://docs.scipy.org/doc/numpy-1.15.1/reference/generated/numpy.random.poisson.html\n",
    "15. Drawing arrows in Matplotlib. (2012). Lumps 'n' Bumps. Retrieved 14 November 2018, from https://philbull.wordpress.com/2012/04/05/drawing-arrows-in-matplotlib/\n",
    "16. matplotlib.pyplot.arrow Python Example. (2018). Programcreek.com. Retrieved 14 November 2018, from https://www.programcreek.com/python/example/102342/matplotlib.pyplot.arrow\n",
    "17. Arrow Demo — Matplotlib 3.0.2 documentation. (2018). Matplotlib.org. Retrieved 14 November 2018, from https://matplotlib.org/gallery/text_labels_and_annotations/arrow_demo.html#sphx-glr-gallery-text-labels-and-annotations-arrow-demo-py\n",
    "18. 1?, H. (2018). How to normalize data between -1 and 1?. Cross Validated. Retrieved 14 November 2018, from https://stats.stackexchange.com/questions/178626/how-to-normalize-data-between-1-and-1\n",
    "19. Consistent deprecation of the hold kwarg of hlines and vlines · Issue #8421 · matplotlib/matplotlib. (2018). GitHub. Retrieved 14 November 2018, from https://github.com/matplotlib/matplotlib/issues/8421/\n",
    "20. t-SNE: The effect of various perplexity values on the shape — scikit-learn 0.20.0 documentation. (2018). Scikit-learn.org. Retrieved 14 November 2018, from https://scikit-learn.org/stable/auto_examples/manifold/plot_t_sne_perplexity.html#sphx-glr-auto-examples-manifold-plot-t-sne-perplexity-py\n",
    "21. sklearn.datasets.make_s_curve — scikit-learn 0.20.0 documentation. (2018). Scikit-learn.org. Retrieved 14 November 2018, from https://scikit-learn.org/stable/modules/generated/sklearn.datasets.make_s_curve.html#sklearn.datasets.make_s_curve\n",
    "22. Hierarchical clustering: structured vs unstructured ward — scikit-learn 0.20.0 documentation. (2018). Scikit-learn.org. Retrieved 14 November 2018, from https://scikit-learn.org/stable/auto_examples/cluster/plot_ward_structured_vs_unstructured.html#sphx-glr-auto-examples-cluster-plot-ward-structured-vs-unstructured-py\n",
    "23. 3D surface (color map) — Matplotlib 3.0.2 documentation. (2018). Matplotlib.org. Retrieved 14 November 2018, from https://matplotlib.org/gallery/mplot3d/surface3d.html\n",
    "24. Notebook, P. (2018). Python & Matplotlib: Make 3D plot interactive in Jupyter Notebook. Stack Overflow. Retrieved 14 November 2018, from https://stackoverflow.com/questions/38364435/python-matplotlib-make-3d-plot-interactive-in-jupyter-notebook\n",
    "25. Python?, H. (2018). How can I set the 'backend' in matplotlib in Python?. Stack Overflow. Retrieved 14 November 2018, from https://stackoverflow.com/questions/4930524/how-can-i-set-the-backend-in-matplotlib-in-python"
   ]
  },
  {
   "cell_type": "code",
   "execution_count": null,
   "metadata": {},
   "outputs": [],
   "source": []
  }
 ],
 "metadata": {
  "kernelspec": {
   "display_name": "Python 3",
   "language": "python",
   "name": "python3"
  },
  "language_info": {
   "codemirror_mode": {
    "name": "ipython",
    "version": 3
   },
   "file_extension": ".py",
   "mimetype": "text/x-python",
   "name": "python",
   "nbconvert_exporter": "python",
   "pygments_lexer": "ipython3",
   "version": "3.6.5"
  },
  "latex_envs": {
   "LaTeX_envs_menu_present": true,
   "autoclose": false,
   "autocomplete": true,
   "bibliofile": "biblio.bib",
   "cite_by": "apalike",
   "current_citInitial": 1,
   "eqLabelWithNumbers": true,
   "eqNumInitial": 1,
   "hotkeys": {
    "equation": "Ctrl-E",
    "itemize": "Ctrl-I"
   },
   "labels_anchors": false,
   "latex_user_defs": false,
   "report_style_numbering": false,
   "user_envs_cfg": false
  },
  "toc": {
   "base_numbering": 1,
   "nav_menu": {},
   "number_sections": true,
   "sideBar": true,
   "skip_h1_title": false,
   "title_cell": "Table of Contents",
   "title_sidebar": "Contents",
   "toc_cell": false,
   "toc_position": {},
   "toc_section_display": true,
   "toc_window_display": false
  },
  "varInspector": {
   "cols": {
    "lenName": 16,
    "lenType": 16,
    "lenVar": 40
   },
   "kernels_config": {
    "python": {
     "delete_cmd_postfix": "",
     "delete_cmd_prefix": "del ",
     "library": "var_list.py",
     "varRefreshCmd": "print(var_dic_list())"
    },
    "r": {
     "delete_cmd_postfix": ") ",
     "delete_cmd_prefix": "rm(",
     "library": "var_list.r",
     "varRefreshCmd": "cat(var_dic_list()) "
    }
   },
   "types_to_exclude": [
    "module",
    "function",
    "builtin_function_or_method",
    "instance",
    "_Feature"
   ],
   "window_display": false
  }
 },
 "nbformat": 4,
 "nbformat_minor": 2
}
