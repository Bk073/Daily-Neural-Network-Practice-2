{
 "cells": [
  {
   "cell_type": "code",
   "execution_count": 2,
   "metadata": {
    "ExecuteTime": {
     "end_time": "2018-11-30T17:58:04.853544Z",
     "start_time": "2018-11-30T17:58:04.828377Z"
    }
   },
   "outputs": [],
   "source": [
    "# import library \n",
    "import tensorflow as tf \n",
    "import numpy      as np \n",
    "import matplotlib.pyplot as plt\n",
    "\n",
    "np.random.seed(789); tf.set_random_seed(789)"
   ]
  },
  {
   "cell_type": "code",
   "execution_count": null,
   "metadata": {},
   "outputs": [],
   "source": []
  },
  {
   "cell_type": "code",
   "execution_count": null,
   "metadata": {},
   "outputs": [],
   "source": []
  },
  {
   "cell_type": "code",
   "execution_count": null,
   "metadata": {},
   "outputs": [],
   "source": []
  },
  {
   "cell_type": "code",
   "execution_count": null,
   "metadata": {},
   "outputs": [],
   "source": []
  },
  {
   "cell_type": "code",
   "execution_count": null,
   "metadata": {},
   "outputs": [],
   "source": []
  },
  {
   "cell_type": "code",
   "execution_count": null,
   "metadata": {},
   "outputs": [],
   "source": []
  },
  {
   "cell_type": "code",
   "execution_count": null,
   "metadata": {},
   "outputs": [],
   "source": []
  },
  {
   "cell_type": "code",
   "execution_count": null,
   "metadata": {},
   "outputs": [],
   "source": []
  },
  {
   "cell_type": "markdown",
   "metadata": {},
   "source": [
    "# Reference\n",
    "1. MasanoriYamada/Mine_pytorch. (2018). GitHub. Retrieved 26 November 2018, from https://github.com/MasanoriYamada/Mine_pytorch/blob/master/mine.ipynb\n",
    "2. What is information theory? What does entropy measure? Mutual information?. (2016). Charlesfrye.github.io. Retrieved 26 November 2018, from https://charlesfrye.github.io/stats/2016/03/29/info-theory-surprise-entropy.html\n",
    "3. Mutual information estimation from samples via optimization. (2018). Mlmeetsdigcomm.wordpress.com. Retrieved 26 November 2018, from https://mlmeetsdigcomm.wordpress.com/2018/01/24/mutual-information-estimation-from-samples-via-optimization/comment-page-1/#comment-11\n",
    "4. How to calculate mutual information with a NN + an application to GAN mode-dropping. (2018). Deep Learning Course Forums. Retrieved 26 November 2018, from https://forums.fast.ai/t/how-to-calculate-mutual-information-with-a-nn-an-application-to-gan-mode-dropping/14141\n",
    "5. "
   ]
  }
 ],
 "metadata": {
  "kernelspec": {
   "display_name": "Python 3",
   "language": "python",
   "name": "python3"
  },
  "language_info": {
   "codemirror_mode": {
    "name": "ipython",
    "version": 3
   },
   "file_extension": ".py",
   "mimetype": "text/x-python",
   "name": "python",
   "nbconvert_exporter": "python",
   "pygments_lexer": "ipython3",
   "version": "3.6.5"
  },
  "latex_envs": {
   "LaTeX_envs_menu_present": true,
   "autoclose": false,
   "autocomplete": true,
   "bibliofile": "biblio.bib",
   "cite_by": "apalike",
   "current_citInitial": 1,
   "eqLabelWithNumbers": true,
   "eqNumInitial": 1,
   "hotkeys": {
    "equation": "Ctrl-E",
    "itemize": "Ctrl-I"
   },
   "labels_anchors": false,
   "latex_user_defs": false,
   "report_style_numbering": false,
   "user_envs_cfg": false
  },
  "varInspector": {
   "cols": {
    "lenName": 16,
    "lenType": 16,
    "lenVar": 40
   },
   "kernels_config": {
    "python": {
     "delete_cmd_postfix": "",
     "delete_cmd_prefix": "del ",
     "library": "var_list.py",
     "varRefreshCmd": "print(var_dic_list())"
    },
    "r": {
     "delete_cmd_postfix": ") ",
     "delete_cmd_prefix": "rm(",
     "library": "var_list.r",
     "varRefreshCmd": "cat(var_dic_list()) "
    }
   },
   "types_to_exclude": [
    "module",
    "function",
    "builtin_function_or_method",
    "instance",
    "_Feature"
   ],
   "window_display": false
  }
 },
 "nbformat": 4,
 "nbformat_minor": 2
}
