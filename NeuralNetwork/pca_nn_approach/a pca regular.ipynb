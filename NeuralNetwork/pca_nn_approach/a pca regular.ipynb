{
 "cells": [
  {
   "cell_type": "code",
   "execution_count": 2,
   "metadata": {
    "code_folding": [
     0
    ],
    "collapsed": true
   },
   "outputs": [
    {
     "name": "stdout",
     "output_type": "stream",
     "text": [
      "Extracting ../../Dataset/FashionMNIST/train-images-idx3-ubyte.gz\n",
      "Extracting ../../Dataset/FashionMNIST/train-labels-idx1-ubyte.gz\n",
      "Extracting ../../Dataset/FashionMNIST/t10k-images-idx3-ubyte.gz\n",
      "Extracting ../../Dataset/FashionMNIST/t10k-labels-idx1-ubyte.gz\n"
     ]
    },
    {
     "name": "stderr",
     "output_type": "stream",
     "text": [
      "C:\\ProgramData\\Anaconda3\\lib\\site-packages\\ipykernel_launcher.py:32: DeprecationWarning: `imresize` is deprecated!\n",
      "`imresize` is deprecated in SciPy 1.0.0, and will be removed in 1.2.0.\n",
      "Use ``skimage.transform.resize`` instead.\n",
      "C:\\ProgramData\\Anaconda3\\lib\\site-packages\\ipykernel_launcher.py:32: DeprecationWarning: Both axis > a.ndim and axis < -a.ndim - 1 are deprecated and will raise an AxisError in the future.\n",
      "C:\\ProgramData\\Anaconda3\\lib\\site-packages\\ipykernel_launcher.py:34: DeprecationWarning: `imresize` is deprecated!\n",
      "`imresize` is deprecated in SciPy 1.0.0, and will be removed in 1.2.0.\n",
      "Use ``skimage.transform.resize`` instead.\n",
      "C:\\ProgramData\\Anaconda3\\lib\\site-packages\\ipykernel_launcher.py:34: DeprecationWarning: Both axis > a.ndim and axis < -a.ndim - 1 are deprecated and will raise an AxisError in the future.\n"
     ]
    },
    {
     "name": "stdout",
     "output_type": "stream",
     "text": [
      "(60000, 28, 28, 1)\n",
      "255.0\n",
      "0.0\n",
      "(60000, 10)\n",
      "1.0\n",
      "0.0\n",
      "(10000, 28, 28, 1)\n",
      "255.0\n",
      "0.0\n",
      "(10000, 10)\n",
      "1.0\n",
      "0.0\n"
     ]
    }
   ],
   "source": [
    "# import lib\n",
    "import tensorflow as tf\n",
    "import numpy as np\n",
    "import sys, os,cv2\n",
    "from sklearn.utils import shuffle\n",
    "from scipy.misc import imread,imresize\n",
    "import matplotlib.pyplot as plt\n",
    "from sklearn.preprocessing import OneHotEncoder\n",
    "from skimage.transform import resize\n",
    "from imgaug import augmenters as iaa\n",
    "import imgaug as ia\n",
    "from scipy.ndimage import zoom\n",
    "\n",
    "old_v = tf.logging.get_verbosity()\n",
    "tf.logging.set_verbosity(tf.logging.ERROR)\n",
    "from tensorflow.examples.tutorials.mnist import input_data\n",
    "\n",
    "# data\n",
    "mnist = input_data.read_data_sets('../../Dataset/FashionMNIST/', one_hot=True)\n",
    "x_data, train_label, y_data, test_label = mnist.train.images, mnist.train.labels, mnist.test.images, mnist.test.labels\n",
    "x_data_added,x_data_added_label = mnist.validation.images,mnist.validation.labels\n",
    "x_data = x_data.reshape(-1, 28, 28, 1)  # 28x28x1 input img\n",
    "y_data = y_data.reshape(-1, 28, 28, 1)  # 28x28x1 input img\n",
    "x_data_added = x_data_added.reshape(-1, 28, 28, 1) \n",
    "\n",
    "x_data = np.vstack((x_data,x_data_added))\n",
    "train_label = np.vstack((train_label,x_data_added_label))\n",
    "\n",
    "train_batch = np.zeros((60000,28,28,1))\n",
    "test_batch  = np.zeros((10000,28,28,1))\n",
    "\n",
    "for x in range(len(x_data)):\n",
    "    train_batch[x,:,:,:] = np.expand_dims(imresize(x_data[x,:,:,0],(28,28)),axis=3)\n",
    "for x in range(len(y_data)):\n",
    "    test_batch[x,:,:,:] = np.expand_dims(imresize(y_data[x,:,:,0],(28,28)),axis=3)\n",
    "\n",
    "# print out the data shape and the max and min value\n",
    "print(train_batch.shape)\n",
    "print(train_batch.max())\n",
    "print(train_batch.min())\n",
    "print(train_label.shape)\n",
    "print(train_label.max())\n",
    "print(train_label.min())\n",
    "print(test_batch.shape)\n",
    "print(test_batch.max())\n",
    "print(test_batch.min())\n",
    "print(test_label.shape)\n",
    "print(test_label.max())\n",
    "print(test_label.min())\n",
    "# -- end code --"
   ]
  },
  {
   "cell_type": "code",
   "execution_count": 9,
   "metadata": {
    "code_folding": [
     0
    ]
   },
   "outputs": [],
   "source": [
    "# normalize\n",
    "train_batch = train_batch/255.0\n",
    "test_batch  = test_batch /255.0"
   ]
  },
  {
   "cell_type": "code",
   "execution_count": 13,
   "metadata": {
    "code_folding": []
   },
   "outputs": [
    {
     "data": {
      "image/png": "[encoded data removed]",
      "text/plain": [
       "<Figure size 432x288 with 1 Axes>"
      ]
     },
     "metadata": {},
     "output_type": "display_data"
    }
   ],
   "source": [
    "# High level SK PCA\n",
    "from sklearn.decomposition import PCA\n",
    "sk_pca = PCA(2)\n",
    "sk_data_fit = sk_pca.fit_transform(train_batch.reshape((60000,-1)))\n",
    "plt.scatter(sk_data_fit[:,0],sk_data_fit[:,1])\n",
    "plt.show()"
   ]
  },
  {
   "cell_type": "code",
   "execution_count": 14,
   "metadata": {},
   "outputs": [
    {
     "data": {
      "text/plain": [
       "(60000, 10)"
      ]
     },
     "execution_count": 14,
     "metadata": {},
     "output_type": "execute_result"
    }
   ],
   "source": [
    "train_label.shape"
   ]
  },
  {
   "cell_type": "code",
   "execution_count": null,
   "metadata": {},
   "outputs": [],
   "source": []
  },
  {
   "cell_type": "code",
   "execution_count": null,
   "metadata": {},
   "outputs": [],
   "source": []
  },
  {
   "cell_type": "code",
   "execution_count": null,
   "metadata": {},
   "outputs": [],
   "source": []
  },
  {
   "cell_type": "code",
   "execution_count": null,
   "metadata": {},
   "outputs": [],
   "source": []
  },
  {
   "cell_type": "code",
   "execution_count": null,
   "metadata": {},
   "outputs": [],
   "source": []
  },
  {
   "cell_type": "code",
   "execution_count": null,
   "metadata": {},
   "outputs": [],
   "source": []
  },
  {
   "cell_type": "code",
   "execution_count": null,
   "metadata": {},
   "outputs": [],
   "source": []
  },
  {
   "cell_type": "code",
   "execution_count": null,
   "metadata": {},
   "outputs": [],
   "source": []
  },
  {
   "cell_type": "markdown",
   "metadata": {},
   "source": [
    "# Reference\n",
    "1. Implementing T-SNE in Tensorflow [ Manual Back Prop in TF ]. (2018). Towards Data Science. Retrieved 1 November 2018, from https://towardsdatascience.com/implementing-t-sne-in-tensorflow-manual-back-prop-in-tf-b08c21ee8e06\n"
   ]
  }
 ],
 "metadata": {
  "kernelspec": {
   "display_name": "Python 3",
   "language": "python",
   "name": "python3"
  },
  "language_info": {
   "codemirror_mode": {
    "name": "ipython",
    "version": 3
   },
   "file_extension": ".py",
   "mimetype": "text/x-python",
   "name": "python",
   "nbconvert_exporter": "python",
   "pygments_lexer": "ipython3",
   "version": "3.6.5"
  }
 },
 "nbformat": 4,
 "nbformat_minor": 2
}
