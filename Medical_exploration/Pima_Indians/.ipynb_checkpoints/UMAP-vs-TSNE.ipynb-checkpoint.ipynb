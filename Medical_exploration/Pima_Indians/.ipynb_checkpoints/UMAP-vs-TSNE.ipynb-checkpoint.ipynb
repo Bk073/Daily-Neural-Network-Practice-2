{
 "cells": [
  {
   "cell_type": "markdown",
   "metadata": {},
   "source": [
    "## Dimension reduction  of digits dataset via <br>Uniform Manifold Approximation and Projection embedding (UMAP) vs<br>t-distributed Stochastic Neighbor Embedding (t-SNE) ##"
   ]
  },
  {
   "cell_type": "markdown",
   "metadata": {},
   "source": [
    "In this jupyter notebook we illustrate the performance of umap over t-sne 3d embedding of digits dataset."
   ]
  },
  {
   "cell_type": "markdown",
   "metadata": {},
   "source": [
    "python 3.6.4\n",
    "\n",
    "sklearn version 0.19.1\n",
    "\n",
    "umap version 0.2.1# see https://github.com/lmcinnes/umap"
   ]
  },
  {
   "cell_type": "code",
   "execution_count": 5,
   "metadata": {},
   "outputs": [
    {
     "name": "stdout",
     "output_type": "stream",
     "text": [
      "Requirement already satisfied: umap in c:\\users\\jdseo\\anaconda3\\lib\\site-packages (0.1.1)\n"
     ]
    },
    {
     "name": "stderr",
     "output_type": "stream",
     "text": [
      "google-cloud 0.33.1 has requirement google-api-core<0.2.0dev,>=0.1.2, but you'll have google-api-core 0.1.1 which is incompatible.\n",
      "google-cloud 0.33.1 has requirement google-cloud-pubsub<0.31dev,>=0.30.0, but you'll have google-cloud-pubsub 0.35.4 which is incompatible.\n",
      "google-cloud-pubsub 0.35.4 has requirement google-api-core[grpc]<2.0.0dev,>=0.1.3, but you'll have google-api-core 0.1.1 which is incompatible.\n"
     ]
    }
   ],
   "source": [
    "!pip install umap\n",
    "import numpy as np\n",
    "import umap\n",
    "from sklearn.manifold import TSNE\n",
    "from sklearn.datasets import load_digits"
   ]
  },
  {
   "cell_type": "code",
   "execution_count": 6,
   "metadata": {},
   "outputs": [],
   "source": [
    "digits = load_digits()"
   ]
  },
  {
   "cell_type": "code",
   "execution_count": 9,
   "metadata": {},
   "outputs": [
    {
     "name": "stdout",
     "output_type": "stream",
     "text": [
      "(1797, 64)\n",
      "(1797,)\n"
     ]
    }
   ],
   "source": [
    "my_data = np.vstack([digits.data[digits.target==d] for d in range(10)])\n",
    "digit_type = np.hstack([digits.target[digits.target==d]  for d in range(10)])\n",
    "\n",
    "print(my_data.shape)\n",
    "print(digit_type.shape)"
   ]
  },
  {
   "cell_type": "code",
   "execution_count": 4,
   "metadata": {},
   "outputs": [],
   "source": [
    "digit_color=['rgba(236,223,189, 0.85)', 'rgba(184, 219, 86, 0.85)',\n",
    "             'rgba(120,192,168, 0.85)',  'rgba((255,183,50, 0.85))', \n",
    "             'rgba(219, 174, 86, 0.85)', 'rgba(86, 211, 219, 0.85)',\n",
    "             'rgba(86, 131, 219, 0.85)', 'rgba(121, 86, 219, 0.85)',\n",
    "             'rgba(200, 86, 219,0.85)', 'rgba((255,102,102, 0.7))']\n",
    "\n",
    "colors=[digit_color[d] for d in digit_type]\n",
    "tooltips=list(map(str, digit_type))"
   ]
  },
  {
   "cell_type": "code",
   "execution_count": 5,
   "metadata": {},
   "outputs": [
    {
     "data": {
      "text/html": [
       "<script>requirejs.config({paths: { 'plotly': ['https://cdn.plot.ly/plotly-latest.min']},});if(!window.Plotly) {{require(['plotly'],function(plotly) {window.Plotly=plotly;});}}</script>"
      ],
      "text/vnd.plotly.v1+html": [
       "<script>requirejs.config({paths: { 'plotly': ['https://cdn.plot.ly/plotly-latest.min']},});if(!window.Plotly) {{require(['plotly'],function(plotly) {window.Plotly=plotly;});}}</script>"
      ]
     },
     "metadata": {},
     "output_type": "display_data"
    }
   ],
   "source": [
    "from plotly.offline import download_plotlyjs, init_notebook_mode,  iplot, plot\n",
    "init_notebook_mode(connected=True)"
   ]
  },
  {
   "cell_type": "code",
   "execution_count": 6,
   "metadata": {},
   "outputs": [],
   "source": [
    "def get_trace3d(reduced_data,  cluster_colors=colors, text=tooltips):\n",
    "    \n",
    "    return dict(type='scatter3d',\n",
    "                x=reduced_data[:,0],\n",
    "                y=reduced_data[:,1],\n",
    "                z=reduced_data[:,2],\n",
    "                mode='markers',\n",
    "                marker=dict(size=6, color=cluster_colors,line=dict(width=0.5, color='rgb(100,100,100)')),\n",
    "                text=text,\n",
    "                hoverinfo='text')                    "
   ]
  },
  {
   "cell_type": "code",
   "execution_count": 7,
   "metadata": {},
   "outputs": [],
   "source": [
    "from plotly import tools"
   ]
  },
  {
   "cell_type": "code",
   "execution_count": 8,
   "metadata": {},
   "outputs": [
    {
     "name": "stdout",
     "output_type": "stream",
     "text": [
      "This is the format of your plot grid:\n",
      "[ (1,1) scene1 ]  [ (1,2) scene2 ]\n",
      "\n"
     ]
    }
   ],
   "source": [
    "fig = tools.make_subplots(specs=[[{'is_3d': True},  {'is_3d': True}]], \n",
    "                          rows=1,\n",
    "                          cols=2,\n",
    "                          print_grid=True,\n",
    "                          horizontal_spacing=-0.05,\n",
    "                         )"
   ]
  },
  {
   "cell_type": "code",
   "execution_count": 9,
   "metadata": {},
   "outputs": [],
   "source": [
    "#help(umap.UMAP)"
   ]
  },
  {
   "cell_type": "code",
   "execution_count": 11,
   "metadata": {},
   "outputs": [
    {
     "name": "stdout",
     "output_type": "stream",
     "text": [
      "Wall time: 7.83 s\n"
     ]
    }
   ],
   "source": [
    "%time dim_reduced = umap.UMAP(n_neighbors=16, n_components=3, min_dist=0.98, random_state=7654321).fit_transform(my_data)    "
   ]
  },
  {
   "cell_type": "code",
   "execution_count": 12,
   "metadata": {},
   "outputs": [
    {
     "name": "stdout",
     "output_type": "stream",
     "text": [
      "Wall time: 1min 31s\n"
     ]
    }
   ],
   "source": [
    "%time proj_3d = TSNE(n_components=3, perplexity=20, random_state=7654321).fit_transform(my_data)"
   ]
  },
  {
   "cell_type": "code",
   "execution_count": 13,
   "metadata": {},
   "outputs": [],
   "source": [
    "tsnet=get_trace3d(proj_3d,  cluster_colors=colors, text=tooltips)\n",
    "umapt=get_trace3d(dim_reduced,  cluster_colors=colors, text=tooltips)\n",
    "fig.append_trace(tsnet, 1, 1)\n",
    "fig.append_trace(umapt, 1, 2)"
   ]
  },
  {
   "cell_type": "code",
   "execution_count": 16,
   "metadata": {},
   "outputs": [],
   "source": [
    "axis3d = dict(showbackground=True,\n",
    "              backgroundcolor=\"rgb(235, 235, 235)\",\n",
    "              gridcolor=\"rgb(255, 255, 255)\",\n",
    "              zerolinecolor=\"rgb(255, 255, 255)\",\n",
    "            )"
   ]
  },
  {
   "cell_type": "code",
   "execution_count": 17,
   "metadata": {},
   "outputs": [],
   "source": [
    "for k in [1,2]:\n",
    "    fig['layout']['scene{}'.format(k)].update(camera=dict(eye=dict(x=1.6, y=1.2, z=0.9)),\n",
    "                                       xaxis=axis3d,\n",
    "                                       yaxis=axis3d, \n",
    "                                       zaxis=axis3d,\n",
    "                                       aspectratio=dict(x=1., y=1., z=0.9))"
   ]
  },
  {
   "cell_type": "code",
   "execution_count": 18,
   "metadata": {},
   "outputs": [],
   "source": [
    "title='3d Embedding of digits dataset via t-sne (left) and  umap (right)'\n",
    "\n",
    "fig['layout'].update(title=title,\n",
    "                     showlegend=False, \n",
    "                     width=1000,\n",
    "                     height=550,\n",
    "                     autosize=False)\n",
    "#offline plot\n",
    "#iplot(fig) "
   ]
  },
  {
   "cell_type": "code",
   "execution_count": 19,
   "metadata": {},
   "outputs": [
    {
     "data": {
      "text/html": [
       "<iframe id=\"igraph\" scrolling=\"no\" style=\"border:none;\" seamless=\"seamless\" src=\"https://plot.ly/~empet/14814.embed\" height=\"550px\" width=\"1000px\"></iframe>"
      ],
      "text/plain": [
       "<plotly.tools.PlotlyDisplay object>"
      ]
     },
     "execution_count": 19,
     "metadata": {},
     "output_type": "execute_result"
    }
   ],
   "source": [
    "#online plot\n",
    "import plotly.plotly as py\n",
    "py.sign_in('empet', 'api_key')\n",
    "py.iplot(fig, filename='umap-vs-tsne')"
   ]
  },
  {
   "cell_type": "code",
   "execution_count": null,
   "metadata": {},
   "outputs": [],
   "source": []
  }
 ],
 "metadata": {
  "kernel_info": {
   "name": "python3"
  },
  "kernelspec": {
   "display_name": "Python 3",
   "language": "python",
   "name": "python3"
  },
  "language_info": {
   "codemirror_mode": {
    "name": "ipython",
    "version": 3
   },
   "file_extension": ".py",
   "mimetype": "text/x-python",
   "name": "python",
   "nbconvert_exporter": "python",
   "pygments_lexer": "ipython3",
   "version": "3.6.5"
  }
 },
 "nbformat": 4,
 "nbformat_minor": 1
}
