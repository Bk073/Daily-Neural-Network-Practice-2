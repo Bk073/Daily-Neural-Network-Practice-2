{
 "cells": [
  {
   "cell_type": "code",
   "execution_count": 5,
   "metadata": {
    "ExecuteTime": {
     "end_time": "2018-11-13T07:49:39.803018Z",
     "start_time": "2018-11-13T07:49:39.626252Z"
    }
   },
   "outputs": [],
   "source": [
    "import numpy as np\n",
    "import matplotlib.pyplot as plt\n",
    "np.random.seed(567)"
   ]
  },
  {
   "cell_type": "code",
   "execution_count": 6,
   "metadata": {
    "ExecuteTime": {
     "end_time": "2018-11-13T07:49:39.841317Z",
     "start_time": "2018-11-13T07:49:39.838314Z"
    }
   },
   "outputs": [],
   "source": [
    "data = np.random.randn(100) * 20. + 30"
   ]
  },
  {
   "cell_type": "code",
   "execution_count": 10,
   "metadata": {
    "ExecuteTime": {
     "end_time": "2018-11-13T07:50:02.991948Z",
     "start_time": "2018-11-13T07:50:02.907177Z"
    }
   },
   "outputs": [
    {
     "data": {
      "image/png": "[encoded data removed]",
      "text/plain": [
       "<Figure size 432x288 with 1 Axes>"
      ]
     },
     "metadata": {},
     "output_type": "display_data"
    }
   ],
   "source": [
    "plt.scatter(data,np.zeros(len(data)));\n",
    "plt.show()"
   ]
  },
  {
   "cell_type": "code",
   "execution_count": 21,
   "metadata": {
    "ExecuteTime": {
     "end_time": "2018-11-13T07:54:37.284352Z",
     "start_time": "2018-11-13T07:54:37.272367Z"
    }
   },
   "outputs": [
    {
     "name": "stdout",
     "output_type": "stream",
     "text": [
      "[-4.03460511e+01  1.75762540e+01  1.56500965e+00 -2.71926848e+01\n",
      "  3.17147984e+01  6.63348228e+01 -1.08608315e+01 -7.03109345e+01\n",
      "  1.72506267e+01  7.07447269e+00 -3.21586783e+01  3.25050576e+01\n",
      "  7.70878027e-01  2.58508618e-01 -9.33311221e+00  3.27888740e+01\n",
      " -5.32595653e+00 -5.59126919e+01 -2.74061097e+01  4.45104611e+00\n",
      " -2.98544815e+00 -2.30298378e+00  1.73574712e+00 -5.93646097e+00\n",
      "  2.57006345e+00  6.26763521e+01 -1.14055904e+01 -7.94677698e-01\n",
      " -3.40893417e+01 -2.52434076e-02 -1.01227144e+01  1.50571895e+01\n",
      " -2.10179332e+01  1.49053742e+01 -1.29882933e+01  2.57494670e+01\n",
      " -3.25630598e+01  2.82601773e+00 -2.54754385e+01 -8.21391412e+00\n",
      " -3.26006632e+01  1.50531366e+01 -2.08884632e+00 -3.85833946e+01\n",
      " -1.54578733e+00 -2.73642433e+01  1.28857731e+02  2.87813949e-02\n",
      " -3.10350832e+00  2.75328117e+01 -3.39438634e+01  8.09214929e+00\n",
      " -9.31331501e+00 -5.02159734e+01  4.88560478e+00 -2.28456205e+00\n",
      "  1.15296017e+01  3.57170240e+01  2.07873332e+01  9.47741503e+01\n",
      "  2.32331341e+01  4.62740599e+01 -5.34309494e+01 -7.25430068e+00\n",
      "  3.42018605e+00  3.25678483e+01 -1.64871898e+01 -3.64302942e+00\n",
      " -2.16554654e+01 -1.56024112e+01  2.65710701e-01  3.71737517e+00\n",
      "  1.45215339e+01  2.54546439e+01  1.88966324e+01 -2.27017160e+01\n",
      "  4.02079720e+01 -2.90065802e+00  8.31657916e+01 -1.82200996e+01\n",
      " -7.28696601e+00 -1.51046299e+01 -4.18615966e+00  9.51799165e-01\n",
      "  9.38491120e+00 -1.63214355e+01 -8.86330884e+00  1.72063722e+01\n",
      " -1.22704436e+01 -3.48384782e+01  1.51807435e+01 -1.66273034e+01\n",
      " -7.14751658e+00  2.45703260e+01 -1.24598803e+01  1.16808982e+00\n",
      " -2.24707331e+00  4.16280964e+01 -2.13958924e+00 -9.31139348e+00]\n"
     ]
    },
    {
     "ename": "NameError",
     "evalue": "name 'sys' is not defined",
     "output_type": "error",
     "traceback": [
      "\u001b[1;31m---------------------------------------------------------------------------\u001b[0m",
      "\u001b[1;31mNameError\u001b[0m                                 Traceback (most recent call last)",
      "\u001b[1;32m<ipython-input-21-c2ddd1a0236d>\u001b[0m in \u001b[0;36m<module>\u001b[1;34m()\u001b[0m\n\u001b[0;32m      8\u001b[0m     \u001b[0mlist_of_like\u001b[0m\u001b[1;33m.\u001b[0m\u001b[0mappend\u001b[0m\u001b[1;33m(\u001b[0m \u001b[0mnp\u001b[0m\u001b[1;33m.\u001b[0m\u001b[0mprod\u001b[0m\u001b[1;33m(\u001b[0m\u001b[0mcurrent_data\u001b[0m \u001b[1;33m*\u001b[0m \u001b[0mdata\u001b[0m \u001b[1;33m)\u001b[0m \u001b[1;33m)\u001b[0m\u001b[1;33m\u001b[0m\u001b[0m\n\u001b[0;32m      9\u001b[0m     \u001b[0mprint\u001b[0m\u001b[1;33m(\u001b[0m\u001b[0mcurrent_data\u001b[0m \u001b[1;33m*\u001b[0m \u001b[0mdata\u001b[0m  \u001b[1;33m)\u001b[0m\u001b[1;33m\u001b[0m\u001b[0m\n\u001b[1;32m---> 10\u001b[1;33m     \u001b[0msys\u001b[0m\u001b[1;33m.\u001b[0m\u001b[0mexit\u001b[0m\u001b[1;33m(\u001b[0m\u001b[1;33m)\u001b[0m\u001b[1;33m\u001b[0m\u001b[0m\n\u001b[0m",
      "\u001b[1;31mNameError\u001b[0m: name 'sys' is not defined"
     ]
    }
   ],
   "source": [
    "list_of_like = []\n",
    "list_of_mean = []\n",
    "\n",
    "for current_mean in range(100):\n",
    "    current_data = np.random.randn(100) + current_mean\n",
    "    \n",
    "    list_of_mean.append(current_mean)\n",
    "    temp = current_data * data \n",
    "    list_of_like.append( np.prod(current_data * data ) )\n",
    "    print(current_data * data  )\n",
    "    sys.exit()"
   ]
  },
  {
   "cell_type": "code",
   "execution_count": 15,
   "metadata": {
    "ExecuteTime": {
     "end_time": "2018-11-13T07:53:35.103333Z",
     "start_time": "2018-11-13T07:53:35.012584Z"
    }
   },
   "outputs": [
    {
     "name": "stderr",
     "output_type": "stream",
     "text": [
      "C:\\ProgramData\\Anaconda3\\lib\\site-packages\\matplotlib\\ticker.py:1919: RuntimeWarning: overflow encountered in multiply\n",
      "  steps = self._extended_steps * scale\n"
     ]
    },
    {
     "data": {
      "image/png": "[encoded data removed]",
      "text/plain": [
       "<Figure size 432x288 with 1 Axes>"
      ]
     },
     "metadata": {},
     "output_type": "display_data"
    }
   ],
   "source": [
    "plt.plot(list_of_mean,list_of_like)\n",
    "plt.show()"
   ]
  },
  {
   "cell_type": "code",
   "execution_count": null,
   "metadata": {},
   "outputs": [],
   "source": []
  },
  {
   "cell_type": "code",
   "execution_count": null,
   "metadata": {},
   "outputs": [],
   "source": []
  },
  {
   "cell_type": "code",
   "execution_count": null,
   "metadata": {},
   "outputs": [],
   "source": []
  }
 ],
 "metadata": {
  "kernelspec": {
   "display_name": "Python 3",
   "language": "python",
   "name": "python3"
  },
  "language_info": {
   "codemirror_mode": {
    "name": "ipython",
    "version": 3
   },
   "file_extension": ".py",
   "mimetype": "text/x-python",
   "name": "python",
   "nbconvert_exporter": "python",
   "pygments_lexer": "ipython3",
   "version": "3.6.5"
  },
  "latex_envs": {
   "LaTeX_envs_menu_present": true,
   "autoclose": false,
   "autocomplete": true,
   "bibliofile": "biblio.bib",
   "cite_by": "apalike",
   "current_citInitial": 1,
   "eqLabelWithNumbers": true,
   "eqNumInitial": 1,
   "hotkeys": {
    "equation": "Ctrl-E",
    "itemize": "Ctrl-I"
   },
   "labels_anchors": false,
   "latex_user_defs": false,
   "report_style_numbering": false,
   "user_envs_cfg": false
  },
  "varInspector": {
   "cols": {
    "lenName": 16,
    "lenType": 16,
    "lenVar": 40
   },
   "kernels_config": {
    "python": {
     "delete_cmd_postfix": "",
     "delete_cmd_prefix": "del ",
     "library": "var_list.py",
     "varRefreshCmd": "print(var_dic_list())"
    },
    "r": {
     "delete_cmd_postfix": ") ",
     "delete_cmd_prefix": "rm(",
     "library": "var_list.r",
     "varRefreshCmd": "cat(var_dic_list()) "
    }
   },
   "types_to_exclude": [
    "module",
    "function",
    "builtin_function_or_method",
    "instance",
    "_Feature"
   ],
   "window_display": false
  }
 },
 "nbformat": 4,
 "nbformat_minor": 2
}
