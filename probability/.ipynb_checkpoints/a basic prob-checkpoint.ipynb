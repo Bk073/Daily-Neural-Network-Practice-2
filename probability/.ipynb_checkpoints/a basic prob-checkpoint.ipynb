{
 "cells": [
  {
   "cell_type": "code",
   "execution_count": 53,
   "metadata": {
    "code_folding": [
     0
    ]
   },
   "outputs": [],
   "source": [
    "# import lib\n",
    "import numpy as np\n",
    "import matplotlib.pyplot as plt\n",
    "import numpy as np\n",
    "from scipy import stats\n",
    "np.random.seed(3231)  # for repeatability\n",
    "plt.style.use('seaborn')"
   ]
  },
  {
   "cell_type": "code",
   "execution_count": 88,
   "metadata": {
    "code_folding": []
   },
   "outputs": [],
   "source": [
    "# generate random data from\n",
    "F_true = 100  # true flux, say number of photons measured in 1 second\n",
    "N = 1000000 # number of measurements\n",
    "F = stats.poisson(F_true).rvs(N)  # N measurements of the flux\n",
    "e = np.sqrt(F)  # errors on Poisson counts estimated via square root\n",
    "F_sorted = F.copy()\n",
    "F_sorted.sort()\n",
    "\n",
    "# plt.figure(figsize=(30,10))\n",
    "# plt.subplot(131)\n",
    "# plt.errorbar(F, np.arange(N), xerr=e, fmt='ok', ecolor='gray', alpha=0.5)\n",
    "# plt.vlines([F_true], 0, N, linewidth=5, alpha=0.2); plt.xlabel(\"Flux\");plt.ylabel(\"measurement number\");\n",
    "\n",
    "# plt.subplot(132); plt.hist(F); \n",
    "# plt.subplot(133); \n",
    "# plt.plot(F_sorted)\n",
    "# plt.xlabel('value of flux increasing'); plt.ylabel('sorted index')\n",
    "# plt.show()"
   ]
  },
  {
   "cell_type": "markdown",
   "metadata": {},
   "source": [
    "# The problem above can be stated like this - true flux is 10 however we are getting some other values such as 16 are included as well. Now this is a problem since we want to measure the ground true flux - and lets think about this in the context of machine learning we have some sort of weights that we want to find - that is\n",
    "\n",
    "# ** The Optimal weigths ** for the network the gradients them selves are noisey they are the distribution - how can we even measure that this is the correct method of getting the weights? "
   ]
  },
  {
   "cell_type": "code",
   "execution_count": 89,
   "metadata": {},
   "outputs": [
    {
     "name": "stdout",
     "output_type": "stream",
     "text": [
      "True Flux:  100\n",
      "Estimated value:  99.00575128923505\n",
      "Estimated error range  +/- :  0.009950163380027237\n"
     ]
    }
   ],
   "source": [
    "# now using the Frequentist point of view we are going to estimate the true value of FLUX\n",
    "w              = 1. / e ** 2\n",
    "estimated_flux = (w * F).sum() / w.sum()\n",
    "estimated_error= w.sum() ** -0.5\n",
    "print('True Flux: ',F_true)\n",
    "print('Estimated value: ',estimated_flux)\n",
    "print('Estimated error range  +/- : ',estimated_error)"
   ]
  },
  {
   "cell_type": "markdown",
   "metadata": {},
   "source": [
    "## Below is the results of using number of experiments as 1000000 with flux of 100\n",
    "## Good estimate but really need alot of samples\n",
    "<img src=\"https://i.imgur.com/2kEIqfG.png\"> "
   ]
  },
  {
   "cell_type": "code",
   "execution_count": null,
   "metadata": {},
   "outputs": [],
   "source": []
  },
  {
   "cell_type": "code",
   "execution_count": null,
   "metadata": {},
   "outputs": [],
   "source": []
  },
  {
   "cell_type": "code",
   "execution_count": null,
   "metadata": {},
   "outputs": [],
   "source": []
  },
  {
   "cell_type": "markdown",
   "metadata": {},
   "source": [
    "# Reference \n",
    "1. VanderPlas, J. (2018). Frequentism and Bayesianism: A Practical Introduction | Pythonic Perambulations. Jakevdp.github.io. Retrieved 13 November 2018, from http://jakevdp.github.io/blog/2014/03/11/frequentism-and-bayesianism-a-practical-intro/\n",
    "2. Customizing plots with style sheets — Matplotlib 1.5.3 documentation. (2018). Matplotlib.org. Retrieved 13 November 2018, from https://matplotlib.org/users/style_sheets.html\n",
    "3. &#39;xlable&#39;, A. (2018). AttributeError: module 'matplotlib.pyplot' has no attribute 'xlable'. Stack Overflow. Retrieved 13 November 2018, from https://stackoverflow.com/questions/44381036/attributeerror-module-matplotlib-pyplot-has-no-attribute-xlable\n",
    "4. seed?, s. (2018). scipy.stats seed?. Stack Overflow. Retrieved 13 November 2018, from https://stackoverflow.com/questions/16016959/scipy-stats-seed"
   ]
  }
 ],
 "metadata": {
  "kernelspec": {
   "display_name": "Python 3",
   "language": "python",
   "name": "python3"
  },
  "language_info": {
   "codemirror_mode": {
    "name": "ipython",
    "version": 3
   },
   "file_extension": ".py",
   "mimetype": "text/x-python",
   "name": "python",
   "nbconvert_exporter": "python",
   "pygments_lexer": "ipython3",
   "version": "3.6.5"
  }
 },
 "nbformat": 4,
 "nbformat_minor": 2
}
