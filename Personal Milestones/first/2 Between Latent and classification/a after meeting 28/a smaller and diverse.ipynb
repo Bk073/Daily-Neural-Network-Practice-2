{
 "cells": [
  {
   "cell_type": "code",
   "execution_count": 1,
   "metadata": {
    "ExecuteTime": {
     "end_time": "2019-03-01T19:46:00.678724Z",
     "start_time": "2019-03-01T19:45:56.827223Z"
    },
    "code_folding": [
     0,
     39,
     99
    ]
   },
   "outputs": [
    {
     "data": {
      "application/javascript": [
       "if (!(\"Notification\" in window)) {\n",
       "    alert(\"This browser does not support desktop notifications, so the %%notify magic will not work.\");\n",
       "} else if (Notification.permission !== 'granted' && Notification.permission !== 'denied') {\n",
       "    Notification.requestPermission(function (permission) {\n",
       "        if(!('permission' in Notification)) {\n",
       "            Notification.permission = permission;\n",
       "        }\n",
       "    })\n",
       "}\n"
      ],
      "text/plain": [
       "<IPython.core.display.Javascript object>"
      ]
     },
     "metadata": {},
     "output_type": "display_data"
    }
   ],
   "source": [
    "# import Library and some random image data set\n",
    "import tensorflow as tf\n",
    "import numpy      as np\n",
    "import seaborn    as sns \n",
    "import pandas     as pd\n",
    "import os,sys\n",
    "import matplotlib.pyplot as plt\n",
    "import matplotlib.gridspec as gridspec\n",
    "np.random.seed(78); tf.set_random_seed(78)\n",
    "\n",
    "# get some of the STL data set\n",
    "from sklearn.preprocessing import OneHotEncoder\n",
    "from sklearn.utils import shuffle\n",
    "from skimage import util \n",
    "from skimage.transform import resize\n",
    "from scipy.misc import imresize\n",
    "from skimage.io import imread\n",
    "import warnings\n",
    "from numpy import inf\n",
    "\n",
    "from scipy.stats import kurtosis,skew\n",
    "\n",
    "plt.rcParams.update({'font.size': 10})\n",
    "import warnings\n",
    "warnings.filterwarnings(\"ignore\")\n",
    "import gc\n",
    "from IPython.display import display, clear_output\n",
    "from mpl_toolkits.mplot3d import Axes3D\n",
    "from matplotlib import cm\n",
    "from mpl_toolkits.mplot3d import axes3d\n",
    "from matplotlib import animation\n",
    "%load_ext jupyternotify\n",
    "\n",
    "from scipy.stats import chi2_contingency\n",
    "from sklearn.metrics import mutual_info_score\n",
    "from skimage.filters import roberts, sobel, scharr, prewitt\n",
    "from skimage import feature\n",
    "from scipy import stats\n",
    "# Def: Read STL 10 images\n",
    "def read_STL10_data():\n",
    "    # read all of the data (STL 10) https://github.com/mttk/STL10\n",
    "    def read_all_images(path_to_data):\n",
    "        \"\"\"\n",
    "        :param path_to_data: the file containing the binary images from the STL-10 dataset\n",
    "        :return: an array containing all the images\n",
    "        \"\"\"\n",
    "\n",
    "        with open(path_to_data, 'rb') as f:\n",
    "            # read whole file in uint8 chunks\n",
    "            everything = np.fromfile(f, dtype=np.uint8)\n",
    "\n",
    "            # We force the data into 3x96x96 chunks, since the\n",
    "            # images are stored in \"column-major order\", meaning\n",
    "            # that \"the first 96*96 values are the red channel,\n",
    "            # the next 96*96 are green, and the last are blue.\"\n",
    "            # The -1 is since the size of the pictures depends\n",
    "            # on the input file, and this way numpy determines\n",
    "            # the size on its own.\n",
    "\n",
    "            images = np.reshape(everything, (-1, 3, 96, 96))\n",
    "\n",
    "            # Now transpose the images into a standard image format\n",
    "            # readable by, for example, matplotlib.imshow\n",
    "            # You might want to comment this line or reverse the shuffle\n",
    "            # if you will use a learning algorithm like CNN, since they like\n",
    "            # their channels separated.\n",
    "            images = np.transpose(images, (0, 3, 2, 1))\n",
    "            return images\n",
    "    def read_labels(path_to_labels):\n",
    "        \"\"\"\n",
    "        :param path_to_labels: path to the binary file containing labels from the STL-10 dataset\n",
    "        :return: an array containing the labels\n",
    "        \"\"\"\n",
    "        with open(path_to_labels, 'rb') as f:\n",
    "            labels = np.fromfile(f, dtype=np.uint8)\n",
    "            return labels\n",
    "    def show_images(data,row=1,col=1):\n",
    "        fig=plt.figure(figsize=(10,10))\n",
    "        columns = col; rows = row\n",
    "        for i in range(1, columns*rows +1):\n",
    "            fig.add_subplot(rows, columns, i)\n",
    "            plt.imshow(data[i-1])\n",
    "        plt.show()\n",
    "\n",
    "    train_images = read_all_images(\"../../../../DataSet/STL10/stl10_binary/train_X.bin\") / 255.0\n",
    "    train_labels = read_labels    (\"../../../../DataSet/STL10/stl10_binary/train_Y.bin\")\n",
    "    test_images  = read_all_images(\"../../../../DataSet/STL10/stl10_binary/test_X.bin\")  / 255.0\n",
    "    test_labels  = read_labels    (\"../../../../DataSet/STL10/stl10_binary/test_y.bin\")\n",
    "\n",
    "    label_encoder= OneHotEncoder(sparse=False,categories='auto')\n",
    "    train_labels = label_encoder.fit_transform(train_labels.reshape((-1,1)))\n",
    "    test_labels  = label_encoder.fit_transform(test_labels.reshape((-1,1)))\n",
    "\n",
    "    print(train_images.shape,train_images.max(),train_images.min())\n",
    "    print(train_labels.shape,train_labels.max(),train_labels.min())\n",
    "    print(test_images.shape,test_images.max(),test_images.min())\n",
    "    print(test_labels.shape,test_labels.max(),test_labels.min())\n",
    "    return train_images,train_labels,test_images,test_labels\n",
    "# Def: Read CIFAR 10 images\n",
    "def read_CIFAR10_data():\n",
    "    # ====== miscellaneous =====\n",
    "    # code from: https://github.com/tensorflow/tensorflow/issues/8246\n",
    "    def tf_repeat(tensor, repeats):\n",
    "        \"\"\"\n",
    "        Args:\n",
    "\n",
    "        input: A Tensor. 1-D or higher.\n",
    "        repeats: A list. Number of repeat for each dimension, length must be the same as the number of dimensions in input\n",
    "\n",
    "        Returns:\n",
    "\n",
    "        A Tensor. Has the same type as input. Has the shape of tensor.shape * repeats\n",
    "        \"\"\"\n",
    "        expanded_tensor = tf.expand_dims(tensor, -1)\n",
    "        multiples = [1] + repeats\n",
    "        tiled_tensor = tf.tile(expanded_tensor, multiples = multiples)\n",
    "        repeated_tesnor = tf.reshape(tiled_tensor, tf.shape(tensor) * repeats)\n",
    "        return repeated_tesnor\n",
    "    def unpickle(file):\n",
    "        import pickle\n",
    "        with open(file, 'rb') as fo:\n",
    "            dict = pickle.load(fo, encoding='bytes')\n",
    "        return dict\n",
    "    # ====== miscellaneous =====\n",
    "\n",
    "    # data\n",
    "    PathDicom = \"../../Dataset/cifar-10-batches-py/\"\n",
    "    lstFilesDCM = []  # create an empty list\n",
    "    for dirName, subdirList, fileList in os.walk(PathDicom):\n",
    "        for filename in fileList:\n",
    "            if not \".html\" in filename.lower() and not  \".meta\" in filename.lower():  # check whether the file's DICOM\n",
    "                lstFilesDCM.append(os.path.join(dirName,filename))\n",
    "\n",
    "    # Read the data traind and Test\n",
    "    batch0 = unpickle(lstFilesDCM[0])\n",
    "    batch1 = unpickle(lstFilesDCM[1])\n",
    "    batch2 = unpickle(lstFilesDCM[2])\n",
    "    batch3 = unpickle(lstFilesDCM[3])\n",
    "    batch4 = unpickle(lstFilesDCM[4])\n",
    "\n",
    "    onehot_encoder = OneHotEncoder(sparse=True)\n",
    "    train_batch = np.vstack((batch0[b'data'],batch1[b'data'],batch2[b'data'],batch3[b'data'],batch4[b'data']))\n",
    "    train_label = np.expand_dims(np.hstack((batch0[b'labels'],batch1[b'labels'],batch2[b'labels'],batch3[b'labels'],batch4[b'labels'])).T,axis=1).astype(np.float64)\n",
    "    train_label = onehot_encoder.fit_transform(train_label).toarray().astype(np.float64)\n",
    "\n",
    "    test_batch = unpickle(lstFilesDCM[5])[b'data']\n",
    "    test_label = np.expand_dims(np.array(unpickle(lstFilesDCM[5])[b'labels']),axis=0).T.astype(np.float64)\n",
    "    test_label = onehot_encoder.fit_transform(test_label).toarray().astype(np.float64)\n",
    "\n",
    "    # reshape data\n",
    "    train_batch = np.reshape(train_batch,(len(train_batch),3,32,32)); test_batch = np.reshape(test_batch,(len(test_batch),3,32,32))\n",
    "    # rotate data\n",
    "    train_batch = np.rot90(np.rot90(train_batch,1,axes=(1,3)),3,axes=(1,2)).astype(np.float64); test_batch = np.rot90(np.rot90(test_batch,1,axes=(1,3)),3,axes=(1,2)).astype(np.float64)\n",
    "    # normalize\n",
    "    train_batch= train_batch/255.0; test_batch = test_batch/255.0\n",
    "\n",
    "    # print out the data shape and the max and min value\n",
    "    print(train_batch.shape,train_batch.max(),train_batch.min())\n",
    "    print(train_label.shape,train_label.max(),train_label.min())\n",
    "    print(test_batch.shape,test_batch.max(),test_batch.min())\n",
    "    print(test_label.shape,test_label.max(),test_label.min())\n",
    "    return train_batch,train_label,test_batch,test_label"
   ]
  },
  {
   "cell_type": "code",
   "execution_count": 51,
   "metadata": {
    "ExecuteTime": {
     "end_time": "2019-03-01T20:20:40.248083Z",
     "start_time": "2019-03-01T20:20:40.228101Z"
    },
    "code_folding": [
     62,
     66
    ]
   },
   "outputs": [],
   "source": [
    "# create the layers\n",
    "def tf_softmax(x):    return tf.nn.softmax(x)\n",
    "def tf_elu(x):       return tf.nn.elu(x)\n",
    "def tf_relu(x):       return tf.nn.relu(x)\n",
    "def tf_iden(x):       return x\n",
    "def tf_sigmoid(x):    return tf.nn.sigmoid(x)\n",
    "def tf_tanh(x):    return tf.nn.tanh(x)\n",
    "def tf_atan(x): return tf.atan(x)\n",
    "def tf_softplus(x):   return tf.nn.softplus(x)\n",
    "\n",
    "class CNN():\n",
    "\n",
    "    def __init__(self,k,inc,out, stddev=0.05,act=tf_elu):\n",
    "        self.w              = tf.Variable(tf.random_normal([k,k,inc,out],stddev=stddev,seed=2,dtype=tf.float32))\n",
    "        self.act = act\n",
    "\n",
    "    def getw(self): return self.w\n",
    "    \n",
    "    # Feed Forward for two variables\n",
    "    def feedforward(self,input,stride=1,padding='VALID'):\n",
    "        self.input1  = input\n",
    "        self.layer1  = tf.nn.conv2d(self.input1,self.w,strides=[1,stride,stride,1],padding=padding) \n",
    "        self.layerA1 = self.act(self.layer1)\n",
    "        return self.layer1, self.layerA1\n",
    "    def feedforward2(self,input,stride=1,padding='VALID'):\n",
    "        self.input2  = input\n",
    "        self.layer2  = tf.nn.conv2d(self.input2,self.w,strides=[1,stride,stride,1],padding=padding) \n",
    "        self.layerA2 = self.act(self.layer2)\n",
    "        return self.layer2, self.layerA2\n",
    "class tf_instance_norm_layer():\n",
    "    \n",
    "    def __init__(self,batch_size,vector_shape):\n",
    "        self.moving_mean = tf.Variable(tf.zeros(shape=[batch_size,1,1,vector_shape],dtype=tf.float64))\n",
    "        self.moving_vari = tf.Variable(tf.zeros(shape=[batch_size,1,1,vector_shape],dtype=tf.float64))\n",
    "        self.axis        = (1,2)\n",
    "        \n",
    "    def feedforward(self,input,training_phase=True,eps = 1e-8):\n",
    "        self.input = input\n",
    "        self.input_size          = self.input.shape\n",
    "        self.batch,self.h,self.w,self.c = self.input_size[0].value,self.input_size[1].value,self.input_size[2].value,self.input_size[3].value\n",
    "\n",
    "        # Training Moving Average Mean         \n",
    "        def training_fn():\n",
    "            self.mean    = tf.reduce_mean(self.input,axis=self.axis ,keepdims=True)\n",
    "            self.var     = tf.reduce_mean(tf.square(self.input-self.mean),axis=self.axis,keepdims=True)\n",
    "            centered_data= (self.input - self.mean)/tf.sqrt(self.var + eps)\n",
    "            \n",
    "            update_variable = []\n",
    "            update_variable.append(tf.assign(self.moving_mean,self.moving_mean*0.9 + 0.1 * self.mean ))\n",
    "            update_variable.append(tf.assign(self.moving_vari,self.moving_vari*0.9 + 0.1 * self.var  ))\n",
    "            return centered_data,update_variable\n",
    "        \n",
    "        # Testing Moving Average Mean        \n",
    "        def  testing_fn():\n",
    "            centered_data   = (self.input - self.moving_mean)/tf.sqrt(self.moving_vari + eps)\n",
    "            update_variable = []\n",
    "            update_variable.append(tf.assign(self.moving_mean,self.moving_mean))\n",
    "            update_variable.append(tf.assign(self.moving_vari,self.moving_vari))\n",
    "            return centered_data,update_variable\n",
    "        \n",
    "        self.output,update_variable = tf.cond(training_phase,true_fn=training_fn,false_fn=testing_fn)\n",
    "        return self.output,update_variable\n",
    "def calc_MI(x, y, bins=(90*90)/4):\n",
    "    c_xy = np.histogram2d(x, y, bins)[0]\n",
    "    mi = mutual_info_score(None, None, contingency=c_xy)\n",
    "    return mi\n",
    "def softmax_multi(target, axis=(1,2), name=None):\n",
    "    max_axis   = tf.reduce_max(target, axis, keepdims=True)\n",
    "    target_exp = tf.exp(target-max_axis)\n",
    "    normalize  = tf.reduce_sum(target_exp, axis, keepdims=True)\n",
    "    softmax    = target_exp / normalize\n",
    "    return softmax"
   ]
  },
  {
   "cell_type": "code",
   "execution_count": 12,
   "metadata": {
    "ExecuteTime": {
     "end_time": "2019-03-01T19:53:49.825498Z",
     "start_time": "2019-03-01T19:53:46.897621Z"
    }
   },
   "outputs": [
    {
     "name": "stdout",
     "output_type": "stream",
     "text": [
      "(5000, 96, 96, 3) 1.0 0.0\n",
      "(5000, 10) 1.0 0.0\n",
      "(8000, 96, 96, 3) 1.0 0.0\n",
      "(8000, 10) 1.0 0.0\n"
     ]
    }
   ],
   "source": [
    "# read the data\n",
    "train_images,train_labels,test_images,test_labels = read_STL10_data()\n",
    "train_images = train_images.mean(3,keepdims=True)\n",
    "train_images = (train_images-train_images.min((0,1,2),keepdims=True))/(train_images.max((0,1,2),keepdims=True)-train_images.min((0,1,2),keepdims=True)+1e-8)\n",
    "# 1. sym padding \n",
    "# 2. sug metn sim -> not a good idea (sparse filtering - population sparsity -)\n",
    "# 3. sales pitch - data aug (latent space) (paper - how is different from x)\n",
    "# 4. baseline - other approaches - \n",
    "# 5. show negative images \n",
    "# 6. sparse filtering\n",
    "# 7. classifier - mmke it a dense"
   ]
  },
  {
   "cell_type": "code",
   "execution_count": 13,
   "metadata": {
    "ExecuteTime": {
     "end_time": "2019-03-01T19:53:50.048902Z",
     "start_time": "2019-03-01T19:53:50.044912Z"
    }
   },
   "outputs": [],
   "source": [
    "# hyeper\n",
    "num_eps   = 1; num_epoch = 10; learning_rate = 0.0001; batch_size = 20;  alpha = 0.5\n",
    "beta1,beta2,adam_e  = 0.9,0.999,1e-8; "
   ]
  },
  {
   "cell_type": "code",
   "execution_count": 161,
   "metadata": {
    "ExecuteTime": {
     "end_time": "2019-03-01T22:24:36.076966Z",
     "start_time": "2019-03-01T22:24:35.354905Z"
    },
    "code_folding": [
     17,
     22
    ]
   },
   "outputs": [],
   "source": [
    "# create layers\n",
    "num_of_aug  = 6\n",
    "l1_encoder  = CNN(3,1,num_of_aug,           act=tf_elu)\n",
    "l2_encoder  = CNN(1,  num_of_aug,num_of_aug,act=tf_elu)\n",
    "l3_encoder  = CNN(3,  num_of_aug,num_of_aug,act=tf_elu)\n",
    "l4_encoder  = CNN(1,  num_of_aug,num_of_aug,act=tf_elu)\n",
    "l5_encoder  = CNN(3,  num_of_aug,num_of_aug,act=tf_elu)\n",
    "l6_encoder  = CNN(1,  num_of_aug,num_of_aug,act=tf_sigmoid)\n",
    "\n",
    "l1_with_image = CNN(3,num_of_aug*2,num_of_aug*2,act=tf_elu)\n",
    "l2_with_image = CNN(3,num_of_aug*2,num_of_aug*2,act=tf_elu)\n",
    "l3_with_image = CNN(3,num_of_aug*2,1,act=tf_iden)\n",
    "\n",
    "def with_image(input_data):\n",
    "    _,layer1_g = l1_with_image.feedforward(input_data)\n",
    "    _,layer2_g = l1_with_image.feedforward(layer1_g)\n",
    "    _,layer3_g = l1_with_image.feedforward(layer2_g)\n",
    "    return layer3_g\n",
    "def with_noise(inpud_data):\n",
    "    _,l1_noise = l1_with_noise.feedforward(inpud_data)\n",
    "    _,l2_noise = l2_with_noise.feedforward(l1_noise)\n",
    "    _,l3_noise = l3_with_noise.feedforward(l2_noise)\n",
    "    return l3_noise\n",
    "\n",
    "x_encoding = tf.placeholder(tf.float32,(None,96,96,1))\n",
    "x_reisze   = tf.image.resize_images(x_encoding,(90,90))\n",
    "x_reisze   = tf.tile(x_reisze,(1,1,1,num_of_aug))\n",
    "angle = tf.placeholder(tf.float32,())\n",
    "\n",
    "_,layer1_e = l1_encoder.feedforward(x_encoding)\n",
    "_,layer2_e = l2_encoder.feedforward(layer1_e)\n",
    "_,layer3_e = l3_encoder.feedforward(layer2_e)\n",
    "_,layer4_e = l4_encoder.feedforward(layer3_e)\n",
    "_,layer5_e = l5_encoder.feedforward(layer4_e)\n",
    "_,layer6_e = l6_encoder.feedforward(layer5_e)\n",
    "\n",
    "final_latent  = layer6_e\n",
    "# final_latents = tf.transpose(final_latent,(0,2,1,3))\n",
    "final_latents = tf.contrib.image.rotate(final_latent,angle)\n",
    "encoded_gt = tf.concat([final_latent  ,x_reisze],3)\n",
    "encoded_rd = tf.concat([final_latents ,x_reisze],3)\n",
    "\n",
    "with_image_gt  = tf.reduce_mean(-tf_atan(-with_image(encoded_gt)))\n",
    "with_image_rd  = tf.reduce_mean( tf_atan( with_image(encoded_rd)))\n",
    "WITH_IMAGE     = (with_image_rd - with_image_gt) \n",
    "\n",
    "# reg = tf.reduce_sum(tf.abs(l1_encoder.getw())) +\\\n",
    "# tf.reduce_sum(tf.abs(l2_encoder.getw())) +\\\n",
    "# tf.reduce_sum(tf.abs(l3_encoder.getw())) +\\\n",
    "# tf.reduce_sum(tf.abs(l4_encoder.getw())) +\\\n",
    "# tf.reduce_sum(tf.abs(l5_encoder.getw())) +\\\n",
    "# tf.reduce_sum(tf.abs(l6_encoder.getw())) \n",
    "reg = tf.sqrt(final_latent**2 + 1e-8)\n",
    "reg = reg/(tf.sqrt(tf.reduce_sum(reg,(1,2),keepdims=True))+1e-8)\n",
    "# reg = reg/(tf.sqrt(tf.reduce_sum(reg,(1,2),keepdims=True))+1e-8)\n",
    "reg = tf.reduce_sum(reg)\n",
    "\n",
    "LOSS = WITH_IMAGE + reg * 0.00001\n",
    "auto_train = tf.train.AdamOptimizer(0.0008).minimize(LOSS)"
   ]
  },
  {
   "cell_type": "code",
   "execution_count": 56,
   "metadata": {
    "ExecuteTime": {
     "end_time": "2019-03-01T20:23:16.277005Z",
     "start_time": "2019-03-01T20:23:15.184495Z"
    },
    "code_folding": [
     0
    ]
   },
   "outputs": [],
   "source": [
    "# creat classification network\n",
    "x = tf.placeholder(tf.float32,(None,90,90,1))\n",
    "y = tf.placeholder(tf.float32,(None,10))\n",
    "is_training = tf.placeholder_with_default(True,())\n",
    "\n",
    "l1 = CNN(3,1,32); l2 = CNN(3,32,32); l3 = CNN(3,32,32)\n",
    "l4 = CNN(3,32,64);l5 = CNN(3,64,64); l6 = CNN(3,64,64)\n",
    "l7 = CNN(3,64,64);l8 = CNN(1,64,64); l9 = CNN(1,64,10)\n",
    "\n",
    "_,layer1 = l1.feedforward(x)\n",
    "layer1 = tf.layers.batch_normalization(layer1, training=is_training)\n",
    "_,layer2 = l2.feedforward(layer1)\n",
    "_,layer3 = l3.feedforward(layer2)\n",
    "layer3   = tf.nn.avg_pool(layer3,ksize=[1,2,2,1],strides=[1,2,2,1],padding='VALID')\n",
    "\n",
    "_,layer4 = l4.feedforward(layer3)\n",
    "layer4 = tf.layers.batch_normalization(layer4, training=is_training)\n",
    "_,layer5 = l5.feedforward(layer4)\n",
    "_,layer6 = l6.feedforward(layer5)\n",
    "layer6   = tf.nn.avg_pool(layer6,ksize=[1,2,2,1],strides=[1,2,2,1],padding='VALID')\n",
    "\n",
    "_,layer7 = l7.feedforward(layer6)\n",
    "layer7 = tf.layers.batch_normalization(layer7, training=is_training)\n",
    "_,layer8 = l8.feedforward(layer7)\n",
    "_,layer9 = l9.feedforward(layer8)\n",
    "\n",
    "final_layer = tf.reduce_mean(layer9,(1,2))\n",
    "final_soft  = tf_softmax(final_layer)\n",
    "cost               = tf.reduce_mean(tf.nn.softmax_cross_entropy_with_logits_v2(logits=final_layer,labels=y))\n",
    "correct_prediction = tf.equal(tf.argmax(final_soft, 1), tf.argmax(y, 1))\n",
    "accuracy  = tf.reduce_mean(tf.cast(correct_prediction, tf.float32))\n",
    "\n",
    "extra_update_ops = tf.get_collection(tf.GraphKeys.UPDATE_OPS)\n",
    "class_train = tf.train.AdamOptimizer(learning_rate=0.0008).minimize(cost)"
   ]
  },
  {
   "cell_type": "code",
   "execution_count": 162,
   "metadata": {
    "ExecuteTime": {
     "end_time": "2019-03-01T22:25:26.739304Z",
     "start_time": "2019-03-01T22:24:37.920581Z"
    },
    "scrolled": false
   },
   "outputs": [
    {
     "name": "stdout",
     "output_type": "stream",
     "text": [
      " Current Iter : 0/10 batch : 4980/5000 loss : -0.25435953474\n",
      "\n",
      " Current Iter : 5/10 batch : 4980/5000 loss : -0.76215193\n",
      "\n",
      " Current Iter : 7/10 batch : 320/5000 loss : -0.623749134\r"
     ]
    },
    {
     "ename": "KeyboardInterrupt",
     "evalue": "",
     "output_type": "error",
     "traceback": [
      "\u001b[1;31m---------------------------------------------------------------------------\u001b[0m",
      "\u001b[1;31mKeyboardInterrupt\u001b[0m                         Traceback (most recent call last)",
      "\u001b[1;32m<ipython-input-162-265fb05d94a3>\u001b[0m in \u001b[0;36m<module>\u001b[1;34m\u001b[0m\n\u001b[0;32m      7\u001b[0m     \u001b[1;32mfor\u001b[0m \u001b[0mcurrent_batch_index\u001b[0m \u001b[1;32min\u001b[0m \u001b[0mrange\u001b[0m\u001b[1;33m(\u001b[0m\u001b[1;36m0\u001b[0m\u001b[1;33m,\u001b[0m\u001b[0mlen\u001b[0m\u001b[1;33m(\u001b[0m\u001b[0mtrain_images\u001b[0m\u001b[1;33m)\u001b[0m\u001b[1;33m,\u001b[0m\u001b[0mbatch_size\u001b[0m\u001b[1;33m)\u001b[0m\u001b[1;33m:\u001b[0m\u001b[1;33m\u001b[0m\u001b[0m\n\u001b[0;32m      8\u001b[0m         \u001b[0mcurrent_batch\u001b[0m \u001b[1;33m=\u001b[0m \u001b[0mtrain_images\u001b[0m\u001b[1;33m[\u001b[0m\u001b[0mcurrent_batch_index\u001b[0m\u001b[1;33m:\u001b[0m\u001b[0mcurrent_batch_index\u001b[0m\u001b[1;33m+\u001b[0m\u001b[0mbatch_size\u001b[0m\u001b[1;33m]\u001b[0m\u001b[1;33m\u001b[0m\u001b[0m\n\u001b[1;32m----> 9\u001b[1;33m         \u001b[0msess_results\u001b[0m  \u001b[1;33m=\u001b[0m \u001b[0msess\u001b[0m\u001b[1;33m.\u001b[0m\u001b[0mrun\u001b[0m\u001b[1;33m(\u001b[0m\u001b[1;33m[\u001b[0m\u001b[0mLOSS\u001b[0m\u001b[1;33m,\u001b[0m\u001b[0mauto_train\u001b[0m\u001b[1;33m]\u001b[0m\u001b[1;33m,\u001b[0m\u001b[0mfeed_dict\u001b[0m\u001b[1;33m=\u001b[0m\u001b[1;33m{\u001b[0m\u001b[0mx_encoding\u001b[0m\u001b[1;33m:\u001b[0m\u001b[0mcurrent_batch\u001b[0m\u001b[1;33m,\u001b[0m\u001b[0mangle\u001b[0m\u001b[1;33m:\u001b[0m\u001b[0mangle_list\u001b[0m\u001b[1;33m[\u001b[0m\u001b[0miter\u001b[0m\u001b[1;33m]\u001b[0m\u001b[1;33m}\u001b[0m\u001b[1;33m)\u001b[0m\u001b[1;33m\u001b[0m\u001b[0m\n\u001b[0m\u001b[0;32m     10\u001b[0m         \u001b[0msys\u001b[0m\u001b[1;33m.\u001b[0m\u001b[0mstdout\u001b[0m\u001b[1;33m.\u001b[0m\u001b[0mwrite\u001b[0m\u001b[1;33m(\u001b[0m\u001b[1;34m' Current Iter : '\u001b[0m \u001b[1;33m+\u001b[0m \u001b[0mstr\u001b[0m\u001b[1;33m(\u001b[0m\u001b[0miter\u001b[0m\u001b[1;33m)\u001b[0m \u001b[1;33m+\u001b[0m \u001b[1;34m'/'\u001b[0m\u001b[1;33m+\u001b[0m \u001b[0mstr\u001b[0m\u001b[1;33m(\u001b[0m\u001b[0mnum_epoch\u001b[0m\u001b[1;33m)\u001b[0m  \u001b[1;33m+\u001b[0m \u001b[1;34m' batch : '\u001b[0m \u001b[1;33m+\u001b[0m \u001b[0mstr\u001b[0m\u001b[1;33m(\u001b[0m\u001b[0mcurrent_batch_index\u001b[0m\u001b[1;33m)\u001b[0m \u001b[1;33m+\u001b[0m \u001b[1;34m'/'\u001b[0m\u001b[1;33m+\u001b[0m \u001b[0mstr\u001b[0m\u001b[1;33m(\u001b[0m\u001b[0mlen\u001b[0m\u001b[1;33m(\u001b[0m\u001b[0mtrain_images\u001b[0m\u001b[1;33m)\u001b[0m\u001b[1;33m)\u001b[0m \u001b[1;33m+\u001b[0m \u001b[1;34m' loss : '\u001b[0m \u001b[1;33m+\u001b[0m \u001b[0mstr\u001b[0m\u001b[1;33m(\u001b[0m\u001b[0msess_results\u001b[0m\u001b[1;33m[\u001b[0m\u001b[1;36m0\u001b[0m\u001b[1;33m]\u001b[0m\u001b[1;33m)\u001b[0m \u001b[1;33m+\u001b[0m \u001b[1;34m'\\r'\u001b[0m\u001b[1;33m)\u001b[0m\u001b[1;33m\u001b[0m\u001b[0m\n\u001b[0;32m     11\u001b[0m         \u001b[0msys\u001b[0m\u001b[1;33m.\u001b[0m\u001b[0mstdout\u001b[0m\u001b[1;33m.\u001b[0m\u001b[0mflush\u001b[0m\u001b[1;33m(\u001b[0m\u001b[1;33m)\u001b[0m\u001b[1;33m;\u001b[0m\u001b[1;33m\u001b[0m\u001b[0m\n",
      "\u001b[1;32mC:\\ProgramData\\Miniconda3\\lib\\site-packages\\tensorflow\\python\\client\\session.py\u001b[0m in \u001b[0;36mrun\u001b[1;34m(self, fetches, feed_dict, options, run_metadata)\u001b[0m\n\u001b[0;32m    927\u001b[0m     \u001b[1;32mtry\u001b[0m\u001b[1;33m:\u001b[0m\u001b[1;33m\u001b[0m\u001b[0m\n\u001b[0;32m    928\u001b[0m       result = self._run(None, fetches, feed_dict, options_ptr,\n\u001b[1;32m--> 929\u001b[1;33m                          run_metadata_ptr)\n\u001b[0m\u001b[0;32m    930\u001b[0m       \u001b[1;32mif\u001b[0m \u001b[0mrun_metadata\u001b[0m\u001b[1;33m:\u001b[0m\u001b[1;33m\u001b[0m\u001b[0m\n\u001b[0;32m    931\u001b[0m         \u001b[0mproto_data\u001b[0m \u001b[1;33m=\u001b[0m \u001b[0mtf_session\u001b[0m\u001b[1;33m.\u001b[0m\u001b[0mTF_GetBuffer\u001b[0m\u001b[1;33m(\u001b[0m\u001b[0mrun_metadata_ptr\u001b[0m\u001b[1;33m)\u001b[0m\u001b[1;33m\u001b[0m\u001b[0m\n",
      "\u001b[1;32mC:\\ProgramData\\Miniconda3\\lib\\site-packages\\tensorflow\\python\\client\\session.py\u001b[0m in \u001b[0;36m_run\u001b[1;34m(self, handle, fetches, feed_dict, options, run_metadata)\u001b[0m\n\u001b[0;32m   1150\u001b[0m     \u001b[1;32mif\u001b[0m \u001b[0mfinal_fetches\u001b[0m \u001b[1;32mor\u001b[0m \u001b[0mfinal_targets\u001b[0m \u001b[1;32mor\u001b[0m \u001b[1;33m(\u001b[0m\u001b[0mhandle\u001b[0m \u001b[1;32mand\u001b[0m \u001b[0mfeed_dict_tensor\u001b[0m\u001b[1;33m)\u001b[0m\u001b[1;33m:\u001b[0m\u001b[1;33m\u001b[0m\u001b[0m\n\u001b[0;32m   1151\u001b[0m       results = self._do_run(handle, final_targets, final_fetches,\n\u001b[1;32m-> 1152\u001b[1;33m                              feed_dict_tensor, options, run_metadata)\n\u001b[0m\u001b[0;32m   1153\u001b[0m     \u001b[1;32melse\u001b[0m\u001b[1;33m:\u001b[0m\u001b[1;33m\u001b[0m\u001b[0m\n\u001b[0;32m   1154\u001b[0m       \u001b[0mresults\u001b[0m \u001b[1;33m=\u001b[0m \u001b[1;33m[\u001b[0m\u001b[1;33m]\u001b[0m\u001b[1;33m\u001b[0m\u001b[0m\n",
      "\u001b[1;32mC:\\ProgramData\\Miniconda3\\lib\\site-packages\\tensorflow\\python\\client\\session.py\u001b[0m in \u001b[0;36m_do_run\u001b[1;34m(self, handle, target_list, fetch_list, feed_dict, options, run_metadata)\u001b[0m\n\u001b[0;32m   1326\u001b[0m     \u001b[1;32mif\u001b[0m \u001b[0mhandle\u001b[0m \u001b[1;32mis\u001b[0m \u001b[1;32mNone\u001b[0m\u001b[1;33m:\u001b[0m\u001b[1;33m\u001b[0m\u001b[0m\n\u001b[0;32m   1327\u001b[0m       return self._do_call(_run_fn, feeds, fetches, targets, options,\n\u001b[1;32m-> 1328\u001b[1;33m                            run_metadata)\n\u001b[0m\u001b[0;32m   1329\u001b[0m     \u001b[1;32melse\u001b[0m\u001b[1;33m:\u001b[0m\u001b[1;33m\u001b[0m\u001b[0m\n\u001b[0;32m   1330\u001b[0m       \u001b[1;32mreturn\u001b[0m \u001b[0mself\u001b[0m\u001b[1;33m.\u001b[0m\u001b[0m_do_call\u001b[0m\u001b[1;33m(\u001b[0m\u001b[0m_prun_fn\u001b[0m\u001b[1;33m,\u001b[0m \u001b[0mhandle\u001b[0m\u001b[1;33m,\u001b[0m \u001b[0mfeeds\u001b[0m\u001b[1;33m,\u001b[0m \u001b[0mfetches\u001b[0m\u001b[1;33m)\u001b[0m\u001b[1;33m\u001b[0m\u001b[0m\n",
      "\u001b[1;32mC:\\ProgramData\\Miniconda3\\lib\\site-packages\\tensorflow\\python\\client\\session.py\u001b[0m in \u001b[0;36m_do_call\u001b[1;34m(self, fn, *args)\u001b[0m\n\u001b[0;32m   1332\u001b[0m   \u001b[1;32mdef\u001b[0m \u001b[0m_do_call\u001b[0m\u001b[1;33m(\u001b[0m\u001b[0mself\u001b[0m\u001b[1;33m,\u001b[0m \u001b[0mfn\u001b[0m\u001b[1;33m,\u001b[0m \u001b[1;33m*\u001b[0m\u001b[0margs\u001b[0m\u001b[1;33m)\u001b[0m\u001b[1;33m:\u001b[0m\u001b[1;33m\u001b[0m\u001b[0m\n\u001b[0;32m   1333\u001b[0m     \u001b[1;32mtry\u001b[0m\u001b[1;33m:\u001b[0m\u001b[1;33m\u001b[0m\u001b[0m\n\u001b[1;32m-> 1334\u001b[1;33m       \u001b[1;32mreturn\u001b[0m \u001b[0mfn\u001b[0m\u001b[1;33m(\u001b[0m\u001b[1;33m*\u001b[0m\u001b[0margs\u001b[0m\u001b[1;33m)\u001b[0m\u001b[1;33m\u001b[0m\u001b[0m\n\u001b[0m\u001b[0;32m   1335\u001b[0m     \u001b[1;32mexcept\u001b[0m \u001b[0merrors\u001b[0m\u001b[1;33m.\u001b[0m\u001b[0mOpError\u001b[0m \u001b[1;32mas\u001b[0m \u001b[0me\u001b[0m\u001b[1;33m:\u001b[0m\u001b[1;33m\u001b[0m\u001b[0m\n\u001b[0;32m   1336\u001b[0m       \u001b[0mmessage\u001b[0m \u001b[1;33m=\u001b[0m \u001b[0mcompat\u001b[0m\u001b[1;33m.\u001b[0m\u001b[0mas_text\u001b[0m\u001b[1;33m(\u001b[0m\u001b[0me\u001b[0m\u001b[1;33m.\u001b[0m\u001b[0mmessage\u001b[0m\u001b[1;33m)\u001b[0m\u001b[1;33m\u001b[0m\u001b[0m\n",
      "\u001b[1;32mC:\\ProgramData\\Miniconda3\\lib\\site-packages\\tensorflow\\python\\client\\session.py\u001b[0m in \u001b[0;36m_run_fn\u001b[1;34m(feed_dict, fetch_list, target_list, options, run_metadata)\u001b[0m\n\u001b[0;32m   1317\u001b[0m       \u001b[0mself\u001b[0m\u001b[1;33m.\u001b[0m\u001b[0m_extend_graph\u001b[0m\u001b[1;33m(\u001b[0m\u001b[1;33m)\u001b[0m\u001b[1;33m\u001b[0m\u001b[0m\n\u001b[0;32m   1318\u001b[0m       return self._call_tf_sessionrun(\n\u001b[1;32m-> 1319\u001b[1;33m           options, feed_dict, fetch_list, target_list, run_metadata)\n\u001b[0m\u001b[0;32m   1320\u001b[0m \u001b[1;33m\u001b[0m\u001b[0m\n\u001b[0;32m   1321\u001b[0m     \u001b[1;32mdef\u001b[0m \u001b[0m_prun_fn\u001b[0m\u001b[1;33m(\u001b[0m\u001b[0mhandle\u001b[0m\u001b[1;33m,\u001b[0m \u001b[0mfeed_dict\u001b[0m\u001b[1;33m,\u001b[0m \u001b[0mfetch_list\u001b[0m\u001b[1;33m)\u001b[0m\u001b[1;33m:\u001b[0m\u001b[1;33m\u001b[0m\u001b[0m\n",
      "\u001b[1;32mC:\\ProgramData\\Miniconda3\\lib\\site-packages\\tensorflow\\python\\client\\session.py\u001b[0m in \u001b[0;36m_call_tf_sessionrun\u001b[1;34m(self, options, feed_dict, fetch_list, target_list, run_metadata)\u001b[0m\n\u001b[0;32m   1405\u001b[0m     return tf_session.TF_SessionRun_wrapper(\n\u001b[0;32m   1406\u001b[0m         \u001b[0mself\u001b[0m\u001b[1;33m.\u001b[0m\u001b[0m_session\u001b[0m\u001b[1;33m,\u001b[0m \u001b[0moptions\u001b[0m\u001b[1;33m,\u001b[0m \u001b[0mfeed_dict\u001b[0m\u001b[1;33m,\u001b[0m \u001b[0mfetch_list\u001b[0m\u001b[1;33m,\u001b[0m \u001b[0mtarget_list\u001b[0m\u001b[1;33m,\u001b[0m\u001b[1;33m\u001b[0m\u001b[0m\n\u001b[1;32m-> 1407\u001b[1;33m         run_metadata)\n\u001b[0m\u001b[0;32m   1408\u001b[0m \u001b[1;33m\u001b[0m\u001b[0m\n\u001b[0;32m   1409\u001b[0m   \u001b[1;32mdef\u001b[0m \u001b[0m_call_tf_sessionprun\u001b[0m\u001b[1;33m(\u001b[0m\u001b[0mself\u001b[0m\u001b[1;33m,\u001b[0m \u001b[0mhandle\u001b[0m\u001b[1;33m,\u001b[0m \u001b[0mfeed_dict\u001b[0m\u001b[1;33m,\u001b[0m \u001b[0mfetch_list\u001b[0m\u001b[1;33m)\u001b[0m\u001b[1;33m:\u001b[0m\u001b[1;33m\u001b[0m\u001b[0m\n",
      "\u001b[1;31mKeyboardInterrupt\u001b[0m: "
     ]
    }
   ],
   "source": [
    "# train the network \n",
    "sess = tf.InteractiveSession()\n",
    "sess.run(tf.global_variables_initializer())\n",
    "num_epoch = 10\n",
    "angle_list = [30,60,90,120,150,180,210,240,270,300,330]\n",
    "for iter in range(num_epoch):\n",
    "    for current_batch_index in range(0,len(train_images),batch_size):\n",
    "        current_batch = train_images[current_batch_index:current_batch_index+batch_size]\n",
    "        sess_results  = sess.run([LOSS,auto_train],feed_dict={x_encoding:current_batch,angle:angle_list[iter]})\n",
    "        sys.stdout.write(' Current Iter : ' + str(iter) + '/'+ str(num_epoch)  + ' batch : ' + str(current_batch_index) + '/'+ str(len(train_images)) + ' loss : ' + str(sess_results[0]) + '\\r')\n",
    "        sys.stdout.flush();    \n",
    "    if iter%5==0: \n",
    "        print('\\n')\n",
    "        train_images = shuffle(train_images)"
   ]
  },
  {
   "cell_type": "code",
   "execution_count": 164,
   "metadata": {
    "ExecuteTime": {
     "end_time": "2019-03-01T22:25:43.080116Z",
     "start_time": "2019-03-01T22:25:43.009307Z"
    },
    "code_folding": [
     29,
     38
    ],
    "scrolled": false
   },
   "outputs": [
    {
     "ename": "TypeError",
     "evalue": "Fetch argument array([[[[ 1.76597623e-05, -3.71764589e-04, -1.05508592e-03,\n           1.69237566e-04,  7.37068651e-04,  8.58296603e-02],\n         [ 1.81960368e-05, -3.72373732e-04, -1.05859200e-03,\n           1.71897904e-04,  7.38123024e-04,  8.61666799e-02],\n         [ 1.89531602e-05, -3.72922135e-04, -1.06168527e-03,\n           1.74194880e-04,  7.39217910e-04,  8.64139274e-02],\n         ...,\n         [ 3.06840084e-05, -3.92937625e-04, -1.16210105e-03,\n           2.49323115e-04,  7.69853068e-04,  9.61597264e-02],\n         [ 3.06351030e-05, -3.92997637e-04, -1.16204540e-03,\n           2.49249861e-04,  7.69847073e-04,  9.61400196e-02],\n         [ 3.02905046e-05, -3.92802467e-04, -1.16072677e-03,\n           2.48257245e-04,  7.69383914e-04,  9.60994810e-02]],\n\n        [[ 1.20775437e-03, -2.33841259e-02,  1.25744015e-01,\n           9.81130600e-02, -1.71036250e-03,  1.55747188e-02],\n         [ 1.21134357e-03, -2.35147662e-02,  1.26311317e-01,\n           9.85593274e-02, -1.71677617e-03,  1.56644192e-02],\n         [ 1.21436676e-03, -2.36115474e-02,  1.26731664e-01,\n           9.88905653e-02, -1.72222604e-03,  1.57309454e-02],\n         ...,\n         [ 1.30301458e-03, -2.69796588e-02,  1.41326964e-01,\n           1.10369027e-01, -1.88738771e-03,  1.80567037e-02],\n         [ 1.30292319e-03, -2.69749220e-02,  1.41304940e-01,\n           1.10351689e-01, -1.88761286e-03,  1.80541314e-02],\n         [ 1.30172225e-03, -2.69629154e-02,  1.41252846e-01,\n           1.10309742e-01, -1.88521342e-03,  1.80458371e-02]],\n\n        [[-3.13768105e-04, -2.28195917e-04, -1.00876356e-03,\n          -1.09003318e-04,  1.14406832e-01,  3.53182033e-02],\n         [-3.13590193e-04, -2.26811288e-04, -1.01163995e-03,\n          -1.07579406e-04,  1.14950694e-01,  3.55069488e-02],\n         [-3.13602271e-04, -2.25317970e-04, -1.01408246e-03,\n          -1.06219260e-04,  1.15379415e-01,  3.56553607e-02],\n         ...,\n         [-3.13956814e-04, -1.86245074e-04, -1.08679838e-03,\n          -6.89691733e-05,  1.29650295e-01,  4.06014100e-02],\n         [-3.13923141e-04, -1.86738922e-04, -1.08652690e-03,\n          -6.93193506e-05,  1.29632190e-01,  4.05952968e-02],\n         [-3.14083241e-04, -1.87334706e-04, -1.08571257e-03,\n          -6.98115909e-05,  1.29588842e-01,  4.05803472e-02]],\n\n        ...,\n\n        [[-1.99295670e-01, -2.53494978e-02, -2.24228177e-04,\n          -1.34606808e-01,  1.28487691e-01,  8.47532137e-05],\n         [-1.99964285e-01, -2.54411902e-02, -2.25378331e-04,\n          -1.35068044e-01,  1.28927827e-01,  8.29735000e-05],\n         [-2.00431451e-01, -2.55049895e-02, -2.27169046e-04,\n          -1.35388970e-01,  1.29234716e-01,  8.11130230e-05],\n         ...,\n         [-2.10006773e-01, -2.67984383e-02, -2.44063078e-04,\n          -1.41979337e-01,  1.35527119e-01,  6.03317421e-05],\n         [-2.10295185e-01, -2.68375650e-02, -2.43952905e-04,\n          -1.42178848e-01,  1.35717139e-01,  6.03465633e-05],\n         [-2.10597500e-01, -2.68790778e-02, -2.43981587e-04,\n          -1.42388090e-01,  1.35916352e-01,  6.01111715e-05]],\n\n        [[-2.38275528e-02,  4.29840555e-04, -1.28024831e-01,\n           1.80572532e-02,  2.79432982e-02, -2.49405310e-01],\n         [-2.39209644e-02,  4.31467924e-04, -1.28539860e-01,\n           1.81169454e-02,  2.80659739e-02, -2.50379354e-01],\n         [-2.39856467e-02,  4.32817382e-04, -1.28903523e-01,\n           1.81607138e-02,  2.81527005e-02, -2.51067609e-01],\n         ...,\n         [-2.52633393e-02,  4.46930440e-04, -1.35906145e-01,\n           1.89584065e-02,  2.98187453e-02, -2.64309436e-01],\n         [-2.52852421e-02,  4.46911581e-04, -1.36028156e-01,\n           1.89725552e-02,  2.98478138e-02, -2.64540374e-01],\n         [-2.53124051e-02,  4.47818515e-04, -1.36183321e-01,\n           1.89921148e-02,  2.98850592e-02, -2.64834404e-01]],\n\n        [[-1.58404484e-01,  2.87401192e-02, -1.09281182e-01,\n           3.65105830e-02,  1.44356827e-03,  4.27679661e-05],\n         [-1.59059390e-01,  2.88679954e-02, -1.09744124e-01,\n           3.66793014e-02,  1.44586235e-03,  4.33533169e-05],\n         [-1.59584492e-01,  2.89705545e-02, -1.10116109e-01,\n           3.68135646e-02,  1.44844945e-03,  4.31318404e-05],\n         ...,\n         [-1.59974411e-01,  2.90741213e-02, -1.10394530e-01,\n           3.68701518e-02,  1.48244796e-03,  4.44009784e-05],\n         [-1.61268145e-01,  2.93222964e-02, -1.11309014e-01,\n           3.72110717e-02,  1.48105074e-03,  4.51098313e-05],\n         [-1.62558079e-01,  2.95705087e-02, -1.12220861e-01,\n           3.75487357e-02,  1.48127205e-03,  4.57416827e-05]]],\n\n\n       [[[ 1.01036089e-03,  3.40835121e-03, -6.45923501e-05,\n           8.73057730e-03, -1.18657760e-03, -3.95964179e-03],\n         [ 9.84058715e-04,  5.50424494e-03, -3.62131868e-05,\n           2.83335578e-02, -5.28812548e-03, -1.48023758e-02],\n         [ 9.25650995e-04,  8.03370588e-03, -3.23852546e-05,\n           5.31076714e-02, -1.04698678e-02, -2.86014602e-02],\n         ...,\n         [ 8.67383205e-04,  1.55862207e-02, -2.58270811e-05,\n           1.23139843e-01, -2.51886006e-02, -6.73346370e-02],\n         [ 8.00539332e-04,  1.24228084e-02, -6.66566048e-05,\n           9.48490053e-02, -1.93344969e-02, -5.17059714e-02],\n         [ 7.50035804e-04,  1.08444048e-02, -9.27880756e-05,\n           8.12101960e-02, -1.65130626e-02, -4.42058109e-02]],\n\n        [[-6.99836412e-04, -2.15192139e-03,  5.45096642e-04,\n          -3.86711932e-03, -3.39143735e-05, -1.23029307e-03],\n         [-6.81456353e-04,  1.60635589e-03,  5.28528937e-04,\n          -1.49883190e-02,  6.35532103e-03, -1.24234729e-03],\n         [-6.65673462e-04,  6.99589029e-03,  5.13667124e-04,\n          -3.09545156e-02,  1.55311367e-02, -1.28526788e-03],\n         ...,\n         [-5.13409905e-04,  2.94754636e-02,  3.86933039e-04,\n          -9.77151766e-02,  5.38862683e-02, -1.43703748e-03],\n         [-4.76914225e-04,  2.60920450e-02,  3.96849035e-04,\n          -8.79024044e-02,  4.82590161e-02, -1.48609129e-03],\n         [-4.47509577e-04,  2.44471598e-02,  4.05806786e-04,\n          -8.31923112e-02,  4.55613434e-02, -1.53034646e-03]],\n\n        [[-1.27922176e-04,  9.17735160e-04,  5.96601749e-04,\n          -2.23553827e-04,  5.09061059e-03,  3.14573554e-04],\n         [-1.29995664e-04,  9.30272508e-04, -2.21381919e-03,\n          -2.38052147e-04,  1.30394697e-02,  4.32399707e-03],\n         [-1.42584919e-04,  9.26584762e-04, -6.92190649e-03,\n          -2.66570045e-04,  2.63817068e-02,  1.10604549e-02],\n         ...,\n         [-1.05224506e-04,  9.23402957e-04, -3.14861909e-02,\n          -2.52005324e-04,  9.58205685e-02,  4.58234847e-02],\n         [-5.07956211e-05,  8.77124432e-04, -3.10702045e-02,\n          -2.29104029e-04,  9.46226344e-02,  4.52273786e-02],\n         [ 8.99509178e-06,  8.28552002e-04, -3.17044780e-02,\n          -2.04645301e-04,  9.63912681e-02,  4.61182073e-02]],\n\n        ...,\n\n        [[ 3.06790527e-02, -4.69229592e-04, -1.40120415e-02,\n          -5.62681444e-02,  3.56148072e-02,  4.41594794e-02],\n         [ 2.86166947e-02, -4.69433493e-04, -1.28445048e-02,\n          -5.30526415e-02,  3.33283022e-02,  4.14871387e-02],\n         [ 2.69671548e-02, -4.53675282e-04, -1.19169233e-02,\n          -5.05187064e-02,  3.15173045e-02,  3.94080095e-02],\n         ...,\n         [ 1.13557903e-02, -4.95711633e-04, -3.16705951e-03,\n          -2.61358209e-02,  1.42979696e-02,  1.90160926e-02],\n         [ 1.27154076e-02, -4.99825575e-04, -3.93411005e-03,\n          -2.82354727e-02,  1.58148631e-02,  2.07540765e-02],\n         [ 1.25487372e-02, -4.98186098e-04, -3.85303050e-03,\n          -2.79795900e-02,  1.56622697e-02,  2.05388237e-02]],\n\n        [[-8.75751674e-02,  5.15234133e-04,  3.99009325e-02,\n           1.64043508e-04,  8.67289752e-02,  1.64588261e-02],\n         [-8.59927535e-02,  5.07136807e-04,  3.90671305e-02,\n           1.57669172e-04,  8.51687044e-02,  1.60562098e-02],\n         [-8.40341076e-02,  4.97310306e-04,  3.80364209e-02,\n           1.46165301e-04,  8.32375810e-02,  1.55601734e-02],\n         ...,\n         [-4.42830846e-02,  5.44745184e-04,  1.70464683e-02,\n           1.88700389e-04,  4.40370329e-02,  5.15085598e-03],\n         [-4.69980501e-02,  5.57898660e-04,  1.84792131e-02,\n           1.90531457e-04,  4.67159189e-02,  5.85190207e-03],\n         [-4.54892330e-02,  5.84791356e-04,  1.76687576e-02,\n           2.15217151e-04,  4.52267379e-02,  5.42609999e-03]],\n\n        [[-1.11968769e-02,  4.74887725e-04, -4.49009705e-04,\n           1.20749384e-01,  6.05667825e-04, -6.07411638e-02],\n         [-1.11482413e-02,  4.79360489e-04, -4.39206400e-04,\n           1.20367169e-01,  6.05672423e-04, -6.05327561e-02],\n         [-1.10561196e-02,  4.87151759e-04, -4.28938714e-04,\n           1.19670786e-01,  6.03428634e-04, -6.01505898e-02],\n         ...,\n         [-3.65508697e-03,  5.19738067e-04, -4.03439597e-04,\n           6.87454566e-02,  5.96358499e-04, -3.23013552e-02],\n         [-4.02658712e-03,  5.02632582e-04, -4.23403428e-04,\n           7.14262351e-02,  6.01860753e-04, -3.37718427e-02],\n         [-3.45655554e-03,  4.88601334e-04, -4.57680319e-04,\n           6.76999465e-02,  6.05031382e-04, -3.17338668e-02]]],\n\n\n       [[[-2.13223975e-02,  1.73388980e-03, -1.92679595e-02,\n           7.96076208e-02, -2.01046219e-04, -2.20773537e-02],\n         [-2.12766007e-02,  1.73209433e-03, -1.92298945e-02,\n           7.94342533e-02, -2.02859199e-04, -2.20294725e-02],\n         [-2.11141780e-02,  1.71749317e-03, -1.90936346e-02,\n           7.88091123e-02, -2.04164535e-04, -2.18593106e-02],\n         ...,\n         [-2.12482139e-02,  1.71927875e-03, -1.92035362e-02,\n           7.93004334e-02, -1.96612760e-04, -2.19983459e-02],\n         [-2.14273781e-02,  1.73368829e-03, -1.93532109e-02,\n           7.99819455e-02, -1.93881002e-04, -2.21859459e-02],\n         [-2.16050223e-02,  1.74765009e-03, -1.95016135e-02,\n           8.06571990e-02, -1.90916544e-04, -2.23717336e-02]],\n\n        [[ 1.57238115e-04, -2.00324133e-01, -5.78788593e-02,\n          -7.13430811e-04,  9.55269784e-02,  4.80967946e-02],\n         [ 1.56818409e-04, -2.00349376e-01, -5.78858145e-02,\n          -7.15270347e-04,  9.55368429e-02,  4.81004603e-02],\n         [ 1.56388051e-04, -1.99462324e-01, -5.76194897e-02,\n          -7.15111906e-04,  9.51113403e-02,  4.78776209e-02],\n         ...,\n         [ 1.52210298e-04, -2.01272905e-01, -5.81571087e-02,\n          -6.99127617e-04,  9.59847569e-02,  4.83472012e-02],\n         [ 1.49269108e-04, -2.03316778e-01, -5.87660298e-02,\n          -6.93891896e-04,  9.69638228e-02,  4.88638319e-02],\n         [ 1.46415463e-04, -2.05399349e-01, -5.93865067e-02,\n          -6.88938599e-04,  9.79606435e-02,  4.93900888e-02]],\n\n        [[-5.36992622e-04, -4.51787091e-05, -1.59301832e-01,\n           1.06617194e-02, -4.10196371e-02,  8.41052160e-02],\n         [-5.36672713e-04, -4.53461871e-05, -1.59612894e-01,\n           1.06717609e-02, -4.11034413e-02,  8.42669755e-02],\n         [-5.36608277e-04, -4.56486050e-05, -1.59397781e-01,\n           1.06652118e-02, -4.10442203e-02,  8.41558650e-02],\n         ...,\n         [-5.39096072e-04, -5.13022787e-05, -1.61863059e-01,\n           1.07445773e-02, -4.17281538e-02,  8.54670629e-02],\n         [-5.40129025e-04, -5.32184058e-05, -1.63734734e-01,\n           1.08039444e-02, -4.22437154e-02,  8.64512026e-02],\n         [-5.41092770e-04, -5.48095122e-05, -1.65675461e-01,\n           1.08653521e-02, -4.27776650e-02,  8.74695331e-02]],\n\n        ...,\n\n        [[ 5.34941256e-02,  3.20886873e-04, -2.51457968e-04,\n           3.06647307e-05,  2.15162858e-02, -9.54320952e-02],\n         [ 5.28112389e-02,  3.19649669e-04, -2.51953083e-04,\n           3.28080314e-05,  2.11611539e-02, -9.42007899e-02],\n         [ 5.20445444e-02,  3.18110804e-04, -2.52767903e-04,\n           3.55015509e-05,  2.07627174e-02, -9.28183123e-02],\n         ...,\n         [ 5.62037565e-02,  3.17360653e-04, -2.29602330e-04,\n           2.95951995e-05,  2.29159780e-02, -1.00320533e-01],\n         [ 5.54710962e-02,  3.20798892e-04, -2.41318310e-04,\n           3.03671695e-05,  2.25419998e-02, -9.90006104e-02],\n         [ 5.45888022e-02,  3.22568434e-04, -2.48568482e-04,\n           2.93601024e-05,  2.20857039e-02, -9.74092484e-02]],\n\n        [[ 1.06543906e-01,  9.51624289e-02,  1.25587821e-01,\n           6.12733029e-02,  1.61513716e-01, -5.12324550e-05],\n         [ 1.05278440e-01,  9.40392539e-02,  1.24076776e-01,\n           6.05625100e-02,  1.59506202e-01, -5.05098906e-05],\n         [ 1.03864335e-01,  9.27850008e-02,  1.22388318e-01,\n           5.97688630e-02,  1.57261044e-01, -4.85495475e-05],\n         ...,\n         [ 1.09424755e-01,  9.77332890e-02,  1.29059151e-01,\n           6.28846139e-02,  1.66104853e-01, -6.76109994e-05],\n         [ 1.10225379e-01,  9.84457508e-02,  1.30021974e-01,\n           6.33356795e-02,  1.67392671e-01, -7.88732068e-05],\n         [ 1.09823458e-01,  9.80845466e-02,  1.29535139e-01,\n           6.31106496e-02,  1.66756436e-01, -7.88595280e-05]],\n\n        [[ 2.68501637e-04,  1.25738000e-03, -1.83554161e-02,\n          -2.07910227e-04,  2.54814386e-01,  1.07163712e-02],\n         [ 2.67950672e-04,  1.12699484e-03, -1.81090254e-02,\n          -2.07986552e-04,  2.51798213e-01,  1.05289817e-02],\n         [ 2.66329036e-04,  9.84642189e-04, -1.78388320e-02,\n          -2.07312201e-04,  2.48506024e-01,  1.03245908e-02],\n         ...,\n         [ 1.66765982e-04,  2.43014638e-05, -1.59978364e-02,\n          -7.51469925e-05,  2.26094514e-01,  8.85259360e-03],\n         [ 1.91836822e-04,  4.65139776e-04, -1.68336295e-02,\n          -1.03959173e-04,  2.36371219e-01,  9.51311179e-03],\n         [ 2.39659188e-04,  7.56360299e-04, -1.74010713e-02,\n          -1.57947550e-04,  2.43222848e-01,  9.97118466e-03]]],\n\n\n       ...,\n\n\n       [[[-7.03589874e-04,  4.90555502e-02, -2.67486739e-05,\n           8.40369985e-02,  4.88989230e-04,  3.55651714e-02],\n         [-7.40665535e-04,  5.64444512e-02, -1.06235639e-04,\n           9.84156951e-02,  5.01054281e-04,  4.09632958e-02],\n         [-7.55470130e-04,  5.85939474e-02, -1.71460197e-04,\n           1.02686554e-01,  4.88851219e-04,  4.25922349e-02],\n         ...,\n         [-1.44194928e-03,  1.04347326e-01, -6.40013954e-04,\n           1.91732660e-01,  1.37195864e-03,  7.58173317e-02],\n         [-1.44173636e-03,  1.04337864e-01, -6.39580714e-04,\n           1.91713288e-01,  1.37192337e-03,  7.58099779e-02],\n         [-1.44143240e-03,  1.04328163e-01, -6.39400969e-04,\n           1.91694602e-01,  1.37147785e-03,  7.58029670e-02]],\n\n        [[-6.19392283e-02, -8.02829280e-04, -7.22828358e-02,\n           8.97179767e-02,  2.93158889e-02, -4.06674780e-02],\n         [-7.21114278e-02, -7.80605653e-04, -8.43143836e-02,\n           1.05597161e-01,  3.40913683e-02, -4.69153337e-02],\n         [-7.80918002e-02, -7.61836651e-04, -9.13226977e-02,\n           1.14943184e-01,  3.69160436e-02, -5.05727082e-02],\n         ...,\n         [-1.47750393e-01, -3.64279549e-04, -1.73912421e-01,\n           2.23536372e-01,  7.01156557e-02, -9.34259966e-02],\n         [-1.47737250e-01, -3.64591979e-04, -1.73897296e-01,\n           2.23516017e-01,  7.01090395e-02, -9.34180394e-02],\n         [-1.47729337e-01, -3.64703272e-04, -1.73887819e-01,\n           2.23503754e-01,  7.01050833e-02, -9.34131816e-02]],\n\n        [[ 7.51246512e-02, -3.43024905e-04, -3.06129950e-04,\n           1.00888610e-01,  3.11781099e-04,  1.19949924e-03],\n         [ 8.46329853e-02, -3.36366240e-04, -3.00369313e-04,\n           1.14938878e-01,  3.16630438e-04,  1.22582715e-03],\n         [ 9.39279869e-02, -3.58667166e-04, -2.90010183e-04,\n           1.28683195e-01,  2.72311183e-04,  1.21890509e-03],\n         ...,\n         [ 2.10843116e-01, -8.24773626e-04,  7.40397838e-04,\n           3.02300453e-01,  5.55779669e-04,  1.50870276e-03],\n         [ 2.10830420e-01, -8.24289804e-04,  7.39772746e-04,\n           3.02280992e-01,  5.55754115e-04,  1.50885247e-03],\n         [ 2.10832074e-01, -8.24360817e-04,  7.39677635e-04,\n           3.02283704e-01,  5.55538514e-04,  1.50883605e-03]],\n\n        ...,\n\n        [[-1.78913338e-04,  3.32264267e-02, -2.72755837e-03,\n           1.93227883e-02,  6.10980554e-04,  4.89228929e-04],\n         [-1.82172487e-04,  3.21231820e-02, -2.59036245e-03,\n           1.87625978e-02,  6.16276753e-04,  4.97943314e-04],\n         [-1.86261255e-04,  3.10352966e-02, -2.45595095e-03,\n           1.82088502e-02,  6.20861596e-04,  5.05337783e-04],\n         ...,\n         [-2.12227329e-04, -1.85042024e-02,  3.28399171e-03,\n          -7.18013244e-03,  4.99975227e-04,  4.04610706e-04],\n         [-2.10660262e-04, -1.91417020e-02,  3.35509330e-03,\n          -7.50744110e-03,  4.95781016e-04,  3.99913872e-04],\n         [-2.08195954e-04, -1.96108744e-02,  3.40529694e-03,\n          -7.74747552e-03,  4.90326434e-04,  3.93725233e-04]],\n\n        [[-2.85146106e-02, -6.47557452e-02, -1.48008555e-01,\n           3.83670005e-04,  6.87168464e-02, -5.34037352e-02],\n         [-2.71136407e-02, -6.18464276e-02, -1.41641036e-01,\n           3.85363499e-04,  6.55582547e-02, -5.09118140e-02],\n         [-2.57110540e-02, -5.89447655e-02, -1.35283321e-01,\n           3.85513878e-04,  6.24021627e-02, -4.84193452e-02],\n         ...,\n         [ 1.98803693e-02,  3.47205289e-02,  7.03122839e-02,\n           3.33244068e-04, -3.97633687e-02,  3.23955938e-02],\n         [ 2.02108603e-02,  3.53915244e-02,  7.17891678e-02,\n           3.32745316e-04, -4.04987112e-02,  3.29789892e-02],\n         [ 2.04863399e-02,  3.59535664e-02,  7.30252489e-02,\n           3.32190015e-04, -4.11147214e-02,  3.34700420e-02]],\n\n        [[ 1.34152491e-02,  3.08436714e-02, -1.83534771e-01,\n          -1.26511201e-01,  1.60131764e-04, -1.64851299e-04],\n         [ 1.28590129e-02,  2.91863550e-02, -1.75061122e-01,\n          -1.20537795e-01,  1.61102900e-04, -1.67743288e-04],\n         [ 1.22893294e-02,  2.74932943e-02, -1.66411996e-01,\n          -1.14434339e-01,  1.61876640e-04, -1.68341532e-04],\n         ...,\n         [-4.58376808e-03, -2.26962660e-02,  9.06197131e-02,\n           6.68439344e-02,  1.62868877e-04, -8.81694796e-05],\n         [-4.60721133e-03, -2.27701776e-02,  9.10189077e-02,\n           6.71168640e-02,  1.63114033e-04, -8.53607198e-05],\n         [-4.65686806e-03, -2.29172558e-02,  9.17732194e-02,\n           6.76496848e-02,  1.62832453e-04, -8.49288408e-05]]],\n\n\n       [[[-1.04113063e-02,  3.71333357e-04,  3.29061040e-05,\n          -1.42067205e-04,  1.25012454e-02,  1.24180196e-02],\n         [-5.62996836e-03,  3.62607592e-04,  2.57298470e-05,\n          -1.50411535e-04,  5.44272875e-03,  9.92425159e-03],\n         [-5.05742524e-03,  3.64245672e-04, -4.94875439e-06,\n          -1.82708740e-04,  4.65662312e-03,  9.61745251e-03],\n         ...,\n         [-1.37006612e-02,  3.65308311e-04,  2.62318099e-05,\n          -1.69129009e-04,  1.74066387e-02,  1.41381333e-02],\n         [-1.14977183e-02,  3.56807868e-04,  2.74528720e-05,\n          -1.76302143e-04,  1.41519373e-02,  1.29887126e-02],\n         [-8.22967477e-03,  3.40725936e-04,  2.63752372e-05,\n          -1.95754998e-04,  9.33521427e-03,  1.12838419e-02]],\n\n        [[ 9.48792044e-03, -9.37483087e-03,  2.76890420e-03,\n           9.91578493e-03, -9.83668491e-03,  9.64543317e-03],\n         [ 1.44163903e-03, -5.98491356e-03,  2.70234887e-03,\n           5.72138978e-03, -4.54861391e-03,  3.40301241e-03],\n         [ 1.37226924e-03, -5.92016894e-03,  2.70165340e-03,\n           5.48331998e-03, -4.37298696e-03,  3.18206800e-03],\n         ...,\n         [ 1.40716229e-02, -1.12883346e-02,  2.80554057e-03,\n           1.21321082e-02, -1.27439005e-02,  1.30646927e-02],\n         [ 1.22684445e-02, -1.05341962e-02,  2.78527150e-03,\n           1.11814979e-02, -1.15546305e-02,  1.16564222e-02],\n         [ 1.00083370e-02, -9.58780851e-03,  2.76147132e-03,\n           1.00236293e-02, -1.00833522e-02,  9.91879310e-03]],\n\n        [[ 4.66369354e-04, -5.69128257e-04, -9.02765244e-03,\n           1.10116228e-03, -9.92969144e-03,  8.96762405e-03],\n         [ 4.86761099e-04, -5.37254091e-04, -7.14671100e-03,\n           1.16711215e-03, -7.63513008e-03,  7.28488946e-03],\n         [ 5.14677784e-04, -4.96790919e-04, -7.43771531e-03,\n           1.25730317e-03, -8.18939973e-03,  7.69813173e-03],\n         ...,\n         [ 4.76428511e-04, -5.71397657e-04, -8.23733490e-03,\n           1.09263719e-03, -8.89257062e-03,  8.19851365e-03],\n         [ 4.84964170e-04, -5.52369049e-04, -8.36231746e-03,\n           1.13452901e-03, -9.13171750e-03,  8.38105753e-03],\n         [ 4.81861789e-04, -5.48707030e-04, -8.74264166e-03,\n           1.14252954e-03, -9.63820331e-03,  8.75638332e-03]],\n\n        ...,\n\n        [[ 1.34558007e-02,  7.70106330e-04, -2.28504126e-04,\n          -4.98477230e-03,  5.61407628e-03,  2.64524599e-03],\n         [ 1.27826827e-02,  7.61398056e-04, -2.27197525e-04,\n          -4.69837245e-03,  5.31215267e-03,  2.36030761e-03],\n         [ 1.93667635e-02,  6.66631851e-04, -2.25322903e-04,\n          -7.69014284e-03,  8.50372389e-03,  4.86505404e-03],\n         ...,\n         [ 5.33479974e-02,  3.43197316e-04, -2.76571867e-04,\n          -2.28361357e-02,  2.48253476e-02,  1.79143772e-02],\n         [ 4.13140617e-02,  4.80563962e-04, -2.74425489e-04,\n          -1.74065139e-02,  1.90342609e-02,  1.32938595e-02],\n         [ 2.94902418e-02,  6.09680661e-04, -2.59417633e-04,\n          -1.21113472e-02,  1.33429943e-02,  8.76033958e-03]],\n\n        [[-2.77420948e-03, -1.65890343e-03, -3.15492034e-05,\n           3.48520203e-04,  8.56954139e-04, -4.83862037e-04],\n         [-2.08949437e-03, -2.12527346e-03, -2.36011010e-06,\n           3.37338599e-04,  8.70732183e-04, -4.97356639e-04],\n         [-3.49058723e-03, -1.21903291e-03,  2.17228062e-05,\n           3.22541950e-04,  8.88302107e-04, -5.22294315e-04],\n         ...,\n         [-2.69801589e-03, -1.75454922e-03, -6.97289506e-05,\n           3.82278755e-04,  8.24376999e-04, -3.90008936e-04],\n         [-4.38594638e-04, -3.22886952e-03, -4.74383451e-05,\n           3.73757037e-04,  8.31834681e-04, -4.09212662e-04],\n         [ 1.18117873e-03, -4.27415268e-03, -2.01906787e-05,\n           3.55502649e-04,  8.46912910e-04, -4.46515362e-04]],\n\n        [[ 3.29363346e-02,  2.22524926e-02,  1.30263669e-02,\n           2.56287828e-02,  2.28652004e-02,  3.83236003e-03],\n         [ 2.62572113e-02,  1.72743648e-02,  9.50840488e-03,\n           2.01405138e-02,  1.76884066e-02,  1.57896883e-03],\n         [ 2.70059407e-02,  1.78686827e-02,  9.85890906e-03,\n           2.07657833e-02,  1.82120726e-02,  1.82338478e-03],\n         ...,\n         [ 1.81292612e-02,  1.12407170e-02,  5.20916423e-03,\n           1.34196449e-02,  1.13209346e-02, -1.15991163e-03],\n         [ 1.39467428e-02,  8.13278370e-03,  3.00600007e-03,\n           9.97966342e-03,  8.07191804e-03, -2.56127096e-03],\n         [ 1.08794225e-02,  5.85655542e-03,  1.38457050e-03,\n           7.45190028e-03,  5.68108633e-03, -3.59171559e-03]]],\n\n\n       [[[-1.20462491e-05, -3.40775499e-04, -1.40096322e-01,\n          -1.25882015e-01,  1.83368713e-01,  8.23178664e-02],\n         [-6.53599182e-06, -3.41860199e-04, -1.45275861e-01,\n          -1.30611554e-01,  1.90178141e-01,  8.53958130e-02],\n         [-3.59121782e-06, -3.44075175e-04, -1.49856657e-01,\n          -1.34798497e-01,  1.96180284e-01,  8.81100595e-02],\n         ...,\n         [-2.30434634e-05, -3.47909110e-04, -1.39948562e-01,\n          -1.25762135e-01,  1.83079004e-01,  8.21969062e-02],\n         [-2.71132139e-05, -3.48073023e-04, -1.39987543e-01,\n          -1.25800252e-01,  1.83107495e-01,  8.22094828e-02],\n         [-3.63844483e-05, -3.49714333e-04, -1.38890654e-01,\n          -1.24806412e-01,  1.81612521e-01,  8.15350488e-02]],\n\n        [[-1.50170224e-03, -2.32159197e-02, -1.09533668e-01,\n          -1.57912388e-01,  2.20339194e-01,  1.92159072e-01],\n         [-1.51516614e-03, -2.40114089e-02, -1.13482222e-01,\n          -1.63642630e-01,  2.28527486e-01,  1.99244440e-01],\n         [-1.51698280e-03, -2.47877762e-02, -1.17323071e-01,\n          -1.69230089e-01,  2.36503899e-01,  2.06154078e-01],\n         ...,\n         [-1.46850443e-03, -2.31926292e-02, -1.09382086e-01,\n          -1.57736734e-01,  2.20067978e-01,  1.91947043e-01],\n         [-1.46033219e-03, -2.31745988e-02, -1.09280139e-01,\n          -1.57602534e-01,  2.19872072e-01,  1.91782296e-01],\n         [-1.43732317e-03, -2.29695961e-02, -1.08234294e-01,\n          -1.56112984e-01,  2.17730969e-01,  1.89944029e-01]],\n\n        [[-7.45095487e-04,  4.98204958e-03, -2.32430771e-02,\n           1.53325677e-01,  1.06479242e-01,  2.00189199e-04],\n         [-7.62531301e-04,  5.03047835e-03, -2.39757020e-02,\n           1.58419266e-01,  1.10006437e-01,  1.81471012e-04],\n         [-7.71799125e-04,  5.07546728e-03, -2.47562304e-02,\n           1.63844526e-01,  1.13761380e-01,  1.70308776e-04],\n         ...,\n         [-7.22673605e-04,  4.96717822e-03, -2.32899673e-02,\n           1.53662309e-01,  1.06710069e-01,  2.19617534e-04],\n         [-7.14427559e-04,  4.95811645e-03, -2.32512597e-02,\n           1.53389022e-01,  1.06518239e-01,  2.25912518e-04],\n         [-6.94588001e-04,  4.92871227e-03, -2.29960866e-02,\n           1.51620761e-01,  1.05290964e-01,  2.42637761e-04]],\n\n        ...,\n\n        [[-3.22365697e-04, -9.20642018e-02, -4.90762033e-02,\n           1.79838225e-01, -5.64232643e-04, -7.52056986e-02],\n         [-3.23944900e-04, -9.23490673e-02, -4.92356010e-02,\n           1.80360869e-01, -5.58957632e-04, -7.54413158e-02],\n         [-3.23762069e-04, -9.23190713e-02, -4.92192283e-02,\n           1.80303454e-01, -5.54070983e-04, -7.54170120e-02],\n         ...,\n         [-7.23131234e-05,  4.06848639e-02,  2.56756265e-02,\n          -6.71554878e-02, -4.69206163e-04,  3.57248820e-02],\n         [-7.74724103e-05,  1.78808849e-02,  1.27083687e-02,\n          -2.42628437e-02, -5.65420080e-04,  1.64458659e-02],\n         [-1.35824434e-04, -1.08859856e-02, -3.52500728e-03,\n           2.94147637e-02, -6.46688743e-04, -7.64062582e-03]],\n\n        [[-1.25245878e-03,  2.48631288e-04, -5.51154604e-04,\n           9.38909245e-04,  2.06267923e-01, -3.08253249e-04],\n         [-1.25523657e-03,  2.45840260e-04, -5.48892538e-04,\n           9.36647994e-04,  2.07052469e-01, -3.06168658e-04],\n         [-1.25704496e-03,  2.44443421e-04, -5.46006195e-04,\n           9.35893389e-04,  2.07423121e-01, -3.04393965e-04],\n         ...,\n         [-9.81202582e-04,  5.91697579e-04, -4.91692044e-04,\n           1.59666070e-03, -1.00304045e-01, -7.08538631e-04],\n         [-9.70719731e-04,  6.38693455e-04, -5.02919371e-04,\n           1.57119764e-03, -6.39193431e-02, -7.11492379e-04],\n         [-9.91516165e-04,  6.36087323e-04, -5.26612566e-04,\n           1.49507658e-03, -1.15735941e-02, -6.93839334e-04]],\n\n        [[-1.71972781e-01,  6.53291028e-03,  3.39560997e-04,\n           2.81810593e-02,  2.60925211e-04,  7.11869821e-02],\n         [-1.72744006e-01,  6.55625109e-03,  3.43360472e-04,\n           2.83289272e-02,  2.63155787e-04,  7.15182275e-02],\n         [-1.73399255e-01,  6.57510757e-03,  3.45649460e-04,\n           2.84554958e-02,  2.64483504e-04,  7.18005151e-02],\n         ...,\n         [ 1.04889952e-01, -1.61083939e-03,  2.69857788e-04,\n          -2.61005238e-02,  4.11815941e-04, -4.87454832e-02],\n         [ 8.43910053e-02, -1.01326604e-03,  1.90660998e-04,\n          -2.20011603e-02,  3.28293972e-04, -3.98008786e-02],\n         [ 5.05167991e-02, -2.08284418e-05,  1.16380041e-04,\n          -1.52788591e-02,  2.32437858e-04, -2.50617340e-02]]]],\n      dtype=float32) has invalid type <class 'numpy.ndarray'>, must be a string or Tensor. (Can not convert a ndarray into a Tensor or Operation.)",
     "output_type": "error",
     "traceback": [
      "\u001b[1;31m---------------------------------------------------------------------------\u001b[0m",
      "\u001b[1;31mTypeError\u001b[0m                                 Traceback (most recent call last)",
      "\u001b[1;32mC:\\ProgramData\\Miniconda3\\lib\\site-packages\\tensorflow\\python\\client\\session.py\u001b[0m in \u001b[0;36m__init__\u001b[1;34m(self, fetches, contraction_fn)\u001b[0m\n\u001b[0;32m    299\u001b[0m         self._unique_fetches.append(ops.get_default_graph().as_graph_element(\n\u001b[1;32m--> 300\u001b[1;33m             fetch, allow_tensor=True, allow_operation=True))\n\u001b[0m\u001b[0;32m    301\u001b[0m       \u001b[1;32mexcept\u001b[0m \u001b[0mTypeError\u001b[0m \u001b[1;32mas\u001b[0m \u001b[0me\u001b[0m\u001b[1;33m:\u001b[0m\u001b[1;33m\u001b[0m\u001b[0m\n",
      "\u001b[1;32mC:\\ProgramData\\Miniconda3\\lib\\site-packages\\tensorflow\\python\\framework\\ops.py\u001b[0m in \u001b[0;36mas_graph_element\u001b[1;34m(self, obj, allow_tensor, allow_operation)\u001b[0m\n\u001b[0;32m   3489\u001b[0m     \u001b[1;32mwith\u001b[0m \u001b[0mself\u001b[0m\u001b[1;33m.\u001b[0m\u001b[0m_lock\u001b[0m\u001b[1;33m:\u001b[0m\u001b[1;33m\u001b[0m\u001b[0m\n\u001b[1;32m-> 3490\u001b[1;33m       \u001b[1;32mreturn\u001b[0m \u001b[0mself\u001b[0m\u001b[1;33m.\u001b[0m\u001b[0m_as_graph_element_locked\u001b[0m\u001b[1;33m(\u001b[0m\u001b[0mobj\u001b[0m\u001b[1;33m,\u001b[0m \u001b[0mallow_tensor\u001b[0m\u001b[1;33m,\u001b[0m \u001b[0mallow_operation\u001b[0m\u001b[1;33m)\u001b[0m\u001b[1;33m\u001b[0m\u001b[0m\n\u001b[0m\u001b[0;32m   3491\u001b[0m \u001b[1;33m\u001b[0m\u001b[0m\n",
      "\u001b[1;32mC:\\ProgramData\\Miniconda3\\lib\\site-packages\\tensorflow\\python\\framework\\ops.py\u001b[0m in \u001b[0;36m_as_graph_element_locked\u001b[1;34m(self, obj, allow_tensor, allow_operation)\u001b[0m\n\u001b[0;32m   3578\u001b[0m       raise TypeError(\"Can not convert a %s into a %s.\" % (type(obj).__name__,\n\u001b[1;32m-> 3579\u001b[1;33m                                                            types_str))\n\u001b[0m\u001b[0;32m   3580\u001b[0m \u001b[1;33m\u001b[0m\u001b[0m\n",
      "\u001b[1;31mTypeError\u001b[0m: Can not convert a ndarray into a Tensor or Operation.",
      "\nDuring handling of the above exception, another exception occurred:\n",
      "\u001b[1;31mTypeError\u001b[0m                                 Traceback (most recent call last)",
      "\u001b[1;32m<ipython-input-164-bfa6edca9801>\u001b[0m in \u001b[0;36m<module>\u001b[1;34m\u001b[0m\n\u001b[0;32m      6\u001b[0m     \u001b[0mcurrent_image_resize\u001b[0m \u001b[1;33m=\u001b[0m \u001b[0mnp\u001b[0m\u001b[1;33m.\u001b[0m\u001b[0masarray\u001b[0m\u001b[1;33m(\u001b[0m\u001b[1;33m[\u001b[0m\u001b[0mresize\u001b[0m\u001b[1;33m(\u001b[0m\u001b[0mnp\u001b[0m\u001b[1;33m.\u001b[0m\u001b[0msqueeze\u001b[0m\u001b[1;33m(\u001b[0m\u001b[0mx\u001b[0m\u001b[1;33m)\u001b[0m\u001b[1;33m,\u001b[0m\u001b[1;33m(\u001b[0m\u001b[1;36m90\u001b[0m\u001b[1;33m,\u001b[0m\u001b[1;36m90\u001b[0m\u001b[1;33m)\u001b[0m\u001b[1;33m)\u001b[0m \u001b[1;32mfor\u001b[0m \u001b[0mx\u001b[0m \u001b[1;32min\u001b[0m \u001b[0mcurrent_batch\u001b[0m\u001b[1;33m]\u001b[0m\u001b[1;33m)\u001b[0m\u001b[1;33m[\u001b[0m\u001b[1;33m:\u001b[0m\u001b[1;33m,\u001b[0m\u001b[1;33m:\u001b[0m\u001b[1;33m,\u001b[0m\u001b[1;33m:\u001b[0m\u001b[1;33m,\u001b[0m\u001b[1;32mNone\u001b[0m\u001b[1;33m]\u001b[0m\u001b[1;33m\u001b[0m\u001b[0m\n\u001b[0;32m      7\u001b[0m     \u001b[1;31m#current_image_resize = (current_image_resize-current_image_resize.min((0,1,2),keepdims=True))/(current_image_resize.max((0,1,2),keepdims=True)-current_image_resize.min((0,1,2),keepdims=True)+1e-8)\u001b[0m\u001b[1;33m\u001b[0m\u001b[1;33m\u001b[0m\u001b[0m\n\u001b[1;32m----> 8\u001b[1;33m     \u001b[0mlatent_feature\u001b[0m \u001b[1;33m=\u001b[0m \u001b[0msess\u001b[0m\u001b[1;33m.\u001b[0m\u001b[0mrun\u001b[0m\u001b[1;33m(\u001b[0m\u001b[0mlatent_feature\u001b[0m\u001b[1;33m,\u001b[0m\u001b[0mfeed_dict\u001b[0m\u001b[1;33m=\u001b[0m\u001b[1;33m{\u001b[0m\u001b[0mx_encoding\u001b[0m\u001b[1;33m:\u001b[0m\u001b[0mcurrent_batch\u001b[0m\u001b[1;33m}\u001b[0m\u001b[1;33m)\u001b[0m\u001b[1;33m\u001b[0m\u001b[0m\n\u001b[0m\u001b[0;32m      9\u001b[0m     \u001b[1;31m#latent_feature = (latent_feature-latent_feature.min((0,1,2),keepdims=True))/(latent_feature.max((0,1,2),keepdims=True)-latent_feature.min((0,1,2),keepdims=True)+1e-8)\u001b[0m\u001b[1;33m\u001b[0m\u001b[1;33m\u001b[0m\u001b[0m\n\u001b[0;32m     10\u001b[0m \u001b[1;33m\u001b[0m\u001b[0m\n",
      "\u001b[1;32mC:\\ProgramData\\Miniconda3\\lib\\site-packages\\tensorflow\\python\\client\\session.py\u001b[0m in \u001b[0;36mrun\u001b[1;34m(self, fetches, feed_dict, options, run_metadata)\u001b[0m\n\u001b[0;32m    927\u001b[0m     \u001b[1;32mtry\u001b[0m\u001b[1;33m:\u001b[0m\u001b[1;33m\u001b[0m\u001b[0m\n\u001b[0;32m    928\u001b[0m       result = self._run(None, fetches, feed_dict, options_ptr,\n\u001b[1;32m--> 929\u001b[1;33m                          run_metadata_ptr)\n\u001b[0m\u001b[0;32m    930\u001b[0m       \u001b[1;32mif\u001b[0m \u001b[0mrun_metadata\u001b[0m\u001b[1;33m:\u001b[0m\u001b[1;33m\u001b[0m\u001b[0m\n\u001b[0;32m    931\u001b[0m         \u001b[0mproto_data\u001b[0m \u001b[1;33m=\u001b[0m \u001b[0mtf_session\u001b[0m\u001b[1;33m.\u001b[0m\u001b[0mTF_GetBuffer\u001b[0m\u001b[1;33m(\u001b[0m\u001b[0mrun_metadata_ptr\u001b[0m\u001b[1;33m)\u001b[0m\u001b[1;33m\u001b[0m\u001b[0m\n",
      "\u001b[1;32mC:\\ProgramData\\Miniconda3\\lib\\site-packages\\tensorflow\\python\\client\\session.py\u001b[0m in \u001b[0;36m_run\u001b[1;34m(self, handle, fetches, feed_dict, options, run_metadata)\u001b[0m\n\u001b[0;32m   1135\u001b[0m     \u001b[1;31m# Create a fetch handler to take care of the structure of fetches.\u001b[0m\u001b[1;33m\u001b[0m\u001b[1;33m\u001b[0m\u001b[0m\n\u001b[0;32m   1136\u001b[0m     fetch_handler = _FetchHandler(\n\u001b[1;32m-> 1137\u001b[1;33m         self._graph, fetches, feed_dict_tensor, feed_handles=feed_handles)\n\u001b[0m\u001b[0;32m   1138\u001b[0m \u001b[1;33m\u001b[0m\u001b[0m\n\u001b[0;32m   1139\u001b[0m     \u001b[1;31m# Run request and get response.\u001b[0m\u001b[1;33m\u001b[0m\u001b[1;33m\u001b[0m\u001b[0m\n",
      "\u001b[1;32mC:\\ProgramData\\Miniconda3\\lib\\site-packages\\tensorflow\\python\\client\\session.py\u001b[0m in \u001b[0;36m__init__\u001b[1;34m(self, graph, fetches, feeds, feed_handles)\u001b[0m\n\u001b[0;32m    469\u001b[0m     \"\"\"\n\u001b[0;32m    470\u001b[0m     \u001b[1;32mwith\u001b[0m \u001b[0mgraph\u001b[0m\u001b[1;33m.\u001b[0m\u001b[0mas_default\u001b[0m\u001b[1;33m(\u001b[0m\u001b[1;33m)\u001b[0m\u001b[1;33m:\u001b[0m\u001b[1;33m\u001b[0m\u001b[0m\n\u001b[1;32m--> 471\u001b[1;33m       \u001b[0mself\u001b[0m\u001b[1;33m.\u001b[0m\u001b[0m_fetch_mapper\u001b[0m \u001b[1;33m=\u001b[0m \u001b[0m_FetchMapper\u001b[0m\u001b[1;33m.\u001b[0m\u001b[0mfor_fetch\u001b[0m\u001b[1;33m(\u001b[0m\u001b[0mfetches\u001b[0m\u001b[1;33m)\u001b[0m\u001b[1;33m\u001b[0m\u001b[0m\n\u001b[0m\u001b[0;32m    472\u001b[0m     \u001b[0mself\u001b[0m\u001b[1;33m.\u001b[0m\u001b[0m_fetches\u001b[0m \u001b[1;33m=\u001b[0m \u001b[1;33m[\u001b[0m\u001b[1;33m]\u001b[0m\u001b[1;33m\u001b[0m\u001b[0m\n\u001b[0;32m    473\u001b[0m     \u001b[0mself\u001b[0m\u001b[1;33m.\u001b[0m\u001b[0m_targets\u001b[0m \u001b[1;33m=\u001b[0m \u001b[1;33m[\u001b[0m\u001b[1;33m]\u001b[0m\u001b[1;33m\u001b[0m\u001b[0m\n",
      "\u001b[1;32mC:\\ProgramData\\Miniconda3\\lib\\site-packages\\tensorflow\\python\\client\\session.py\u001b[0m in \u001b[0;36mfor_fetch\u001b[1;34m(fetch)\u001b[0m\n\u001b[0;32m    269\u001b[0m         \u001b[1;32mif\u001b[0m \u001b[0misinstance\u001b[0m\u001b[1;33m(\u001b[0m\u001b[0mfetch\u001b[0m\u001b[1;33m,\u001b[0m \u001b[0mtensor_type\u001b[0m\u001b[1;33m)\u001b[0m\u001b[1;33m:\u001b[0m\u001b[1;33m\u001b[0m\u001b[0m\n\u001b[0;32m    270\u001b[0m           \u001b[0mfetches\u001b[0m\u001b[1;33m,\u001b[0m \u001b[0mcontraction_fn\u001b[0m \u001b[1;33m=\u001b[0m \u001b[0mfetch_fn\u001b[0m\u001b[1;33m(\u001b[0m\u001b[0mfetch\u001b[0m\u001b[1;33m)\u001b[0m\u001b[1;33m\u001b[0m\u001b[0m\n\u001b[1;32m--> 271\u001b[1;33m           \u001b[1;32mreturn\u001b[0m \u001b[0m_ElementFetchMapper\u001b[0m\u001b[1;33m(\u001b[0m\u001b[0mfetches\u001b[0m\u001b[1;33m,\u001b[0m \u001b[0mcontraction_fn\u001b[0m\u001b[1;33m)\u001b[0m\u001b[1;33m\u001b[0m\u001b[0m\n\u001b[0m\u001b[0;32m    272\u001b[0m     \u001b[1;31m# Did not find anything.\u001b[0m\u001b[1;33m\u001b[0m\u001b[1;33m\u001b[0m\u001b[0m\n\u001b[0;32m    273\u001b[0m     raise TypeError('Fetch argument %r has invalid type %r' % (fetch,\n",
      "\u001b[1;32mC:\\ProgramData\\Miniconda3\\lib\\site-packages\\tensorflow\\python\\client\\session.py\u001b[0m in \u001b[0;36m__init__\u001b[1;34m(self, fetches, contraction_fn)\u001b[0m\n\u001b[0;32m    302\u001b[0m         raise TypeError('Fetch argument %r has invalid type %r, '\n\u001b[0;32m    303\u001b[0m                         \u001b[1;34m'must be a string or Tensor. (%s)'\u001b[0m \u001b[1;33m%\u001b[0m\u001b[1;33m\u001b[0m\u001b[0m\n\u001b[1;32m--> 304\u001b[1;33m                         (fetch, type(fetch), str(e)))\n\u001b[0m\u001b[0;32m    305\u001b[0m       \u001b[1;32mexcept\u001b[0m \u001b[0mValueError\u001b[0m \u001b[1;32mas\u001b[0m \u001b[0me\u001b[0m\u001b[1;33m:\u001b[0m\u001b[1;33m\u001b[0m\u001b[0m\n\u001b[0;32m    306\u001b[0m         raise ValueError('Fetch argument %r cannot be interpreted as a '\n",
      "\u001b[1;31mTypeError\u001b[0m: Fetch argument array([[[[ 1.76597623e-05, -3.71764589e-04, -1.05508592e-03,\n           1.69237566e-04,  7.37068651e-04,  8.58296603e-02],\n         [ 1.81960368e-05, -3.72373732e-04, -1.05859200e-03,\n           1.71897904e-04,  7.38123024e-04,  8.61666799e-02],\n         [ 1.89531602e-05, -3.72922135e-04, -1.06168527e-03,\n           1.74194880e-04,  7.39217910e-04,  8.64139274e-02],\n         ...,\n         [ 3.06840084e-05, -3.92937625e-04, -1.16210105e-03,\n           2.49323115e-04,  7.69853068e-04,  9.61597264e-02],\n         [ 3.06351030e-05, -3.92997637e-04, -1.16204540e-03,\n           2.49249861e-04,  7.69847073e-04,  9.61400196e-02],\n         [ 3.02905046e-05, -3.92802467e-04, -1.16072677e-03,\n           2.48257245e-04,  7.69383914e-04,  9.60994810e-02]],\n\n        [[ 1.20775437e-03, -2.33841259e-02,  1.25744015e-01,\n           9.81130600e-02, -1.71036250e-03,  1.55747188e-02],\n         [ 1.21134357e-03, -2.35147662e-02,  1.26311317e-01,\n           9.85593274e-02, -1.71677617e-03,  1.56644192e-02],\n         [ 1.21436676e-03, -2.36115474e-02,  1.26731664e-01,\n           9.88905653e-02, -1.72222604e-03,  1.57309454e-02],\n         ...,\n         [ 1.30301458e-03, -2.69796588e-02,  1.41326964e-01,\n           1.10369027e-01, -1.88738771e-03,  1.80567037e-02],\n         [ 1.30292319e-03, -2.69749220e-02,  1.41304940e-01,\n           1.10351689e-01, -1.88761286e-03,  1.80541314e-02],\n         [ 1.30172225e-03, -2.69629154e-02,  1.41252846e-01,\n           1.10309742e-01, -1.88521342e-03,  1.80458371e-02]],\n\n        [[-3.13768105e-04, -2.28195917e-04, -1.00876356e-03,\n          -1.09003318e-04,  1.14406832e-01,  3.53182033e-02],\n         [-3.13590193e-04, -2.26811288e-04, -1.01163995e-03,\n          -1.07579406e-04,  1.14950694e-01,  3.55069488e-02],\n         [-3.13602271e-04, -2.25317970e-04, -1.01408246e-03,\n          -1.06219260e-04,  1.15379415e-01,  3.56553607e-02],\n         ...,\n         [-3.13956814e-04, -1.86245074e-04, -1.08679838e-03,\n          -6.89691733e-05,  1.29650295e-01,  4.06014100e-02],\n         [-3.13923141e-04, -1.86738922e-04, -1.08652690e-03,\n          -6.93193506e-05,  1.29632190e-01,  4.05952968e-02],\n         [-3.14083241e-04, -1.87334706e-04, -1.08571257e-03,\n          -6.98115909e-05,  1.29588842e-01,  4.05803472e-02]],\n\n        ...,\n\n        [[-1.99295670e-01, -2.53494978e-02, -2.24228177e-04,\n          -1.34606808e-01,  1.28487691e-01,  8.47532137e-05],\n         [-1.99964285e-01, -2.54411902e-02, -2.25378331e-04,\n          -1.35068044e-01,  1.28927827e-01,  8.29735000e-05],\n         [-2.00431451e-01, -2.55049895e-02, -2.27169046e-04,\n          -1.35388970e-01,  1.29234716e-01,  8.11130230e-05],\n         ...,\n         [-2.10006773e-01, -2.67984383e-02, -2.44063078e-04,\n          -1.41979337e-01,  1.35527119e-01,  6.03317421e-05],\n         [-2.10295185e-01, -2.68375650e-02, -2.43952905e-04,\n          -1.42178848e-01,  1.35717139e-01,  6.03465633e-05],\n         [-2.10597500e-01, -2.68790778e-02, -2.43981587e-04,\n          -1.42388090e-01,  1.35916352e-01,  6.01111715e-05]],\n\n        [[-2.38275528e-02,  4.29840555e-04, -1.28024831e-01,\n           1.80572532e-02,  2.79432982e-02, -2.49405310e-01],\n         [-2.39209644e-02,  4.31467924e-04, -1.28539860e-01,\n           1.81169454e-02,  2.80659739e-02, -2.50379354e-01],\n         [-2.39856467e-02,  4.32817382e-04, -1.28903523e-01,\n           1.81607138e-02,  2.81527005e-02, -2.51067609e-01],\n         ...,\n         [-2.52633393e-02,  4.46930440e-04, -1.35906145e-01,\n           1.89584065e-02,  2.98187453e-02, -2.64309436e-01],\n         [-2.52852421e-02,  4.46911581e-04, -1.36028156e-01,\n           1.89725552e-02,  2.98478138e-02, -2.64540374e-01],\n         [-2.53124051e-02,  4.47818515e-04, -1.36183321e-01,\n           1.89921148e-02,  2.98850592e-02, -2.64834404e-01]],\n\n        [[-1.58404484e-01,  2.87401192e-02, -1.09281182e-01,\n           3.65105830e-02,  1.44356827e-03,  4.27679661e-05],\n         [-1.59059390e-01,  2.88679954e-02, -1.09744124e-01,\n           3.66793014e-02,  1.44586235e-03,  4.33533169e-05],\n         [-1.59584492e-01,  2.89705545e-02, -1.10116109e-01,\n           3.68135646e-02,  1.44844945e-03,  4.31318404e-05],\n         ...,\n         [-1.59974411e-01,  2.90741213e-02, -1.10394530e-01,\n           3.68701518e-02,  1.48244796e-03,  4.44009784e-05],\n         [-1.61268145e-01,  2.93222964e-02, -1.11309014e-01,\n           3.72110717e-02,  1.48105074e-03,  4.51098313e-05],\n         [-1.62558079e-01,  2.95705087e-02, -1.12220861e-01,\n           3.75487357e-02,  1.48127205e-03,  4.57416827e-05]]],\n\n\n       [[[ 1.01036089e-03,  3.40835121e-03, -6.45923501e-05,\n           8.73057730e-03, -1.18657760e-03, -3.95964179e-03],\n         [ 9.84058715e-04,  5.50424494e-03, -3.62131868e-05,\n           2.83335578e-02, -5.28812548e-03, -1.48023758e-02],\n         [ 9.25650995e-04,  8.03370588e-03, -3.23852546e-05,\n           5.31076714e-02, -1.04698678e-02, -2.86014602e-02],\n         ...,\n         [ 8.67383205e-04,  1.55862207e-02, -2.58270811e-05,\n           1.23139843e-01, -2.51886006e-02, -6.73346370e-02],\n         [ 8.00539332e-04,  1.24228084e-02, -6.66566048e-05,\n           9.48490053e-02, -1.93344969e-02, -5.17059714e-02],\n         [ 7.50035804e-04,  1.08444048e-02, -9.27880756e-05,\n           8.12101960e-02, -1.65130626e-02, -4.42058109e-02]],\n\n        [[-6.99836412e-04, -2.15192139e-03,  5.45096642e-04,\n          -3.86711932e-03, -3.39143735e-05, -1.23029307e-03],\n         [-6.81456353e-04,  1.60635589e-03,  5.28528937e-04,\n          -1.49883190e-02,  6.35532103e-03, -1.24234729e-03],\n         [-6.65673462e-04,  6.99589029e-03,  5.13667124e-04,\n          -3.09545156e-02,  1.55311367e-02, -1.28526788e-03],\n         ...,\n         [-5.13409905e-04,  2.94754636e-02,  3.86933039e-04,\n          -9.77151766e-02,  5.38862683e-02, -1.43703748e-03],\n         [-4.76914225e-04,  2.60920450e-02,  3.96849035e-04,\n          -8.79024044e-02,  4.82590161e-02, -1.48609129e-03],\n         [-4.47509577e-04,  2.44471598e-02,  4.05806786e-04,\n          -8.31923112e-02,  4.55613434e-02, -1.53034646e-03]],\n\n        [[-1.27922176e-04,  9.17735160e-04,  5.96601749e-04,\n          -2.23553827e-04,  5.09061059e-03,  3.14573554e-04],\n         [-1.29995664e-04,  9.30272508e-04, -2.21381919e-03,\n          -2.38052147e-04,  1.30394697e-02,  4.32399707e-03],\n         [-1.42584919e-04,  9.26584762e-04, -6.92190649e-03,\n          -2.66570045e-04,  2.63817068e-02,  1.10604549e-02],\n         ...,\n         [-1.05224506e-04,  9.23402957e-04, -3.14861909e-02,\n          -2.52005324e-04,  9.58205685e-02,  4.58234847e-02],\n         [-5.07956211e-05,  8.77124432e-04, -3.10702045e-02,\n          -2.29104029e-04,  9.46226344e-02,  4.52273786e-02],\n         [ 8.99509178e-06,  8.28552002e-04, -3.17044780e-02,\n          -2.04645301e-04,  9.63912681e-02,  4.61182073e-02]],\n\n        ...,\n\n        [[ 3.06790527e-02, -4.69229592e-04, -1.40120415e-02,\n          -5.62681444e-02,  3.56148072e-02,  4.41594794e-02],\n         [ 2.86166947e-02, -4.69433493e-04, -1.28445048e-02,\n          -5.30526415e-02,  3.33283022e-02,  4.14871387e-02],\n         [ 2.69671548e-02, -4.53675282e-04, -1.19169233e-02,\n          -5.05187064e-02,  3.15173045e-02,  3.94080095e-02],\n         ...,\n         [ 1.13557903e-02, -4.95711633e-04, -3.16705951e-03,\n          -2.61358209e-02,  1.42979696e-02,  1.90160926e-02],\n         [ 1.27154076e-02, -4.99825575e-04, -3.93411005e-03,\n          -2.82354727e-02,  1.58148631e-02,  2.07540765e-02],\n         [ 1.25487372e-02, -4.98186098e-04, -3.85303050e-03,\n          -2.79795900e-02,  1.56622697e-02,  2.05388237e-02]],\n\n        [[-8.75751674e-02,  5.15234133e-04,  3.99009325e-02,\n           1.64043508e-04,  8.67289752e-02,  1.64588261e-02],\n         [-8.59927535e-02,  5.07136807e-04,  3.90671305e-02,\n           1.57669172e-04,  8.51687044e-02,  1.60562098e-02],\n         [-8.40341076e-02,  4.97310306e-04,  3.80364209e-02,\n           1.46165301e-04,  8.32375810e-02,  1.55601734e-02],\n         ...,\n         [-4.42830846e-02,  5.44745184e-04,  1.70464683e-02,\n           1.88700389e-04,  4.40370329e-02,  5.15085598e-03],\n         [-4.69980501e-02,  5.57898660e-04,  1.84792131e-02,\n           1.90531457e-04,  4.67159189e-02,  5.85190207e-03],\n         [-4.54892330e-02,  5.84791356e-04,  1.76687576e-02,\n           2.15217151e-04,  4.52267379e-02,  5.42609999e-03]],\n\n        [[-1.11968769e-02,  4.74887725e-04, -4.49009705e-04,\n           1.20749384e-01,  6.05667825e-04, -6.07411638e-02],\n         [-1.11482413e-02,  4.79360489e-04, -4.39206400e-04,\n           1.20367169e-01,  6.05672423e-04, -6.05327561e-02],\n         [-1.10561196e-02,  4.87151759e-04, -4.28938714e-04,\n           1.19670786e-01,  6.03428634e-04, -6.01505898e-02],\n         ...,\n         [-3.65508697e-03,  5.19738067e-04, -4.03439597e-04,\n           6.87454566e-02,  5.96358499e-04, -3.23013552e-02],\n         [-4.02658712e-03,  5.02632582e-04, -4.23403428e-04,\n           7.14262351e-02,  6.01860753e-04, -3.37718427e-02],\n         [-3.45655554e-03,  4.88601334e-04, -4.57680319e-04,\n           6.76999465e-02,  6.05031382e-04, -3.17338668e-02]]],\n\n\n       [[[-2.13223975e-02,  1.73388980e-03, -1.92679595e-02,\n           7.96076208e-02, -2.01046219e-04, -2.20773537e-02],\n         [-2.12766007e-02,  1.73209433e-03, -1.92298945e-02,\n           7.94342533e-02, -2.02859199e-04, -2.20294725e-02],\n         [-2.11141780e-02,  1.71749317e-03, -1.90936346e-02,\n           7.88091123e-02, -2.04164535e-04, -2.18593106e-02],\n         ...,\n         [-2.12482139e-02,  1.71927875e-03, -1.92035362e-02,\n           7.93004334e-02, -1.96612760e-04, -2.19983459e-02],\n         [-2.14273781e-02,  1.73368829e-03, -1.93532109e-02,\n           7.99819455e-02, -1.93881002e-04, -2.21859459e-02],\n         [-2.16050223e-02,  1.74765009e-03, -1.95016135e-02,\n           8.06571990e-02, -1.90916544e-04, -2.23717336e-02]],\n\n        [[ 1.57238115e-04, -2.00324133e-01, -5.78788593e-02,\n          -7.13430811e-04,  9.55269784e-02,  4.80967946e-02],\n         [ 1.56818409e-04, -2.00349376e-01, -5.78858145e-02,\n          -7.15270347e-04,  9.55368429e-02,  4.81004603e-02],\n         [ 1.56388051e-04, -1.99462324e-01, -5.76194897e-02,\n          -7.15111906e-04,  9.51113403e-02,  4.78776209e-02],\n         ...,\n         [ 1.52210298e-04, -2.01272905e-01, -5.81571087e-02,\n          -6.99127617e-04,  9.59847569e-02,  4.83472012e-02],\n         [ 1.49269108e-04, -2.03316778e-01, -5.87660298e-02,\n          -6.93891896e-04,  9.69638228e-02,  4.88638319e-02],\n         [ 1.46415463e-04, -2.05399349e-01, -5.93865067e-02,\n          -6.88938599e-04,  9.79606435e-02,  4.93900888e-02]],\n\n        [[-5.36992622e-04, -4.51787091e-05, -1.59301832e-01,\n           1.06617194e-02, -4.10196371e-02,  8.41052160e-02],\n         [-5.36672713e-04, -4.53461871e-05, -1.59612894e-01,\n           1.06717609e-02, -4.11034413e-02,  8.42669755e-02],\n         [-5.36608277e-04, -4.56486050e-05, -1.59397781e-01,\n           1.06652118e-02, -4.10442203e-02,  8.41558650e-02],\n         ...,\n         [-5.39096072e-04, -5.13022787e-05, -1.61863059e-01,\n           1.07445773e-02, -4.17281538e-02,  8.54670629e-02],\n         [-5.40129025e-04, -5.32184058e-05, -1.63734734e-01,\n           1.08039444e-02, -4.22437154e-02,  8.64512026e-02],\n         [-5.41092770e-04, -5.48095122e-05, -1.65675461e-01,\n           1.08653521e-02, -4.27776650e-02,  8.74695331e-02]],\n\n        ...,\n\n        [[ 5.34941256e-02,  3.20886873e-04, -2.51457968e-04,\n           3.06647307e-05,  2.15162858e-02, -9.54320952e-02],\n         [ 5.28112389e-02,  3.19649669e-04, -2.51953083e-04,\n           3.28080314e-05,  2.11611539e-02, -9.42007899e-02],\n         [ 5.20445444e-02,  3.18110804e-04, -2.52767903e-04,\n           3.55015509e-05,  2.07627174e-02, -9.28183123e-02],\n         ...,\n         [ 5.62037565e-02,  3.17360653e-04, -2.29602330e-04,\n           2.95951995e-05,  2.29159780e-02, -1.00320533e-01],\n         [ 5.54710962e-02,  3.20798892e-04, -2.41318310e-04,\n           3.03671695e-05,  2.25419998e-02, -9.90006104e-02],\n         [ 5.45888022e-02,  3.22568434e-04, -2.48568482e-04,\n           2.93601024e-05,  2.20857039e-02, -9.74092484e-02]],\n\n        [[ 1.06543906e-01,  9.51624289e-02,  1.25587821e-01,\n           6.12733029e-02,  1.61513716e-01, -5.12324550e-05],\n         [ 1.05278440e-01,  9.40392539e-02,  1.24076776e-01,\n           6.05625100e-02,  1.59506202e-01, -5.05098906e-05],\n         [ 1.03864335e-01,  9.27850008e-02,  1.22388318e-01,\n           5.97688630e-02,  1.57261044e-01, -4.85495475e-05],\n         ...,\n         [ 1.09424755e-01,  9.77332890e-02,  1.29059151e-01,\n           6.28846139e-02,  1.66104853e-01, -6.76109994e-05],\n         [ 1.10225379e-01,  9.84457508e-02,  1.30021974e-01,\n           6.33356795e-02,  1.67392671e-01, -7.88732068e-05],\n         [ 1.09823458e-01,  9.80845466e-02,  1.29535139e-01,\n           6.31106496e-02,  1.66756436e-01, -7.88595280e-05]],\n\n        [[ 2.68501637e-04,  1.25738000e-03, -1.83554161e-02,\n          -2.07910227e-04,  2.54814386e-01,  1.07163712e-02],\n         [ 2.67950672e-04,  1.12699484e-03, -1.81090254e-02,\n          -2.07986552e-04,  2.51798213e-01,  1.05289817e-02],\n         [ 2.66329036e-04,  9.84642189e-04, -1.78388320e-02,\n          -2.07312201e-04,  2.48506024e-01,  1.03245908e-02],\n         ...,\n         [ 1.66765982e-04,  2.43014638e-05, -1.59978364e-02,\n          -7.51469925e-05,  2.26094514e-01,  8.85259360e-03],\n         [ 1.91836822e-04,  4.65139776e-04, -1.68336295e-02,\n          -1.03959173e-04,  2.36371219e-01,  9.51311179e-03],\n         [ 2.39659188e-04,  7.56360299e-04, -1.74010713e-02,\n          -1.57947550e-04,  2.43222848e-01,  9.97118466e-03]]],\n\n\n       ...,\n\n\n       [[[-7.03589874e-04,  4.90555502e-02, -2.67486739e-05,\n           8.40369985e-02,  4.88989230e-04,  3.55651714e-02],\n         [-7.40665535e-04,  5.64444512e-02, -1.06235639e-04,\n           9.84156951e-02,  5.01054281e-04,  4.09632958e-02],\n         [-7.55470130e-04,  5.85939474e-02, -1.71460197e-04,\n           1.02686554e-01,  4.88851219e-04,  4.25922349e-02],\n         ...,\n         [-1.44194928e-03,  1.04347326e-01, -6.40013954e-04,\n           1.91732660e-01,  1.37195864e-03,  7.58173317e-02],\n         [-1.44173636e-03,  1.04337864e-01, -6.39580714e-04,\n           1.91713288e-01,  1.37192337e-03,  7.58099779e-02],\n         [-1.44143240e-03,  1.04328163e-01, -6.39400969e-04,\n           1.91694602e-01,  1.37147785e-03,  7.58029670e-02]],\n\n        [[-6.19392283e-02, -8.02829280e-04, -7.22828358e-02,\n           8.97179767e-02,  2.93158889e-02, -4.06674780e-02],\n         [-7.21114278e-02, -7.80605653e-04, -8.43143836e-02,\n           1.05597161e-01,  3.40913683e-02, -4.69153337e-02],\n         [-7.80918002e-02, -7.61836651e-04, -9.13226977e-02,\n           1.14943184e-01,  3.69160436e-02, -5.05727082e-02],\n         ...,\n         [-1.47750393e-01, -3.64279549e-04, -1.73912421e-01,\n           2.23536372e-01,  7.01156557e-02, -9.34259966e-02],\n         [-1.47737250e-01, -3.64591979e-04, -1.73897296e-01,\n           2.23516017e-01,  7.01090395e-02, -9.34180394e-02],\n         [-1.47729337e-01, -3.64703272e-04, -1.73887819e-01,\n           2.23503754e-01,  7.01050833e-02, -9.34131816e-02]],\n\n        [[ 7.51246512e-02, -3.43024905e-04, -3.06129950e-04,\n           1.00888610e-01,  3.11781099e-04,  1.19949924e-03],\n         [ 8.46329853e-02, -3.36366240e-04, -3.00369313e-04,\n           1.14938878e-01,  3.16630438e-04,  1.22582715e-03],\n         [ 9.39279869e-02, -3.58667166e-04, -2.90010183e-04,\n           1.28683195e-01,  2.72311183e-04,  1.21890509e-03],\n         ...,\n         [ 2.10843116e-01, -8.24773626e-04,  7.40397838e-04,\n           3.02300453e-01,  5.55779669e-04,  1.50870276e-03],\n         [ 2.10830420e-01, -8.24289804e-04,  7.39772746e-04,\n           3.02280992e-01,  5.55754115e-04,  1.50885247e-03],\n         [ 2.10832074e-01, -8.24360817e-04,  7.39677635e-04,\n           3.02283704e-01,  5.55538514e-04,  1.50883605e-03]],\n\n        ...,\n\n        [[-1.78913338e-04,  3.32264267e-02, -2.72755837e-03,\n           1.93227883e-02,  6.10980554e-04,  4.89228929e-04],\n         [-1.82172487e-04,  3.21231820e-02, -2.59036245e-03,\n           1.87625978e-02,  6.16276753e-04,  4.97943314e-04],\n         [-1.86261255e-04,  3.10352966e-02, -2.45595095e-03,\n           1.82088502e-02,  6.20861596e-04,  5.05337783e-04],\n         ...,\n         [-2.12227329e-04, -1.85042024e-02,  3.28399171e-03,\n          -7.18013244e-03,  4.99975227e-04,  4.04610706e-04],\n         [-2.10660262e-04, -1.91417020e-02,  3.35509330e-03,\n          -7.50744110e-03,  4.95781016e-04,  3.99913872e-04],\n         [-2.08195954e-04, -1.96108744e-02,  3.40529694e-03,\n          -7.74747552e-03,  4.90326434e-04,  3.93725233e-04]],\n\n        [[-2.85146106e-02, -6.47557452e-02, -1.48008555e-01,\n           3.83670005e-04,  6.87168464e-02, -5.34037352e-02],\n         [-2.71136407e-02, -6.18464276e-02, -1.41641036e-01,\n           3.85363499e-04,  6.55582547e-02, -5.09118140e-02],\n         [-2.57110540e-02, -5.89447655e-02, -1.35283321e-01,\n           3.85513878e-04,  6.24021627e-02, -4.84193452e-02],\n         ...,\n         [ 1.98803693e-02,  3.47205289e-02,  7.03122839e-02,\n           3.33244068e-04, -3.97633687e-02,  3.23955938e-02],\n         [ 2.02108603e-02,  3.53915244e-02,  7.17891678e-02,\n           3.32745316e-04, -4.04987112e-02,  3.29789892e-02],\n         [ 2.04863399e-02,  3.59535664e-02,  7.30252489e-02,\n           3.32190015e-04, -4.11147214e-02,  3.34700420e-02]],\n\n        [[ 1.34152491e-02,  3.08436714e-02, -1.83534771e-01,\n          -1.26511201e-01,  1.60131764e-04, -1.64851299e-04],\n         [ 1.28590129e-02,  2.91863550e-02, -1.75061122e-01,\n          -1.20537795e-01,  1.61102900e-04, -1.67743288e-04],\n         [ 1.22893294e-02,  2.74932943e-02, -1.66411996e-01,\n          -1.14434339e-01,  1.61876640e-04, -1.68341532e-04],\n         ...,\n         [-4.58376808e-03, -2.26962660e-02,  9.06197131e-02,\n           6.68439344e-02,  1.62868877e-04, -8.81694796e-05],\n         [-4.60721133e-03, -2.27701776e-02,  9.10189077e-02,\n           6.71168640e-02,  1.63114033e-04, -8.53607198e-05],\n         [-4.65686806e-03, -2.29172558e-02,  9.17732194e-02,\n           6.76496848e-02,  1.62832453e-04, -8.49288408e-05]]],\n\n\n       [[[-1.04113063e-02,  3.71333357e-04,  3.29061040e-05,\n          -1.42067205e-04,  1.25012454e-02,  1.24180196e-02],\n         [-5.62996836e-03,  3.62607592e-04,  2.57298470e-05,\n          -1.50411535e-04,  5.44272875e-03,  9.92425159e-03],\n         [-5.05742524e-03,  3.64245672e-04, -4.94875439e-06,\n          -1.82708740e-04,  4.65662312e-03,  9.61745251e-03],\n         ...,\n         [-1.37006612e-02,  3.65308311e-04,  2.62318099e-05,\n          -1.69129009e-04,  1.74066387e-02,  1.41381333e-02],\n         [-1.14977183e-02,  3.56807868e-04,  2.74528720e-05,\n          -1.76302143e-04,  1.41519373e-02,  1.29887126e-02],\n         [-8.22967477e-03,  3.40725936e-04,  2.63752372e-05,\n          -1.95754998e-04,  9.33521427e-03,  1.12838419e-02]],\n\n        [[ 9.48792044e-03, -9.37483087e-03,  2.76890420e-03,\n           9.91578493e-03, -9.83668491e-03,  9.64543317e-03],\n         [ 1.44163903e-03, -5.98491356e-03,  2.70234887e-03,\n           5.72138978e-03, -4.54861391e-03,  3.40301241e-03],\n         [ 1.37226924e-03, -5.92016894e-03,  2.70165340e-03,\n           5.48331998e-03, -4.37298696e-03,  3.18206800e-03],\n         ...,\n         [ 1.40716229e-02, -1.12883346e-02,  2.80554057e-03,\n           1.21321082e-02, -1.27439005e-02,  1.30646927e-02],\n         [ 1.22684445e-02, -1.05341962e-02,  2.78527150e-03,\n           1.11814979e-02, -1.15546305e-02,  1.16564222e-02],\n         [ 1.00083370e-02, -9.58780851e-03,  2.76147132e-03,\n           1.00236293e-02, -1.00833522e-02,  9.91879310e-03]],\n\n        [[ 4.66369354e-04, -5.69128257e-04, -9.02765244e-03,\n           1.10116228e-03, -9.92969144e-03,  8.96762405e-03],\n         [ 4.86761099e-04, -5.37254091e-04, -7.14671100e-03,\n           1.16711215e-03, -7.63513008e-03,  7.28488946e-03],\n         [ 5.14677784e-04, -4.96790919e-04, -7.43771531e-03,\n           1.25730317e-03, -8.18939973e-03,  7.69813173e-03],\n         ...,\n         [ 4.76428511e-04, -5.71397657e-04, -8.23733490e-03,\n           1.09263719e-03, -8.89257062e-03,  8.19851365e-03],\n         [ 4.84964170e-04, -5.52369049e-04, -8.36231746e-03,\n           1.13452901e-03, -9.13171750e-03,  8.38105753e-03],\n         [ 4.81861789e-04, -5.48707030e-04, -8.74264166e-03,\n           1.14252954e-03, -9.63820331e-03,  8.75638332e-03]],\n\n        ...,\n\n        [[ 1.34558007e-02,  7.70106330e-04, -2.28504126e-04,\n          -4.98477230e-03,  5.61407628e-03,  2.64524599e-03],\n         [ 1.27826827e-02,  7.61398056e-04, -2.27197525e-04,\n          -4.69837245e-03,  5.31215267e-03,  2.36030761e-03],\n         [ 1.93667635e-02,  6.66631851e-04, -2.25322903e-04,\n          -7.69014284e-03,  8.50372389e-03,  4.86505404e-03],\n         ...,\n         [ 5.33479974e-02,  3.43197316e-04, -2.76571867e-04,\n          -2.28361357e-02,  2.48253476e-02,  1.79143772e-02],\n         [ 4.13140617e-02,  4.80563962e-04, -2.74425489e-04,\n          -1.74065139e-02,  1.90342609e-02,  1.32938595e-02],\n         [ 2.94902418e-02,  6.09680661e-04, -2.59417633e-04,\n          -1.21113472e-02,  1.33429943e-02,  8.76033958e-03]],\n\n        [[-2.77420948e-03, -1.65890343e-03, -3.15492034e-05,\n           3.48520203e-04,  8.56954139e-04, -4.83862037e-04],\n         [-2.08949437e-03, -2.12527346e-03, -2.36011010e-06,\n           3.37338599e-04,  8.70732183e-04, -4.97356639e-04],\n         [-3.49058723e-03, -1.21903291e-03,  2.17228062e-05,\n           3.22541950e-04,  8.88302107e-04, -5.22294315e-04],\n         ...,\n         [-2.69801589e-03, -1.75454922e-03, -6.97289506e-05,\n           3.82278755e-04,  8.24376999e-04, -3.90008936e-04],\n         [-4.38594638e-04, -3.22886952e-03, -4.74383451e-05,\n           3.73757037e-04,  8.31834681e-04, -4.09212662e-04],\n         [ 1.18117873e-03, -4.27415268e-03, -2.01906787e-05,\n           3.55502649e-04,  8.46912910e-04, -4.46515362e-04]],\n\n        [[ 3.29363346e-02,  2.22524926e-02,  1.30263669e-02,\n           2.56287828e-02,  2.28652004e-02,  3.83236003e-03],\n         [ 2.62572113e-02,  1.72743648e-02,  9.50840488e-03,\n           2.01405138e-02,  1.76884066e-02,  1.57896883e-03],\n         [ 2.70059407e-02,  1.78686827e-02,  9.85890906e-03,\n           2.07657833e-02,  1.82120726e-02,  1.82338478e-03],\n         ...,\n         [ 1.81292612e-02,  1.12407170e-02,  5.20916423e-03,\n           1.34196449e-02,  1.13209346e-02, -1.15991163e-03],\n         [ 1.39467428e-02,  8.13278370e-03,  3.00600007e-03,\n           9.97966342e-03,  8.07191804e-03, -2.56127096e-03],\n         [ 1.08794225e-02,  5.85655542e-03,  1.38457050e-03,\n           7.45190028e-03,  5.68108633e-03, -3.59171559e-03]]],\n\n\n       [[[-1.20462491e-05, -3.40775499e-04, -1.40096322e-01,\n          -1.25882015e-01,  1.83368713e-01,  8.23178664e-02],\n         [-6.53599182e-06, -3.41860199e-04, -1.45275861e-01,\n          -1.30611554e-01,  1.90178141e-01,  8.53958130e-02],\n         [-3.59121782e-06, -3.44075175e-04, -1.49856657e-01,\n          -1.34798497e-01,  1.96180284e-01,  8.81100595e-02],\n         ...,\n         [-2.30434634e-05, -3.47909110e-04, -1.39948562e-01,\n          -1.25762135e-01,  1.83079004e-01,  8.21969062e-02],\n         [-2.71132139e-05, -3.48073023e-04, -1.39987543e-01,\n          -1.25800252e-01,  1.83107495e-01,  8.22094828e-02],\n         [-3.63844483e-05, -3.49714333e-04, -1.38890654e-01,\n          -1.24806412e-01,  1.81612521e-01,  8.15350488e-02]],\n\n        [[-1.50170224e-03, -2.32159197e-02, -1.09533668e-01,\n          -1.57912388e-01,  2.20339194e-01,  1.92159072e-01],\n         [-1.51516614e-03, -2.40114089e-02, -1.13482222e-01,\n          -1.63642630e-01,  2.28527486e-01,  1.99244440e-01],\n         [-1.51698280e-03, -2.47877762e-02, -1.17323071e-01,\n          -1.69230089e-01,  2.36503899e-01,  2.06154078e-01],\n         ...,\n         [-1.46850443e-03, -2.31926292e-02, -1.09382086e-01,\n          -1.57736734e-01,  2.20067978e-01,  1.91947043e-01],\n         [-1.46033219e-03, -2.31745988e-02, -1.09280139e-01,\n          -1.57602534e-01,  2.19872072e-01,  1.91782296e-01],\n         [-1.43732317e-03, -2.29695961e-02, -1.08234294e-01,\n          -1.56112984e-01,  2.17730969e-01,  1.89944029e-01]],\n\n        [[-7.45095487e-04,  4.98204958e-03, -2.32430771e-02,\n           1.53325677e-01,  1.06479242e-01,  2.00189199e-04],\n         [-7.62531301e-04,  5.03047835e-03, -2.39757020e-02,\n           1.58419266e-01,  1.10006437e-01,  1.81471012e-04],\n         [-7.71799125e-04,  5.07546728e-03, -2.47562304e-02,\n           1.63844526e-01,  1.13761380e-01,  1.70308776e-04],\n         ...,\n         [-7.22673605e-04,  4.96717822e-03, -2.32899673e-02,\n           1.53662309e-01,  1.06710069e-01,  2.19617534e-04],\n         [-7.14427559e-04,  4.95811645e-03, -2.32512597e-02,\n           1.53389022e-01,  1.06518239e-01,  2.25912518e-04],\n         [-6.94588001e-04,  4.92871227e-03, -2.29960866e-02,\n           1.51620761e-01,  1.05290964e-01,  2.42637761e-04]],\n\n        ...,\n\n        [[-3.22365697e-04, -9.20642018e-02, -4.90762033e-02,\n           1.79838225e-01, -5.64232643e-04, -7.52056986e-02],\n         [-3.23944900e-04, -9.23490673e-02, -4.92356010e-02,\n           1.80360869e-01, -5.58957632e-04, -7.54413158e-02],\n         [-3.23762069e-04, -9.23190713e-02, -4.92192283e-02,\n           1.80303454e-01, -5.54070983e-04, -7.54170120e-02],\n         ...,\n         [-7.23131234e-05,  4.06848639e-02,  2.56756265e-02,\n          -6.71554878e-02, -4.69206163e-04,  3.57248820e-02],\n         [-7.74724103e-05,  1.78808849e-02,  1.27083687e-02,\n          -2.42628437e-02, -5.65420080e-04,  1.64458659e-02],\n         [-1.35824434e-04, -1.08859856e-02, -3.52500728e-03,\n           2.94147637e-02, -6.46688743e-04, -7.64062582e-03]],\n\n        [[-1.25245878e-03,  2.48631288e-04, -5.51154604e-04,\n           9.38909245e-04,  2.06267923e-01, -3.08253249e-04],\n         [-1.25523657e-03,  2.45840260e-04, -5.48892538e-04,\n           9.36647994e-04,  2.07052469e-01, -3.06168658e-04],\n         [-1.25704496e-03,  2.44443421e-04, -5.46006195e-04,\n           9.35893389e-04,  2.07423121e-01, -3.04393965e-04],\n         ...,\n         [-9.81202582e-04,  5.91697579e-04, -4.91692044e-04,\n           1.59666070e-03, -1.00304045e-01, -7.08538631e-04],\n         [-9.70719731e-04,  6.38693455e-04, -5.02919371e-04,\n           1.57119764e-03, -6.39193431e-02, -7.11492379e-04],\n         [-9.91516165e-04,  6.36087323e-04, -5.26612566e-04,\n           1.49507658e-03, -1.15735941e-02, -6.93839334e-04]],\n\n        [[-1.71972781e-01,  6.53291028e-03,  3.39560997e-04,\n           2.81810593e-02,  2.60925211e-04,  7.11869821e-02],\n         [-1.72744006e-01,  6.55625109e-03,  3.43360472e-04,\n           2.83289272e-02,  2.63155787e-04,  7.15182275e-02],\n         [-1.73399255e-01,  6.57510757e-03,  3.45649460e-04,\n           2.84554958e-02,  2.64483504e-04,  7.18005151e-02],\n         ...,\n         [ 1.04889952e-01, -1.61083939e-03,  2.69857788e-04,\n          -2.61005238e-02,  4.11815941e-04, -4.87454832e-02],\n         [ 8.43910053e-02, -1.01326604e-03,  1.90660998e-04,\n          -2.20011603e-02,  3.28293972e-04, -3.98008786e-02],\n         [ 5.05167991e-02, -2.08284418e-05,  1.16380041e-04,\n          -1.52788591e-02,  2.32437858e-04, -2.50617340e-02]]]],\n      dtype=float32) has invalid type <class 'numpy.ndarray'>, must be a string or Tensor. (Can not convert a ndarray into a Tensor or Operation.)"
     ]
    }
   ],
   "source": [
    "# show images\n",
    "capture_best = []\n",
    "for current_batch_index in range(0,len(train_images),batch_size):\n",
    "    current_batch = train_images[current_batch_index:current_batch_index+batch_size]\n",
    "    \n",
    "    current_image_resize = np.asarray([resize(np.squeeze(x),(90,90)) for x in current_batch])[:,:,:,None]\n",
    "    #current_image_resize = (current_image_resize-current_image_resize.min((0,1,2),keepdims=True))/(current_image_resize.max((0,1,2),keepdims=True)-current_image_resize.min((0,1,2),keepdims=True)+1e-8)\n",
    "    latent_feature = sess.run(latent_feature,feed_dict={x_encoding:current_batch})\n",
    "    #latent_feature = (latent_feature-latent_feature.min((0,1,2),keepdims=True))/(latent_feature.max((0,1,2),keepdims=True)-latent_feature.min((0,1,2),keepdims=True)+1e-8)\n",
    "\n",
    "    for image_index in range(len(current_batch)-10):\n",
    "        plt.figure(figsize=(3*num_of_aug+1,6))\n",
    "        \n",
    "        plt.subplot(2,num_of_aug+1,1)\n",
    "        plt.imshow(np.squeeze(current_image_resize[image_index]),cmap='gray')\n",
    "        upper_bound = calc_MI(current_image_resize[image_index].ravel(),current_image_resize[image_index].ravel())\n",
    "        plt.title(str(np.around(upper_bound,2)))\n",
    "        plt.axis('off')\n",
    "        \n",
    "        all_image_mi = []\n",
    "        for image_index2 in range(len(latent_feature.T)): \n",
    "            all_image_mi.append(calc_MI(latent_feature[image_index,:,:,image_index2].ravel(),current_image_resize[image_index].ravel()))\n",
    "        all_image_mi_sort = sorted(range(len(all_image_mi)), key=lambda k: all_image_mi[k])[::-1]\n",
    "        best_indexn = all_image_mi_sort[0]\n",
    "        print(all_image_mi_sort)\n",
    "        print(best_indexn)\n",
    "        capture_best.append(best_indexn)\n",
    "        \n",
    "        count = 2\n",
    "        for high_index in all_image_mi_sort:\n",
    "            plt.subplot(2,num_of_aug+1,count)\n",
    "            plt.imshow(np.squeeze(latent_feature[image_index,:,:,high_index]),cmap='gist_rainbow'); plt.axis('off')\n",
    "            current_mi= calc_MI(latent_feature[image_index,:,:,high_index].ravel(),current_image_resize[image_index].ravel())\n",
    "            percent   = 1-(upper_bound-current_mi)/upper_bound\n",
    "            plt.title(str(np.around(percent,2)))\n",
    "            count = count + 1\n",
    "            \n",
    "        count = count + 1\n",
    "        for high_index in all_image_mi_sort:\n",
    "            plt.subplot(2,num_of_aug+1,count)\n",
    "            plt.imshow(np.squeeze(latent_feature[image_index,:,:,high_index]),cmap='gray'); plt.axis('off')\n",
    "            current_mi= calc_MI(latent_feature[image_index,:,:,high_index].ravel(),current_image_resize[image_index].ravel())\n",
    "            percent   = current_mi/upper_bound\n",
    "            plt.title(str(np.around(percent,2)))\n",
    "            count = count + 1\n",
    "            \n",
    "        plt.show()\n",
    "    capture_best_index = stats.mode(capture_best)[0]\n",
    "    print('Best : ',capture_best_index)\n",
    "    break"
   ]
  },
  {
   "cell_type": "code",
   "execution_count": 9,
   "metadata": {
    "ExecuteTime": {
     "end_time": "2019-03-01T19:50:17.532978Z",
     "start_time": "2019-03-01T19:50:17.154713Z"
    }
   },
   "outputs": [],
   "source": [
    "# create layers\n",
    "num_of_aug  = 6\n",
    "l1_encoder  = CNN(3,1,num_of_aug,           act=tf_relu)\n",
    "l2_encoder  = CNN(1,  num_of_aug,num_of_aug,act=tf_relu)\n",
    "l3_encoder  = CNN(3,  num_of_aug,num_of_aug,act=tf_relu)\n",
    "l4_encoder  = CNN(1,  num_of_aug,num_of_aug,act=tf_relu)\n",
    "l5_encoder  = CNN(3,  num_of_aug,num_of_aug,act=tf_relu)\n",
    "l6_encoder  = CNN(1,  num_of_aug,num_of_aug,act=tf_sigmoid)\n",
    "\n",
    "l1_with_image = CNN(3,num_of_aug*2,num_of_aug*2,act=tf_relu)\n",
    "l2_with_image = CNN(3,num_of_aug*2,num_of_aug*2,act=tf_relu)\n",
    "l3_with_image = CNN(3,num_of_aug*2,1,act=tf_iden)\n",
    "\n",
    "def with_image(input_data):\n",
    "    _,layer1_g = l1_with_image.feedforward(input_data)\n",
    "    _,layer2_g = l1_with_image.feedforward(layer1_g)\n",
    "    _,layer3_g = l1_with_image.feedforward(layer2_g)\n",
    "    return layer3_g\n",
    "\n",
    "x_encoding = tf.placeholder(tf.float32,(None,96,96,1))\n",
    "x_reisze   = tf.image.resize_images(x_encoding,(90,90))\n",
    "x_reisze   = tf.tile(x_reisze,(1,1,1,num_of_aug))\n",
    "\n",
    "_,layer1_e = l1_encoder.feedforward(x_encoding)\n",
    "_,layer2_e = l2_encoder.feedforward(layer1_e)\n",
    "layer2_e = layer2_e + layer1_e\n",
    "_,layer3_e = l3_encoder.feedforward(layer2_e)\n",
    "_,layer4_e = l4_encoder.feedforward(layer3_e)\n",
    "layer4_e = layer4_e + layer3_e\n",
    "_,layer5_e = l5_encoder.feedforward(layer4_e)\n",
    "_,layer6_e = l6_encoder.feedforward(layer5_e)\n",
    "layer6_e = layer6_e + layer5_e\n",
    "\n",
    "final_latent  = layer6_e\n",
    "final_latents = tf.transpose(final_latent,(0,2,1,3))\n",
    "encoded_gt = tf.concat([final_latent  ,x_reisze],3)\n",
    "encoded_rd = tf.concat([final_latents ,x_reisze],3)\n",
    "\n",
    "with_image_gt  = tf.reduce_mean(-tf_tanh(-with_image(encoded_gt)))\n",
    "with_image_rd  = tf.reduce_mean( tf_tanh( with_image(encoded_rd)))\n",
    "WITH_IMAGE     = (with_image_rd - with_image_gt) \n",
    "\n",
    "LOSS = WITH_IMAGE \n",
    "auto_train = tf.train.AdamOptimizer(0.0008).minimize(LOSS)"
   ]
  },
  {
   "cell_type": "code",
   "execution_count": 10,
   "metadata": {
    "ExecuteTime": {
     "end_time": "2019-03-01T19:50:21.993052Z",
     "start_time": "2019-03-01T19:50:17.533995Z"
    },
    "code_folding": [],
    "scrolled": false
   },
   "outputs": [
    {
     "name": "stdout",
     "output_type": "stream",
     "text": [
      "(5000, 96, 96, 3) 1.0 0.0\n",
      "(5000, 10) 1.0 0.0\n",
      "(8000, 96, 96, 3) 1.0 0.0\n",
      "(8000, 10) 1.0 0.0\n"
     ]
    },
    {
     "ename": "FailedPreconditionError",
     "evalue": "Attempting to use uninitialized value Variable_18\n\t [[node Variable_18/read (defined at <ipython-input-2-18ed72b3c9c7>:14)  = Identity[T=DT_FLOAT, _class=[\"loc:@Variable_18\"], _device=\"/job:localhost/replica:0/task:0/device:GPU:0\"](Variable_18)]]\n\t [[{{node add_10/_31}} = _Recv[client_terminated=false, recv_device=\"/job:localhost/replica:0/task:0/device:CPU:0\", send_device=\"/job:localhost/replica:0/task:0/device:GPU:0\", send_device_incarnation=1, tensor_name=\"edge_40_add_10\", tensor_type=DT_FLOAT, _device=\"/job:localhost/replica:0/task:0/device:CPU:0\"]()]]\n\nCaused by op 'Variable_18/read', defined at:\n  File \"C:\\ProgramData\\Miniconda3\\lib\\runpy.py\", line 193, in _run_module_as_main\n    \"__main__\", mod_spec)\n  File \"C:\\ProgramData\\Miniconda3\\lib\\runpy.py\", line 85, in _run_code\n    exec(code, run_globals)\n  File \"C:\\ProgramData\\Miniconda3\\lib\\site-packages\\ipykernel_launcher.py\", line 16, in <module>\n    app.launch_new_instance()\n  File \"C:\\ProgramData\\Miniconda3\\lib\\site-packages\\traitlets\\config\\application.py\", line 658, in launch_instance\n    app.start()\n  File \"C:\\ProgramData\\Miniconda3\\lib\\site-packages\\ipykernel\\kernelapp.py\", line 505, in start\n    self.io_loop.start()\n  File \"C:\\ProgramData\\Miniconda3\\lib\\site-packages\\tornado\\platform\\asyncio.py\", line 132, in start\n    self.asyncio_loop.run_forever()\n  File \"C:\\ProgramData\\Miniconda3\\lib\\asyncio\\base_events.py\", line 422, in run_forever\n    self._run_once()\n  File \"C:\\ProgramData\\Miniconda3\\lib\\asyncio\\base_events.py\", line 1434, in _run_once\n    handle._run()\n  File \"C:\\ProgramData\\Miniconda3\\lib\\asyncio\\events.py\", line 145, in _run\n    self._callback(*self._args)\n  File \"C:\\ProgramData\\Miniconda3\\lib\\site-packages\\tornado\\ioloop.py\", line 758, in _run_callback\n    ret = callback()\n  File \"C:\\ProgramData\\Miniconda3\\lib\\site-packages\\tornado\\stack_context.py\", line 300, in null_wrapper\n    return fn(*args, **kwargs)\n  File \"C:\\ProgramData\\Miniconda3\\lib\\site-packages\\tornado\\gen.py\", line 1233, in inner\n    self.run()\n  File \"C:\\ProgramData\\Miniconda3\\lib\\site-packages\\tornado\\gen.py\", line 1147, in run\n    yielded = self.gen.send(value)\n  File \"C:\\ProgramData\\Miniconda3\\lib\\site-packages\\ipykernel\\kernelbase.py\", line 370, in dispatch_queue\n    yield self.process_one()\n  File \"C:\\ProgramData\\Miniconda3\\lib\\site-packages\\tornado\\gen.py\", line 346, in wrapper\n    runner = Runner(result, future, yielded)\n  File \"C:\\ProgramData\\Miniconda3\\lib\\site-packages\\tornado\\gen.py\", line 1080, in __init__\n    self.run()\n  File \"C:\\ProgramData\\Miniconda3\\lib\\site-packages\\tornado\\gen.py\", line 1147, in run\n    yielded = self.gen.send(value)\n  File \"C:\\ProgramData\\Miniconda3\\lib\\site-packages\\ipykernel\\kernelbase.py\", line 357, in process_one\n    yield gen.maybe_future(dispatch(*args))\n  File \"C:\\ProgramData\\Miniconda3\\lib\\site-packages\\tornado\\gen.py\", line 326, in wrapper\n    yielded = next(result)\n  File \"C:\\ProgramData\\Miniconda3\\lib\\site-packages\\ipykernel\\kernelbase.py\", line 267, in dispatch_shell\n    yield gen.maybe_future(handler(stream, idents, msg))\n  File \"C:\\ProgramData\\Miniconda3\\lib\\site-packages\\tornado\\gen.py\", line 326, in wrapper\n    yielded = next(result)\n  File \"C:\\ProgramData\\Miniconda3\\lib\\site-packages\\ipykernel\\kernelbase.py\", line 534, in execute_request\n    user_expressions, allow_stdin,\n  File \"C:\\ProgramData\\Miniconda3\\lib\\site-packages\\tornado\\gen.py\", line 326, in wrapper\n    yielded = next(result)\n  File \"C:\\ProgramData\\Miniconda3\\lib\\site-packages\\ipykernel\\ipkernel.py\", line 294, in do_execute\n    res = shell.run_cell(code, store_history=store_history, silent=silent)\n  File \"C:\\ProgramData\\Miniconda3\\lib\\site-packages\\ipykernel\\zmqshell.py\", line 536, in run_cell\n    return super(ZMQInteractiveShell, self).run_cell(*args, **kwargs)\n  File \"C:\\ProgramData\\Miniconda3\\lib\\site-packages\\IPython\\core\\interactiveshell.py\", line 2819, in run_cell\n    raw_cell, store_history, silent, shell_futures)\n  File \"C:\\ProgramData\\Miniconda3\\lib\\site-packages\\IPython\\core\\interactiveshell.py\", line 2845, in _run_cell\n    return runner(coro)\n  File \"C:\\ProgramData\\Miniconda3\\lib\\site-packages\\IPython\\core\\async_helpers.py\", line 67, in _pseudo_sync_runner\n    coro.send(None)\n  File \"C:\\ProgramData\\Miniconda3\\lib\\site-packages\\IPython\\core\\interactiveshell.py\", line 3020, in run_cell_async\n    interactivity=interactivity, compiler=compiler, result=result)\n  File \"C:\\ProgramData\\Miniconda3\\lib\\site-packages\\IPython\\core\\interactiveshell.py\", line 3185, in run_ast_nodes\n    if (yield from self.run_code(code, result)):\n  File \"C:\\ProgramData\\Miniconda3\\lib\\site-packages\\IPython\\core\\interactiveshell.py\", line 3267, in run_code\n    exec(code_obj, self.user_global_ns, self.user_ns)\n  File \"<ipython-input-9-59e4eb51ae53>\", line 3, in <module>\n    l1_encoder  = CNN(3,1,num_of_aug,           act=tf_relu)\n  File \"<ipython-input-2-18ed72b3c9c7>\", line 14, in __init__\n    self.w              = tf.Variable(tf.random_normal([k,k,inc,out],stddev=stddev,seed=2,dtype=tf.float32))\n  File \"C:\\ProgramData\\Miniconda3\\lib\\site-packages\\tensorflow\\python\\ops\\variables.py\", line 183, in __call__\n    return cls._variable_v1_call(*args, **kwargs)\n  File \"C:\\ProgramData\\Miniconda3\\lib\\site-packages\\tensorflow\\python\\ops\\variables.py\", line 146, in _variable_v1_call\n    aggregation=aggregation)\n  File \"C:\\ProgramData\\Miniconda3\\lib\\site-packages\\tensorflow\\python\\ops\\variables.py\", line 125, in <lambda>\n    previous_getter = lambda **kwargs: default_variable_creator(None, **kwargs)\n  File \"C:\\ProgramData\\Miniconda3\\lib\\site-packages\\tensorflow\\python\\ops\\variable_scope.py\", line 2444, in default_variable_creator\n    expected_shape=expected_shape, import_scope=import_scope)\n  File \"C:\\ProgramData\\Miniconda3\\lib\\site-packages\\tensorflow\\python\\ops\\variables.py\", line 187, in __call__\n    return super(VariableMetaclass, cls).__call__(*args, **kwargs)\n  File \"C:\\ProgramData\\Miniconda3\\lib\\site-packages\\tensorflow\\python\\ops\\variables.py\", line 1329, in __init__\n    constraint=constraint)\n  File \"C:\\ProgramData\\Miniconda3\\lib\\site-packages\\tensorflow\\python\\ops\\variables.py\", line 1491, in _init_from_args\n    self._snapshot = array_ops.identity(self._variable, name=\"read\")\n  File \"C:\\ProgramData\\Miniconda3\\lib\\site-packages\\tensorflow\\python\\ops\\array_ops.py\", line 81, in identity\n    return gen_array_ops.identity(input, name=name)\n  File \"C:\\ProgramData\\Miniconda3\\lib\\site-packages\\tensorflow\\python\\ops\\gen_array_ops.py\", line 3454, in identity\n    \"Identity\", input=input, name=name)\n  File \"C:\\ProgramData\\Miniconda3\\lib\\site-packages\\tensorflow\\python\\framework\\op_def_library.py\", line 787, in _apply_op_helper\n    op_def=op_def)\n  File \"C:\\ProgramData\\Miniconda3\\lib\\site-packages\\tensorflow\\python\\util\\deprecation.py\", line 488, in new_func\n    return func(*args, **kwargs)\n  File \"C:\\ProgramData\\Miniconda3\\lib\\site-packages\\tensorflow\\python\\framework\\ops.py\", line 3274, in create_op\n    op_def=op_def)\n  File \"C:\\ProgramData\\Miniconda3\\lib\\site-packages\\tensorflow\\python\\framework\\ops.py\", line 1770, in __init__\n    self._traceback = tf_stack.extract_stack()\n\nFailedPreconditionError (see above for traceback): Attempting to use uninitialized value Variable_18\n\t [[node Variable_18/read (defined at <ipython-input-2-18ed72b3c9c7>:14)  = Identity[T=DT_FLOAT, _class=[\"loc:@Variable_18\"], _device=\"/job:localhost/replica:0/task:0/device:GPU:0\"](Variable_18)]]\n\t [[{{node add_10/_31}} = _Recv[client_terminated=false, recv_device=\"/job:localhost/replica:0/task:0/device:CPU:0\", send_device=\"/job:localhost/replica:0/task:0/device:GPU:0\", send_device_incarnation=1, tensor_name=\"edge_40_add_10\", tensor_type=DT_FLOAT, _device=\"/job:localhost/replica:0/task:0/device:CPU:0\"]()]]\n",
     "output_type": "error",
     "traceback": [
      "\u001b[1;31m---------------------------------------------------------------------------\u001b[0m",
      "\u001b[1;31mFailedPreconditionError\u001b[0m                   Traceback (most recent call last)",
      "\u001b[1;32mC:\\ProgramData\\Miniconda3\\lib\\site-packages\\tensorflow\\python\\client\\session.py\u001b[0m in \u001b[0;36m_do_call\u001b[1;34m(self, fn, *args)\u001b[0m\n\u001b[0;32m   1333\u001b[0m     \u001b[1;32mtry\u001b[0m\u001b[1;33m:\u001b[0m\u001b[1;33m\u001b[0m\u001b[0m\n\u001b[1;32m-> 1334\u001b[1;33m       \u001b[1;32mreturn\u001b[0m \u001b[0mfn\u001b[0m\u001b[1;33m(\u001b[0m\u001b[1;33m*\u001b[0m\u001b[0margs\u001b[0m\u001b[1;33m)\u001b[0m\u001b[1;33m\u001b[0m\u001b[0m\n\u001b[0m\u001b[0;32m   1335\u001b[0m     \u001b[1;32mexcept\u001b[0m \u001b[0merrors\u001b[0m\u001b[1;33m.\u001b[0m\u001b[0mOpError\u001b[0m \u001b[1;32mas\u001b[0m \u001b[0me\u001b[0m\u001b[1;33m:\u001b[0m\u001b[1;33m\u001b[0m\u001b[0m\n",
      "\u001b[1;32mC:\\ProgramData\\Miniconda3\\lib\\site-packages\\tensorflow\\python\\client\\session.py\u001b[0m in \u001b[0;36m_run_fn\u001b[1;34m(feed_dict, fetch_list, target_list, options, run_metadata)\u001b[0m\n\u001b[0;32m   1318\u001b[0m       return self._call_tf_sessionrun(\n\u001b[1;32m-> 1319\u001b[1;33m           options, feed_dict, fetch_list, target_list, run_metadata)\n\u001b[0m\u001b[0;32m   1320\u001b[0m \u001b[1;33m\u001b[0m\u001b[0m\n",
      "\u001b[1;32mC:\\ProgramData\\Miniconda3\\lib\\site-packages\\tensorflow\\python\\client\\session.py\u001b[0m in \u001b[0;36m_call_tf_sessionrun\u001b[1;34m(self, options, feed_dict, fetch_list, target_list, run_metadata)\u001b[0m\n\u001b[0;32m   1406\u001b[0m         \u001b[0mself\u001b[0m\u001b[1;33m.\u001b[0m\u001b[0m_session\u001b[0m\u001b[1;33m,\u001b[0m \u001b[0moptions\u001b[0m\u001b[1;33m,\u001b[0m \u001b[0mfeed_dict\u001b[0m\u001b[1;33m,\u001b[0m \u001b[0mfetch_list\u001b[0m\u001b[1;33m,\u001b[0m \u001b[0mtarget_list\u001b[0m\u001b[1;33m,\u001b[0m\u001b[1;33m\u001b[0m\u001b[0m\n\u001b[1;32m-> 1407\u001b[1;33m         run_metadata)\n\u001b[0m\u001b[0;32m   1408\u001b[0m \u001b[1;33m\u001b[0m\u001b[0m\n",
      "\u001b[1;31mFailedPreconditionError\u001b[0m: Attempting to use uninitialized value Variable_18\n\t [[{{node Variable_18/read}} = Identity[T=DT_FLOAT, _class=[\"loc:@Variable_18\"], _device=\"/job:localhost/replica:0/task:0/device:GPU:0\"](Variable_18)]]\n\t [[{{node add_10/_31}} = _Recv[client_terminated=false, recv_device=\"/job:localhost/replica:0/task:0/device:CPU:0\", send_device=\"/job:localhost/replica:0/task:0/device:GPU:0\", send_device_incarnation=1, tensor_name=\"edge_40_add_10\", tensor_type=DT_FLOAT, _device=\"/job:localhost/replica:0/task:0/device:CPU:0\"]()]]",
      "\nDuring handling of the above exception, another exception occurred:\n",
      "\u001b[1;31mFailedPreconditionError\u001b[0m                   Traceback (most recent call last)",
      "\u001b[1;32m<ipython-input-10-086b8275cd4c>\u001b[0m in \u001b[0;36m<module>\u001b[1;34m\u001b[0m\n\u001b[0;32m     16\u001b[0m         \u001b[0mcurrent_batch\u001b[0m \u001b[1;33m=\u001b[0m \u001b[0mtrain_images\u001b[0m\u001b[1;33m[\u001b[0m\u001b[0mcurrent_batch_index\u001b[0m\u001b[1;33m:\u001b[0m\u001b[0mcurrent_batch_index\u001b[0m\u001b[1;33m+\u001b[0m\u001b[0mbatch_size\u001b[0m\u001b[1;33m//\u001b[0m\u001b[0mdividsion\u001b[0m\u001b[1;33m]\u001b[0m\u001b[1;33m\u001b[0m\u001b[0m\n\u001b[0;32m     17\u001b[0m         \u001b[0mcurrent_label\u001b[0m \u001b[1;33m=\u001b[0m \u001b[0mtrain_labels\u001b[0m\u001b[1;33m[\u001b[0m\u001b[0mcurrent_batch_index\u001b[0m\u001b[1;33m:\u001b[0m\u001b[0mcurrent_batch_index\u001b[0m\u001b[1;33m+\u001b[0m\u001b[0mbatch_size\u001b[0m\u001b[1;33m//\u001b[0m\u001b[0mdividsion\u001b[0m\u001b[1;33m]\u001b[0m\u001b[1;33m\u001b[0m\u001b[0m\n\u001b[1;32m---> 18\u001b[1;33m         \u001b[0mlatent_feature\u001b[0m \u001b[1;33m=\u001b[0m \u001b[0msess\u001b[0m\u001b[1;33m.\u001b[0m\u001b[0mrun\u001b[0m\u001b[1;33m(\u001b[0m\u001b[0mfinal_latent\u001b[0m\u001b[1;33m,\u001b[0m\u001b[0mfeed_dict\u001b[0m\u001b[1;33m=\u001b[0m\u001b[1;33m{\u001b[0m\u001b[0mx_encoding\u001b[0m\u001b[1;33m:\u001b[0m\u001b[0mcurrent_batch\u001b[0m\u001b[1;33m}\u001b[0m\u001b[1;33m)\u001b[0m\u001b[1;33m\u001b[0m\u001b[0m\n\u001b[0m\u001b[0;32m     19\u001b[0m         \u001b[0mlatent_feature\u001b[0m \u001b[1;33m=\u001b[0m \u001b[0mnp\u001b[0m\u001b[1;33m.\u001b[0m\u001b[0mreshape\u001b[0m\u001b[1;33m(\u001b[0m\u001b[0mnp\u001b[0m\u001b[1;33m.\u001b[0m\u001b[0mtranspose\u001b[0m\u001b[1;33m(\u001b[0m\u001b[0mlatent_feature\u001b[0m\u001b[1;33m,\u001b[0m\u001b[1;33m(\u001b[0m\u001b[1;36m0\u001b[0m\u001b[1;33m,\u001b[0m\u001b[1;36m3\u001b[0m\u001b[1;33m,\u001b[0m\u001b[1;36m1\u001b[0m\u001b[1;33m,\u001b[0m\u001b[1;36m2\u001b[0m\u001b[1;33m)\u001b[0m\u001b[1;33m)\u001b[0m\u001b[1;33m,\u001b[0m\u001b[1;33m(\u001b[0m\u001b[0mbatch_size\u001b[0m\u001b[1;33m//\u001b[0m\u001b[0mdividsion\u001b[0m\u001b[1;33m*\u001b[0m\u001b[0mnum_of_aug\u001b[0m\u001b[1;33m,\u001b[0m\u001b[1;36m90\u001b[0m\u001b[1;33m,\u001b[0m\u001b[1;36m90\u001b[0m\u001b[1;33m)\u001b[0m\u001b[1;33m)\u001b[0m\u001b[1;33m[\u001b[0m\u001b[1;33m:\u001b[0m\u001b[1;33m,\u001b[0m\u001b[1;33m:\u001b[0m\u001b[1;33m,\u001b[0m\u001b[1;33m:\u001b[0m\u001b[1;33m,\u001b[0m\u001b[1;32mNone\u001b[0m\u001b[1;33m]\u001b[0m\u001b[1;33m\u001b[0m\u001b[0m\n\u001b[0;32m     20\u001b[0m         \u001b[0mlatent_feature\u001b[0m \u001b[1;33m=\u001b[0m \u001b[1;33m(\u001b[0m\u001b[0mlatent_feature\u001b[0m\u001b[1;33m-\u001b[0m\u001b[0mlatent_feature\u001b[0m\u001b[1;33m.\u001b[0m\u001b[0mmin\u001b[0m\u001b[1;33m(\u001b[0m\u001b[1;33m(\u001b[0m\u001b[1;36m0\u001b[0m\u001b[1;33m,\u001b[0m\u001b[1;36m1\u001b[0m\u001b[1;33m,\u001b[0m\u001b[1;36m2\u001b[0m\u001b[1;33m)\u001b[0m\u001b[1;33m,\u001b[0m\u001b[0mkeepdims\u001b[0m\u001b[1;33m=\u001b[0m\u001b[1;32mTrue\u001b[0m\u001b[1;33m)\u001b[0m\u001b[1;33m)\u001b[0m\u001b[1;33m/\u001b[0m\u001b[1;33m(\u001b[0m\u001b[0mlatent_feature\u001b[0m\u001b[1;33m.\u001b[0m\u001b[0mmax\u001b[0m\u001b[1;33m(\u001b[0m\u001b[1;33m(\u001b[0m\u001b[1;36m0\u001b[0m\u001b[1;33m,\u001b[0m\u001b[1;36m1\u001b[0m\u001b[1;33m,\u001b[0m\u001b[1;36m2\u001b[0m\u001b[1;33m)\u001b[0m\u001b[1;33m,\u001b[0m\u001b[0mkeepdims\u001b[0m\u001b[1;33m=\u001b[0m\u001b[1;32mTrue\u001b[0m\u001b[1;33m)\u001b[0m\u001b[1;33m-\u001b[0m\u001b[0mlatent_feature\u001b[0m\u001b[1;33m.\u001b[0m\u001b[0mmin\u001b[0m\u001b[1;33m(\u001b[0m\u001b[1;33m(\u001b[0m\u001b[1;36m0\u001b[0m\u001b[1;33m,\u001b[0m\u001b[1;36m1\u001b[0m\u001b[1;33m,\u001b[0m\u001b[1;36m2\u001b[0m\u001b[1;33m)\u001b[0m\u001b[1;33m,\u001b[0m\u001b[0mkeepdims\u001b[0m\u001b[1;33m=\u001b[0m\u001b[1;32mTrue\u001b[0m\u001b[1;33m)\u001b[0m\u001b[1;33m+\u001b[0m\u001b[1;36m1e-8\u001b[0m\u001b[1;33m)\u001b[0m\u001b[1;33m\u001b[0m\u001b[0m\n",
      "\u001b[1;32mC:\\ProgramData\\Miniconda3\\lib\\site-packages\\tensorflow\\python\\client\\session.py\u001b[0m in \u001b[0;36mrun\u001b[1;34m(self, fetches, feed_dict, options, run_metadata)\u001b[0m\n\u001b[0;32m    927\u001b[0m     \u001b[1;32mtry\u001b[0m\u001b[1;33m:\u001b[0m\u001b[1;33m\u001b[0m\u001b[0m\n\u001b[0;32m    928\u001b[0m       result = self._run(None, fetches, feed_dict, options_ptr,\n\u001b[1;32m--> 929\u001b[1;33m                          run_metadata_ptr)\n\u001b[0m\u001b[0;32m    930\u001b[0m       \u001b[1;32mif\u001b[0m \u001b[0mrun_metadata\u001b[0m\u001b[1;33m:\u001b[0m\u001b[1;33m\u001b[0m\u001b[0m\n\u001b[0;32m    931\u001b[0m         \u001b[0mproto_data\u001b[0m \u001b[1;33m=\u001b[0m \u001b[0mtf_session\u001b[0m\u001b[1;33m.\u001b[0m\u001b[0mTF_GetBuffer\u001b[0m\u001b[1;33m(\u001b[0m\u001b[0mrun_metadata_ptr\u001b[0m\u001b[1;33m)\u001b[0m\u001b[1;33m\u001b[0m\u001b[0m\n",
      "\u001b[1;32mC:\\ProgramData\\Miniconda3\\lib\\site-packages\\tensorflow\\python\\client\\session.py\u001b[0m in \u001b[0;36m_run\u001b[1;34m(self, handle, fetches, feed_dict, options, run_metadata)\u001b[0m\n\u001b[0;32m   1150\u001b[0m     \u001b[1;32mif\u001b[0m \u001b[0mfinal_fetches\u001b[0m \u001b[1;32mor\u001b[0m \u001b[0mfinal_targets\u001b[0m \u001b[1;32mor\u001b[0m \u001b[1;33m(\u001b[0m\u001b[0mhandle\u001b[0m \u001b[1;32mand\u001b[0m \u001b[0mfeed_dict_tensor\u001b[0m\u001b[1;33m)\u001b[0m\u001b[1;33m:\u001b[0m\u001b[1;33m\u001b[0m\u001b[0m\n\u001b[0;32m   1151\u001b[0m       results = self._do_run(handle, final_targets, final_fetches,\n\u001b[1;32m-> 1152\u001b[1;33m                              feed_dict_tensor, options, run_metadata)\n\u001b[0m\u001b[0;32m   1153\u001b[0m     \u001b[1;32melse\u001b[0m\u001b[1;33m:\u001b[0m\u001b[1;33m\u001b[0m\u001b[0m\n\u001b[0;32m   1154\u001b[0m       \u001b[0mresults\u001b[0m \u001b[1;33m=\u001b[0m \u001b[1;33m[\u001b[0m\u001b[1;33m]\u001b[0m\u001b[1;33m\u001b[0m\u001b[0m\n",
      "\u001b[1;32mC:\\ProgramData\\Miniconda3\\lib\\site-packages\\tensorflow\\python\\client\\session.py\u001b[0m in \u001b[0;36m_do_run\u001b[1;34m(self, handle, target_list, fetch_list, feed_dict, options, run_metadata)\u001b[0m\n\u001b[0;32m   1326\u001b[0m     \u001b[1;32mif\u001b[0m \u001b[0mhandle\u001b[0m \u001b[1;32mis\u001b[0m \u001b[1;32mNone\u001b[0m\u001b[1;33m:\u001b[0m\u001b[1;33m\u001b[0m\u001b[0m\n\u001b[0;32m   1327\u001b[0m       return self._do_call(_run_fn, feeds, fetches, targets, options,\n\u001b[1;32m-> 1328\u001b[1;33m                            run_metadata)\n\u001b[0m\u001b[0;32m   1329\u001b[0m     \u001b[1;32melse\u001b[0m\u001b[1;33m:\u001b[0m\u001b[1;33m\u001b[0m\u001b[0m\n\u001b[0;32m   1330\u001b[0m       \u001b[1;32mreturn\u001b[0m \u001b[0mself\u001b[0m\u001b[1;33m.\u001b[0m\u001b[0m_do_call\u001b[0m\u001b[1;33m(\u001b[0m\u001b[0m_prun_fn\u001b[0m\u001b[1;33m,\u001b[0m \u001b[0mhandle\u001b[0m\u001b[1;33m,\u001b[0m \u001b[0mfeeds\u001b[0m\u001b[1;33m,\u001b[0m \u001b[0mfetches\u001b[0m\u001b[1;33m)\u001b[0m\u001b[1;33m\u001b[0m\u001b[0m\n",
      "\u001b[1;32mC:\\ProgramData\\Miniconda3\\lib\\site-packages\\tensorflow\\python\\client\\session.py\u001b[0m in \u001b[0;36m_do_call\u001b[1;34m(self, fn, *args)\u001b[0m\n\u001b[0;32m   1346\u001b[0m           \u001b[1;32mpass\u001b[0m\u001b[1;33m\u001b[0m\u001b[0m\n\u001b[0;32m   1347\u001b[0m       \u001b[0mmessage\u001b[0m \u001b[1;33m=\u001b[0m \u001b[0merror_interpolation\u001b[0m\u001b[1;33m.\u001b[0m\u001b[0minterpolate\u001b[0m\u001b[1;33m(\u001b[0m\u001b[0mmessage\u001b[0m\u001b[1;33m,\u001b[0m \u001b[0mself\u001b[0m\u001b[1;33m.\u001b[0m\u001b[0m_graph\u001b[0m\u001b[1;33m)\u001b[0m\u001b[1;33m\u001b[0m\u001b[0m\n\u001b[1;32m-> 1348\u001b[1;33m       \u001b[1;32mraise\u001b[0m \u001b[0mtype\u001b[0m\u001b[1;33m(\u001b[0m\u001b[0me\u001b[0m\u001b[1;33m)\u001b[0m\u001b[1;33m(\u001b[0m\u001b[0mnode_def\u001b[0m\u001b[1;33m,\u001b[0m \u001b[0mop\u001b[0m\u001b[1;33m,\u001b[0m \u001b[0mmessage\u001b[0m\u001b[1;33m)\u001b[0m\u001b[1;33m\u001b[0m\u001b[0m\n\u001b[0m\u001b[0;32m   1349\u001b[0m \u001b[1;33m\u001b[0m\u001b[0m\n\u001b[0;32m   1350\u001b[0m   \u001b[1;32mdef\u001b[0m \u001b[0m_extend_graph\u001b[0m\u001b[1;33m(\u001b[0m\u001b[0mself\u001b[0m\u001b[1;33m)\u001b[0m\u001b[1;33m:\u001b[0m\u001b[1;33m\u001b[0m\u001b[0m\n",
      "\u001b[1;31mFailedPreconditionError\u001b[0m: Attempting to use uninitialized value Variable_18\n\t [[node Variable_18/read (defined at <ipython-input-2-18ed72b3c9c7>:14)  = Identity[T=DT_FLOAT, _class=[\"loc:@Variable_18\"], _device=\"/job:localhost/replica:0/task:0/device:GPU:0\"](Variable_18)]]\n\t [[{{node add_10/_31}} = _Recv[client_terminated=false, recv_device=\"/job:localhost/replica:0/task:0/device:CPU:0\", send_device=\"/job:localhost/replica:0/task:0/device:GPU:0\", send_device_incarnation=1, tensor_name=\"edge_40_add_10\", tensor_type=DT_FLOAT, _device=\"/job:localhost/replica:0/task:0/device:CPU:0\"]()]]\n\nCaused by op 'Variable_18/read', defined at:\n  File \"C:\\ProgramData\\Miniconda3\\lib\\runpy.py\", line 193, in _run_module_as_main\n    \"__main__\", mod_spec)\n  File \"C:\\ProgramData\\Miniconda3\\lib\\runpy.py\", line 85, in _run_code\n    exec(code, run_globals)\n  File \"C:\\ProgramData\\Miniconda3\\lib\\site-packages\\ipykernel_launcher.py\", line 16, in <module>\n    app.launch_new_instance()\n  File \"C:\\ProgramData\\Miniconda3\\lib\\site-packages\\traitlets\\config\\application.py\", line 658, in launch_instance\n    app.start()\n  File \"C:\\ProgramData\\Miniconda3\\lib\\site-packages\\ipykernel\\kernelapp.py\", line 505, in start\n    self.io_loop.start()\n  File \"C:\\ProgramData\\Miniconda3\\lib\\site-packages\\tornado\\platform\\asyncio.py\", line 132, in start\n    self.asyncio_loop.run_forever()\n  File \"C:\\ProgramData\\Miniconda3\\lib\\asyncio\\base_events.py\", line 422, in run_forever\n    self._run_once()\n  File \"C:\\ProgramData\\Miniconda3\\lib\\asyncio\\base_events.py\", line 1434, in _run_once\n    handle._run()\n  File \"C:\\ProgramData\\Miniconda3\\lib\\asyncio\\events.py\", line 145, in _run\n    self._callback(*self._args)\n  File \"C:\\ProgramData\\Miniconda3\\lib\\site-packages\\tornado\\ioloop.py\", line 758, in _run_callback\n    ret = callback()\n  File \"C:\\ProgramData\\Miniconda3\\lib\\site-packages\\tornado\\stack_context.py\", line 300, in null_wrapper\n    return fn(*args, **kwargs)\n  File \"C:\\ProgramData\\Miniconda3\\lib\\site-packages\\tornado\\gen.py\", line 1233, in inner\n    self.run()\n  File \"C:\\ProgramData\\Miniconda3\\lib\\site-packages\\tornado\\gen.py\", line 1147, in run\n    yielded = self.gen.send(value)\n  File \"C:\\ProgramData\\Miniconda3\\lib\\site-packages\\ipykernel\\kernelbase.py\", line 370, in dispatch_queue\n    yield self.process_one()\n  File \"C:\\ProgramData\\Miniconda3\\lib\\site-packages\\tornado\\gen.py\", line 346, in wrapper\n    runner = Runner(result, future, yielded)\n  File \"C:\\ProgramData\\Miniconda3\\lib\\site-packages\\tornado\\gen.py\", line 1080, in __init__\n    self.run()\n  File \"C:\\ProgramData\\Miniconda3\\lib\\site-packages\\tornado\\gen.py\", line 1147, in run\n    yielded = self.gen.send(value)\n  File \"C:\\ProgramData\\Miniconda3\\lib\\site-packages\\ipykernel\\kernelbase.py\", line 357, in process_one\n    yield gen.maybe_future(dispatch(*args))\n  File \"C:\\ProgramData\\Miniconda3\\lib\\site-packages\\tornado\\gen.py\", line 326, in wrapper\n    yielded = next(result)\n  File \"C:\\ProgramData\\Miniconda3\\lib\\site-packages\\ipykernel\\kernelbase.py\", line 267, in dispatch_shell\n    yield gen.maybe_future(handler(stream, idents, msg))\n  File \"C:\\ProgramData\\Miniconda3\\lib\\site-packages\\tornado\\gen.py\", line 326, in wrapper\n    yielded = next(result)\n  File \"C:\\ProgramData\\Miniconda3\\lib\\site-packages\\ipykernel\\kernelbase.py\", line 534, in execute_request\n    user_expressions, allow_stdin,\n  File \"C:\\ProgramData\\Miniconda3\\lib\\site-packages\\tornado\\gen.py\", line 326, in wrapper\n    yielded = next(result)\n  File \"C:\\ProgramData\\Miniconda3\\lib\\site-packages\\ipykernel\\ipkernel.py\", line 294, in do_execute\n    res = shell.run_cell(code, store_history=store_history, silent=silent)\n  File \"C:\\ProgramData\\Miniconda3\\lib\\site-packages\\ipykernel\\zmqshell.py\", line 536, in run_cell\n    return super(ZMQInteractiveShell, self).run_cell(*args, **kwargs)\n  File \"C:\\ProgramData\\Miniconda3\\lib\\site-packages\\IPython\\core\\interactiveshell.py\", line 2819, in run_cell\n    raw_cell, store_history, silent, shell_futures)\n  File \"C:\\ProgramData\\Miniconda3\\lib\\site-packages\\IPython\\core\\interactiveshell.py\", line 2845, in _run_cell\n    return runner(coro)\n  File \"C:\\ProgramData\\Miniconda3\\lib\\site-packages\\IPython\\core\\async_helpers.py\", line 67, in _pseudo_sync_runner\n    coro.send(None)\n  File \"C:\\ProgramData\\Miniconda3\\lib\\site-packages\\IPython\\core\\interactiveshell.py\", line 3020, in run_cell_async\n    interactivity=interactivity, compiler=compiler, result=result)\n  File \"C:\\ProgramData\\Miniconda3\\lib\\site-packages\\IPython\\core\\interactiveshell.py\", line 3185, in run_ast_nodes\n    if (yield from self.run_code(code, result)):\n  File \"C:\\ProgramData\\Miniconda3\\lib\\site-packages\\IPython\\core\\interactiveshell.py\", line 3267, in run_code\n    exec(code_obj, self.user_global_ns, self.user_ns)\n  File \"<ipython-input-9-59e4eb51ae53>\", line 3, in <module>\n    l1_encoder  = CNN(3,1,num_of_aug,           act=tf_relu)\n  File \"<ipython-input-2-18ed72b3c9c7>\", line 14, in __init__\n    self.w              = tf.Variable(tf.random_normal([k,k,inc,out],stddev=stddev,seed=2,dtype=tf.float32))\n  File \"C:\\ProgramData\\Miniconda3\\lib\\site-packages\\tensorflow\\python\\ops\\variables.py\", line 183, in __call__\n    return cls._variable_v1_call(*args, **kwargs)\n  File \"C:\\ProgramData\\Miniconda3\\lib\\site-packages\\tensorflow\\python\\ops\\variables.py\", line 146, in _variable_v1_call\n    aggregation=aggregation)\n  File \"C:\\ProgramData\\Miniconda3\\lib\\site-packages\\tensorflow\\python\\ops\\variables.py\", line 125, in <lambda>\n    previous_getter = lambda **kwargs: default_variable_creator(None, **kwargs)\n  File \"C:\\ProgramData\\Miniconda3\\lib\\site-packages\\tensorflow\\python\\ops\\variable_scope.py\", line 2444, in default_variable_creator\n    expected_shape=expected_shape, import_scope=import_scope)\n  File \"C:\\ProgramData\\Miniconda3\\lib\\site-packages\\tensorflow\\python\\ops\\variables.py\", line 187, in __call__\n    return super(VariableMetaclass, cls).__call__(*args, **kwargs)\n  File \"C:\\ProgramData\\Miniconda3\\lib\\site-packages\\tensorflow\\python\\ops\\variables.py\", line 1329, in __init__\n    constraint=constraint)\n  File \"C:\\ProgramData\\Miniconda3\\lib\\site-packages\\tensorflow\\python\\ops\\variables.py\", line 1491, in _init_from_args\n    self._snapshot = array_ops.identity(self._variable, name=\"read\")\n  File \"C:\\ProgramData\\Miniconda3\\lib\\site-packages\\tensorflow\\python\\ops\\array_ops.py\", line 81, in identity\n    return gen_array_ops.identity(input, name=name)\n  File \"C:\\ProgramData\\Miniconda3\\lib\\site-packages\\tensorflow\\python\\ops\\gen_array_ops.py\", line 3454, in identity\n    \"Identity\", input=input, name=name)\n  File \"C:\\ProgramData\\Miniconda3\\lib\\site-packages\\tensorflow\\python\\framework\\op_def_library.py\", line 787, in _apply_op_helper\n    op_def=op_def)\n  File \"C:\\ProgramData\\Miniconda3\\lib\\site-packages\\tensorflow\\python\\util\\deprecation.py\", line 488, in new_func\n    return func(*args, **kwargs)\n  File \"C:\\ProgramData\\Miniconda3\\lib\\site-packages\\tensorflow\\python\\framework\\ops.py\", line 3274, in create_op\n    op_def=op_def)\n  File \"C:\\ProgramData\\Miniconda3\\lib\\site-packages\\tensorflow\\python\\framework\\ops.py\", line 1770, in __init__\n    self._traceback = tf_stack.extract_stack()\n\nFailedPreconditionError (see above for traceback): Attempting to use uninitialized value Variable_18\n\t [[node Variable_18/read (defined at <ipython-input-2-18ed72b3c9c7>:14)  = Identity[T=DT_FLOAT, _class=[\"loc:@Variable_18\"], _device=\"/job:localhost/replica:0/task:0/device:GPU:0\"](Variable_18)]]\n\t [[{{node add_10/_31}} = _Recv[client_terminated=false, recv_device=\"/job:localhost/replica:0/task:0/device:CPU:0\", send_device=\"/job:localhost/replica:0/task:0/device:GPU:0\", send_device_incarnation=1, tensor_name=\"edge_40_add_10\", tensor_type=DT_FLOAT, _device=\"/job:localhost/replica:0/task:0/device:CPU:0\"]()]]\n"
     ]
    }
   ],
   "source": [
    "# train classifier\n",
    "num_epoch = 200\n",
    "\n",
    "# read the data\n",
    "train_images,train_labels,test_images,test_labels = read_STL10_data()\n",
    "train_images = train_images.mean(3,keepdims=True)\n",
    "train_images = (train_images-train_images.min((0,1,2),keepdims=True))/(train_images.max((0,1,2),keepdims=True)-train_images.min((0,1,2),keepdims=True)+1e-8)\n",
    "test_images  = test_images.mean(3,keepdims=True)\n",
    "test_images  = (test_images-test_images.min((0,1,2),keepdims=True))/(test_images.max((0,1,2),keepdims=True)-test_images.min((0,1,2),keepdims=True)+1e-8)\n",
    "\n",
    "avg_acc_train = 0; avg_acc_test  = 0; train_acc = [];test_acc = []; dividsion = 1\n",
    "for iter in range(num_epoch):\n",
    "    \n",
    "    # train for training images\n",
    "    for current_batch_index in range(0,len(train_images),batch_size//dividsion):\n",
    "        current_batch = train_images[current_batch_index:current_batch_index+batch_size//dividsion]\n",
    "        current_label = train_labels[current_batch_index:current_batch_index+batch_size//dividsion]\n",
    "        latent_feature = sess.run(final_latent,feed_dict={x_encoding:current_batch}) \n",
    "        latent_feature = np.reshape(np.transpose(latent_feature,(0,3,1,2)),(batch_size//dividsion*num_of_aug,90,90))[:,:,:,None]\n",
    "        latent_feature = (latent_feature-latent_feature.min((0,1,2),keepdims=True))/(latent_feature.max((0,1,2),keepdims=True)-latent_feature.min((0,1,2),keepdims=True)+1e-8)\n",
    "\n",
    "        latent_labels  = np.asarray([ [x]* num_of_aug for x in current_label]).reshape((batch_size//dividsion*num_of_aug,10))\n",
    "\n",
    "        sess_results = sess.run([accuracy,class_train,extra_update_ops],feed_dict={x:latent_feature,y:latent_labels})\n",
    "        sys.stdout.write(' Current Iter : ' + str(iter) + '/'+ str(num_epoch)  + ' batch : ' + str(current_batch_index) + '/'+ str(len(train_images)) + ' acc : ' + str(sess_results[0]) + '\\r')\n",
    "        sys.stdout.flush(); avg_acc_train = avg_acc_train + sess_results[0]\n",
    "\n",
    "    # test for training images\n",
    "    for current_batch_index in range(0,len(test_images),batch_size):\n",
    "        current_batch  = test_images[current_batch_index:current_batch_index+batch_size]\n",
    "        current_label  = test_labels[current_batch_index:current_batch_index+batch_size]\n",
    "        latent_feature = sess.run(final_latent,feed_dict={x_encoding:current_batch})[:,:,:,capture_best_index[0]][:,:,:,None]\n",
    "        latent_feature = (latent_feature-latent_feature.min((0,1,2),keepdims=True))/(latent_feature.max((0,1,2),keepdims=True)-latent_feature.min((0,1,2),keepdims=True)+1e-8)\n",
    "       \n",
    "        sess_results = sess.run([accuracy],feed_dict={x:latent_feature,y:current_label,is_training:False})\n",
    "        sys.stdout.write(' Current Iter : ' + str(iter) + '/'+ str(num_epoch)  + ' batch : ' + str(current_batch_index) + '/'+ str(len(test_images)) + ' acc : ' + str(sess_results[0]) + '\\r')\n",
    "        sys.stdout.flush(); avg_acc_test = avg_acc_test + sess_results[0] \n",
    "        \n",
    "    # ======================== print reset ========================\n",
    "    if iter%1 == 0 :\n",
    "        train_images,train_labels = shuffle(train_images,train_labels)\n",
    "        sys.stdout.write(\"Current : \"+ str(iter) + \"\\t\" +\n",
    "              \" Train Acc : \" + str(np.around(avg_acc_train/(len(train_images)/batch_size*dividsion),3)) + \"\\t\" +\n",
    "              \" Test Acc : \"  + str(np.around(avg_acc_test/(len(test_images)/batch_size),3)) + \"\\t\\n\")\n",
    "        sys.stdout.flush();\n",
    "    avg_acc_train = 0 ; avg_acc_test  = 0"
   ]
  },
  {
   "cell_type": "code",
   "execution_count": null,
   "metadata": {},
   "outputs": [],
   "source": []
  },
  {
   "cell_type": "code",
   "execution_count": null,
   "metadata": {},
   "outputs": [],
   "source": []
  },
  {
   "cell_type": "code",
   "execution_count": null,
   "metadata": {},
   "outputs": [],
   "source": []
  },
  {
   "cell_type": "code",
   "execution_count": null,
   "metadata": {},
   "outputs": [],
   "source": []
  },
  {
   "cell_type": "code",
   "execution_count": null,
   "metadata": {},
   "outputs": [],
   "source": []
  },
  {
   "cell_type": "code",
   "execution_count": null,
   "metadata": {},
   "outputs": [],
   "source": []
  },
  {
   "cell_type": "code",
   "execution_count": null,
   "metadata": {
    "ExecuteTime": {
     "end_time": "2019-03-01T19:50:22.001032Z",
     "start_time": "2019-03-01T19:45:56.852Z"
    },
    "code_folding": [],
    "scrolled": false
   },
   "outputs": [],
   "source": [
    "# len(test_images)\n",
    "accuray_test = 0\n",
    "for current_batch_index in range(len(test_images)):\n",
    "    current_batch = test_images[current_batch_index:current_batch_index+1]\n",
    "    current_label = test_labels[current_batch_index:current_batch_index+1]\n",
    "    latent_feature = sess.run(layer2_e,feed_dict={x_encoding:current_batch})\n",
    "    latent_feature = np.transpose(latent_feature,(3,1,2,0))\n",
    "    sess_results = sess.run(final_soft,feed_dict={x:latent_feature,y:current_label,is_training:False})\n",
    "    m = stats.mode(np.argmax(sess_results,1))\n",
    "    if m[0] == np.argmax(current_label,1):\n",
    "        accuray_test = accuray_test + 1\n",
    "print(accuray_test)\n",
    "print(accuray_test/len(test_images))"
   ]
  },
  {
   "cell_type": "code",
   "execution_count": null,
   "metadata": {
    "ExecuteTime": {
     "end_time": "2019-02-27T06:17:12.615183Z",
     "start_time": "2019-02-27T06:17:12.610171Z"
    }
   },
   "outputs": [],
   "source": []
  },
  {
   "cell_type": "code",
   "execution_count": null,
   "metadata": {
    "ExecuteTime": {
     "end_time": "2019-03-01T19:50:22.003027Z",
     "start_time": "2019-03-01T19:45:56.855Z"
    }
   },
   "outputs": [],
   "source": [
    "    if avg_acc_test/(len(test_images)/batch_size) < avg_acc_train/(len(train_images)/batch_size*dividsion):\n",
    "        print('\\n MAX  \\t')\n",
    "        for current_batch_index in range(0,len(train_images),batch_size):\n",
    "            current_batch = train_images[current_batch_index:current_batch_index+batch_size]\n",
    "            sess_results  = sess.run([TOTAL_LOSS,auto_train],feed_dict={x_encoding:current_batch})\n",
    "            sys.stdout.write(' Current Iter : ' + str(iter) + '/'+ str(num_epoch)  + ' batch : ' + str(current_batch_index) + '/'+ str(len(train_images)) + ' loss : ' + str(sess_results[0]) + '\\r')\n",
    "            sys.stdout.flush(); "
   ]
  },
  {
   "cell_type": "code",
   "execution_count": 102,
   "metadata": {
    "ExecuteTime": {
     "end_time": "2019-03-01T21:55:03.733126Z",
     "start_time": "2019-03-01T21:55:03.717157Z"
    }
   },
   "outputs": [
    {
     "ename": "NameError",
     "evalue": "name 'Y' is not defined",
     "output_type": "error",
     "traceback": [
      "\u001b[1;31m---------------------------------------------------------------------------\u001b[0m",
      "\u001b[1;31mNameError\u001b[0m                                 Traceback (most recent call last)",
      "\u001b[1;32m<ipython-input-102-7a74c210bd41>\u001b[0m in \u001b[0;36m<module>\u001b[1;34m\u001b[0m\n\u001b[0;32m      2\u001b[0m     \u001b[1;32mreturn\u001b[0m \u001b[0mnp\u001b[0m\u001b[1;33m.\u001b[0m\u001b[0msqrt\u001b[0m\u001b[1;33m(\u001b[0m\u001b[0mv\u001b[0m\u001b[1;33m**\u001b[0m\u001b[1;36m2\u001b[0m \u001b[1;33m+\u001b[0m \u001b[1;36m1e-8\u001b[0m\u001b[1;33m)\u001b[0m\u001b[1;33m\u001b[0m\u001b[0m\n\u001b[0;32m      3\u001b[0m \u001b[1;33m\u001b[0m\u001b[0m\n\u001b[1;32m----> 4\u001b[1;33m \u001b[0mY\u001b[0m \u001b[1;33m=\u001b[0m \u001b[0msoft_absolute\u001b[0m\u001b[1;33m(\u001b[0m\u001b[0mY\u001b[0m\u001b[1;33m)\u001b[0m\u001b[1;33m\u001b[0m\u001b[0m\n\u001b[0m\u001b[0;32m      5\u001b[0m \u001b[1;33m\u001b[0m\u001b[0m\n\u001b[0;32m      6\u001b[0m \u001b[1;31m# Normalize feature across all examples\u001b[0m\u001b[1;33m\u001b[0m\u001b[1;33m\u001b[0m\u001b[0m\n",
      "\u001b[1;31mNameError\u001b[0m: name 'Y' is not defined"
     ]
    }
   ],
   "source": [
    "def soft_absolute(v):\n",
    "    return np.sqrt(v**2 + 1e-8)\n",
    "\n",
    "Y = soft_absolute(Y)\n",
    "\n",
    "# Normalize feature across all examples\n",
    "# Divide each feature by its l2-norm\n",
    "Y = Y / np.sqrt(np.sum(Y**2,axis=0) + epsilon)        \n",
    "\n",
    "# Normalize feature per example\n",
    "Y = Y / np.sqrt(np.sum(Y**2,axis=1)[:,np.newaxis] + epsilon )\n",
    "\n"
   ]
  },
  {
   "cell_type": "code",
   "execution_count": 111,
   "metadata": {
    "ExecuteTime": {
     "end_time": "2019-03-01T21:58:15.646978Z",
     "start_time": "2019-03-01T21:58:15.635016Z"
    }
   },
   "outputs": [
    {
     "name": "stdout",
     "output_type": "stream",
     "text": [
      "[[ 0.707 -0.802  1.314 -0.43  -1.583]\n",
      " [ 0.362  1.208 -0.248  1.641 -0.217]\n",
      " [-0.625 -0.398  1.882 -0.293 -0.04 ]\n",
      " [ 0.692 -0.075  0.475  0.241 -0.025]\n",
      " [ 0.801  0.009 -1.272 -0.66   0.114]\n",
      " [ 1.082  0.568 -1.558  0.065  1.26 ]\n",
      " [ 0.95   0.497  0.015 -1.53  -0.516]\n",
      " [-1.128  1.052 -1.303 -0.536 -1.12 ]\n",
      " [-0.307  0.911  0.69   0.825 -0.821]\n",
      " [ 1.279  1.854  1.135 -0.307  1.92 ]]\n",
      "------------------------\n",
      "[[0.707 0.802 1.314 0.43  1.583]\n",
      " [0.362 1.208 0.248 1.641 0.217]\n",
      " [0.625 0.398 1.882 0.293 0.04 ]\n",
      " [0.692 0.075 0.475 0.241 0.025]\n",
      " [0.801 0.009 1.272 0.66  0.114]\n",
      " [1.082 0.568 1.558 0.065 1.26 ]\n",
      " [0.95  0.497 0.015 1.53  0.516]\n",
      " [1.128 1.052 1.303 0.536 1.12 ]\n",
      " [0.307 0.911 0.69  0.825 0.821]\n",
      " [1.279 1.854 1.135 0.307 1.92 ]]\n",
      "------------------------\n",
      "[2.95283115 2.57352014 2.73688621 2.49156571 2.40396004]\n",
      "[[0.263 0.28  0.364 0.164 0.5  ]\n",
      " [0.135 0.422 0.069 0.626 0.068]\n",
      " [0.233 0.139 0.521 0.112 0.013]\n",
      " [0.258 0.026 0.131 0.092 0.008]\n",
      " [0.298 0.003 0.352 0.252 0.036]\n",
      " [0.403 0.198 0.431 0.025 0.398]\n",
      " [0.354 0.173 0.004 0.584 0.163]\n",
      " [0.42  0.367 0.361 0.205 0.354]\n",
      " [0.114 0.318 0.191 0.315 0.259]\n",
      " [0.476 0.647 0.314 0.117 0.606]]\n",
      "------------------------\n",
      "[2.10536794 1.70726622 1.70109808 1.6904922  1.78649386 1.96831107\n",
      " 1.76778107 2.1876276  2.12661452 2.03686056]\n",
      "[[0.353 0.375 0.487 0.22  0.67 ]\n",
      " [0.174 0.545 0.089 0.81  0.089]\n",
      " [0.389 0.232 0.871 0.187 0.021]\n",
      " [0.845 0.086 0.431 0.302 0.026]\n",
      " [0.566 0.006 0.668 0.478 0.068]\n",
      " [0.545 0.268 0.583 0.034 0.538]\n",
      " [0.489 0.24  0.006 0.808 0.225]\n",
      " [0.539 0.471 0.462 0.262 0.453]\n",
      " [0.203 0.565 0.339 0.559 0.46 ]\n",
      " [0.449 0.61  0.296 0.11  0.571]]\n",
      "------------------------\n"
     ]
    }
   ],
   "source": [
    "temp = np.around(np.random.randn(10,5),3)\n",
    "print(temp)\n",
    "print('------------------------')\n",
    "Y = soft_absolute(temp)\n",
    "print(np.around(Y,3))\n",
    "print('------------------------')\n",
    "Y = Y / np.sqrt(np.sum(Y**2,axis=0) + 1e-8)  \n",
    "print(Y.sum(0))\n",
    "print(np.around(Y,3))\n",
    "print('------------------------')\n",
    "Y = Y / np.sqrt(np.sum(Y**2,axis=1)[:,np.newaxis] + 1e-8 )\n",
    "print(Y.sum(1))\n",
    "print(np.around(Y,3))\n",
    "print('------------------------')\n"
   ]
  }
 ],
 "metadata": {
  "kernelspec": {
   "display_name": "Python 3",
   "language": "python",
   "name": "python3"
  },
  "language_info": {
   "codemirror_mode": {
    "name": "ipython",
    "version": 3
   },
   "file_extension": ".py",
   "mimetype": "text/x-python",
   "name": "python",
   "nbconvert_exporter": "python",
   "pygments_lexer": "ipython3",
   "version": "3.6.6"
  },
  "latex_envs": {
   "LaTeX_envs_menu_present": true,
   "autoclose": false,
   "autocomplete": true,
   "bibliofile": "biblio.bib",
   "cite_by": "apalike",
   "current_citInitial": 1,
   "eqLabelWithNumbers": true,
   "eqNumInitial": 1,
   "hotkeys": {
    "equation": "Ctrl-E",
    "itemize": "Ctrl-I"
   },
   "labels_anchors": false,
   "latex_user_defs": false,
   "report_style_numbering": false,
   "user_envs_cfg": false
  },
  "varInspector": {
   "cols": {
    "lenName": 16,
    "lenType": 16,
    "lenVar": 40
   },
   "kernels_config": {
    "python": {
     "delete_cmd_postfix": "",
     "delete_cmd_prefix": "del ",
     "library": "var_list.py",
     "varRefreshCmd": "print(var_dic_list())"
    },
    "r": {
     "delete_cmd_postfix": ") ",
     "delete_cmd_prefix": "rm(",
     "library": "var_list.r",
     "varRefreshCmd": "cat(var_dic_list()) "
    }
   },
   "types_to_exclude": [
    "module",
    "function",
    "builtin_function_or_method",
    "instance",
    "_Feature"
   ],
   "window_display": false
  }
 },
 "nbformat": 4,
 "nbformat_minor": 2
}
